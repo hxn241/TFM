{
 "cells": [
  {
   "cell_type": "code",
   "execution_count": null,
   "id": "modified-transparency",
   "metadata": {},
   "outputs": [],
   "source": [
    "import os\n",
    "myfile = open(\"path.txt\",mode=\"r\")\n",
    "\n",
    "datapath,repopath = myfile.readlines()\n",
    "datapath = datapath.strip(\"\\n\")"
   ]
  },
  {
   "cell_type": "code",
   "execution_count": null,
   "id": "local-horror",
   "metadata": {},
   "outputs": [],
   "source": [
    "acc = 'accidents_labeled.csv'\n",
    "vc = 'veh_cas_labeled.csv'"
   ]
  },
  {
   "cell_type": "code",
   "execution_count": null,
   "id": "effective-particle",
   "metadata": {},
   "outputs": [],
   "source": [
    "\n",
    "import plotly.tools as tls\n",
    "import plotly as py\n",
    "import plotly.graph_objs as go\n",
    "\n",
    "from matplotlib import *\n",
    "import pandas as pd\n",
    "import numpy as np\n",
    "import matplotlib.pyplot as plt\n",
    "from matplotlib import cm\n",
    "cmap = cm.get_cmap\n",
    "import seaborn as sns\n",
    "import modules\n",
    "\n",
    "%matplotlib inline\n",
    "import io\n",
    "pd.set_option('display.max_columns', None)\n",
    "from plotly.subplots import make_subplots\n",
    "import plotly.graph_objects as go\n",
    "import streamlit as st\n",
    "import cufflinks as cf\n",
    "cf.go_offline()\n",
    "cf.set_config_file(theme='pearl',sharing='public',offline=True)\n",
    "import warnings\n",
    "warnings.simplefilter(action='ignore', category=FutureWarning)"
   ]
  },
  {
   "cell_type": "code",
   "execution_count": null,
   "id": "productive-problem",
   "metadata": {},
   "outputs": [],
   "source": [
    "# load the accidents_clean_csv file as a dataframe\n",
    "accidents = pd.read_csv(datapath + acc,delimiter=',',encoding='UTF-8-SIG',index_col=0,parse_dates=[\"Date\"])"
   ]
  },
  {
   "cell_type": "code",
   "execution_count": null,
   "id": "continent-programmer",
   "metadata": {},
   "outputs": [],
   "source": [
    "# load the casualty_vehicle_csv file as a data frame\n",
    "dfmerged = pd.read_csv(datapath + vc,delimiter=',',encoding='UTF-8-SIG',index_col=0)"
   ]
  },
  {
   "cell_type": "code",
   "execution_count": null,
   "id": "domestic-contrary",
   "metadata": {},
   "outputs": [],
   "source": [
    "sns.set_context(\"talk\", font_scale=1.1)\n",
    "fig,ax = plt.subplots(figsize=(14,8))\n",
    "sns.scatterplot(x=\"Number_of_Casualties\", \n",
    "                y=\"Number_of_Vehicles\",\n",
    "                size=\"Accident_Severity\",\n",
    "                sizes=(20,500),\n",
    "                alpha=0.5,\n",
    "                hue=\"Speed_limit_2\",\n",
    "                data=accidents.iloc[:1000000]) \n",
    "\n",
    "# Put the legend out of the figure\n",
    "#plt.legend(bbox_to_anchor=(1.01, 1))\n",
    "#plt.legend(bbox_to_anchor=(1.01, 0.54),  borderaxespad=0.)\n",
    "plt.legend(fontsize=12)\n",
    "plt.xticks(fontsize=12)\n",
    "plt.yticks(fontsize=12)\n",
    "plt.xlabel(\"Number_of_Casualties\",fontsize=15)\n",
    "plt.ylabel(\"Number_of_Vehicles\",fontsize=15)\n",
    "plt.title(\"Scatter plot - Numerical Variables\",fontsize=18,fontweight=\"bold\")\n",
    "plt.tight_layout()\n",
    "sns.despine(ax=ax, top=True, right=True, left=True, bottom=False);\n",
    "plt.show()"
   ]
  },
  {
   "cell_type": "markdown",
   "id": "efficient-gibraltar",
   "metadata": {},
   "source": [
    "- Podemos ver que  lo que más predomina son accidentes leves con velocidades comprendidas entre 70-80 km/h (naranja), 60-70km/h(violeta) y 30-40km/h (azul).\n",
    "- En cuanto a los vehículos implicados se observa que se acumulan más los datos entre 0-20 , no obstante en las víctimas predominan datos acumulados desde 0 hasta 40, siendo más intenso entre 0 y 10."
   ]
  },
  {
   "cell_type": "code",
   "execution_count": null,
   "id": "prerequisite-peace",
   "metadata": {},
   "outputs": [],
   "source": [
    "fig = accidents['Accident_Severity'].value_counts(normalize=True)\\\n",
    "                    .reset_index().iplot(kind='pie',dimensions=(400,400),\n",
    "                    labels='index',values='Accident_Severity',\n",
    "                    textinfo='percent+label',hole=0.4,\n",
    "                    color = ['lightgreen', 'orange','red'],title='Accident Severity Chart',\n",
    "                    asFigure=True,)\n",
    "fig.update_layout(legend=dict(\n",
    "    yanchor=\"top\",\n",
    "    y=1.15,\n",
    "    xanchor=\"left\",\n",
    "    x=0.85,\n",
    "        ),\n",
    "title_x=0.53,title_y=0.95)\n",
    "fig.show()"
   ]
  },
  {
   "cell_type": "markdown",
   "id": "hourly-testimony",
   "metadata": {},
   "source": [
    "- En este Gráfico vemos como la variable que nos hemos definido como target, está muy desbalanceada, sólo con un aprox. 2% de datos fatales, 73% en leves y 24% en graves."
   ]
  },
  {
   "cell_type": "code",
   "execution_count": null,
   "id": "eleven-monthly",
   "metadata": {},
   "outputs": [],
   "source": [
    "# Utilizarmos resample de la fecha para ponerla como índice y agruparla por mes, de esta manera\n",
    "# podemos generar el gráfico con el total mensual y luego poder calcular una media con una ventana=12\n",
    "# que son lso meses del año.\n",
    "\n",
    "sns.set_style('white')\n",
    "fig, ax = plt.subplots(figsize=(16,6))\n",
    "\n",
    "accidents.set_index('Date').resample('M').size().plot(label='Total Month', color='grey', ax=ax)\n",
    "accidents.set_index('Date').resample('M').size().rolling(window=12).mean()\\\n",
    "                           .plot(color='lightgreen', linewidth=5, label='Montly average 12 months', ax=ax)\n",
    "\n",
    "ax.set_title('Accidents per Month', fontsize=18, fontweight='bold')\n",
    "ax.set(ylabel='Total Count\\n', xlabel='Years')\n",
    "ax.legend(fontsize=10)\n",
    "ax.set_xlabel('Year',fontsize=15)\n",
    "ax.set_ylabel('Total counts\\n',fontsize=15)\n",
    "plt.xticks(fontsize=12)\n",
    "plt.yticks(fontsize=12)\n",
    "#ax.set_xticklabels([\"1979\", \"1984\", \"1989\", \"1994\",\"1999\",\"2004\"], fontsize=12)\n",
    "#ax.set_yticklabels([\"16k\", \"18k\", \"20k\", \"22k\",\"24k\"], fontsize=12)\n",
    "sns.despine(ax=ax, top=True, right=True, left=True, bottom=False);"
   ]
  },
  {
   "cell_type": "markdown",
   "id": "virgin-depth",
   "metadata": {},
   "source": [
    "- Por alguna razón los accidentes tienden a bajar a media que van pasando los años, podría indicarnos una clara mejora en los sistemas de seguridad en los automóbiles.\n",
    "\n",
    "- Se puede apreciar un pico alrededor de los años 90, donde probablemente se deba a que fué una época donde las compañías de vehículos comercializaron muchos coches accesibles al usuario medio y con una gran cilindrada y unos sistemas de seguridad menos eficientes que hoy en día."
   ]
  },
  {
   "cell_type": "code",
   "execution_count": null,
   "id": "perceived-garbage",
   "metadata": {},
   "outputs": [],
   "source": [
    "df1 = accidents.groupby(['Year'])\\\n",
    ".agg({'Accident_Index':'count', 'Number_of_Vehicles': 'sum','Number_of_Casualties': 'sum',})\\\n",
    ".reset_index()\n",
    "#-------------------------\n",
    "sns.set_style(\"white\")\n",
    "\n",
    "x = df1.Year\n",
    "labels = df1.Year\n",
    "width = 0.5\n",
    "Accidentcounts = df1['Accident_Index']\n",
    "Casualtycounts =  df1['Number_of_Casualties']\n",
    "fig,ax =  plt.subplots(figsize=(16,6))\n",
    "\n",
    "bar1 = ax.bar(x - width/2, Accidentcounts, width, label='Accident counts', color = 'paleturquoise');\n",
    "bar2 = ax.bar(x + width/2, Casualtycounts, width, label='Casualty counts', color = 'slategrey');\n",
    "bar1[10].set_color('moccasin')\n",
    "bar2[10].set_color('lightcoral')\n",
    "ax.legend(fontsize=10)\n",
    "ax.set_title('\\nAccidents / Casualties \\n per Year\\n', fontsize=18, fontweight='bold')\n",
    "ax.set_xlabel('\\nYear',fontsize=15)\n",
    "ax.set_ylabel('Total counts\\n',fontsize=15)\n",
    "ax.legend(fontsize=10)\n",
    "plt.xticks(fontsize=12)\n",
    "plt.yticks(fontsize=12)\n",
    "ax.set_xticks(x)\n",
    "sns.despine(ax=ax, top=True, right=True, left=True, bottom=False);\n",
    "plt.show();"
   ]
  },
  {
   "cell_type": "markdown",
   "id": "aquatic-demonstration",
   "metadata": {},
   "source": [
    " - Como hemos visto previamente el año con más accidentes y víctimas es 1989."
   ]
  },
  {
   "cell_type": "markdown",
   "id": "nearby-worry",
   "metadata": {},
   "source": [
    "### *En qué meses hay más accidentes*"
   ]
  },
  {
   "cell_type": "code",
   "execution_count": null,
   "id": "perceived-jacksonville",
   "metadata": {},
   "outputs": [],
   "source": [
    "cmap = plt.cm.get_cmap('Spectral')\n",
    "\n",
    "df2 = accidents.groupby(['Month'])['Accident_Index'].count().reset_index()\n",
    "\n",
    "months = ['January', 'February','March','April', 'May','June','July','August', 'September','October','November','December']\n",
    "df2['Month'] = pd.Categorical(df2['Month'], categories=months, ordered=True)\n",
    "#df2.sort_values(...)  # same as you have now; can use inplace=True\n",
    "df2 = df2.sort_values(by='Month')\n",
    "\n",
    "\n",
    "sns.set_style(\"white\")\n",
    "\n",
    "x = df2['Month']\n",
    "y = df2['Accident_Index']\n",
    "fig, ax =  plt.subplots(figsize=(16,6))\n",
    "plt.xticks(fontsize=12)\n",
    "plt.yticks(fontsize=12)\n",
    "bar1 = ax.bar(x,y,color='cornflowerblue',linewidth=4)\n",
    "bar1[9].set_color('tomato')\n",
    "ax.set_title('Accidents per Month', fontsize=18, fontweight='bold')\n",
    "ax.set_xlabel('\\n Month',fontsize=15)\n",
    "ax.set_ylabel('Total Count\\n',fontsize=15)\n",
    "sns.despine(ax=ax, top=True, right=True, left=True, bottom=False);\n",
    "plt.show();"
   ]
  },
  {
   "cell_type": "markdown",
   "id": "indian-provider",
   "metadata": {},
   "source": [
    "- El més de Octubre es el que más accidentes acumula junto con Noviembre. Podríamos pensar que es por las fechas próximas a al navidad ya que es un patrón que se repite todos los años por esta fecha."
   ]
  },
  {
   "cell_type": "markdown",
   "id": "damaged-aurora",
   "metadata": {},
   "source": [
    "### *Qué dia de la semana hay más accidentes?*"
   ]
  },
  {
   "cell_type": "code",
   "execution_count": null,
   "id": "postal-struggle",
   "metadata": {},
   "outputs": [],
   "source": [
    "df3 = accidents.groupby(['Day_of_Week'])['Accident_Index']\\\n",
    "                .count()\\\n",
    "                .sort_values(ascending=False)\\\n",
    "                .reset_index()\n",
    "days = ['Sunday',\n",
    "        'Monday',\n",
    "        'Tuesday',\n",
    "        'Wednesday',\n",
    "        'Thursday',\n",
    "        'Friday',\n",
    "        'Saturday']\n",
    "\n",
    "df3['Day_of_Week'] = pd.Categorical(df3['Day_of_Week'],\n",
    "                                    categories=days, \n",
    "                                    ordered=True)\n",
    "\n",
    "df3 = df3.sort_values(by='Day_of_Week',ascending=True)\n",
    "\n",
    "\n",
    "# sns.set_style('white')\n",
    "fig, ax = plt.subplots(figsize=(10,5))\n",
    "\n",
    "barlist = plt.bar(df3['Day_of_Week'],df3['Accident_Index'],\n",
    "                  color='midnightblue')\n",
    "barlist[5].set_color('plum')\n",
    "\n",
    "ax.set_title('\\nAccidents per Weekday\\n',\n",
    "             fontsize=14,\n",
    "             fontweight='bold')\n",
    "\n",
    "ax.set_xlabel('\\n Weekday',fontsize=15)\n",
    "ax.set_ylabel('Total Count\\n',fontsize=15)\n",
    "# remove all spines\n",
    "sns.despine(ax=ax, top=True, \n",
    "            right=True, \n",
    "            left=True, \n",
    "            bottom=False);\n",
    "\n",
    "plt.xticks(fontsize=12)\n",
    "plt.yticks(fontsize=12)\n",
    "plt.show();"
   ]
  },
  {
   "cell_type": "markdown",
   "id": "permanent-baking",
   "metadata": {},
   "source": [
    "- Claramente el viernes tiene sentido que sea cuando suceden más accidentes, cuando empieza el fin de semana."
   ]
  },
  {
   "cell_type": "markdown",
   "id": "sought-commissioner",
   "metadata": {},
   "source": [
    "### **Mapa de calor Weekday vs Daytime**"
   ]
  },
  {
   "cell_type": "code",
   "execution_count": null,
   "id": "athletic-healing",
   "metadata": {},
   "outputs": [],
   "source": [
    "df4 = accidents.groupby(['Day_of_Week','Daytime'])['Accident_Index'].count().reset_index()\n",
    "\n",
    "\n",
    "days = ['Sunday',\n",
    "        'Monday',\n",
    "        'Tuesday',\n",
    "        'Wednesday',\n",
    "        'Thursday',\n",
    "        'Friday',\n",
    "        'Saturday']\n",
    "\n",
    "df4['Day_of_Week'] = pd.Categorical(df4['Day_of_Week'], categories=days, ordered=True)\n",
    "\n",
    "df4 = df4.pivot(index='Day_of_Week', columns='Daytime', values='Accident_Index')\n",
    "\n",
    "fig = df4.iplot(kind=\"heatmap\",\n",
    "                colorscale=\"Reds\",\n",
    "                dimensions=(670,520),\n",
    "                title='Heatmap Daytime vs Weekday',\n",
    "                asFigure=True)\n",
    "\n",
    "fig.update_layout(legend=dict(\n",
    "    yanchor=\"top\",\n",
    "    y=1.15,\n",
    "    xanchor=\"left\",\n",
    "    x=0.85,\n",
    "        ),\n",
    "title_x=0.50)"
   ]
  },
  {
   "cell_type": "markdown",
   "id": "infectious-darkness",
   "metadata": {},
   "source": [
    "- Cuando más accidentes suceden es a la vuelta del trabajo y en horas de oficina el fin de semana.\n",
    "- Es decir que de 15h a 19h es cuando más accidentes hay el fin de semana, y entre semana se acumulan más a la salida del trabajo."
   ]
  },
  {
   "cell_type": "code",
   "execution_count": null,
   "id": "turkish-restriction",
   "metadata": {},
   "outputs": [],
   "source": [
    "import altair as alt\n",
    "from vega_datasets import data\n",
    "df5 = accidents.groupby([\n",
    "    'Day_of_Week',\n",
    "    'Accident_Severity',\n",
    "    'Light_Conditions_2'\n",
    "])['Number_of_Casualties'].sum().reset_index()\n",
    "\n",
    "days = ['Sunday',\n",
    "        'Monday',\n",
    "        'Tuesday',\n",
    "        'Wednesday',\n",
    "        'Thursday',\n",
    "        'Friday',\n",
    "        'Saturday']\n",
    "\n",
    "df5['Day_of_Week'] = pd.Categorical(df5['Day_of_Week'],\n",
    "                                    categories=days, \n",
    "                                    ordered=True\n",
    "                                   )\n",
    "#df5.sort_values(by='Day_of_Week',ascending=True,inplace=True)\n",
    "\n",
    "\n",
    "\n",
    "source = df5\n",
    "\n",
    "alt.Chart(source).mark_circle().encode(\n",
    "    alt.X('Number_of_Casualties',scale=alt.Scale(zero=False)),\n",
    "    alt.Y('Day_of_Week',sort=days,scale=alt.Scale(zero=False, padding=1)),\n",
    "    color='Accident_Severity',\n",
    "    size='Light_Conditions_2'\n",
    ").properties(\n",
    "    width=900,\n",
    "    height=400,\n",
    "    title='Acc_Severity by Day_of_Week and Daylight').interactive()\n"
   ]
  },
  {
   "cell_type": "markdown",
   "id": "automatic-basic",
   "metadata": {},
   "source": [
    "-  Comprobamos que el fin de semana es cuando aumentan los casos de víctimas de accidentes de tráfico y se producen más accidentes severos en horario nocturno."
   ]
  },
  {
   "cell_type": "code",
   "execution_count": null,
   "id": "qualified-taylor",
   "metadata": {},
   "outputs": [],
   "source": [
    "fig = accidents.Hour.iplot(kind='histogram',\n",
    "                           bins=40,\n",
    "                           theme=\"white\",\n",
    "                           title=\"Accidents by Time\",\n",
    "                           dimensions=(900,400),\n",
    "                           xTitle='Hour of the Day',\n",
    "                           yTitle='Acc Count',\n",
    "                           colors=\"darkseagreen\",asFigure=True)\n",
    "fig.update_layout(title_x=0.5,title_y=0.85)\n",
    "fig.show()"
   ]
  },
  {
   "cell_type": "markdown",
   "id": "casual-polyester",
   "metadata": {},
   "source": [
    "- Las horas donde se acumulan más accidentes coincidiendo con nuestro gráfico de antes se acumulan de  15 a 19h."
   ]
  },
  {
   "cell_type": "markdown",
   "id": "welcome-heavy",
   "metadata": {},
   "source": [
    "## Accident Severity vs Daytime"
   ]
  },
  {
   "cell_type": "code",
   "execution_count": null,
   "id": "existing-family",
   "metadata": {},
   "outputs": [],
   "source": [
    "fig = accidents.groupby('Daytime')['Accident_Severity'].value_counts(normalize=True).unstack().iplot(title=\"Accident Severity  vs Daytime\",kind='barh',dimensions=(750,400),barmode='stack', color=['red', 'orange', 'lightgreen'], ax=ax,asFigure=True)\n",
    "fig.layout.xaxis.title = \"Accidents Percentage\"\n",
    "fig.layout.yaxis.title = \"DayTime\"\n",
    "fig.update_layout(title_x=0.5,title_y=0.85)\n",
    "fig.show()"
   ]
  },
  {
   "cell_type": "code",
   "execution_count": null,
   "id": "protective-coordinate",
   "metadata": {},
   "outputs": [],
   "source": [
    "fig1 = accidents.groupby(['Speed_limit_2'])['Accident_Severity']\\\n",
    ".value_counts(normalize=True).unstack().iplot(kind='barh',dimensions=(750,400),color=['yellow', 'lightskyblue', 'lightgrey'],asFigure=True,title=\"Speed limit vs Accident Severity\")\n",
    "fig1.layout.xaxis.title = \"Accidents - Percentage\"\n",
    "fig1.layout.yaxis.title = \"Speed Limit (Km/h)\"\n",
    "fig1.show()\n",
    "\n",
    "fig2 = accidents.groupby(['Speed_limit_2'])['Number_of_Casualties'].sum().iplot(kind='bar',dimensions=(750,400),color=['blue', 'grey', 'yellow'],asFigure=True,title=\"Speed limit vs Casualties\")\n",
    "fig2.layout.xaxis.title = \"Casualty count\"\n",
    "fig2.layout.yaxis.title = \"Speed Limit (Km/h)\"\n",
    "fig2.show()"
   ]
  },
  {
   "cell_type": "markdown",
   "id": "bright-matter",
   "metadata": {},
   "source": [
    "- Los accidentes **fatales** se dán más a verlocidades entre 40-70 km/h, en cambio los accidentes **severos** y **leves** se asemejan bastante en todos los rangos de velocidad.\n",
    "- Por otro lado entre 30-40 km/h es donde más víctimas se reportan, con casi 5 Millones."
   ]
  },
  {
   "cell_type": "code",
   "execution_count": null,
   "id": "desperate-elizabeth",
   "metadata": {},
   "outputs": [],
   "source": [
    "dfh = dfmerged.groupby(['Vehicle_Type','Casualty_Type'])['Acc_Index']\\\n",
    "            .count().reset_index()\n",
    "\n",
    "fig = dfh.pivot(index='Vehicle_Type',\n",
    "                columns=['Casualty_Type'],\n",
    "                values='Acc_Index')\\\n",
    "        .iplot(kind=\"heatmap\"\n",
    "           ,colorscale=\"Blues\",\n",
    "           dimensions=(900,750),\n",
    "           title='Heatmap Vehicle type vs Casualty type',\n",
    "          asFigure=True)\n",
    "fig.show()"
   ]
  },
  {
   "cell_type": "markdown",
   "id": "homeless-twenty",
   "metadata": {},
   "source": [
    "- Este gráfico muestra la correlación entre los vehículos y las víctimas. Los accidentes mayormente se producen entre coches, y entre coche y peatón."
   ]
  },
  {
   "cell_type": "code",
   "execution_count": null,
   "id": "reverse-killing",
   "metadata": {},
   "outputs": [],
   "source": [
    "driver = dfmerged.groupby(['Age_Band_of_Driver','Sex_of_Driver'])['Acc_Index']\\\n",
    "                 .count().reset_index()\n",
    "\n",
    "\n",
    "driver['%'] = (driver['Acc_Index']/driver['Acc_Index'].sum()*100)\\\n",
    "                                                      .sort_values(ascending=True).round(2)\n",
    "\n",
    "print(\"Total Female Driver Accidents:\\n{}%\".format(driver[driver[\"Sex_of_Driver\"]==\"Female\"][\"%\"].sum()))\n",
    "print(\"Total Male Driver Accidents:\\n{}%\".format(driver[driver[\"Sex_of_Driver\"]==\"Male\"][\"%\"].sum()))\n",
    "\n",
    "driver['%'] = driver['%'].astype(str).str[:4]+'%'\n",
    "      \n",
    "import plotly.express as px\n",
    "\n",
    "fig1 = px.sunburst(driver,\n",
    "                   path=['Sex_of_Driver','Age_Band_of_Driver','%'],\n",
    "                   color='Sex_of_Driver')\n",
    "\n",
    "fig1.update_layout(height=500,\n",
    "                   width=550,\n",
    "                   title_text=\"Age_Band_of_Driver vs Sex of Driver\")\n",
    "fig1.show()\n"
   ]
  },
  {
   "cell_type": "code",
   "execution_count": null,
   "id": "lovely-complaint",
   "metadata": {},
   "outputs": [],
   "source": [
    "driver = dfmerged.groupby(['Age_Band_of_Driver','Sex_of_Driver'])['Acc_Index']\\\n",
    "                 .count().reset_index()\n",
    "\n",
    "driver['%'] = (driver['Acc_Index']/driver['Acc_Index'].sum()*100)\\\n",
    "                                                      .sort_values(ascending=True)\n"
   ]
  },
  {
   "cell_type": "code",
   "execution_count": null,
   "id": "unlike-translator",
   "metadata": {},
   "outputs": [],
   "source": [
    "dfmerged['Male'] = dfmerged[dfmerged[\"Sex_of_Casualty\"]=='Male'][\"Acc_Index\"]\n",
    "dfmerged['Female'] = dfmerged[dfmerged[\"Sex_of_Casualty\"]=='Female'][\"Acc_Index\"]\n",
    "\n",
    "csx = dfmerged.groupby(['Sex_of_Casualty'])['Acc_Index']\\\n",
    "                 .count().reset_index()\n",
    "\n",
    "\n",
    "csx['%'] = (csx['Acc_Index']/driver['Acc_Index'].sum()*100)\\\n",
    "                                                .sort_values(ascending=True).round(2)\n",
    "\n",
    "print(\"Total Female Casualties:\\n{}%\\n\".format(csx[csx[\"Sex_of_Casualty\"]==\"Female\"][\"%\"].sum()))\n",
    "print(\"Total Male Casualties:\\n{}%\\n\\n\".format(csx[csx[\"Sex_of_Casualty\"]==\"Male\"][\"%\"].sum()))\n",
    "\n",
    "\n",
    "fig=dfmerged.groupby(['Age_Band_of_Casualty']).agg({\"Male\":\"count\",\"Female\":\"count\"})\\\n",
    "                                              .reset_index()\\\n",
    "                                              .sort_values(by=\"Age_Band_of_Casualty\",ascending=True)\\\n",
    "                                              .iplot(\n",
    "                                                kind=\"bar\",\n",
    "                                                barmode=\"stack\",\n",
    "                                                x=\"Age_Band_of_Casualty\",\n",
    "                                                y=[\"Male\",\"Female\"],\n",
    "                                                theme=\"space\",colors=[\"lightgreen\",\"lightpurple\"],\n",
    "                                                title=\"Accidents by casualty Gender\",\n",
    "                                                dimensions=(800,450),asFigure=True\n",
    ")\n",
    "fig.show()"
   ]
  },
  {
   "cell_type": "markdown",
   "id": "wanted-replica",
   "metadata": {},
   "source": [
    "- A rasgos generales se va incrementando el número de víctimas a la vez que vamos incrementando al edad entre 26 y 45, destacando por encima el rango entre 26-35.\n",
    "- En cuanto al porcentaje total de víctimas está un poco más igualado, con un 45% de mujeres y un 55% de varones, aunque este último sigue siendo algo superior."
   ]
  },
  {
   "cell_type": "code",
   "execution_count": null,
   "id": "bored-chance",
   "metadata": {},
   "outputs": [],
   "source": [
    "dfmerged['Engine_Capacity_(CC)'].value_counts().nlargest(10).reset_index()"
   ]
  },
  {
   "cell_type": "markdown",
   "id": "generous-springfield",
   "metadata": {},
   "source": [
    "- Las cilindradas más destacadas son, 1.0, 1.6, 1,8, 2.0. Aunque es difícil diferenciarlas ya que muchos fabricantes usan misma cilindrada de forma genérica pero ésta cambia levemente en sus último dígito, no contemplándose en la misma categoría."
   ]
  },
  {
   "cell_type": "code",
   "execution_count": null,
   "id": "contemporary-valuation",
   "metadata": {},
   "outputs": [],
   "source": [
    "dfmerged[\"Age_of_Vehicle\"].value_counts().nlargest(10).reset_index()"
   ]
  },
  {
   "cell_type": "code",
   "execution_count": null,
   "id": "varying-injury",
   "metadata": {},
   "outputs": [],
   "source": [
    "veh_type = dfmerged.groupby(['Vehicle_Type'])['Acc_Index'].count().reset_index()\n",
    "veh_type['Percentage'] = (veh_type['Acc_Index']/veh_type['Acc_Index'].sum()*100).sort_values(ascending=True)#.astype(str).str[:4]+'%'\n",
    "veh_type[\"Percentage\"] = veh_type['Percentage'].round(2)\n",
    "\n",
    "fig = veh_type.sort_values(by=\"Percentage\",ascending=False)[:10]\\\n",
    "              .iplot(kind=\"pie\",\n",
    "               labels=\"Vehicle_Type\",\n",
    "               values=\"Percentage\",\n",
    "               textinfo='percent+label',\n",
    "               pull=[0, 0, 0.1],\n",
    "               dimensions=(800,650),\n",
    "               asFigure=True\n",
    ")\n",
    "fig.show()"
   ]
  },
  {
   "cell_type": "code",
   "execution_count": null,
   "id": "interpreted-strengthening",
   "metadata": {},
   "outputs": [],
   "source": [
    "reset -f"
   ]
  },
  {
   "cell_type": "code",
   "execution_count": null,
   "id": "frank-melbourne",
   "metadata": {},
   "outputs": [],
   "source": []
  },
  {
   "cell_type": "code",
   "execution_count": null,
   "id": "acting-european",
   "metadata": {},
   "outputs": [],
   "source": []
  },
  {
   "cell_type": "code",
   "execution_count": null,
   "id": "abandoned-compensation",
   "metadata": {},
   "outputs": [],
   "source": []
  },
  {
   "cell_type": "code",
   "execution_count": null,
   "id": "competent-thompson",
   "metadata": {},
   "outputs": [],
   "source": []
  },
  {
   "cell_type": "code",
   "execution_count": null,
   "id": "excited-stock",
   "metadata": {},
   "outputs": [],
   "source": []
  },
  {
   "cell_type": "code",
   "execution_count": null,
   "id": "acquired-rocket",
   "metadata": {},
   "outputs": [],
   "source": []
  },
  {
   "cell_type": "code",
   "execution_count": null,
   "id": "nonprofit-consumption",
   "metadata": {},
   "outputs": [],
   "source": []
  },
  {
   "cell_type": "code",
   "execution_count": null,
   "id": "changing-steel",
   "metadata": {},
   "outputs": [],
   "source": []
  },
  {
   "cell_type": "code",
   "execution_count": null,
   "id": "suspected-hurricane",
   "metadata": {},
   "outputs": [],
   "source": []
  },
  {
   "cell_type": "code",
   "execution_count": null,
   "id": "broke-revision",
   "metadata": {},
   "outputs": [],
   "source": []
  },
  {
   "cell_type": "code",
   "execution_count": null,
   "id": "least-chain",
   "metadata": {},
   "outputs": [],
   "source": []
  }
 ],
 "metadata": {
  "kernelspec": {
   "display_name": "Python 3",
   "language": "python",
   "name": "python3"
  },
  "language_info": {
   "codemirror_mode": {
    "name": "ipython",
    "version": 3
   },
   "file_extension": ".py",
   "mimetype": "text/x-python",
   "name": "python",
   "nbconvert_exporter": "python",
   "pygments_lexer": "ipython3",
   "version": "3.9.2"
  }
 },
 "nbformat": 4,
 "nbformat_minor": 5
}
