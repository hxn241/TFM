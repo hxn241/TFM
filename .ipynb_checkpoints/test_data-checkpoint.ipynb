{
 "cells": [
  {
   "cell_type": "markdown",
   "id": "traditional-tragedy",
   "metadata": {},
   "source": [
    "# Creación de los datos de test"
   ]
  },
  {
   "cell_type": "code",
   "execution_count": 2,
   "id": "social-somalia",
   "metadata": {},
   "outputs": [],
   "source": [
    "import os\n",
    "myfile = open(\"path.txt\",mode=\"r\")\n",
    "\n",
    "datapath,repopath = myfile.readlines()\n",
    "datapath = datapath.strip(\"\\n\")"
   ]
  },
  {
   "cell_type": "markdown",
   "id": "recent-actress",
   "metadata": {},
   "source": [
    "**Importamos librerías**"
   ]
  },
  {
   "cell_type": "code",
   "execution_count": 3,
   "id": "impaired-studio",
   "metadata": {},
   "outputs": [],
   "source": [
    "import pandas as pd"
   ]
  },
  {
   "cell_type": "markdown",
   "id": "formed-detroit",
   "metadata": {},
   "source": [
    "**Importamos datos**"
   ]
  },
  {
   "cell_type": "code",
   "execution_count": 4,
   "id": "traditional-advocate",
   "metadata": {},
   "outputs": [],
   "source": [
    "accidents=pd.read_csv(datapath+\"Accidents7904.csv\",delimiter=',',encoding='UTF-8-SIG',low_memory=False)"
   ]
  },
  {
   "cell_type": "markdown",
   "id": "searching-university",
   "metadata": {},
   "source": [
    "*Guardando longitud y latitud para cuando entrenemos el modelo en Frontend*"
   ]
  },
  {
   "cell_type": "code",
   "execution_count": 6,
   "id": "devoted-grocery",
   "metadata": {},
   "outputs": [],
   "source": [
    "coord = accidents[['Latitude','Longitude']].copy()"
   ]
  },
  {
   "cell_type": "code",
   "execution_count": 7,
   "id": "numerous-yugoslavia",
   "metadata": {},
   "outputs": [],
   "source": [
    "coord.dropna(inplace=True)"
   ]
  },
  {
   "cell_type": "code",
   "execution_count": 8,
   "id": "conventional-wrapping",
   "metadata": {},
   "outputs": [],
   "source": [
    "coord = coord.reset_index()\n",
    "coord.drop(columns=['index'],inplace=True)"
   ]
  },
  {
   "cell_type": "markdown",
   "id": "advanced-norfolk",
   "metadata": {},
   "source": [
    "*Seleccionamos aproximadamente 100.000 filas*"
   ]
  },
  {
   "cell_type": "code",
   "execution_count": 9,
   "id": "steady-headset",
   "metadata": {},
   "outputs": [],
   "source": [
    "def get_data(datapath):\n",
    "    import random\n",
    "    p = 0.02 # 1% of the lines\n",
    "    # keep the header, then take only 1% of lines\n",
    "    # if random from [0,1] interval is greater than 0.01 the row will be skipped\n",
    "    df = pd.read_csv(datapath+'df_imbalanced.csv',index_col=0,skiprows=lambda i: i>0 and random.random() > p,delimiter=',',encoding='UTF-8-SIG',nrows=300000)\n",
    "    return df\n",
    "df_imbalanced = get_data(datapath)"
   ]
  },
  {
   "cell_type": "markdown",
   "id": "gorgeous-uncle",
   "metadata": {},
   "source": [
    "*Unimos las cordenadas con los datos*"
   ]
  },
  {
   "cell_type": "code",
   "execution_count": 10,
   "id": "critical-hungarian",
   "metadata": {},
   "outputs": [],
   "source": [
    "df_imbalanced = df_imbalanced.reset_index()\n",
    "df_imbalanced.drop(columns=['index'],inplace=True)"
   ]
  },
  {
   "cell_type": "code",
   "execution_count": 11,
   "id": "virtual-democracy",
   "metadata": {},
   "outputs": [],
   "source": [
    "test_data_imbalanced = df_imbalanced.join(coord)"
   ]
  },
  {
   "cell_type": "code",
   "execution_count": 12,
   "id": "metropolitan-harbor",
   "metadata": {},
   "outputs": [],
   "source": [
    "test_data_imbalanced = test_data_imbalanced[['Accident_Severity','Vehicle_Type', 'Sex_of_Driver', 'Age_Band_of_Driver',\n",
    "       'Engine_Capacity_(CC)', 'Age_of_Vehicle','Day_of_Week', 'Speed_limit', 'Daytime',\n",
    "       'Weather_Conditions_2', 'Light_Conditions_2', 'Latitude', 'Longitude']]"
   ]
  },
  {
   "cell_type": "markdown",
   "id": "allied-container",
   "metadata": {},
   "source": [
    "*Guardamos en archivo .csv*"
   ]
  },
  {
   "cell_type": "code",
   "execution_count": 16,
   "id": "innocent-liechtenstein",
   "metadata": {},
   "outputs": [],
   "source": [
    "test_data_imbalanced.to_csv(datapath+\"test_data.csv\")"
   ]
  }
 ],
 "metadata": {
  "kernelspec": {
   "display_name": "Python 3",
   "language": "python",
   "name": "python3"
  },
  "language_info": {
   "codemirror_mode": {
    "name": "ipython",
    "version": 3
   },
   "file_extension": ".py",
   "mimetype": "text/x-python",
   "name": "python",
   "nbconvert_exporter": "python",
   "pygments_lexer": "ipython3",
   "version": "3.9.2"
  }
 },
 "nbformat": 4,
 "nbformat_minor": 5
}
