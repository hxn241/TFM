{
 "cells": [
  {
   "cell_type": "markdown",
   "id": "functional-backing",
   "metadata": {},
   "source": [
    "# Creación de los datos de test"
   ]
  },
  {
   "cell_type": "code",
   "execution_count": 1,
   "id": "right-restaurant",
   "metadata": {},
   "outputs": [],
   "source": [
    "import os\n",
    "myfile = open(\"path.txt\",mode=\"r\")\n",
    "\n",
    "datapath,repopath = myfile.readlines()\n",
    "datapath = datapath.strip(\"\\n\")"
   ]
  },
  {
   "cell_type": "markdown",
   "id": "suffering-clearance",
   "metadata": {},
   "source": [
    "**Importamos librerías**"
   ]
  },
  {
   "cell_type": "code",
   "execution_count": 2,
   "id": "finished-radiation",
   "metadata": {},
   "outputs": [],
   "source": [
    "import pandas as pd"
   ]
  },
  {
   "cell_type": "markdown",
   "id": "postal-victor",
   "metadata": {},
   "source": [
    "**Importamos datos**"
   ]
  },
  {
   "cell_type": "code",
   "execution_count": 3,
   "id": "arranged-insight",
   "metadata": {},
   "outputs": [],
   "source": [
    "accidents=pd.read_csv(datapath+\"Accidents7904.csv\",delimiter=',',encoding='UTF-8-SIG',low_memory=False)"
   ]
  },
  {
   "cell_type": "markdown",
   "id": "brief-twins",
   "metadata": {},
   "source": [
    "*Guardando longitud y latitud para cuando entrenemos el modelo en Frontend*"
   ]
  },
  {
   "cell_type": "code",
   "execution_count": 4,
   "id": "sonic-technical",
   "metadata": {},
   "outputs": [],
   "source": [
    "coord = accidents[['Latitude','Longitude']].copy()"
   ]
  },
  {
   "cell_type": "code",
   "execution_count": 5,
   "id": "scheduled-controversy",
   "metadata": {},
   "outputs": [],
   "source": [
    "coord.dropna(inplace=True)"
   ]
  },
  {
   "cell_type": "code",
   "execution_count": 6,
   "id": "amazing-insulin",
   "metadata": {},
   "outputs": [],
   "source": [
    "coord = coord.reset_index()\n",
    "coord.drop(columns=['index'],inplace=True)"
   ]
  },
  {
   "cell_type": "markdown",
   "id": "alleged-price",
   "metadata": {},
   "source": [
    "*Seleccionamos aproximadamente 100.000 filas*"
   ]
  },
  {
   "cell_type": "code",
   "execution_count": 7,
   "id": "valued-astronomy",
   "metadata": {},
   "outputs": [],
   "source": [
    "def get_data(datapath):\n",
    "    import random\n",
    "    p = 0.02 # 1% of the lines\n",
    "    # keep the header, then take only 1% of lines\n",
    "    # if random from [0,1] interval is greater than 0.01 the row will be skipped\n",
    "    df = pd.read_csv(datapath+'df_imbalanced.csv',index_col=0,skiprows=lambda i: i>0 and random.random() > p,delimiter=',',encoding='UTF-8-SIG',nrows=300000)\n",
    "    return df\n",
    "df_imbalanced = get_data(datapath)"
   ]
  },
  {
   "cell_type": "markdown",
   "id": "tutorial-kidney",
   "metadata": {},
   "source": [
    "*Unimos las cordenadas con los datos*"
   ]
  },
  {
   "cell_type": "code",
   "execution_count": 8,
   "id": "british-coverage",
   "metadata": {},
   "outputs": [],
   "source": [
    "df_imbalanced = df_imbalanced.reset_index()\n",
    "df_imbalanced.drop(columns=['index'],inplace=True)"
   ]
  },
  {
   "cell_type": "code",
   "execution_count": 9,
   "id": "renewable-monitor",
   "metadata": {},
   "outputs": [],
   "source": [
    "test_data_imbalanced = df_imbalanced.join(coord)"
   ]
  },
  {
   "cell_type": "code",
   "execution_count": 12,
   "id": "living-motorcycle",
   "metadata": {},
   "outputs": [],
   "source": [
    "test_data_imbalanced = test_data_imbalanced[['Accident_Severity','Vehicle_Type', 'Sex_of_Driver', 'Age_Band_of_Driver',\n",
    "       'Engine_Capacity_(CC)', 'Age_of_Vehicle','Day_of_Week', 'Speed_limit', 'Daytime',\n",
    "       'Weather_Conditions_2', 'Light_Conditions_2', 'Latitude', 'Longitude']]"
   ]
  },
  {
   "cell_type": "markdown",
   "id": "systematic-oklahoma",
   "metadata": {},
   "source": [
    "*Guardamos en archivo .csv*"
   ]
  },
  {
   "cell_type": "code",
   "execution_count": 16,
   "id": "respected-secretary",
   "metadata": {},
   "outputs": [],
   "source": [
    "test_data_imbalanced.to_csv(datapath+\"test_data.csv\")"
   ]
  }
 ],
 "metadata": {
  "kernelspec": {
   "display_name": "Python 3",
   "language": "python",
   "name": "python3"
  },
  "language_info": {
   "codemirror_mode": {
    "name": "ipython",
    "version": 3
   },
   "file_extension": ".py",
   "mimetype": "text/x-python",
   "name": "python",
   "nbconvert_exporter": "python",
   "pygments_lexer": "ipython3",
   "version": "3.9.2"
  }
 },
 "nbformat": 4,
 "nbformat_minor": 5
}
