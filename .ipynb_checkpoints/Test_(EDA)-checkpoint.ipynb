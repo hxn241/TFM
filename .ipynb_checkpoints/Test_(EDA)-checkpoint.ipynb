{
 "cells": [
  {
   "cell_type": "code",
   "execution_count": null,
   "metadata": {},
   "outputs": [],
   "source": [
    "# Analysis and "
   ]
  },
  {
   "cell_type": "markdown",
   "metadata": {},
   "source": [
    "# *Exploratory Data Analysis*"
   ]
  },
  {
   "cell_type": "markdown",
   "metadata": {},
   "source": [
    "#### **Import libraries**"
   ]
  },
  {
   "cell_type": "code",
   "execution_count": null,
   "metadata": {},
   "outputs": [],
   "source": [
    "import plotly.tools as tls\n",
    "import plotly as py\n",
    "import plotly.graph_objs as go\n",
    "\n",
    "from matplotlib import *\n",
    "import pandas as pd\n",
    "import numpy as np\n",
    "import matplotlib.pyplot as plt\n",
    "from matplotlib import cm\n",
    "cmap = cm.get_cmap\n",
    "import seaborn as sns\n",
    "import modules\n",
    "\n",
    "%matplotlib inline\n",
    "import io\n",
    "pd.set_option('display.max_columns', None)\n",
    "from plotly.subplots import make_subplots\n",
    "import plotly.graph_objects as go\n",
    "import streamlit as st\n",
    "import cufflinks as cf\n",
    "cf.go_offline()\n",
    "cf.set_config_file(theme='pearl',sharing='public',offline=True)"
   ]
  },
  {
   "cell_type": "markdown",
   "metadata": {},
   "source": [
    "#### **Check encoding file**"
   ]
  },
  {
   "cell_type": "code",
   "execution_count": null,
   "metadata": {},
   "outputs": [],
   "source": [
    "import chardet\n",
    "with open(\"../../Accidents7904.csv\", 'rb') as rawdata:\n",
    "    result = chardet.detect(rawdata.read(10000))\n",
    "\n",
    "print(result)"
   ]
  },
  {
   "cell_type": "markdown",
   "metadata": {},
   "source": [
    "#### **Import Data**"
   ]
  },
  {
   "cell_type": "code",
   "execution_count": null,
   "metadata": {},
   "outputs": [],
   "source": [
    "accidents=pd.read_csv('../../Accidents7904.csv',delimiter=',',encoding='UTF-8-SIG',low_memory=False)"
   ]
  },
  {
   "cell_type": "code",
   "execution_count": null,
   "metadata": {},
   "outputs": [],
   "source": [
    "accidents.shape"
   ]
  },
  {
   "cell_type": "code",
   "execution_count": null,
   "metadata": {},
   "outputs": [],
   "source": [
    "accidents.head()"
   ]
  },
  {
   "cell_type": "code",
   "execution_count": null,
   "metadata": {},
   "outputs": [],
   "source": [
    "accidents.info()"
   ]
  },
  {
   "cell_type": "code",
   "execution_count": null,
   "metadata": {},
   "outputs": [],
   "source": [
    "accidents.info()"
   ]
  },
  {
   "cell_type": "code",
   "execution_count": null,
   "metadata": {},
   "outputs": [],
   "source": [
    "accidents.describe().T"
   ]
  },
  {
   "cell_type": "markdown",
   "metadata": {},
   "source": [
    "En general podemos ver que muchas de las variables en el dataset Accidents tienen una subcategoría en su variable que acumula más porcentaje,por lo tanto podemos asegurar que es un dataset desbalanceado, como por ejemplo (Accident_Severity, Road_type, Junction_Control, Light_Conditions ,Weather_Conditions), entre otras."
   ]
  },
  {
   "cell_type": "markdown",
   "metadata": {},
   "source": [
    "#### **Cleaning and Process the data**"
   ]
  },
  {
   "cell_type": "markdown",
   "metadata": {},
   "source": [
    "##### **Checking percentage of missing or NaN values**"
   ]
  },
  {
   "cell_type": "code",
   "execution_count": null,
   "metadata": {},
   "outputs": [],
   "source": [
    "print(\"NaN data: \\n \\n\",\" \\n \",accidents.isna().sum()/len(accidents),\"%\")\n",
    "print(\"\\n Missing or out of range data:\\n\",np.abs(accidents[accidents==-1].sum())/len(accidents),\"%\")\n",
    "#accidents.isna().sum().sum()/len(accidents)"
   ]
  },
  {
   "cell_type": "markdown",
   "metadata": {},
   "source": [
    "##### **Drop the useless columns**"
   ]
  },
  {
   "cell_type": "code",
   "execution_count": null,
   "metadata": {},
   "outputs": [],
   "source": [
    "columns_to_drop = ['Location_Easting_OSGR', 'Location_Northing_OSGR',\n",
    "                    'Police_Force','Local_Authority_(District)',\n",
    "                    'Local_Authority_(Highway)','1st_Road_Number', \n",
    "                    '2nd_Road_Number','Pedestrian_Crossing-Human_Control', \n",
    "                    'Pedestrian_Crossing-Physical_Facilities',\n",
    "                    'Did_Police_Officer_Attend_Scene_of_Accident',\n",
    "                    'LSOA_of_Accident_Location','Longitude','Latitude',\n",
    "                    'Urban_or_Rural_Area','Junction_Control','2nd_Road_Class',\n",
    "                    'Special_Conditions_at_Site','Carriageway_Hazards',\n",
    "                    'Junction_Detail']"
   ]
  },
  {
   "cell_type": "code",
   "execution_count": null,
   "metadata": {},
   "outputs": [],
   "source": [
    "accidents.drop(labels=columns_to_drop,inplace=True,axis=1)"
   ]
  },
  {
   "cell_type": "markdown",
   "metadata": {},
   "source": [
    "##### **Clean NaN values**"
   ]
  },
  {
   "cell_type": "code",
   "execution_count": null,
   "metadata": {},
   "outputs": [],
   "source": [
    "accidents.dropna(inplace=True)"
   ]
  },
  {
   "cell_type": "markdown",
   "metadata": {},
   "source": [
    "The values = -1 are refered to missing values or incorrect data."
   ]
  },
  {
   "cell_type": "markdown",
   "metadata": {},
   "source": [
    "##### **Clean missing values = - 1**"
   ]
  },
  {
   "cell_type": "code",
   "execution_count": null,
   "metadata": {},
   "outputs": [],
   "source": [
    "for i,k in enumerate(accidents):\n",
    "    accidents.drop(index=accidents[accidents[k] == -1].index, inplace=True)"
   ]
  },
  {
   "cell_type": "code",
   "execution_count": null,
   "metadata": {},
   "outputs": [],
   "source": [
    "accidents.shape"
   ]
  },
  {
   "cell_type": "markdown",
   "metadata": {},
   "source": [
    "#### **Process the data**"
   ]
  },
  {
   "cell_type": "markdown",
   "metadata": {},
   "source": [
    "The data have been processed in order to get a better performance on the analysis and to avoid the biased data.\n",
    "That involves in replace number category by original labels, generate new columns and drop the columns we don't need  and create functions that help us in this process."
   ]
  },
  {
   "cell_type": "markdown",
   "metadata": {},
   "source": [
    "\n",
    "##### **Date, Month, Year, Hour**"
   ]
  },
  {
   "cell_type": "code",
   "execution_count": null,
   "metadata": {},
   "outputs": [],
   "source": [
    "accidents['Date']=pd.to_datetime(accidents['Date'])\n",
    "accidents['Month']=accidents['Date'].dt.month\n",
    "accidents['Year']=accidents['Date'].dt.year\n",
    "accidents['Hour'] = pd.to_datetime(accidents['Time'], format='%H:%M').dt.hour\n",
    "\n",
    "#Replace int by Months\n",
    "accidents['Month'] = accidents['Month'].replace([1,2,3,4,5,6,7,8,9,10,11,12],['January', 'February', \n",
    "                                                 'March','April', 'May','June',\n",
    "                                                 'July', 'August', 'September',\n",
    "                                                'October','November','December'\n",
    "])\n",
    "#conver to integer values\n",
    "accidents['Year'] = accidents['Year'].astype(int)"
   ]
  },
  {
   "cell_type": "markdown",
   "metadata": {},
   "source": [
    "##### **Drop Time column**"
   ]
  },
  {
   "cell_type": "code",
   "execution_count": null,
   "metadata": {},
   "outputs": [],
   "source": [
    "accidents.drop(['Time'],axis=1,inplace=True)"
   ]
  },
  {
   "cell_type": "markdown",
   "metadata": {},
   "source": [
    "##### *Let's create the Daytime column with these values:*\n",
    "- Morning\n",
    "- Afternoon\n",
    "- Rush_Hour\n",
    "- Evening\n",
    "- Night\n",
    "\n"
   ]
  },
  {
   "cell_type": "code",
   "execution_count": null,
   "metadata": {},
   "outputs": [],
   "source": [
    "#Define function to return hours in daytime groups.\n",
    "def daytime(hour):\n",
    "    if hour >= 5 and hour < 10:\n",
    "        return \"Commuting to work\"\n",
    "    elif hour >= 10 and hour < 15:\n",
    "        return \"Office hours\"\n",
    "    elif hour >= 15 and hour < 19:\n",
    "        return \"Commuting to home\"\n",
    "    elif hour >= 19 and hour < 23:\n",
    "        return \"Evening\"\n",
    "    else:\n",
    "        return \"Night\"\n",
    "accidents['Daytime'] = accidents['Hour'].apply(daytime)\n"
   ]
  },
  {
   "cell_type": "code",
   "execution_count": null,
   "metadata": {},
   "outputs": [],
   "source": [
    "accidents['Daytime'].value_counts(normalize=True)"
   ]
  },
  {
   "cell_type": "code",
   "execution_count": null,
   "metadata": {},
   "outputs": [],
   "source": [
    "print(\"\\n\",accidents['Light_Conditions'].value_counts(normalize=True))\n",
    "print(\"\\n\",accidents['Road_Surface_Conditions'].value_counts(normalize=True))\n",
    "print(\"\\n\",accidents['Weather_Conditions'].value_counts(normalize=True))"
   ]
  },
  {
   "cell_type": "markdown",
   "metadata": {},
   "source": [
    "Como podemos ver el problema aquí es que muchas de las subcategorías apenas tienen datos e información que nos puedan aportar algo.\n",
    "Por ello se crean nuevas columnas intentando cambiar un poco la estrategia y acumulando más porcentaje para cada categoría nueva creada.\n",
    "\n",
    "As we can see the problem here is that many of the subcategories hardly have data and information that can contribute something to us.  For this reason, new columns are created trying to change the strategy a little and accumulating more percentage for each new category created.\n"
   ]
  },
  {
   "cell_type": "markdown",
   "metadata": {},
   "source": [
    "##### **Accident Conditions**"
   ]
  },
  {
   "cell_type": "code",
   "execution_count": null,
   "metadata": {},
   "outputs": [],
   "source": [
    "#Replacing integer values by labels\n",
    "accidents.Light_Conditions = accidents.Light_Conditions.replace([1,4,5,6,7], \n",
    "                                                      ['Daylight', \n",
    "                                                       'Darkness - lights lit', \n",
    "                                                       'Darkness - lights unlit', \n",
    "                                                       'Darkness - no lighting', \n",
    "                                                       'Darkness - lighting unknown'])\n",
    "accidents.Weather_Conditions = accidents.Weather_Conditions.replace([1,2,3,4,5,6,7,8,9], \n",
    "                                                                ['Fine no high winds', \n",
    "                                                                 'Raining no high winds', \n",
    "                                                                 'Snowing no high winds', \n",
    "                                                                 'Fine + high winds', \n",
    "                                                                 'Raining + high winds', \n",
    "                                                                 'Snowing + high winds', \n",
    "                                                                 'Fog or mist', 'Other', 'Unknown', \n",
    "                                                                 ])\n",
    "\n",
    "\n",
    "accidents.Road_Surface_Conditions = accidents.Road_Surface_Conditions.replace([1,2,3,4,5,6,7], \n",
    "                                                                                    ['Dry', \n",
    "                                                                                     'Wet or damp', \n",
    "                                                                                     'Snow', \n",
    "                                                                                     'Frost or ice', \n",
    "                                                                                     'Flood over 3cm. deep',\n",
    "                                                                                     'Oil or diesel',\n",
    "                                                                                     'Mud'])\n",
    "#define functions to groupby smaller groups\n",
    "def road_conditions(cond):\n",
    "    if cond != \"Dry\":\n",
    "        return 'Bad'\n",
    "    elif cond == 'Dry':\n",
    "        return 'Good'\n",
    "accidents['Road_Surface_Conditions_2'] = accidents['Road_Surface_Conditions'].apply(road_conditions)\n",
    "\n",
    "def weather_conditions(value1):\n",
    "    if value1 == 'Fine no high winds':\n",
    "        return 'Good'\n",
    "    else:\n",
    "        return 'Bad'\n",
    "accidents['Weather_Conditions_2'] =  accidents.Weather_Conditions.apply(weather_conditions)\n",
    "\n",
    "\n",
    "def light_conditions(value2):\n",
    "    if value2 == 'Daylight':\n",
    "        return 'Good'\n",
    "    else:\n",
    "        return 'Bad'\n",
    "accidents['Light_Conditions_2'] = accidents['Light_Conditions'].apply(light_conditions)"
   ]
  },
  {
   "cell_type": "code",
   "execution_count": null,
   "metadata": {},
   "outputs": [],
   "source": [
    "print(accidents['Light_Conditions_2'].value_counts(normalize=True))\n",
    "print(accidents['Road_Surface_Conditions_2'].value_counts(normalize=True))\n",
    "print(accidents['Weather_Conditions_2'].value_counts(normalize=True))"
   ]
  },
  {
   "cell_type": "code",
   "execution_count": null,
   "metadata": {},
   "outputs": [],
   "source": [
    "accidents.drop(['Light_Conditions','Weather_Conditions','Road_Surface_Conditions'],inplace=True,axis=1)"
   ]
  },
  {
   "cell_type": "markdown",
   "metadata": {},
   "source": [
    "##### **Speed**"
   ]
  },
  {
   "cell_type": "code",
   "execution_count": null,
   "metadata": {},
   "outputs": [],
   "source": [
    "def speed_groups(speed):\n",
    "    if speed < 10:\n",
    "        return \"0-10\"\n",
    "    elif speed >=10 and speed < 20:\n",
    "        return \"10-20\"\n",
    "    elif speed >=20 and speed < 30:\n",
    "        return \"20-30\"\n",
    "    elif speed >=30 and speed < 40:\n",
    "        return \"30-40\"\n",
    "    elif speed >=40 and speed < 50:\n",
    "        return \"40-50\"\n",
    "    elif speed >=50 and speed < 60:\n",
    "        return \"50-60\"\n",
    "    elif speed >=60 and speed < 70:\n",
    "        return \"60-70\"\n",
    "    elif speed >=70 and speed < 80:\n",
    "        return \"70-80\"\n",
    "    elif speed >=80 and speed < 90:\n",
    "        return \"80-90\"\n",
    "    \n",
    "accidents['Speed_limit_2'] =  accidents['Speed_limit'].apply(speed_groups)\n",
    "accidents['Speed_limit_2'].value_counts()"
   ]
  },
  {
   "cell_type": "markdown",
   "metadata": {},
   "source": [
    "##### **Accident_Severity**"
   ]
  },
  {
   "cell_type": "code",
   "execution_count": null,
   "metadata": {},
   "outputs": [],
   "source": [
    "accidents['Accident_Severity'].replace([1,2,3],['Fatal','Serious','Slight'],inplace=True)\n",
    "\n",
    "\n",
    "accidents['Accident_Severity'].value_counts(normalize=True)"
   ]
  },
  {
   "cell_type": "markdown",
   "metadata": {},
   "source": [
    "##### **Day_of_Week**"
   ]
  },
  {
   "cell_type": "code",
   "execution_count": null,
   "metadata": {},
   "outputs": [],
   "source": [
    "days = ['Sunday', 'Monday', 'Tuesday', 'Wednesday', 'Thursday', 'Friday', 'Saturday']\n",
    "accidents['Day_of_Week'].replace([1,2,3,4,5,6,7],days, inplace=True)\n",
    "accidents.Day_of_Week.value_counts(normalize=True).sort_values(ascending=True)\n"
   ]
  },
  {
   "cell_type": "markdown",
   "metadata": {},
   "source": [
    "##### **1st_Road_Class**"
   ]
  },
  {
   "cell_type": "code",
   "execution_count": null,
   "metadata": {},
   "outputs": [],
   "source": [
    "#Put Motorway and A(M) in the same category\n",
    "accidents['1st_Road_Class'].replace([1,2,3,4,5,6],['Motorway','A(M)','A', 'B', 'C', 'Unclassified'],inplace=True)\n",
    "\n",
    "accidents['1st_Road_Class'] = accidents['1st_Road_Class'].replace('A(M)', 'Motorway')\n",
    "accidents['1st_Road_Class'].value_counts(normalize=True)"
   ]
  },
  {
   "cell_type": "markdown",
   "metadata": {},
   "source": [
    "##### **Road_Type**"
   ]
  },
  {
   "cell_type": "code",
   "execution_count": null,
   "metadata": {},
   "outputs": [],
   "source": [
    "accidents['Road_Type'].replace([1,2,3,6,7,9,12],['Roundabout','One way street','Dual carriageway','Single carriageway','Slip road','Unknown','One way street/Slip road'],inplace=True)\n",
    "accidents.Road_Type.value_counts(normalize=True)"
   ]
  },
  {
   "cell_type": "code",
   "execution_count": null,
   "metadata": {},
   "outputs": [],
   "source": []
  },
  {
   "cell_type": "code",
   "execution_count": null,
   "metadata": {},
   "outputs": [],
   "source": [
    "#accidents.to_csv('../../accidents_clean.csv',sep=',')"
   ]
  },
  {
   "cell_type": "markdown",
   "metadata": {},
   "source": [
    "# Analysis and Visualization"
   ]
  },
  {
   "cell_type": "code",
   "execution_count": null,
   "metadata": {},
   "outputs": [],
   "source": [
    "sns.set_context(\"talk\", font_scale=1.1)\n",
    "fig,ax = plt.subplots(figsize=(14,8))\n",
    "sns.scatterplot(x=\"Number_of_Casualties\", \n",
    "                y=\"Number_of_Vehicles\",\n",
    "                size=\"Accident_Severity\",\n",
    "                sizes=(20,500),\n",
    "                alpha=0.5,\n",
    "                hue=\"Speed_limit_2\",\n",
    "                data=accidents)\n",
    "# Put the legend out of the figure\n",
    "plt.legend(bbox_to_anchor=(1.01, 1))\n",
    "#plt.legend(bbox_to_anchor=(1.01, 0.54),  borderaxespad=0.)\n",
    "plt.legend(fontsize=12)\n",
    "plt.xticks(fontsize=12)\n",
    "plt.yticks(fontsize=12)\n",
    "plt.xlabel(\"Number_of_Casualties\",fontsize=15)\n",
    "plt.ylabel(\"Number_of_Vehicles\",fontsize=15)\n",
    "plt.title(\"Scatter plot - Numerical Variables\",fontsize=18,fontweight=\"bold\")\n",
    "plt.tight_layout()\n",
    "sns.despine(ax=ax, top=True, right=True, left=True, bottom=False);\n",
    "plt.show()"
   ]
  },
  {
   "cell_type": "markdown",
   "metadata": {},
   "source": [
    "- Podemos ver que  lo que más predomina son accidentes leves con velocidades comprendidas entre 70-80 km/h (naranja), 60-70km/h(violeta) y 30-40km/h (azul).\n",
    "- En cuanto a los vehículos implicados se observa que se acumulan más los datos entre 0-2 , no obstante en las víctimas predominan datos acumulados desde 0 hasta 40, siendo más intenso entre 0 y 10."
   ]
  },
  {
   "cell_type": "code",
   "execution_count": null,
   "metadata": {},
   "outputs": [],
   "source": [
    "fig = accidents['Accident_Severity'].value_counts(normalize=True)\\\n",
    "                    .reset_index().iplot(kind='pie',dimensions=(750,400),\n",
    "                    labels='index',values='Accident_Severity',\n",
    "                    textinfo='percent+label',hole=0.4,\n",
    "                    color = ['lightgreen', 'orange','red'],title='Accident Severity Chart',\n",
    "                    asFigure=True,)\n",
    "fig.update_layout(legend=dict(\n",
    "    yanchor=\"top\",\n",
    "    y=1.15,\n",
    "    xanchor=\"left\",\n",
    "    x=0.85,\n",
    "        ),\n",
    "title_x=0.53,title_y=0.95)\n",
    "fig.show()"
   ]
  },
  {
   "cell_type": "markdown",
   "metadata": {},
   "source": [
    "- En este Gráfico vemos como la variable que nos hemos definido como target, está muy desbalanceada, sólo con un aprox. 2% de datos fatales, 73% en leves y 24% en graves."
   ]
  },
  {
   "cell_type": "code",
   "execution_count": null,
   "metadata": {},
   "outputs": [],
   "source": [
    "# Utilizarmos resample de la fecha para ponerla como índice y agruparla por mes, de esta manera\n",
    "# podemos generar el gráfico con el total mensual y luego poder calcular una media con una ventana=12\n",
    "# que son lso meses del año.\n",
    "\n",
    "sns.set_style('white')\n",
    "fig, ax = plt.subplots(figsize=(16,6))\n",
    "\n",
    "accidents.set_index('Date').resample('M').size().plot(label='Total por Mes', color='grey', ax=ax)\n",
    "accidents.set_index('Date').resample('M').size().rolling(window=12).mean()\\\n",
    "                           .plot(color='lightgreen', linewidth=5, label='Media mensual 12 meses', ax=ax)\n",
    "\n",
    "ax.set_title('Accidents per Month', fontsize=18, fontweight='bold')\n",
    "ax.set(ylabel='Total Count\\n', xlabel='Years')\n",
    "ax.legend(fontsize=10)\n",
    "ax.set_xlabel('Year',fontsize=15)\n",
    "ax.set_ylabel('Total counts\\n',fontsize=15)\n",
    "plt.xticks(fontsize=12)\n",
    "plt.yticks(fontsize=12)\n",
    "#ax.set_xticklabels([\"1979\", \"1984\", \"1989\", \"1994\",\"1999\",\"2004\"], fontsize=12)\n",
    "#ax.set_yticklabels([\"16k\", \"18k\", \"20k\", \"22k\",\"24k\"], fontsize=12)\n",
    "sns.despine(ax=ax, top=True, right=True, left=True, bottom=False);"
   ]
  },
  {
   "cell_type": "code",
   "execution_count": null,
   "metadata": {},
   "outputs": [],
   "source": [
    "accidents.dtypes"
   ]
  },
  {
   "cell_type": "markdown",
   "metadata": {},
   "source": [
    "- Por alguna razón los accidentes tienden a bajar a media que van pasando los años, podría indicarnos una clara mejora en los sistemas de seguridad en los automóbiles.\n",
    "\n",
    "- Se puede apreciar un pico alrededor de los años 90, donde probablemente se deba a que fué una época donde las compañías de vehículos comercializaron muchos coches accesibles al usuario medio y con una gran cilindrada y unos sistemas de seguridad menos eficientes que hoy en día."
   ]
  },
  {
   "cell_type": "code",
   "execution_count": null,
   "metadata": {},
   "outputs": [],
   "source": [
    "df1 = accidents.groupby(['Year'])\\\n",
    ".agg({'Accident_Index':'count', 'Number_of_Vehicles': 'sum','Number_of_Casualties': 'sum',})\\\n",
    ".reset_index()\n",
    "#-------------------------\n",
    "sns.set_style(\"white\")\n",
    "\n",
    "x = df1.Year\n",
    "labels = df1.Year\n",
    "width = 0.5\n",
    "Accidentcounts = df1['Accident_Index']\n",
    "Casualtycounts =  df1['Number_of_Casualties']\n",
    "fig,ax =  plt.subplots(figsize=(16,6))\n",
    "\n",
    "bar1 = ax.bar(x - width/2, Accidentcounts, width, label='Accident counts', color = 'paleturquoise');\n",
    "bar2 = ax.bar(x + width/2, Casualtycounts, width, label='Casualty counts', color = 'slategrey');\n",
    "bar1[10].set_color('moccasin')\n",
    "bar2[10].set_color('lightcoral')\n",
    "ax.legend(fontsize=10)\n",
    "ax.set_title('\\nAccidents / Casualties \\n per Year\\n', fontsize=18, fontweight='bold')\n",
    "ax.set_xlabel('\\nYear',fontsize=15)\n",
    "ax.set_ylabel('Total counts\\n',fontsize=15)\n",
    "ax.legend(fontsize=10)\n",
    "plt.xticks(fontsize=12)\n",
    "plt.yticks(fontsize=12)\n",
    "ax.legend()\n",
    "ax.set_xticks(x)\n",
    "sns.despine(ax=ax, top=True, right=True, left=True, bottom=False);\n",
    "plt.show();"
   ]
  },
  {
   "cell_type": "markdown",
   "metadata": {},
   "source": [
    " - Como hemos visto previamente el año con más accidentes y víctimas es 1989."
   ]
  },
  {
   "cell_type": "markdown",
   "metadata": {},
   "source": [
    "### **En qué meses hay más accidentes**"
   ]
  },
  {
   "cell_type": "code",
   "execution_count": null,
   "metadata": {},
   "outputs": [],
   "source": [
    "cmap = plt.cm.get_cmap('Spectral')\n",
    "\n",
    "df2 = accidents.groupby(['Month'])['Accident_Index'].count().reset_index()\n",
    "\n",
    "months = ['January', 'February','March','April', 'May','June','July','August', 'September','October','November','December']\n",
    "df2['Month'] = pd.Categorical(df2['Month'], categories=months, ordered=True)\n",
    "#df2.sort_values(...)  # same as you have now; can use inplace=True\n",
    "df2 = df2.sort_values(by='Month')\n",
    "\n",
    "\n",
    "sns.set_style(\"white\")\n",
    "\n",
    "x = df2['Month']\n",
    "y = df2['Accident_Index']\n",
    "fig, ax =  plt.subplots(figsize=(16,6))\n",
    "plt.xticks(fontsize=12)\n",
    "plt.yticks(fontsize=12)\n",
    "bar1 = ax.bar(x,y,color='cornflowerblue',linewidth=4)\n",
    "bar1[9].set_color('tomato')\n",
    "ax.set_title('Accidents per Month', fontsize=18, fontweight='bold')\n",
    "ax.set_xlabel('\\n Month',fontsize=15)\n",
    "ax.set_ylabel('Total Count\\n',fontsize=15)\n",
    "sns.despine(ax=ax, top=True, right=True, left=True, bottom=False);\n",
    "plt.show();"
   ]
  },
  {
   "cell_type": "markdown",
   "metadata": {},
   "source": [
    "- El més de Octubre es el que más accidentes acumula junto con Noviembre. Podríamos pensar que es por las fechas próximas a al navidad ya que es un patrón que se repite todos estos años."
   ]
  },
  {
   "cell_type": "markdown",
   "metadata": {},
   "source": [
    "## Qué dia de la semana hay más accidentes?"
   ]
  },
  {
   "cell_type": "code",
   "execution_count": null,
   "metadata": {},
   "outputs": [],
   "source": [
    "df3 = accidents.groupby(['Day_of_Week'])['Accident_Index'].count().sort_values(ascending=False).reset_index()\n",
    "days = ['Sunday', 'Monday', 'Tuesday','Wednesday', 'Thursday', 'Friday', 'Saturday']\n",
    "df3['Day_of_Week'] = pd.Categorical(df3['Day_of_Week'], categories=days, ordered=True)\n",
    "\n",
    "df3 = df3.sort_values(by='Day_of_Week',ascending=True)\n",
    "\n",
    "\n",
    "# sns.set_style('white')\n",
    "fig, ax = plt.subplots(figsize=(10,6))\n",
    "\n",
    "barlist = plt.bar(df3['Day_of_Week'],df3['Accident_Index'],color='midnightblue')\n",
    "barlist[5].set_color('plum')\n",
    "\n",
    "ax.set_title('\\nAccidents per Weekday\\n', fontsize=14, fontweight='bold')\n",
    "ax.set_xlabel('\\n Weekday',fontsize=15)\n",
    "ax.set_ylabel('Total Count\\n',fontsize=15)\n",
    "# remove all spines\n",
    "sns.despine(ax=ax, top=True, right=True, left=True, bottom=False);\n",
    "plt.xticks(fontsize=12)\n",
    "plt.yticks(fontsize=12)\n",
    "plt.show();"
   ]
  },
  {
   "cell_type": "markdown",
   "metadata": {},
   "source": [
    "> Claramente el viernes tiene sentido que sea cuando suceden más accidentes, cuando empieza el fin de semana."
   ]
  },
  {
   "cell_type": "markdown",
   "metadata": {},
   "source": [
    "### **Mapa de calor Weekday vs Daytime**"
   ]
  },
  {
   "cell_type": "code",
   "execution_count": null,
   "metadata": {},
   "outputs": [],
   "source": [
    "df4 = accidents.groupby(['Day_of_Week','Daytime'])['Accident_Index'].count().reset_index()\n",
    "\n",
    "\n",
    "days = ['Sunday', 'Monday', 'Tuesday','Wednesday', 'Thursday', 'Friday', 'Saturday']\n",
    "df4['Day_of_Week'] = pd.Categorical(df4['Day_of_Week'], categories=days, ordered=True)\n",
    "df4 = df4.pivot(index='Day_of_Week', columns='Daytime', values='Accident_Index')"
   ]
  },
  {
   "cell_type": "code",
   "execution_count": null,
   "metadata": {},
   "outputs": [],
   "source": [
    "df4 = accidents.groupby(['Day_of_Week','Daytime'])['Accident_Index'].count().reset_index()\n",
    "\n",
    "\n",
    "days = ['Sunday', 'Monday', 'Tuesday','Wednesday', 'Thursday', 'Friday', 'Saturday']\n",
    "df4['Day_of_Week'] = pd.Categorical(df4['Day_of_Week'], categories=days, ordered=True)\n",
    "df4 = df4.pivot(index='Day_of_Week', columns='Daytime', values='Accident_Index')\n",
    "\n",
    "fig = df4.iplot(kind=\"heatmap\",colorscale=\"Greens\",dimensions=(670,520),title='Heatmap Daytime vs Weekday',asFigure=True)\n",
    "\n",
    "fig.update_layout(legend=dict(\n",
    "    yanchor=\"top\",\n",
    "    y=1.15,\n",
    "    xanchor=\"left\",\n",
    "    x=0.85,\n",
    "        ),\n",
    "title_x=0.50)"
   ]
  },
  {
   "cell_type": "code",
   "execution_count": null,
   "metadata": {},
   "outputs": [],
   "source": [
    "import altair as alt\n",
    "from vega_datasets import data\n",
    "df5 = accidents.groupby(['Day_of_Week','Accident_Severity','Light_Conditions_2'])['Number_of_Casualties'].sum().reset_index()\n",
    "days = ['Sunday', 'Monday', 'Tuesday','Wednesday', 'Thursday', 'Friday', 'Saturday']\n",
    "df5['Day_of_Week'] = pd.Categorical(df5['Day_of_Week'], categories=days, ordered=True)\n",
    "#df5.sort_values(by='Day_of_Week',ascending=True,inplace=True)\n",
    "\n",
    "\n",
    "\n",
    "source = df5\n",
    "\n",
    "alt.Chart(source).mark_circle().encode(\n",
    "    alt.X('Number_of_Casualties',scale=alt.Scale(zero=False)),\n",
    "    alt.Y('Day_of_Week',sort=days,scale=alt.Scale(zero=False, padding=1)),\n",
    "    color='Accident_Severity',\n",
    "    size='Light_Conditions_2'\n",
    ").properties(\n",
    "    width=900,\n",
    "    height=400,\n",
    "    title='Acc_Severity by Daytime and Daylight').interactive()\n"
   ]
  },
  {
   "cell_type": "code",
   "execution_count": null,
   "metadata": {},
   "outputs": [],
   "source": [
    "fig = accidents.Hour.iplot(kind='histogram',bins=40, theme=\"white\", title=\"Accidents by Time\",dimensions=(900,400),xTitle='Hour of the Day', yTitle='Count',colors=\"darkseagreen\",asFigure=True)\n",
    "fig.update_layout(title_x=0.5,title_y=0.85)\n",
    "fig.show()"
   ]
  },
  {
   "cell_type": "markdown",
   "metadata": {},
   "source": [
    "## Accident Severity vs Daytime"
   ]
  },
  {
   "cell_type": "code",
   "execution_count": null,
   "metadata": {},
   "outputs": [],
   "source": [
    "fig = accidents.groupby('Daytime')['Accident_Severity'].value_counts(normalize=True).unstack().iplot(title=\"Accident Severity  vs Daytime\",kind='barh',dimensions=(750,400),barmode='stack', color=['red', 'orange', 'lightgreen'], ax=ax,asFigure=True)\n",
    "fig.layout.xaxis.title = \"Accidents Percentage\"\n",
    "fig.layout.yaxis.title = \"DayTime\"\n",
    "fig.update_layout(title_x=0.5,title_y=0.85)\n",
    "fig.show()"
   ]
  },
  {
   "cell_type": "code",
   "execution_count": null,
   "metadata": {},
   "outputs": [],
   "source": [
    "'''fig, ax = plt.subplots(1, figsize=(30,10))\n",
    "\n",
    "accidents.groupby('Speed_limit_2')['Accident_Severity'].value_counts(normalize=True).unstack().plot(kind='bar', stacked=False, color=['red', 'orange', 'lightgreen'], ax=ax)\n",
    "\n",
    "ax.legend(loc='best', bbox_to_anchor=(1,1))\n",
    "\n",
    "ax.set_title('Accident severity proportions at different speed limits')\n",
    "ax.set_xlabel('Road speed limit (mph)',rotation=0)\n",
    "ax.set_ylabel('Proportion of accidents')\n",
    "plt.xticks(rotation=0)\n",
    "plt.show()\n",
    "'''\n",
    "fig1 = accidents.groupby(['Speed_limit_2'])['Accident_Severity']\\\n",
    ".value_counts(normalize=True).unstack().iplot(kind='barh',dimensions=(750,400),color=['yellow', 'lightskyblue', 'lightgrey'],asFigure=True,title=\"Speed limit vs Accident Severity\")\n",
    "fig1.layout.xaxis.title = \"Accidents - Percentage\"\n",
    "fig1.layout.yaxis.title = \"Speed Limit (Km/h)\"\n",
    "fig1.show()\n",
    "\n",
    "fig2 = accidents.groupby(['Speed_limit_2'])['Number_of_Casualties'].sum().iplot(kind='bar',dimensions=(750,400),color=['blue', 'grey', 'yellow'],asFigure=True,title=\"Speed limit vs Casualties\")\n",
    "fig2.layout.xaxis.title = \"Casualty count\"\n",
    "fig2.layout.yaxis.title = \"Speed Limit (Km/h)\"\n",
    "fig2.show()\n",
    "\n",
    "'''\n",
    "fig.add_traces(trace1)\n",
    "fig.add_traces(trace2)\n",
    "\n",
    "fig['layout'].update(height=600, width=600, title='PARTICLES CORRELATION')\n",
    "py.plot(fig, filename='subplots-shared-xaxes')'''"
   ]
  },
  {
   "cell_type": "code",
   "execution_count": null,
   "metadata": {},
   "outputs": [],
   "source": [
    "# Subplots setup and layout\n",
    "#figs = cf.subplots([fig1, fig2],shape=(1,2))\n",
    "#figs['layout'].update(height=400, width=1000,\n",
    "#                     title='Test',title_x=0.45,title_y=0.9)\n",
    "#iplot(figs)"
   ]
  },
  {
   "cell_type": "code",
   "execution_count": null,
   "metadata": {},
   "outputs": [],
   "source": [
    "'''fig,ax=plt.subplots(figsize=(12,8))\n",
    "sns.countplot(data=accidents, x='Daytime',hue='Accident_Severity');\n",
    "\n",
    "import altair as alt\n",
    "\n",
    "dfg= accidents.groupby(['Daytime','Accident_Severity'])['Accident_Index'].count().reset_index()\n",
    "source = dfg\n",
    "\n",
    "alt.Chart(source).mark_bar().encode(\n",
    "    x='Daytime:O',\n",
    "    y='Accident_Index:Q',\n",
    "    color='Accident_Severity:N',\n",
    "    column=':N'\n",
    ").properties(\n",
    "    width=900,\n",
    "    height=400).interactive()'''"
   ]
  },
  {
   "cell_type": "code",
   "execution_count": null,
   "metadata": {},
   "outputs": [],
   "source": [
    "accidents['Road_Type'].value_counts(normalize=True)"
   ]
  },
  {
   "cell_type": "markdown",
   "metadata": {},
   "source": [
    "## VEHICLES"
   ]
  },
  {
   "cell_type": "code",
   "execution_count": null,
   "metadata": {},
   "outputs": [],
   "source": [
    "%reset"
   ]
  },
  {
   "cell_type": "code",
   "execution_count": null,
   "metadata": {},
   "outputs": [],
   "source": [
    "import pandas as pd\n",
    "import numpy as np\n",
    "import matplotlib.pyplot as plt\n",
    "from matplotlib import cm\n",
    "cmap = cm.get_cmap\n",
    "import seaborn as sns\n",
    "pd.set_option('display.max_columns', None)\n",
    "%matplotlib inline\n",
    "import io"
   ]
  },
  {
   "cell_type": "code",
   "execution_count": null,
   "metadata": {},
   "outputs": [],
   "source": [
    "veh=pd.read_csv('../../Vehicles7904.csv',delimiter=',',encoding='UTF-8-SIG',usecols=[\n",
    "    'Acc_Index','Vehicle_Type','Sex_of_Driver',\n",
    "    'Age_Band_of_Driver','Engine_Capacity_(CC)','Age_of_Vehicle'\n",
    "])"
   ]
  },
  {
   "cell_type": "code",
   "execution_count": null,
   "metadata": {},
   "outputs": [],
   "source": [
    "veh.head()"
   ]
  },
  {
   "cell_type": "code",
   "execution_count": null,
   "metadata": {},
   "outputs": [],
   "source": [
    "veh.describe().T"
   ]
  },
  {
   "cell_type": "code",
   "execution_count": null,
   "metadata": {},
   "outputs": [],
   "source": [
    "print(\"NaN data: \\n \\n\",\" \\n \",veh.isna().sum()/len(veh),\"%\")\n",
    "print(\"\\n Missing or out of range data:\\n\",np.abs(veh[veh==-1].sum())/len(veh),\"%\")"
   ]
  },
  {
   "cell_type": "code",
   "execution_count": null,
   "metadata": {},
   "outputs": [],
   "source": []
  },
  {
   "cell_type": "code",
   "execution_count": null,
   "metadata": {},
   "outputs": [],
   "source": [
    "# drop missing or out of range values\n",
    "#veh.drop(labels='Was_Vehicle_Left_Hand_Drive?',inplace=True,axis=1)\n",
    "veh.shape"
   ]
  },
  {
   "cell_type": "code",
   "execution_count": null,
   "metadata": {},
   "outputs": [],
   "source": [
    "# drop missing or out of range values\n",
    "for i,k in enumerate(veh):\n",
    "    veh.drop(index=veh[veh[k] == -1].index, inplace=True,axis=1)\n",
    "\n",
    "#veh.drop(index=veh[veh['Sex_of_Driver'] == -1].index, inplace=True)"
   ]
  },
  {
   "cell_type": "code",
   "execution_count": null,
   "metadata": {},
   "outputs": [],
   "source": [
    "veh.describe().T"
   ]
  },
  {
   "cell_type": "code",
   "execution_count": null,
   "metadata": {},
   "outputs": [],
   "source": [
    "veh.shape"
   ]
  },
  {
   "cell_type": "code",
   "execution_count": null,
   "metadata": {},
   "outputs": [],
   "source": [
    "veh.head()"
   ]
  },
  {
   "cell_type": "markdown",
   "metadata": {},
   "source": [
    "## CASUALTIES"
   ]
  },
  {
   "cell_type": "code",
   "execution_count": null,
   "metadata": {},
   "outputs": [],
   "source": [
    "cas=pd.read_csv('../../Casualty7904.csv',delimiter=',',encoding='UTF-8-SIG')"
   ]
  },
  {
   "cell_type": "code",
   "execution_count": null,
   "metadata": {},
   "outputs": [],
   "source": [
    "print(\"NaN data: \\n \\n\",\" \\n \",cas.isna().sum()/len(cas),\"%\")\n",
    "print(\"\\n Missing or out of range data:\\n\",np.abs(cas[cas==-1].sum())/len(cas),\"%\")"
   ]
  },
  {
   "cell_type": "code",
   "execution_count": null,
   "metadata": {},
   "outputs": [],
   "source": [
    "cas.shape"
   ]
  },
  {
   "cell_type": "code",
   "execution_count": null,
   "metadata": {},
   "outputs": [],
   "source": [
    "print(cas.describe().T)"
   ]
  },
  {
   "cell_type": "code",
   "execution_count": null,
   "metadata": {},
   "outputs": [],
   "source": [
    "cas.columns"
   ]
  },
  {
   "cell_type": "code",
   "execution_count": null,
   "metadata": {},
   "outputs": [],
   "source": [
    "%who\n",
    "df_merged = pd.merge(cas,veh,how='inner',on='Acc_Index')"
   ]
  },
  {
   "cell_type": "code",
   "execution_count": null,
   "metadata": {},
   "outputs": [],
   "source": [
    "del veh,cas\n",
    "print(df_merged.columns)"
   ]
  },
  {
   "cell_type": "code",
   "execution_count": null,
   "metadata": {},
   "outputs": [],
   "source": [
    "print(df_merged.shape)\n",
    "df_merged.head()"
   ]
  },
  {
   "cell_type": "code",
   "execution_count": null,
   "metadata": {},
   "outputs": [],
   "source": [
    "print(\"NaN data: \\n \\n\",\" \\n \",df_merged.isna().sum()/len(df_merged),\"%\")\n",
    "print(\"\\n Missing or out of range data:\\n\",np.abs(df_merged[df_merged==-1].sum())/len(df_merged),\"%\")"
   ]
  },
  {
   "cell_type": "code",
   "execution_count": null,
   "metadata": {},
   "outputs": [],
   "source": [
    "df_merged.drop(labels=['Casualty_Home_Area_Type','Pedestrian_Road_Maintenance_Worker','Pedestrian_Location',\n",
    "              'Casualty_Class','Casualty_Home_Area_Type',\n",
    "              'Pedestrian_Road_Maintenance_Worker','Car_Passenger','Pedestrian_Movement','Pedestrian_Location',\n",
    "                'Casualty_Severity','Casualty_Reference','Bus_or_Coach_Passenger','Vehicle_Reference'],inplace=True,axis=1)\n"
   ]
  },
  {
   "cell_type": "code",
   "execution_count": null,
   "metadata": {},
   "outputs": [],
   "source": [
    "df_merged.head()"
   ]
  },
  {
   "cell_type": "code",
   "execution_count": null,
   "metadata": {},
   "outputs": [],
   "source": [
    "for i,k in enumerate(df_merged):\n",
    "    df_merged.drop(index=df_merged[df_merged[k] == -1].index, inplace=True,axis=1)"
   ]
  },
  {
   "cell_type": "code",
   "execution_count": null,
   "metadata": {},
   "outputs": [],
   "source": [
    "#Drop unknown values of Sex_of_Driver\n",
    "df_merged.drop(index=df_merged[df_merged['Sex_of_Driver'] == 3].index, inplace=True,axis=1)"
   ]
  },
  {
   "cell_type": "code",
   "execution_count": null,
   "metadata": {},
   "outputs": [],
   "source": [
    "df_merged.shape"
   ]
  },
  {
   "cell_type": "code",
   "execution_count": null,
   "metadata": {},
   "outputs": [],
   "source": [
    "df_merged.to_csv('../../df_merged_cat.csv',sep=',',index = True)"
   ]
  },
  {
   "cell_type": "code",
   "execution_count": null,
   "metadata": {},
   "outputs": [],
   "source": [
    "df_merged.Sex_of_Casualty = df_merged.Sex_of_Casualty.replace([1,2],['Male','Female'])\n",
    "\n",
    "df_merged.Age_Band_of_Casualty = df_merged.Age_Band_of_Casualty.replace([1,2,3,4,5,6,7,8,9,10,11],['0 - 5','6 - 10','11 - 15',\n",
    "                                                                                                 '16 - 20','21 - 25','26 - 35',\n",
    "                                                                                              '36 - 45','46 - 55','56 - 65',\n",
    "                                                                                              '66 - 75','Over 75'\n",
    "                                                                                                ])\n",
    "\n",
    "values1=['Pedestrian',\n",
    "'Cyclist',\n",
    "'Motorcycle 50cc and under rider or passenger',\n",
    "'Motorcycle 125cc and under rider or passenger',\n",
    "'Motorcycle over 125cc and up to 500cc rider or  passenger',\n",
    "'Motorcycle over 500cc rider or passenger',\n",
    "'Taxi/Private hire car occupant',\n",
    "'Car occupant',\n",
    "'Minibus (8 - 16 passenger seats) occupant',\n",
    "'Bus or coach occupant (17 or more pass seats)',\n",
    "'Horse rider',\n",
    "'Agricultural vehicle occupant',\n",
    "'Tram occupant',\n",
    "'Van / Goods vehicle (3.5 tonnes mgw or under) occupant',\n",
    "'Goods vehicle (over 3.5t. and under 7.5t.) occupant',\n",
    "'Goods vehicle (7.5 tonnes mgw and over) occupant',\n",
    "'Mobility scooter rider',\n",
    "'Electric motorcycle rider or passenger',\n",
    "'Other vehicle occupant',\n",
    "'Motorcycle - unknown cc rider or passenger',\n",
    "'Goods vehicle (unknown weight) occupant',\n",
    "'Motorcycle - Scooter rider or passenger',\n",
    "'Motorcycle rider or passenger',\n",
    "'Motorcycle - Combination rider or passenger',\n",
    "'Motorcycle over 125cc rider or passenger',\n",
    "'Taxi (excluding private hire cars) occupant',\n",
    "'Car occupant (including private hire cars)',\n",
    "'Minibus/Motor caravan occupant',\n",
    "'Goods vehicle (over 3.5 tonnes) occupant']\n",
    "values2 = [0,1,2,3,4,5,8,9,10,11,16,17,18,19,\n",
    "20,21,22,23,90,97,98,103,104,105,\n",
    "106,108,109,110,113]\n",
    "\n",
    "values3 = [1,2,3,10,11,17,19,20,\n",
    "21,90,103,104,105,\n",
    "106,108,109,110,113]\n",
    "\n",
    "values4 = ['Pedal cycle',\n",
    "'Motorcycle 50cc and under',\n",
    "'Motorcycle 125cc and under',\n",
    "'Minibus (8 - 16 passenger seats)',\n",
    "'Bus or coach (17 or more pass seats)',\n",
    "'Agricultural vehicle',\n",
    "'Van / Goods 3.5 tonnes mgw or under',\n",
    "'Goods over 3.5t. and under 7.5t',\n",
    "'Goods 7.5 tonnes mgw and over',\n",
    "'Other vehicle',\n",
    "'Motorcycle - Scooter',\n",
    "'Motorcycle',\n",
    "'Motorcycle - Combination',\n",
    "'Motorcycle over 125cc',\n",
    "'Taxi (excluding private hire cars)',\n",
    "'Car (including private hire cars)',\n",
    "'Minibus/Motor caravan',\n",
    "'Goods vehicle over 3.5 tonnes']\n",
    "\n",
    "\n",
    "\n",
    "df_merged.Casualty_Type = df_merged.Casualty_Type.replace(values2,values1)\n",
    "\n",
    "\n",
    "df_merged.Vehicle_Type = df_merged.Vehicle_Type.replace(values3,values4)\n",
    "\n",
    "df_merged.Sex_of_Driver = df_merged.Sex_of_Driver.replace([1,2],['Male','Female'])\n",
    "\n",
    "df_merged.Age_Band_of_Driver = df_merged.Age_Band_of_Driver.replace([1,2,3,4,5,6,7,8,9,10,11],['0 - 5','6 - 10','11 - 15',\n",
    "                                                                                                 '16 - 20','21 - 25','26 - 35',\n",
    "                                                                                              '36 - 45','46 - 55','56 - 65',\n",
    "                                                                                              '66 - 75','Over 75'\n",
    "                                                                                                ])"
   ]
  },
  {
   "cell_type": "code",
   "execution_count": null,
   "metadata": {},
   "outputs": [],
   "source": [
    "dfh = df_merged.groupby(['Vehicle_Type','Casualty_Type'])['Acc_Index'].count().reset_index()\n",
    "dfh.pivot(index='Vehicle_Type', columns=['Casualty_Type'], values='Acc_Index').iplot(kind=\"heatmap\"\n",
    "                                                                                ,colorscale=\"Blues\",\n",
    "                                                                                 dimensions=(1000,800),\n",
    "                                                                                  title='Heatmap Vehicle type vs Casualty type')\n",
    "\n"
   ]
  },
  {
   "cell_type": "code",
   "execution_count": null,
   "metadata": {},
   "outputs": [],
   "source": [
    "df_merged['Vehicle_Type'].value_counts(normalize=True)"
   ]
  },
  {
   "cell_type": "code",
   "execution_count": null,
   "metadata": {},
   "outputs": [],
   "source": [
    "driver = df_merged.groupby(['Age_Band_of_Driver','Sex_of_Driver'])['Acc_Index'].count().reset_index()\n",
    "driver['%'] = (driver['Acc_Index']/driver['Acc_Index'].sum()*100).sort_values(ascending=True).astype(str).str[:4]+'%'\n",
    "\n",
    "import plotly.express as px\n",
    "\n",
    "fig1 = px.sunburst(driver, path=['Sex_of_Driver','Age_Band_of_Driver','%'], color='Sex_of_Driver')\n",
    "fig1.update_layout(height=500, width=550, title_text=\"Age_Band_of_Driver vs Sex of Driver\")\n",
    "fig1.show()\n",
    "#PORCENTAJE DRIVERS IMPLICADOS"
   ]
  },
  {
   "cell_type": "code",
   "execution_count": null,
   "metadata": {},
   "outputs": [],
   "source": [
    "'''casualty = df_merged.groupby(['Age_Band_of_Casualty','Sex_of_Casualty'])['Acc_Index'].count().reset_index\n",
    "casualty['Percentage'] = (casualty['Acc_Index']/casualty['Acc_Index'].sum()*100).sort_values(ascending=True)\n",
    "\n",
    "\n",
    "#y de esto\n",
    "#casualty = casualty.sort_values(by='Percentage',ascending=True)'''"
   ]
  },
  {
   "cell_type": "code",
   "execution_count": null,
   "metadata": {},
   "outputs": [],
   "source": [
    "fig,ax=plt.subplots(figsize=(12,6))\n",
    "sns.barplot(data=casualty,x='Age_Band_of_Casualty',y='Acc_Index',hue='Sex_of_Casualty')\n",
    "ax.set_title('Age_Band_of_Casualty', fontsize=21, fontweight='bold')\n",
    "ax.set_xlabel('\\n Month',fontsize=15)\n",
    "ax.set_ylabel('Total Count\\n',fontsize=15)"
   ]
  },
  {
   "cell_type": "code",
   "execution_count": null,
   "metadata": {},
   "outputs": [],
   "source": []
  },
  {
   "cell_type": "code",
   "execution_count": null,
   "metadata": {},
   "outputs": [],
   "source": []
  },
  {
   "cell_type": "code",
   "execution_count": null,
   "metadata": {},
   "outputs": [],
   "source": []
  },
  {
   "cell_type": "code",
   "execution_count": null,
   "metadata": {},
   "outputs": [],
   "source": []
  },
  {
   "cell_type": "code",
   "execution_count": null,
   "metadata": {},
   "outputs": [],
   "source": [
    "df_merged['Engine_Capacity_(CC)'].value_counts()"
   ]
  },
  {
   "cell_type": "code",
   "execution_count": null,
   "metadata": {},
   "outputs": [],
   "source": [
    "df_merged['Propulsion_Code'].value_counts()"
   ]
  },
  {
   "cell_type": "code",
   "execution_count": null,
   "metadata": {},
   "outputs": [],
   "source": [
    "df_merged['Age_of_Vehicle'].value_counts()"
   ]
  },
  {
   "cell_type": "code",
   "execution_count": null,
   "metadata": {},
   "outputs": [],
   "source": [
    "#df_merge.Engine_Capacity_(CC) = df_merge.Engine_Capacity_(CC).replace([1,2],['Male','Female']) -->drop column\n",
    "veh_type = df_merge.groupby(['Sex_of_Driver','Vehicle_Type'])['Acc_Index'].count().reset_index()\n",
    "veh_type['Percentage'] = (veh_type['Acc_Index']/veh_type['Acc_Index'].sum()*100).sort_values(ascending=True)#.astype(str).str[:4]+'%'\n",
    "\n",
    "#FALTA PLOT"
   ]
  },
  {
   "cell_type": "code",
   "execution_count": null,
   "metadata": {},
   "outputs": [],
   "source": [
    "#Front END"
   ]
  },
  {
   "cell_type": "code",
   "execution_count": null,
   "metadata": {},
   "outputs": [],
   "source": [
    "%%writefile app.py\n",
    "\n",
    "accidents = 'accidents_clean.csv'\n",
    "cas_veh = 'df_merged_cat.csv'\n",
    "path ='../../'\n",
    "\n",
    "import streamlit as st\n",
    "import matplotlib.pyplot as plt\n",
    "import altair as alt\n",
    "import seaborn as sns\n",
    "import pandas as pd\n",
    "import numpy as np\n",
    "import matplotlib.pyplot as plt\n",
    "from matplotlib import cm\n",
    "cmap = cm.get_cmap\n",
    "import seaborn as sns\n",
    "\n",
    "import io\n",
    "pd.set_option('display.max_columns', None)\n",
    "from plotly.subplots import make_subplots\n",
    "import plotly.graph_objects as go\n",
    "import streamlit as st\n",
    "import cufflinks as cf\n",
    "cf.set_config_file(theme='pearl',sharing='public',offline=True)\n",
    "\n",
    "st.title(\"Accidents Visualization and Predictions\")\n",
    "st.markdown(\n",
    "\"\"\"\n",
    "This app is for visualizing the Accidents data for UK which is collected \n",
    "from the Academictorrents site https://academictorrents.com/details/c7d2d7a91ae3fd0256dd2ba2d7344960cb3c4dbb.\n",
    "\n",
    "User can view EDA and predictions for every year and also for a global view.\n",
    "\"\"\"\n",
    ")\n",
    "\n",
    "menu=['HOME','EDA','MODELLING']\n",
    "choice=st.sidebar.selectbox('Menu',menu)\n",
    "if choice=='HOME':\n",
    "    #st.subheader('OTRO SUBHEADER')\n",
    "\n",
    "    # Mostrar tablas de datos\n",
    "    st.subheader(\"Datos utilizados\")\n",
    "\n",
    "    dfa = pd.read_csv(path + accidents,delimiter=',',encoding='UTF-8-SIG',index_col=0,nrows=100000)\n",
    "    dfm = pd.read_csv(path + cas_veh,delimiter=',',encoding='UTF-8-SIG',index_col=0,nrows=100000)\n",
    "    st.write('Accidents_csv')\n",
    "    st.dataframe(dfa.head(5))\n",
    "    st.write('Vehicles_Casualties_csv')\n",
    "    st.dataframe(dfm.head(5))\n",
    "\n",
    "fig = dfa['Accident_Severity'].value_counts(normalize=True)\\\n",
    "                    .reset_index().iplot(kind='pie',\n",
    "                    labels='index',values='Accident_Severity',\n",
    "                    textinfo='percent+label',hole=0.4,\n",
    "                    color = ['lightgreen', 'orange','red'],title='Accident Severity Chart',\n",
    "                    asFigure=True,   )                \n",
    "                                        \n",
    "fig.update_layout(legend=dict()\n",
    "\n",
    "                 \n",
    "                 )\n",
    "st.plotly_chart(fig)\n",
    "\n",
    "\n"
   ]
  },
  {
   "cell_type": "code",
   "execution_count": null,
   "metadata": {},
   "outputs": [],
   "source": []
  },
  {
   "cell_type": "code",
   "execution_count": null,
   "metadata": {},
   "outputs": [],
   "source": [
    "!streamlit run app.py"
   ]
  },
  {
   "cell_type": "code",
   "execution_count": null,
   "metadata": {},
   "outputs": [],
   "source": []
  },
  {
   "cell_type": "code",
   "execution_count": null,
   "metadata": {},
   "outputs": [],
   "source": []
  },
  {
   "cell_type": "code",
   "execution_count": null,
   "metadata": {},
   "outputs": [],
   "source": []
  },
  {
   "cell_type": "code",
   "execution_count": null,
   "metadata": {},
   "outputs": [],
   "source": []
  },
  {
   "cell_type": "code",
   "execution_count": null,
   "metadata": {},
   "outputs": [],
   "source": [
    "\n",
    "\n",
    "%%writefile app2.py\n",
    "\n",
    "import streamlit as st\n",
    "import pandas as pd\n",
    "import matplotlib.pyplot as plt\n",
    "import altair as alt\n",
    "\n",
    "st.title('Awesome streamlit app for kschool')\n",
    "\n",
    "# Mostrar tablas de datos\n",
    "\n",
    "brain=pd.read_csv(\"https://raw.githubusercontent.com/KaonToPion/datasets/main/brain.csv\")\n",
    "\n",
    "st.dataframe(brain)\n",
    "\n",
    "# Texto:\n",
    "st.markdown(\"\"\"\n",
    "## texto de ejemplo\n",
    "\n",
    "\n",
    "otras cosas....\n",
    "\"\"\")\n",
    "\n",
    "st.text('solo soy un text')\n",
    "\n",
    "\n",
    "fig,ax=plt.subplots(figsize=(3,3))\n",
    "ax.scatter(brain['Body Weight'],brain['Brain Weight'])\n",
    "\n",
    "st.pyplot(fig)\n",
    "\n",
    "\n",
    "######ALTAIR#####\n",
    "\n",
    "\n",
    "hist_brain = alt.Chart(brain).mark_bar().encode(\n",
    "    x=alt.X('Brain Weight',bin=alt.Bin(maxbins=100)),\n",
    "    y=\"count()\"\n",
    ").properties(\n",
    "    width=300,\n",
    "    height=150,\n",
    "    title=\"Relación peso del cerebro y del cuerpo\"\n",
    ").interactive()\n",
    "\n",
    "hist_body = alt.Chart(brain).mark_bar().encode(\n",
    "    x=alt.X('Body Weight',bin=alt.Bin(maxbins=100)),\n",
    "    y=\"count()\"\n",
    ").properties(\n",
    "    width=300,\n",
    "    height=150,\n",
    "    title=\"Relación peso del cerebro y del cuerpo\"\n",
    ").interactive()\n",
    "\n",
    "scatter_brain_body = alt.Chart(brain).mark_circle().encode(\n",
    "    x='Body Weight',\n",
    "    y='Brain Weight'\n",
    ").properties(\n",
    "    width=700,\n",
    "    height=300,\n",
    "    title=\"Relación peso del cerebro y del cuerpo\"\n",
    ").interactive()\n",
    "\n",
    "comp_brain = (hist_brain|hist_body)&scatter_brain_body\n",
    "comp_brain\n",
    "\n",
    "\n"
   ]
  },
  {
   "cell_type": "code",
   "execution_count": null,
   "metadata": {},
   "outputs": [],
   "source": [
    "!streamlit run app2.py"
   ]
  },
  {
   "cell_type": "code",
   "execution_count": null,
   "metadata": {},
   "outputs": [],
   "source": []
  },
  {
   "cell_type": "code",
   "execution_count": null,
   "metadata": {},
   "outputs": [],
   "source": []
  },
  {
   "cell_type": "code",
   "execution_count": null,
   "metadata": {},
   "outputs": [],
   "source": []
  },
  {
   "cell_type": "code",
   "execution_count": null,
   "metadata": {},
   "outputs": [],
   "source": []
  },
  {
   "cell_type": "code",
   "execution_count": null,
   "metadata": {},
   "outputs": [],
   "source": []
  },
  {
   "cell_type": "code",
   "execution_count": null,
   "metadata": {},
   "outputs": [],
   "source": []
  },
  {
   "cell_type": "code",
   "execution_count": null,
   "metadata": {},
   "outputs": [],
   "source": []
  },
  {
   "cell_type": "code",
   "execution_count": null,
   "metadata": {},
   "outputs": [],
   "source": []
  },
  {
   "cell_type": "code",
   "execution_count": null,
   "metadata": {},
   "outputs": [],
   "source": []
  },
  {
   "cell_type": "code",
   "execution_count": null,
   "metadata": {},
   "outputs": [],
   "source": []
  },
  {
   "cell_type": "code",
   "execution_count": null,
   "metadata": {},
   "outputs": [],
   "source": []
  },
  {
   "cell_type": "code",
   "execution_count": null,
   "metadata": {},
   "outputs": [],
   "source": []
  },
  {
   "cell_type": "code",
   "execution_count": null,
   "metadata": {},
   "outputs": [],
   "source": []
  },
  {
   "cell_type": "code",
   "execution_count": null,
   "metadata": {},
   "outputs": [],
   "source": []
  },
  {
   "cell_type": "code",
   "execution_count": null,
   "metadata": {},
   "outputs": [],
   "source": []
  },
  {
   "cell_type": "code",
   "execution_count": null,
   "metadata": {},
   "outputs": [],
   "source": []
  },
  {
   "cell_type": "code",
   "execution_count": null,
   "metadata": {},
   "outputs": [],
   "source": []
  },
  {
   "cell_type": "code",
   "execution_count": null,
   "metadata": {},
   "outputs": [],
   "source": []
  },
  {
   "cell_type": "code",
   "execution_count": null,
   "metadata": {},
   "outputs": [],
   "source": []
  },
  {
   "cell_type": "code",
   "execution_count": null,
   "metadata": {},
   "outputs": [],
   "source": []
  },
  {
   "cell_type": "code",
   "execution_count": null,
   "metadata": {},
   "outputs": [],
   "source": []
  },
  {
   "cell_type": "code",
   "execution_count": null,
   "metadata": {},
   "outputs": [],
   "source": []
  },
  {
   "cell_type": "code",
   "execution_count": null,
   "metadata": {},
   "outputs": [],
   "source": []
  },
  {
   "cell_type": "code",
   "execution_count": null,
   "metadata": {},
   "outputs": [],
   "source": []
  },
  {
   "cell_type": "code",
   "execution_count": null,
   "metadata": {},
   "outputs": [],
   "source": []
  },
  {
   "cell_type": "code",
   "execution_count": null,
   "metadata": {},
   "outputs": [],
   "source": []
  },
  {
   "cell_type": "code",
   "execution_count": null,
   "metadata": {},
   "outputs": [],
   "source": []
  },
  {
   "cell_type": "code",
   "execution_count": null,
   "metadata": {},
   "outputs": [],
   "source": []
  },
  {
   "cell_type": "code",
   "execution_count": null,
   "metadata": {},
   "outputs": [],
   "source": []
  },
  {
   "cell_type": "code",
   "execution_count": null,
   "metadata": {},
   "outputs": [],
   "source": []
  }
 ],
 "metadata": {
  "kernelspec": {
   "display_name": "Python 3",
   "language": "python",
   "name": "python3"
  },
  "language_info": {
   "codemirror_mode": {
    "name": "ipython",
    "version": 3
   },
   "file_extension": ".py",
   "mimetype": "text/x-python",
   "name": "python",
   "nbconvert_exporter": "python",
   "pygments_lexer": "ipython3",
   "version": "3.9.2"
  }
 },
 "nbformat": 4,
 "nbformat_minor": 4
}
