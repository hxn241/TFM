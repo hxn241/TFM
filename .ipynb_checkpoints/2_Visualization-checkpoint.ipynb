{
 "cells": [
  {
   "cell_type": "markdown",
   "id": "concrete-ensemble",
   "metadata": {},
   "source": [
    "# Visualización"
   ]
  },
  {
   "cell_type": "markdown",
   "id": "covered-tuning",
   "metadata": {},
   "source": [
    "**Cargamos el path**"
   ]
  },
  {
   "cell_type": "code",
   "execution_count": null,
   "id": "distant-photography",
   "metadata": {},
   "outputs": [],
   "source": [
    "import os\n",
    "myfile = open(\"path.txt\",mode=\"r\")\n",
    "\n",
    "datapath,repopath = myfile.readlines()\n",
    "datapath = datapath.strip(\"\\n\")"
   ]
  },
  {
   "cell_type": "code",
   "execution_count": null,
   "id": "generous-spain",
   "metadata": {},
   "outputs": [],
   "source": [
    "acc = 'accidents_labeled.csv'\n",
    "vc = 'veh_cas_labeled.csv'"
   ]
  },
  {
   "cell_type": "markdown",
   "id": "personal-religious",
   "metadata": {},
   "source": [
    "**Importamos librerías**"
   ]
  },
  {
   "cell_type": "code",
   "execution_count": null,
   "id": "immune-suicide",
   "metadata": {},
   "outputs": [],
   "source": [
    "\n",
    "import plotly.tools as tls\n",
    "import plotly as py\n",
    "import plotly.graph_objs as go\n",
    "\n",
    "from matplotlib import *\n",
    "import pandas as pd\n",
    "import numpy as np\n",
    "import matplotlib.pyplot as plt\n",
    "from matplotlib import cm\n",
    "cmap = cm.get_cmap\n",
    "import seaborn as sns\n",
    "\n",
    "%matplotlib inline\n",
    "import io\n",
    "pd.set_option('display.max_columns', None)\n",
    "from plotly.subplots import make_subplots\n",
    "import plotly.graph_objects as go\n",
    "import streamlit as st\n",
    "import cufflinks as cf\n",
    "cf.go_offline()\n",
    "cf.set_config_file(theme='pearl',sharing='public',offline=True)\n",
    "import warnings\n",
    "warnings.simplefilter(action='ignore', category=FutureWarning)"
   ]
  },
  {
   "cell_type": "markdown",
   "id": "smooth-berry",
   "metadata": {},
   "source": [
    "**Carga de los datos**"
   ]
  },
  {
   "cell_type": "code",
   "execution_count": null,
   "id": "aquatic-breed",
   "metadata": {},
   "outputs": [],
   "source": [
    "# load the accidents_clean_csv file as a dataframe\n",
    "accidents = pd.read_csv(datapath + acc,delimiter=',',encoding='UTF-8-SIG',index_col=0,parse_dates=[\"Date\"])"
   ]
  },
  {
   "cell_type": "code",
   "execution_count": null,
   "id": "municipal-scanner",
   "metadata": {},
   "outputs": [],
   "source": [
    "# load the casualty_vehicle_csv file as a data frame\n",
    "dfmerged = pd.read_csv(datapath + vc,delimiter=',',encoding='UTF-8-SIG',index_col=0)"
   ]
  },
  {
   "cell_type": "markdown",
   "id": "dangerous-boost",
   "metadata": {},
   "source": [
    "### *Scatter plot Víctimas y Vehiculos*"
   ]
  },
  {
   "cell_type": "code",
   "execution_count": null,
   "id": "spanish-instrumentation",
   "metadata": {},
   "outputs": [],
   "source": [
    "sns.set_context(\"talk\", font_scale=1.1)\n",
    "fig,ax = plt.subplots(figsize=(14,8))\n",
    "sns.scatterplot(x=\"Number_of_Casualties\", \n",
    "                y=\"Number_of_Vehicles\",\n",
    "                size=\"Accident_Severity\",\n",
    "                sizes=(20,500),\n",
    "                alpha=0.5,\n",
    "                hue=\"Speed_limit_2\",\n",
    "                data=accidents.iloc[:1000000]) \n",
    "\n",
    "# Put the legend out of the figure\n",
    "#plt.legend(bbox_to_anchor=(1.01, 1))\n",
    "#plt.legend(bbox_to_anchor=(1.01, 0.54),  borderaxespad=0.)\n",
    "plt.legend(fontsize=12)\n",
    "plt.xticks(fontsize=12)\n",
    "plt.yticks(fontsize=12)\n",
    "plt.xlabel(\"Number_of_Casualties\",fontsize=15)\n",
    "plt.ylabel(\"Number_of_Vehicles\",fontsize=15)\n",
    "plt.title(\"Scatter plot - Numerical Variables\",fontsize=18,fontweight=\"bold\")\n",
    "plt.tight_layout()\n",
    "sns.despine(ax=ax, top=True, right=True, left=True, bottom=False);\n",
    "plt.show()"
   ]
  },
  {
   "cell_type": "markdown",
   "id": "elementary-salvation",
   "metadata": {},
   "source": [
    "- Podemos ver que  lo que más predomina son accidentes leves con velocidades comprendidas entre 70-80 km/h (naranja), 60-70km/h(violeta) y 30-40km/h (azul).\n",
    "- En cuanto a los vehículos implicados se observa que se acumulan más los datos entre 0-20 , no obstante en las víctimas predominan datos acumulados desde 0 hasta 40, siendo más intenso entre 0 y 10."
   ]
  },
  {
   "cell_type": "markdown",
   "id": "powerful-uganda",
   "metadata": {},
   "source": [
    "### *Pie Chart Accident_Severity total %*"
   ]
  },
  {
   "cell_type": "code",
   "execution_count": null,
   "id": "becoming-casino",
   "metadata": {},
   "outputs": [],
   "source": [
    "fig = accidents['Accident_Severity'].value_counts(normalize=True)\\\n",
    "                    .reset_index().iplot(kind='pie',dimensions=(400,400),\n",
    "                    labels='index',values='Accident_Severity',\n",
    "                    textinfo='percent+label',hole=0.4,\n",
    "                    color = ['lightgreen', 'orange','red'],title='Accident Severity Chart',\n",
    "                    asFigure=True,)\n",
    "fig.update_layout(legend=dict(\n",
    "    yanchor=\"top\",\n",
    "    y=1.15,\n",
    "    xanchor=\"left\",\n",
    "    x=0.85,\n",
    "        ),\n",
    "title_x=0.5,title_y=0.92)\n",
    "fig.show()"
   ]
  },
  {
   "cell_type": "markdown",
   "id": "superior-silver",
   "metadata": {},
   "source": [
    "- En el gráfico vemos como la variable que nos hemos definido como target, está muy desbalanceada, sólo con un aprox. 2% de datos fatales, 73% en leves y 24% en graves."
   ]
  },
  {
   "cell_type": "markdown",
   "id": "shaped-plumbing",
   "metadata": {},
   "source": [
    "### *Media Móvil Accidentes por mes*"
   ]
  },
  {
   "cell_type": "code",
   "execution_count": null,
   "id": "intended-attribute",
   "metadata": {},
   "outputs": [],
   "source": [
    "# Utilizarmos resample de la fecha para ponerla como índice y agruparla por mes, de esta manera\n",
    "# podemos generar el gráfico con el total mensual y luego poder calcular una media con una ventana=12\n",
    "# que son lso meses del año.\n",
    "\n",
    "sns.set_style('white')\n",
    "fig, ax = plt.subplots(figsize=(16,6))\n",
    "\n",
    "accidents.set_index('Date').resample('M').size().plot(label='Total Month', color='grey', ax=ax)\n",
    "accidents.set_index('Date').resample('M').size().rolling(window=12).mean()\\\n",
    "                           .plot(color='lightgreen', linewidth=5, label='Montly average 12 months', ax=ax)\n",
    "\n",
    "ax.set_title('Accidents per Month', fontsize=18, fontweight='bold')\n",
    "ax.set(ylabel='Total Count\\n', xlabel='Years')\n",
    "ax.legend(fontsize=10)\n",
    "ax.set_xlabel('Year',fontsize=15)\n",
    "ax.set_ylabel('Total counts\\n',fontsize=15)\n",
    "plt.xticks(fontsize=12)\n",
    "plt.yticks(fontsize=12)\n",
    "#ax.set_xticklabels([\"1979\", \"1984\", \"1989\", \"1994\",\"1999\",\"2004\"], fontsize=12)\n",
    "#ax.set_yticklabels([\"16k\", \"18k\", \"20k\", \"22k\",\"24k\"], fontsize=12)\n",
    "sns.despine(ax=ax, top=True, right=True, left=True, bottom=False);"
   ]
  },
  {
   "cell_type": "markdown",
   "id": "endangered-spice",
   "metadata": {},
   "source": [
    "- Por alguna razón los accidentes tienden a bajar a media que van pasando los años, podría indicarnos una clara mejora en los sistemas de seguridad en los automóbiles.\n",
    "\n",
    "- Se puede apreciar un pico alrededor de los años 90, donde probablemente se deba a que fué una época donde las compañías de vehículos comercializaron muchos coches accesibles al usuario medio y con una gran cilindrada y unos sistemas de seguridad menos eficientes que hoy en día."
   ]
  },
  {
   "cell_type": "markdown",
   "id": "sudden-canvas",
   "metadata": {},
   "source": [
    "### *Accidentes por año*"
   ]
  },
  {
   "cell_type": "code",
   "execution_count": null,
   "id": "posted-deployment",
   "metadata": {},
   "outputs": [],
   "source": [
    "df1 = accidents.groupby(['Year'])\\\n",
    ".agg({'Accident_Index':'count', 'Number_of_Vehicles': 'sum','Number_of_Casualties': 'sum',})\\\n",
    ".reset_index()\n",
    "#-------------------------\n",
    "sns.set_style(\"white\")\n",
    "\n",
    "x = df1.Year\n",
    "labels = df1.Year\n",
    "width = 0.5\n",
    "Accidentcounts = df1['Accident_Index']\n",
    "Casualtycounts =  df1['Number_of_Casualties']\n",
    "fig,ax =  plt.subplots(figsize=(16,6))\n",
    "\n",
    "bar1 = ax.bar(x - width/2, Accidentcounts, width, label='Accident counts', color = 'paleturquoise');\n",
    "bar2 = ax.bar(x + width/2, Casualtycounts, width, label='Casualty counts', color = 'slategrey');\n",
    "bar1[10].set_color('moccasin')\n",
    "bar2[10].set_color('lightcoral')\n",
    "ax.legend(fontsize=10)\n",
    "ax.set_title('\\nAccidents / Casualties \\n per Year\\n', fontsize=18, fontweight='bold')\n",
    "ax.set_xlabel('\\nYear',fontsize=15)\n",
    "ax.set_ylabel('Total counts\\n',fontsize=15)\n",
    "ax.legend(fontsize=10)\n",
    "plt.xticks(fontsize=12)\n",
    "plt.yticks(fontsize=12)\n",
    "ax.set_xticks(x)\n",
    "sns.despine(ax=ax, top=True, right=True, left=True, bottom=False);\n",
    "plt.show();"
   ]
  },
  {
   "cell_type": "markdown",
   "id": "sustainable-gnome",
   "metadata": {},
   "source": [
    " - El año con más accidentes y víctimas es 1989.\n",
    " - Tanto accidentes como víctimas presentan una ligera bajada a partir del año 2000."
   ]
  },
  {
   "cell_type": "markdown",
   "id": "correct-block",
   "metadata": {},
   "source": [
    "### *¿En qué meses hay más accidentes?*"
   ]
  },
  {
   "cell_type": "code",
   "execution_count": null,
   "id": "respected-guess",
   "metadata": {},
   "outputs": [],
   "source": [
    "cmap = plt.cm.get_cmap('Spectral')\n",
    "\n",
    "df2 = accidents.groupby(['Month'])['Accident_Index'].count().reset_index()\n",
    "\n",
    "months = ['January',\n",
    "          'February',\n",
    "          'March',\n",
    "          'April',\n",
    "          'May',\n",
    "          'June',\n",
    "          'July',\n",
    "          'August', \n",
    "          'September',\n",
    "          'October',\n",
    "          'November',\n",
    "          \n",
    "          'December']\n",
    "df2['Month'] = pd.Categorical(df2['Month'], categories=months, ordered=True)\n",
    "#df2.sort_values(...)  # same as you have now; can use inplace=True\n",
    "df2 = df2.sort_values(by='Month')\n",
    "\n",
    "\n",
    "sns.set_style(\"white\")\n",
    "\n",
    "x = df2['Month']\n",
    "y = df2['Accident_Index']\n",
    "fig, ax =  plt.subplots(figsize=(16,6))\n",
    "plt.xticks(fontsize=12)\n",
    "plt.yticks(fontsize=12)\n",
    "bar1 = ax.bar(x,y,color='cornflowerblue',linewidth=4)\n",
    "bar1[9].set_color('tomato')\n",
    "ax.set_title('Accidents per Month', fontsize=18, fontweight='bold')\n",
    "ax.set_xlabel('\\n Month',fontsize=15)\n",
    "ax.set_ylabel('Total Count\\n',fontsize=15)\n",
    "sns.despine(ax=ax, top=True, right=True, left=True, bottom=False);\n",
    "plt.show();"
   ]
  },
  {
   "cell_type": "markdown",
   "id": "liquid-brake",
   "metadata": {},
   "source": [
    "- El mes de octubre es el que más accidentes acumula junto con noviembre. Podríamos pensar que por estas fechas de desencadena algún fenómeno que hace crecer el número de accidentes."
   ]
  },
  {
   "cell_type": "markdown",
   "id": "shaped-wedding",
   "metadata": {},
   "source": [
    "### *¿Qué dia de la semana hay más accidentes?*"
   ]
  },
  {
   "cell_type": "code",
   "execution_count": null,
   "id": "incorrect-grammar",
   "metadata": {},
   "outputs": [],
   "source": [
    "df3 = accidents.groupby(['Day_of_Week'])['Accident_Index']\\\n",
    "                .count()\\\n",
    "                .sort_values(ascending=False)\\\n",
    "                .reset_index()\n",
    "days = ['Sunday',\n",
    "        'Monday',\n",
    "        'Tuesday',\n",
    "        'Wednesday',\n",
    "        'Thursday',\n",
    "        'Friday',\n",
    "        'Saturday']\n",
    "\n",
    "df3['Day_of_Week'] = pd.Categorical(df3['Day_of_Week'],\n",
    "                                    categories=days, \n",
    "                                    ordered=True)\n",
    "\n",
    "df3 = df3.sort_values(by='Day_of_Week',ascending=True)\n",
    "\n",
    "\n",
    "# sns.set_style('white')\n",
    "fig, ax = plt.subplots(figsize=(10,5))\n",
    "\n",
    "barlist = plt.bar(df3['Day_of_Week'],df3['Accident_Index'],\n",
    "                  color='orange')\n",
    "barlist[5].set_color('plum')\n",
    "\n",
    "ax.set_title('\\nAccidents per Weekday\\n',\n",
    "             fontsize=18,\n",
    "             fontweight='bold')\n",
    "\n",
    "ax.set_xlabel('\\n Weekday',fontsize=15)\n",
    "ax.set_ylabel('Total Count\\n',fontsize=15)\n",
    "# remove all spines\n",
    "\n",
    "plt.xticks(fontsize=12)\n",
    "plt.yticks(fontsize=12)\n",
    "sns.despine(ax=ax, top=True, \n",
    "            right=True, \n",
    "            left=True, \n",
    "            bottom=False);\n",
    "\n",
    "plt.show();"
   ]
  },
  {
   "cell_type": "markdown",
   "id": "afraid-uzbekistan",
   "metadata": {},
   "source": [
    "- Claramente el viernes tiene sentido que sea cuando suceden más accidentes, cuando empieza el fin de semana."
   ]
  },
  {
   "cell_type": "markdown",
   "id": "continent-viking",
   "metadata": {},
   "source": [
    "### *Mapa de calor Weekday - Daytime*"
   ]
  },
  {
   "cell_type": "code",
   "execution_count": null,
   "id": "comfortable-characterization",
   "metadata": {},
   "outputs": [],
   "source": [
    "df4 = accidents.groupby(['Day_of_Week','Daytime'])['Accident_Index']\\\n",
    "               .count().reset_index()\n",
    "\n",
    "\n",
    "days = ['Sunday',\n",
    "        'Monday',\n",
    "        'Tuesday',\n",
    "        'Wednesday',\n",
    "        'Thursday',\n",
    "        'Friday',\n",
    "        'Saturday']\n",
    "\n",
    "df4['Day_of_Week'] = pd.Categorical(df4['Day_of_Week'], categories=days, ordered=True)\n",
    "\n",
    "df4 = df4.pivot(index='Day_of_Week', columns='Daytime', values='Accident_Index')\n",
    "\n",
    "fig = df4.iplot(kind=\"heatmap\",\n",
    "                colorscale=\"Reds\",\n",
    "                dimensions=(670,520),\n",
    "                title='Heatmap Daytime vs Weekday',\n",
    "                asFigure=True)\n",
    "\n",
    "fig.update_layout(\n",
    "title_x=0.50)"
   ]
  },
  {
   "cell_type": "markdown",
   "id": "personalized-pollution",
   "metadata": {},
   "source": [
    "- Cuando más accidentes suceden es a la vuelta del trabajo y en horas de oficina el fin de semana.\n",
    "- Es decir que de 15h a 19h es cuando más accidentes hay el fin de semana, y entre semana se acumulan más a la salida del trabajo.\n",
    "- El fin de semana es cuando aumentan los casos de víctimas de accidentes de tráfico y se producen más accidentes severos en horario nocturno."
   ]
  },
  {
   "cell_type": "markdown",
   "id": "prompt-header",
   "metadata": {},
   "source": [
    "### *Histograma Accidentes -  Hora*"
   ]
  },
  {
   "cell_type": "code",
   "execution_count": null,
   "id": "bottom-basis",
   "metadata": {},
   "outputs": [],
   "source": [
    "fig = accidents.Hour.iplot(kind='histogram',\n",
    "                           bins=40,\n",
    "                           theme=\"white\",\n",
    "                           title=\"Accidents by Time\",\n",
    "                           dimensions=(900,400),\n",
    "                           xTitle='Hour of the Day',\n",
    "                           yTitle='Acc Count',\n",
    "                           colors=\"darkseagreen\",asFigure=True)\n",
    "fig.update_layout(title_x=0.5,title_y=0.85)\n",
    "fig.show()"
   ]
  },
  {
   "cell_type": "markdown",
   "id": "marked-canon",
   "metadata": {},
   "source": [
    "- Las horas donde se acumulan más accidentes coincidiendo con nuestro gráfico de antes se acumulan de  15 a 19h."
   ]
  },
  {
   "cell_type": "markdown",
   "id": "hearing-nirvana",
   "metadata": {},
   "source": [
    "### *Recuento de víctimas por límite de velocidad*"
   ]
  },
  {
   "cell_type": "code",
   "execution_count": null,
   "id": "commercial-personality",
   "metadata": {},
   "outputs": [],
   "source": [
    "fig2 = accidents.groupby(['Speed_limit_2'])['Number_of_Casualties'].sum()\\\n",
    "                                                                    .iplot(kind='bar',\n",
    "                                                                           dimensions=(750,400),\n",
    "                                                                           color=['blue', 'grey', 'yellow'],\n",
    "                                                                           asFigure=True,\n",
    "                                                                           title=\"Speed limit vs Casualties\")\n",
    "fig2.layout.xaxis.title = \"Speed Limit (Km/h)\"\n",
    "fig2.layout.yaxis.title = \"Casualty count\"\n",
    "fig2.update_layout(\n",
    "title_x=0.5,title_y=0.85)\n",
    "fig2.show()"
   ]
  },
  {
   "cell_type": "code",
   "execution_count": null,
   "id": "periodic-complement",
   "metadata": {},
   "outputs": [],
   "source": [
    "(accidents.groupby(['Speed_limit_2'])['Number_of_Casualties'].sum()/accidents.Number_of_Casualties.sum()*100).round(2).sort_values(ascending=False)"
   ]
  },
  {
   "cell_type": "markdown",
   "id": "based-chester",
   "metadata": {},
   "source": [
    "- Entre 30-40 km/h es donde más víctimas se reportan, con un 61,3 % de registros, es muy probable que estos accidentes sucedan claramente en la ciudad.\n",
    "- Con un 21.52 % de victimas le siguen los accidentes entre 60-70 km/h."
   ]
  },
  {
   "cell_type": "markdown",
   "id": "mature-revolution",
   "metadata": {},
   "source": [
    "### *Relación entre Vehículos y Víctimas (tipos)*"
   ]
  },
  {
   "cell_type": "code",
   "execution_count": null,
   "id": "quiet-agency",
   "metadata": {},
   "outputs": [],
   "source": [
    "dfh = dfmerged.groupby(['Vehicle_Type','Casualty_Type'])['Acc_Index']\\\n",
    "            .count().reset_index()\n",
    "\n",
    "fig = dfh.pivot(index='Vehicle_Type',\n",
    "                columns=['Casualty_Type'],\n",
    "                values='Acc_Index')\\\n",
    "        .iplot(kind=\"heatmap\"\n",
    "           ,colorscale=\"Blues\",\n",
    "           dimensions=(900,750),\n",
    "           title='Heatmap Vehicle type vs Casualty type',\n",
    "          asFigure=True)\n",
    "\n",
    "fig.update_layout(\n",
    "title_x=0.5,title_y=0.95)\n",
    "fig.show()"
   ]
  },
  {
   "cell_type": "markdown",
   "id": "meaningful-spain",
   "metadata": {},
   "source": [
    "- Este gráfico muestra la correlación entre los vehículos y las víctimas. Los accidentes mayormente se producen entre coches, y coche y peatón."
   ]
  },
  {
   "cell_type": "markdown",
   "id": "ancient-cooper",
   "metadata": {},
   "source": [
    "### *Porcentaje de conductores implicados por sexo*"
   ]
  },
  {
   "cell_type": "code",
   "execution_count": null,
   "id": "broke-connecticut",
   "metadata": {},
   "outputs": [],
   "source": [
    "driver = dfmerged.groupby(['Age_Band_of_Driver','Sex_of_Driver'])['Acc_Index']\\\n",
    "                 .count().reset_index()\n",
    "\n",
    "\n",
    "driver['%'] = (driver['Acc_Index']/driver['Acc_Index'].sum()*100)\\\n",
    "                                                      .sort_values(ascending=True).round(2)\n",
    "\n",
    "print(\"Total Female Driver Accidents:\\n{}%\".format(\n",
    "    driver[driver[\"Sex_of_Driver\"]==\"Female\"][\"%\"].sum().round(2)))\n",
    "print(\"Total Male Driver Accidents:\\n{}%\".format(\n",
    "    driver[driver[\"Sex_of_Driver\"]==\"Male\"][\"%\"].sum().round(2)))\n",
    "\n",
    "driver['%'] = driver['%'].astype(str).str[:4]+'%'\n",
    "      \n",
    "import plotly.express as px\n",
    "\n",
    "fig1 = px.sunburst(driver,\n",
    "                   path=['Sex_of_Driver','Age_Band_of_Driver','%'],\n",
    "                   color='Sex_of_Driver')\n",
    "\n",
    "fig1.update_layout(height=500,\n",
    "                   width=550,\n",
    "                   title_text=\"Age_Band_of_Driver vs Sex of Driver\",\n",
    "                  title_x=0.5)\n",
    "fig1.show()"
   ]
  },
  {
   "cell_type": "markdown",
   "id": "unlike-coral",
   "metadata": {},
   "source": [
    "- Los conductores que acumulan más accidentes son los hombres con un 69.27 %. En cuanto a las mujeres són el colectivo que menos accidente tiene con el 30 % restante.\n",
    "- Las franja de edad que más destaca en porcentaje tanto en hombres como en mujeres es entre 26 y 35 años."
   ]
  },
  {
   "cell_type": "markdown",
   "id": "nasty-closer",
   "metadata": {},
   "source": [
    "### *Recuento de Accidentes por Sexo*"
   ]
  },
  {
   "cell_type": "code",
   "execution_count": null,
   "id": "harmful-london",
   "metadata": {},
   "outputs": [],
   "source": [
    "dfmerged['Male'] = dfmerged[dfmerged[\"Sex_of_Casualty\"]=='Male'][\"Acc_Index\"]\n",
    "dfmerged['Female'] = dfmerged[dfmerged[\"Sex_of_Casualty\"]=='Female'][\"Acc_Index\"]\n",
    "\n",
    "csx = dfmerged.groupby(['Sex_of_Casualty'])['Acc_Index']\\\n",
    "                 .count().reset_index()\n",
    "\n",
    "\n",
    "csx['%'] = (csx['Acc_Index']/csx['Acc_Index'].sum()*100)\\\n",
    "                                                .sort_values(ascending=True).round(2)\n",
    "\n",
    "print(\"Total Female Casualties:\\n{}%\\n\".format(csx[csx[\"Sex_of_Casualty\"]==\"Female\"][\"%\"].sum()))\n",
    "print(\"Total Male Casualties:\\n{}%\\n\\n\".format(csx[csx[\"Sex_of_Casualty\"]==\"Male\"][\"%\"].sum()))\n",
    "\n",
    "'''months = ['January', 'February','March','April', 'May','June','July','August', 'September','October','November','December']\n",
    "df2['Month'] = pd.Categorical(df2['Month'], categories=months, ordered=True)'''\n",
    "\n",
    "fig=dfmerged.groupby(['Age_Band_of_Casualty']).agg({\"Male\":\"count\",\"Female\":\"count\"})\\\n",
    "                                              .reset_index()\\\n",
    "                                              .sort_values(by=\"Age_Band_of_Casualty\",ascending=True)\\\n",
    "                                              .iplot(\n",
    "                                                kind=\"bar\",\n",
    "                                                barmode=\"stack\",\n",
    "                                                x=\"Age_Band_of_Casualty\",\n",
    "                                                y=[\"Male\",\"Female\"],colors=[\"lightgreen\",\"lightpurple\"],\n",
    "                                                title=\"Accidents by casualty Gender\",\n",
    "                                                dimensions=(800,450),asFigure=True,\n",
    "                                                xTitle='Age_Band_of_Casualty',\n",
    "                                                yTitle='Total Accident Counts',\n",
    ")\n",
    "\n",
    "fig.update_layout(title_x=0.5)\n",
    "fig.show()"
   ]
  },
  {
   "cell_type": "code",
   "execution_count": null,
   "id": "complete-vienna",
   "metadata": {},
   "outputs": [],
   "source": [
    "total = dfmerged.groupby(['Age_Band_of_Casualty','Sex_of_Casualty'])['Acc_Index']\\\n",
    "                 .count().reset_index()\n",
    "totalfemale = total[total['Sex_of_Casualty'] == 'Female'].reset_index(drop=True).drop(columns=['Age_Band_of_Casualty'])\n",
    "totalfemale['%'] = totalfemale['Acc_Index'] / totalfemale.Acc_Index.sum()*100\n",
    "totalmale = total[total['Sex_of_Casualty'] == 'Male'].reset_index(drop=True)\n",
    "totalmale['%'] = totalmale['Acc_Index'] / totalmale.Acc_Index.sum()*100"
   ]
  },
  {
   "cell_type": "code",
   "execution_count": null,
   "id": "underlying-cooler",
   "metadata": {},
   "outputs": [],
   "source": [
    "pd.concat([totalmale,totalfemale],axis=1).round(2)"
   ]
  },
  {
   "cell_type": "markdown",
   "id": "valued-indonesia",
   "metadata": {},
   "source": [
    "- Los rangos de edad tanto en hombre como en mujer con mayor porcentaje de víctimas son las comprendidas entre 26-35 años.\n",
    "- Pero podemos decir en términos generales que empieza a dispararse a partir de los 16 hasta los 45 años, con un 79 % en los hombres y un 64 %.\n",
    "- En cuanto al porcentaje total de víctimas los hombre sobrepasan en 10 % a las mujeres, con un 45% de mujeres y un 55% de varones."
   ]
  },
  {
   "cell_type": "markdown",
   "id": "included-florida",
   "metadata": {},
   "source": [
    "### *Cilindradas más populares*"
   ]
  },
  {
   "cell_type": "code",
   "execution_count": null,
   "id": "occupational-replica",
   "metadata": {},
   "outputs": [],
   "source": [
    "e_capacity = (dfmerged['Engine_Capacity_(CC)'].astype(float)/1000).round(2).reset_index()\n",
    "e_capacity = e_capacity['Engine_Capacity_(CC)'].value_counts().nlargest(10)\n",
    "e_capacity.reset_index().rename(columns={'Engine_Capacity_(CC)':'Count','index' : 'Engine_Capacity_CC'})"
   ]
  },
  {
   "cell_type": "markdown",
   "id": "foster-actress",
   "metadata": {},
   "source": [
    "- Las cilindradas más destacadas son, 1.6, 1.3, 2.0, 1.8, 1.0. Era de esperar ya que son los motores más fiables de esta época e incluso hoy en día siguen siendo los más populares."
   ]
  },
  {
   "cell_type": "markdown",
   "id": "underlying-belly",
   "metadata": {},
   "source": [
    "### *Edad de los vehículos*"
   ]
  },
  {
   "cell_type": "code",
   "execution_count": null,
   "id": "atomic-editing",
   "metadata": {},
   "outputs": [],
   "source": [
    "fig = dfmerged.groupby(['Age_of_Vehicle'])['Acc_Index']\\\n",
    "        .count().nlargest(23)\\\n",
    "        .iplot(\n",
    "                kind='bar',\n",
    "                xTitle='Age of Vehicle',\n",
    "                yTitle='Accidents Count',\n",
    "                title = \"Accidents by age of vehicle\",\n",
    "                dimensions=(700,450),\n",
    "                asFigure = True)\n",
    "\n",
    "fig.update_layout(title_x=0.5)\n",
    "fig.show()"
   ]
  },
  {
   "cell_type": "code",
   "execution_count": null,
   "id": "delayed-fruit",
   "metadata": {},
   "outputs": [],
   "source": [
    "total = dfmerged.Age_of_Vehicle.count()\n",
    "print(\"0-5 years   : \",(dfmerged[\"Age_of_Vehicle\"].value_counts().nlargest(20)[0:5].sum()/total).round(2))\n",
    "print(\"5-10 years  : \",(dfmerged[\"Age_of_Vehicle\"].value_counts().nlargest(20)[5:10].sum()/total).round(2))\n",
    "print(\"10-20 years : \",(dfmerged[\"Age_of_Vehicle\"].value_counts().nlargest(20)[10:20].sum()/total).round(2))\n",
    "print(\"20-30 years : \",(dfmerged[\"Age_of_Vehicle\"].value_counts().nlargest(20)[20:30].sum()/total).round(2))"
   ]
  },
  {
   "cell_type": "markdown",
   "id": "abstract-porter",
   "metadata": {},
   "source": [
    "- Predominan los coches no mayores a 10 años con un porcentaje de 81 %  de vehiculos, es decir la gran mayoría.\n",
    "- El resto de vehículos son coches entre 10 y 20 años, que representan el 20% restante."
   ]
  },
  {
   "cell_type": "markdown",
   "id": "removed-acoustic",
   "metadata": {},
   "source": [
    "### *Pie Chart - Accidentes por tipo de vehículo*"
   ]
  },
  {
   "cell_type": "code",
   "execution_count": null,
   "id": "living-ability",
   "metadata": {},
   "outputs": [],
   "source": [
    "veh_type = dfmerged.groupby(['Vehicle_Type'])['Acc_Index'].count().reset_index()\n",
    "veh_type['Percentage'] = (veh_type['Acc_Index']/veh_type['Acc_Index']\\\n",
    "                          .sum()*100)\\\n",
    "                        .sort_values(ascending=True)#.astype(str).str[:4]+'%'\n",
    "veh_type[\"Percentage\"] = veh_type['Percentage'].round(2)\n",
    "\n",
    "fig = veh_type.sort_values(by=\"Percentage\",ascending=False)[:10]\\\n",
    "              .iplot(kind=\"pie\",\n",
    "               labels=\"Vehicle_Type\",\n",
    "               values=\"Percentage\",\n",
    "               textinfo='percent+label',\n",
    "               pull=[0, 0, 0.1],\n",
    "               dimensions=(750,650),\n",
    "               asFigure=True,\n",
    "               title = \"Percentages of Vehicle type \"\n",
    ")\n",
    "\n",
    "fig.update_layout(legend=dict(\n",
    "    yanchor=\"top\",\n",
    "    y=0.85,\n",
    "    xanchor=\"left\",\n",
    "    x=1,\n",
    "        ),\n",
    "title_x=0.5,title_y=0.95)\n",
    "fig.show()"
   ]
  },
  {
   "cell_type": "markdown",
   "id": "sixth-corruption",
   "metadata": {},
   "source": [
    "- La mayoría de los accidentes se producen por coches 87%,  seguidamente motocicletas con un 5.5 % y (furgonetas/camiones pequeños) con un 4.3 % .\n",
    "- El resto de vehículos aparecen con porcentajes menores al 2%."
   ]
  }
 ],
 "metadata": {
  "kernelspec": {
   "display_name": "Python 3",
   "language": "python",
   "name": "python3"
  },
  "language_info": {
   "codemirror_mode": {
    "name": "ipython",
    "version": 3
   },
   "file_extension": ".py",
   "mimetype": "text/x-python",
   "name": "python",
   "nbconvert_exporter": "python",
   "pygments_lexer": "ipython3",
   "version": "3.9.2"
  }
 },
 "nbformat": 4,
 "nbformat_minor": 5
}
