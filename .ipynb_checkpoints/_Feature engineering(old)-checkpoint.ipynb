{
 "cells": [
  {
   "cell_type": "code",
   "execution_count": 1,
   "id": "three-immigration",
   "metadata": {},
   "outputs": [],
   "source": [
    "import os\n",
    "myfile = open(\"path.txt\",mode=\"r\")\n",
    "\n",
    "datapath,repopath = myfile.readlines()\n",
    "datapath = datapath.strip(\"\\n\")"
   ]
  },
  {
   "cell_type": "code",
   "execution_count": 2,
   "id": "accepting-demand",
   "metadata": {},
   "outputs": [
    {
     "name": "stderr",
     "output_type": "stream",
     "text": [
      "Ya existe el subdirectorio o el archivo smote_reports.\n"
     ]
    }
   ],
   "source": [
    "path = os.getcwd()\n",
    "if path.endswith('TFM') == True:\n",
    "    !mkdir smote_reports\n",
    "else:\n",
    "    print(\"Ensure that you are in the /TFM folder\")"
   ]
  },
  {
   "cell_type": "markdown",
   "id": "moved-skiing",
   "metadata": {},
   "source": [
    "#### Import libraries"
   ]
  },
  {
   "cell_type": "code",
   "execution_count": 3,
   "id": "experienced-adoption",
   "metadata": {},
   "outputs": [],
   "source": [
    "import pandas as pd\n",
    "import numpy as np\n",
    "import matplotlib.pyplot as plt\n",
    "from sklearn.preprocessing import LabelEncoder\n",
    "import seaborn as sns\n",
    "import modules\n",
    "pd.set_option('display.max_columns', None)\n",
    "%matplotlib inline\n",
    "import warnings\n",
    "warnings.simplefilter(action='ignore', category=FutureWarning)"
   ]
  },
  {
   "cell_type": "markdown",
   "id": "entertaining-conditioning",
   "metadata": {},
   "source": [
    "### Load data"
   ]
  },
  {
   "cell_type": "code",
   "execution_count": 4,
   "id": "reflected-position",
   "metadata": {},
   "outputs": [],
   "source": [
    "# load the accidents_clean_csv file as a dataframe\n",
    "df_imbalanced = pd.read_csv(datapath+\"alldfjoined.csv\",delimiter=',',encoding='UTF-8-SIG',index_col=0)"
   ]
  },
  {
   "cell_type": "code",
   "execution_count": 5,
   "id": "facial-international",
   "metadata": {},
   "outputs": [],
   "source": [
    "#Drop useless columns\n",
    "df_imbalanced.drop(columns=['Acc_Index', 'Number_of_Vehicles',\n",
    "       'Number_of_Casualties', 'Date',\n",
    "       'Road_Type','Month', 'Year', 'Hour','Speed_limit_2', 'Sex_of_Casualty',\n",
    "       'Age_Band_of_Casualty', 'Casualty_Type','1st_Road_Class'],inplace=True)"
   ]
  },
  {
   "cell_type": "code",
   "execution_count": 6,
   "id": "level-skirt",
   "metadata": {},
   "outputs": [
    {
     "data": {
      "text/plain": [
       "Index(['Vehicle_Type', 'Sex_of_Driver', 'Age_Band_of_Driver',\n",
       "       'Engine_Capacity_(CC)', 'Age_of_Vehicle', 'Accident_Severity',\n",
       "       'Day_of_Week', 'Speed_limit', 'Daytime', 'Road_Surface_Conditions_2',\n",
       "       'Weather_Conditions_2', 'Light_Conditions_2'],\n",
       "      dtype='object')"
      ]
     },
     "execution_count": 6,
     "metadata": {},
     "output_type": "execute_result"
    }
   ],
   "source": [
    "df_imbalanced.columns"
   ]
  },
  {
   "cell_type": "code",
   "execution_count": 7,
   "id": "stunning-butler",
   "metadata": {},
   "outputs": [
    {
     "data": {
      "text/html": [
       "<div>\n",
       "<style scoped>\n",
       "    .dataframe tbody tr th:only-of-type {\n",
       "        vertical-align: middle;\n",
       "    }\n",
       "\n",
       "    .dataframe tbody tr th {\n",
       "        vertical-align: top;\n",
       "    }\n",
       "\n",
       "    .dataframe thead th {\n",
       "        text-align: right;\n",
       "    }\n",
       "</style>\n",
       "<table border=\"1\" class=\"dataframe\">\n",
       "  <thead>\n",
       "    <tr style=\"text-align: right;\">\n",
       "      <th></th>\n",
       "      <th>Vehicle_Type</th>\n",
       "      <th>Sex_of_Driver</th>\n",
       "      <th>Age_Band_of_Driver</th>\n",
       "      <th>Engine_Capacity_(CC)</th>\n",
       "      <th>Age_of_Vehicle</th>\n",
       "      <th>Accident_Severity</th>\n",
       "      <th>Day_of_Week</th>\n",
       "      <th>Speed_limit</th>\n",
       "      <th>Daytime</th>\n",
       "      <th>Road_Surface_Conditions_2</th>\n",
       "      <th>Weather_Conditions_2</th>\n",
       "      <th>Light_Conditions_2</th>\n",
       "    </tr>\n",
       "  </thead>\n",
       "  <tbody>\n",
       "    <tr>\n",
       "      <th>0</th>\n",
       "      <td>Motorcycle</td>\n",
       "      <td>Male</td>\n",
       "      <td>26 - 35</td>\n",
       "      <td>99</td>\n",
       "      <td>9</td>\n",
       "      <td>Slight</td>\n",
       "      <td>Wednesday</td>\n",
       "      <td>30</td>\n",
       "      <td>Office hours</td>\n",
       "      <td>Good</td>\n",
       "      <td>Good</td>\n",
       "      <td>Good</td>\n",
       "    </tr>\n",
       "    <tr>\n",
       "      <th>1</th>\n",
       "      <td>Motorcycle</td>\n",
       "      <td>Male</td>\n",
       "      <td>26 - 35</td>\n",
       "      <td>249</td>\n",
       "      <td>7</td>\n",
       "      <td>Slight</td>\n",
       "      <td>Friday</td>\n",
       "      <td>30</td>\n",
       "      <td>Office hours</td>\n",
       "      <td>Good</td>\n",
       "      <td>Good</td>\n",
       "      <td>Good</td>\n",
       "    </tr>\n",
       "    <tr>\n",
       "      <th>2</th>\n",
       "      <td>Goods vehicle over 3.5 tonnes</td>\n",
       "      <td>Male</td>\n",
       "      <td>46 - 55</td>\n",
       "      <td>3858</td>\n",
       "      <td>8</td>\n",
       "      <td>Slight</td>\n",
       "      <td>Friday</td>\n",
       "      <td>30</td>\n",
       "      <td>Office hours</td>\n",
       "      <td>Good</td>\n",
       "      <td>Good</td>\n",
       "      <td>Good</td>\n",
       "    </tr>\n",
       "    <tr>\n",
       "      <th>3</th>\n",
       "      <td>Motorcycle</td>\n",
       "      <td>Male</td>\n",
       "      <td>26 - 35</td>\n",
       "      <td>392</td>\n",
       "      <td>10</td>\n",
       "      <td>Slight</td>\n",
       "      <td>Wednesday</td>\n",
       "      <td>30</td>\n",
       "      <td>Commuting to home</td>\n",
       "      <td>Good</td>\n",
       "      <td>Good</td>\n",
       "      <td>Good</td>\n",
       "    </tr>\n",
       "    <tr>\n",
       "      <th>4</th>\n",
       "      <td>Motorcycle</td>\n",
       "      <td>Male</td>\n",
       "      <td>36 - 45</td>\n",
       "      <td>1000</td>\n",
       "      <td>5</td>\n",
       "      <td>Slight</td>\n",
       "      <td>Tuesday</td>\n",
       "      <td>30</td>\n",
       "      <td>Office hours</td>\n",
       "      <td>Good</td>\n",
       "      <td>Good</td>\n",
       "      <td>Good</td>\n",
       "    </tr>\n",
       "  </tbody>\n",
       "</table>\n",
       "</div>"
      ],
      "text/plain": [
       "                    Vehicle_Type Sex_of_Driver Age_Band_of_Driver  \\\n",
       "0                     Motorcycle          Male            26 - 35   \n",
       "1                     Motorcycle          Male            26 - 35   \n",
       "2  Goods vehicle over 3.5 tonnes          Male            46 - 55   \n",
       "3                     Motorcycle          Male            26 - 35   \n",
       "4                     Motorcycle          Male            36 - 45   \n",
       "\n",
       "   Engine_Capacity_(CC)  Age_of_Vehicle Accident_Severity Day_of_Week  \\\n",
       "0                    99               9            Slight   Wednesday   \n",
       "1                   249               7            Slight      Friday   \n",
       "2                  3858               8            Slight      Friday   \n",
       "3                   392              10            Slight   Wednesday   \n",
       "4                  1000               5            Slight     Tuesday   \n",
       "\n",
       "   Speed_limit            Daytime Road_Surface_Conditions_2  \\\n",
       "0           30       Office hours                      Good   \n",
       "1           30       Office hours                      Good   \n",
       "2           30       Office hours                      Good   \n",
       "3           30  Commuting to home                      Good   \n",
       "4           30       Office hours                      Good   \n",
       "\n",
       "  Weather_Conditions_2 Light_Conditions_2  \n",
       "0                 Good               Good  \n",
       "1                 Good               Good  \n",
       "2                 Good               Good  \n",
       "3                 Good               Good  \n",
       "4                 Good               Good  "
      ]
     },
     "execution_count": 7,
     "metadata": {},
     "output_type": "execute_result"
    }
   ],
   "source": [
    "df_imbalanced.head(5)"
   ]
  },
  {
   "cell_type": "code",
   "execution_count": 8,
   "id": "medical-alberta",
   "metadata": {},
   "outputs": [],
   "source": [
    "df_imbalanced = modules.cat_num(df_imbalanced)"
   ]
  },
  {
   "cell_type": "code",
   "execution_count": 9,
   "id": "intermediate-gibraltar",
   "metadata": {},
   "outputs": [
    {
     "data": {
      "text/plain": [
       "Vehicle_Type                 category\n",
       "Sex_of_Driver                category\n",
       "Age_Band_of_Driver           category\n",
       "Engine_Capacity_(CC)            int64\n",
       "Age_of_Vehicle                  int64\n",
       "Accident_Severity            category\n",
       "Day_of_Week                  category\n",
       "Speed_limit                  category\n",
       "Daytime                      category\n",
       "Road_Surface_Conditions_2    category\n",
       "Weather_Conditions_2         category\n",
       "Light_Conditions_2           category\n",
       "dtype: object"
      ]
     },
     "execution_count": 9,
     "metadata": {},
     "output_type": "execute_result"
    }
   ],
   "source": [
    "df_imbalanced.dtypes"
   ]
  },
  {
   "cell_type": "markdown",
   "id": "literary-vocabulary",
   "metadata": {},
   "source": [
    "### *Feature engineering*"
   ]
  },
  {
   "cell_type": "markdown",
   "id": "current-screen",
   "metadata": {},
   "source": [
    "#### *Processing numerical variables*"
   ]
  },
  {
   "cell_type": "code",
   "execution_count": 10,
   "id": "personal-playing",
   "metadata": {},
   "outputs": [
    {
     "data": {
      "image/png": "[encoded data removed]",
      "text/plain": [
       "<Figure size 720x432 with 2 Axes>"
      ]
     },
     "metadata": {
      "needs_background": "light"
     },
     "output_type": "display_data"
    }
   ],
   "source": [
    "df_imbalanced.hist(figsize=(10,6));\n",
    "#the two numerical variables doesn't have a normal distribution.\n",
    "# We can also use a log tranform to check if the columns follow like a normal distribution"
   ]
  },
  {
   "cell_type": "code",
   "execution_count": 11,
   "id": "adjusted-springfield",
   "metadata": {},
   "outputs": [],
   "source": [
    "df_imbalanced['Age_of_Vehicle'] = df_imbalanced['Age_of_Vehicle'].replace(0,0.1)\n",
    "df_imbalanced['Engine_Capacity_(CC)'] = df_imbalanced['Engine_Capacity_(CC)'].replace(0,0.1)\n",
    "df_imbalanced['Age_of_Vehicle'] = df_imbalanced['Age_of_Vehicle'].apply(lambda x: np.log10(x))\n",
    "df_imbalanced['Engine_Capacity_(CC)'] = df_imbalanced['Engine_Capacity_(CC)'].apply(lambda x: np.log10(x))"
   ]
  },
  {
   "cell_type": "code",
   "execution_count": 12,
   "id": "creative-scholar",
   "metadata": {},
   "outputs": [
    {
     "data": {
      "image/png": "[encoded data removed]",
      "text/plain": [
       "<Figure size 720x360 with 2 Axes>"
      ]
     },
     "metadata": {
      "needs_background": "light"
     },
     "output_type": "display_data"
    }
   ],
   "source": [
    "df_imbalanced.hist(figsize=(10,5));"
   ]
  },
  {
   "cell_type": "markdown",
   "id": "sticky-rental",
   "metadata": {},
   "source": [
    "#### *Handling with Outliers*"
   ]
  },
  {
   "cell_type": "code",
   "execution_count": 13,
   "id": "transsexual-adoption",
   "metadata": {},
   "outputs": [],
   "source": [
    "num_cols = ['Age_of_Vehicle', 'Engine_Capacity_(CC)']"
   ]
  },
  {
   "cell_type": "code",
   "execution_count": 14,
   "id": "waiting-banking",
   "metadata": {},
   "outputs": [
    {
     "data": {
      "image/png": "[encoded data removed]",
      "text/plain": [
       "<Figure size 432x288 with 1 Axes>"
      ]
     },
     "metadata": {
      "needs_background": "light"
     },
     "output_type": "display_data"
    }
   ],
   "source": [
    "sns.boxplot(data=df_imbalanced,x='Engine_Capacity_(CC)',y='Accident_Severity')\n",
    "plt.show()"
   ]
  },
  {
   "cell_type": "code",
   "execution_count": 15,
   "id": "solid-atlas",
   "metadata": {},
   "outputs": [
    {
     "data": {
      "image/png": "[encoded data removed]",
      "text/plain": [
       "<Figure size 432x288 with 1 Axes>"
      ]
     },
     "metadata": {
      "needs_background": "light"
     },
     "output_type": "display_data"
    }
   ],
   "source": [
    "sns.boxplot(data=df_imbalanced,x='Age_of_Vehicle',y='Accident_Severity')\n",
    "plt.show()"
   ]
  },
  {
   "cell_type": "code",
   "execution_count": 16,
   "id": "starting-version",
   "metadata": {},
   "outputs": [],
   "source": [
    "# As we can see there are some variables with outliers.\n",
    "#Age_band_of_driver can be fixed. But the rest \n",
    "#(Engine capacity, vehicle type, Weather_Conditions_2 and Vehicle_Reference) have to be dropped.\n",
    "\n",
    "for i in num_cols:\n",
    "    Q1=df_imbalanced[i].quantile(0.25)\n",
    "    Q3=df_imbalanced[i].quantile(0.75)\n",
    "    IQR=Q3-Q1\n",
    "    Lower_Whisker = Q1-1.5*IQR\n",
    "    Upper_Whisker = Q3+1.5*IQR\n",
    "    df_imbalanced = df_imbalanced[df_imbalanced[i] < Upper_Whisker]\n",
    "    df_imbalanced = df_imbalanced[df_imbalanced[i] > Lower_Whisker]\n",
    "\n"
   ]
  },
  {
   "cell_type": "code",
   "execution_count": 17,
   "id": "moral-shannon",
   "metadata": {},
   "outputs": [
    {
     "data": {
      "image/png": "[encoded data removed]",
      "text/plain": [
       "<Figure size 720x288 with 2 Axes>"
      ]
     },
     "metadata": {
      "needs_background": "light"
     },
     "output_type": "display_data"
    }
   ],
   "source": [
    "# plotting boxplots\n",
    "fig, axes = plt.subplots(2,1, figsize=(10,4))\n",
    "\n",
    "for ax, col in zip(axes, num_cols):\n",
    "    df_imbalanced.boxplot(column=col, grid=False, vert=False, ax=ax)\n",
    "    plt.tight_layout();"
   ]
  },
  {
   "cell_type": "code",
   "execution_count": 18,
   "id": "stupid-desire",
   "metadata": {},
   "outputs": [],
   "source": [
    "# We can see that the distribution of Engine capacity and age of vehicle improves a little."
   ]
  },
  {
   "cell_type": "markdown",
   "id": "mechanical-trail",
   "metadata": {},
   "source": [
    "### *Processing categorical variables*"
   ]
  },
  {
   "cell_type": "code",
   "execution_count": 19,
   "id": "likely-portsmouth",
   "metadata": {},
   "outputs": [],
   "source": [
    "# Converting the target variable into numeric categories\n",
    "df_imbalanced['Accident_Severity'].replace({'Slight': 3, 'Serious': 2, 'Fatal': 1}, inplace=True)\n",
    "df_imbalanced['Accident_Severity'] = df_imbalanced['Accident_Severity'].astype('int64')"
   ]
  },
  {
   "cell_type": "code",
   "execution_count": 20,
   "id": "determined-token",
   "metadata": {},
   "outputs": [],
   "source": [
    "cat,num = modules.vtypes(df_imbalanced)"
   ]
  },
  {
   "cell_type": "code",
   "execution_count": 21,
   "id": "postal-kingdom",
   "metadata": {},
   "outputs": [],
   "source": [
    "#Labelencoder for categorical variables\n",
    "def lencoder(df_imbalanced):\n",
    "    lenc = LabelEncoder()\n",
    "    df_imbalanced[cat] = df_imbalanced[cat].apply(lenc.fit_transform)\n",
    "    df_imbalanced['Accident_Severity'] = lenc.fit_transform(df_imbalanced['Accident_Severity'])\n",
    "    return df_imbalanced\n",
    "df_imbalanced = lencoder(df_imbalanced)"
   ]
  },
  {
   "cell_type": "code",
   "execution_count": 22,
   "id": "legal-burton",
   "metadata": {},
   "outputs": [
    {
     "data": {
      "text/plain": [
       "2    0.796402\n",
       "1    0.177044\n",
       "0    0.026554\n",
       "Name: Accident_Severity, dtype: float64"
      ]
     },
     "execution_count": 22,
     "metadata": {},
     "output_type": "execute_result"
    }
   ],
   "source": [
    "df_imbalanced['Accident_Severity'].value_counts(normalize=True)"
   ]
  },
  {
   "cell_type": "code",
   "execution_count": 23,
   "id": "logical-harris",
   "metadata": {},
   "outputs": [
    {
     "data": {
      "text/html": [
       "<div>\n",
       "<style scoped>\n",
       "    .dataframe tbody tr th:only-of-type {\n",
       "        vertical-align: middle;\n",
       "    }\n",
       "\n",
       "    .dataframe tbody tr th {\n",
       "        vertical-align: top;\n",
       "    }\n",
       "\n",
       "    .dataframe thead th {\n",
       "        text-align: right;\n",
       "    }\n",
       "</style>\n",
       "<table border=\"1\" class=\"dataframe\">\n",
       "  <thead>\n",
       "    <tr style=\"text-align: right;\">\n",
       "      <th></th>\n",
       "      <th>Vehicle_Type</th>\n",
       "      <th>Sex_of_Driver</th>\n",
       "      <th>Age_Band_of_Driver</th>\n",
       "      <th>Engine_Capacity_(CC)</th>\n",
       "      <th>Age_of_Vehicle</th>\n",
       "      <th>Accident_Severity</th>\n",
       "      <th>Day_of_Week</th>\n",
       "      <th>Speed_limit</th>\n",
       "      <th>Daytime</th>\n",
       "      <th>Road_Surface_Conditions_2</th>\n",
       "      <th>Weather_Conditions_2</th>\n",
       "      <th>Light_Conditions_2</th>\n",
       "    </tr>\n",
       "  </thead>\n",
       "  <tbody>\n",
       "    <tr>\n",
       "      <th>4</th>\n",
       "      <td>8</td>\n",
       "      <td>1</td>\n",
       "      <td>5</td>\n",
       "      <td>3.000000</td>\n",
       "      <td>0.69897</td>\n",
       "      <td>2</td>\n",
       "      <td>5</td>\n",
       "      <td>13</td>\n",
       "      <td>4</td>\n",
       "      <td>1</td>\n",
       "      <td>1</td>\n",
       "      <td>1</td>\n",
       "    </tr>\n",
       "    <tr>\n",
       "      <th>5</th>\n",
       "      <td>2</td>\n",
       "      <td>1</td>\n",
       "      <td>4</td>\n",
       "      <td>3.105510</td>\n",
       "      <td>0.00000</td>\n",
       "      <td>2</td>\n",
       "      <td>3</td>\n",
       "      <td>13</td>\n",
       "      <td>3</td>\n",
       "      <td>1</td>\n",
       "      <td>1</td>\n",
       "      <td>0</td>\n",
       "    </tr>\n",
       "    <tr>\n",
       "      <th>7</th>\n",
       "      <td>2</td>\n",
       "      <td>1</td>\n",
       "      <td>3</td>\n",
       "      <td>3.103804</td>\n",
       "      <td>0.60206</td>\n",
       "      <td>2</td>\n",
       "      <td>2</td>\n",
       "      <td>13</td>\n",
       "      <td>3</td>\n",
       "      <td>0</td>\n",
       "      <td>0</td>\n",
       "      <td>0</td>\n",
       "    </tr>\n",
       "    <tr>\n",
       "      <th>8</th>\n",
       "      <td>2</td>\n",
       "      <td>1</td>\n",
       "      <td>4</td>\n",
       "      <td>3.203577</td>\n",
       "      <td>0.00000</td>\n",
       "      <td>2</td>\n",
       "      <td>2</td>\n",
       "      <td>13</td>\n",
       "      <td>3</td>\n",
       "      <td>0</td>\n",
       "      <td>0</td>\n",
       "      <td>0</td>\n",
       "    </tr>\n",
       "    <tr>\n",
       "      <th>9</th>\n",
       "      <td>2</td>\n",
       "      <td>1</td>\n",
       "      <td>2</td>\n",
       "      <td>3.161967</td>\n",
       "      <td>0.30103</td>\n",
       "      <td>2</td>\n",
       "      <td>2</td>\n",
       "      <td>13</td>\n",
       "      <td>3</td>\n",
       "      <td>0</td>\n",
       "      <td>0</td>\n",
       "      <td>0</td>\n",
       "    </tr>\n",
       "  </tbody>\n",
       "</table>\n",
       "</div>"
      ],
      "text/plain": [
       "   Vehicle_Type  Sex_of_Driver  Age_Band_of_Driver  Engine_Capacity_(CC)  \\\n",
       "4             8              1                   5              3.000000   \n",
       "5             2              1                   4              3.105510   \n",
       "7             2              1                   3              3.103804   \n",
       "8             2              1                   4              3.203577   \n",
       "9             2              1                   2              3.161967   \n",
       "\n",
       "   Age_of_Vehicle  Accident_Severity  Day_of_Week  Speed_limit  Daytime  \\\n",
       "4         0.69897                  2            5           13        4   \n",
       "5         0.00000                  2            3           13        3   \n",
       "7         0.60206                  2            2           13        3   \n",
       "8         0.00000                  2            2           13        3   \n",
       "9         0.30103                  2            2           13        3   \n",
       "\n",
       "   Road_Surface_Conditions_2  Weather_Conditions_2  Light_Conditions_2  \n",
       "4                          1                     1                   1  \n",
       "5                          1                     1                   0  \n",
       "7                          0                     0                   0  \n",
       "8                          0                     0                   0  \n",
       "9                          0                     0                   0  "
      ]
     },
     "execution_count": 23,
     "metadata": {},
     "output_type": "execute_result"
    }
   ],
   "source": [
    "df_imbalanced.head(5)"
   ]
  },
  {
   "cell_type": "markdown",
   "id": "warming-linux",
   "metadata": {},
   "source": [
    "#### *As we can see the dataset  is imbalanced. This is a real problem because the minority classes will report the worst score. So we are going to try with metrics like au_roc curve, f1score, recall and precision in order to check how good or bad is our model before apply techniques for handling imbalance data*."
   ]
  },
  {
   "cell_type": "code",
   "execution_count": 24,
   "id": "structural-snake",
   "metadata": {},
   "outputs": [],
   "source": [
    "df_imbalanced.to_csv('../../df_imbalanced.csv',sep=',',index = True)"
   ]
  },
  {
   "cell_type": "code",
   "execution_count": 25,
   "id": "certain-insight",
   "metadata": {},
   "outputs": [],
   "source": [
    "reset -f"
   ]
  },
  {
   "cell_type": "code",
   "execution_count": null,
   "id": "indian-buying",
   "metadata": {},
   "outputs": [],
   "source": []
  }
 ],
 "metadata": {
  "kernelspec": {
   "display_name": "Python 3",
   "language": "python",
   "name": "python3"
  },
  "language_info": {
   "codemirror_mode": {
    "name": "ipython",
    "version": 3
   },
   "file_extension": ".py",
   "mimetype": "text/x-python",
   "name": "python",
   "nbconvert_exporter": "python",
   "pygments_lexer": "ipython3",
   "version": "3.9.2"
  }
 },
 "nbformat": 4,
 "nbformat_minor": 5
}
