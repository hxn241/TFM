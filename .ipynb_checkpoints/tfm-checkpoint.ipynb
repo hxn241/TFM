{
 "cells": [
  {
   "cell_type": "code",
   "execution_count": null,
   "metadata": {},
   "outputs": [],
   "source": []
  },
  {
   "cell_type": "markdown",
   "metadata": {},
   "source": [
    "#### **Import libraries**"
   ]
  },
  {
   "cell_type": "code",
   "execution_count": 2,
   "metadata": {},
   "outputs": [],
   "source": [
    "import pandas as pd\n",
    "import numpy as np\n",
    "import matplotlib.pyplot as plt\n",
    "from matplotlib import cm\n",
    "cmap = cm.get_cmap\n",
    "import seaborn as sns\n",
    "\n",
    "%matplotlib inline\n",
    "import io\n",
    "pd.set_option('display.max_columns', None)"
   ]
  },
  {
   "cell_type": "markdown",
   "metadata": {},
   "source": [
    "#### **Check encoding file**"
   ]
  },
  {
   "cell_type": "code",
   "execution_count": 3,
   "metadata": {},
   "outputs": [
    {
     "name": "stdout",
     "output_type": "stream",
     "text": [
      "{'encoding': 'UTF-8-SIG', 'confidence': 1.0, 'language': ''}\n"
     ]
    }
   ],
   "source": [
    "import chardet\n",
    "with open(\"D:\\Descargas\\Stats19-Data1979-2004\\Accidents7904.csv\", 'rb') as rawdata:\n",
    "    result = chardet.detect(rawdata.read(10000))\n",
    "\n",
    "print(result)"
   ]
  },
  {
   "cell_type": "markdown",
   "metadata": {},
   "source": [
    "#### **Import Data**"
   ]
  },
  {
   "cell_type": "code",
   "execution_count": 4,
   "metadata": {},
   "outputs": [
    {
     "name": "stderr",
     "output_type": "stream",
     "text": [
      "C:\\Users\\hexen\\anaconda3\\envs\\tfm\\lib\\site-packages\\IPython\\core\\interactiveshell.py:3165: DtypeWarning: Columns (13,31) have mixed types.Specify dtype option on import or set low_memory=False.\n",
      "  has_raised = await self.run_ast_nodes(code_ast.body, cell_name,\n"
     ]
    }
   ],
   "source": [
    "accidents=pd.read_csv('D:\\Descargas\\Stats19-Data1979-2004\\Accidents7904.csv',delimiter=',',encoding='UTF-8-SIG')"
   ]
  },
  {
   "cell_type": "markdown",
   "metadata": {},
   "source": []
  },
  {
   "cell_type": "code",
   "execution_count": 5,
   "metadata": {},
   "outputs": [
    {
     "data": {
      "text/plain": [
       "Index(['Accident_Index', 'Location_Easting_OSGR', 'Location_Northing_OSGR',\n",
       "       'Longitude', 'Latitude', 'Police_Force', 'Accident_Severity',\n",
       "       'Number_of_Vehicles', 'Number_of_Casualties', 'Date', 'Day_of_Week',\n",
       "       'Time', 'Local_Authority_(District)', 'Local_Authority_(Highway)',\n",
       "       '1st_Road_Class', '1st_Road_Number', 'Road_Type', 'Speed_limit',\n",
       "       'Junction_Detail', 'Junction_Control', '2nd_Road_Class',\n",
       "       '2nd_Road_Number', 'Pedestrian_Crossing-Human_Control',\n",
       "       'Pedestrian_Crossing-Physical_Facilities', 'Light_Conditions',\n",
       "       'Weather_Conditions', 'Road_Surface_Conditions',\n",
       "       'Special_Conditions_at_Site', 'Carriageway_Hazards',\n",
       "       'Urban_or_Rural_Area', 'Did_Police_Officer_Attend_Scene_of_Accident',\n",
       "       'LSOA_of_Accident_Location'],\n",
       "      dtype='object')"
      ]
     },
     "execution_count": 5,
     "metadata": {},
     "output_type": "execute_result"
    }
   ],
   "source": [
    "accidents.columns"
   ]
  },
  {
   "cell_type": "code",
   "execution_count": 6,
   "metadata": {},
   "outputs": [
    {
     "data": {
      "text/html": [
       "<div>\n",
       "<style scoped>\n",
       "    .dataframe tbody tr th:only-of-type {\n",
       "        vertical-align: middle;\n",
       "    }\n",
       "\n",
       "    .dataframe tbody tr th {\n",
       "        vertical-align: top;\n",
       "    }\n",
       "\n",
       "    .dataframe thead th {\n",
       "        text-align: right;\n",
       "    }\n",
       "</style>\n",
       "<table border=\"1\" class=\"dataframe\">\n",
       "  <thead>\n",
       "    <tr style=\"text-align: right;\">\n",
       "      <th></th>\n",
       "      <th>Accident_Index</th>\n",
       "      <th>Location_Easting_OSGR</th>\n",
       "      <th>Location_Northing_OSGR</th>\n",
       "      <th>Longitude</th>\n",
       "      <th>Latitude</th>\n",
       "      <th>Police_Force</th>\n",
       "      <th>Accident_Severity</th>\n",
       "      <th>Number_of_Vehicles</th>\n",
       "      <th>Number_of_Casualties</th>\n",
       "      <th>Date</th>\n",
       "      <th>Day_of_Week</th>\n",
       "      <th>Time</th>\n",
       "      <th>Local_Authority_(District)</th>\n",
       "      <th>Local_Authority_(Highway)</th>\n",
       "      <th>1st_Road_Class</th>\n",
       "      <th>1st_Road_Number</th>\n",
       "      <th>Road_Type</th>\n",
       "      <th>Speed_limit</th>\n",
       "      <th>Junction_Detail</th>\n",
       "      <th>Junction_Control</th>\n",
       "      <th>2nd_Road_Class</th>\n",
       "      <th>2nd_Road_Number</th>\n",
       "      <th>Pedestrian_Crossing-Human_Control</th>\n",
       "      <th>Pedestrian_Crossing-Physical_Facilities</th>\n",
       "      <th>Light_Conditions</th>\n",
       "      <th>Weather_Conditions</th>\n",
       "      <th>Road_Surface_Conditions</th>\n",
       "      <th>Special_Conditions_at_Site</th>\n",
       "      <th>Carriageway_Hazards</th>\n",
       "      <th>Urban_or_Rural_Area</th>\n",
       "      <th>Did_Police_Officer_Attend_Scene_of_Accident</th>\n",
       "      <th>LSOA_of_Accident_Location</th>\n",
       "    </tr>\n",
       "  </thead>\n",
       "  <tbody>\n",
       "    <tr>\n",
       "      <th>5795063</th>\n",
       "      <td>2002950011052</td>\n",
       "      <td>300270.0</td>\n",
       "      <td>676190.0</td>\n",
       "      <td>-3.599387</td>\n",
       "      <td>55.968364</td>\n",
       "      <td>95</td>\n",
       "      <td>3</td>\n",
       "      <td>2</td>\n",
       "      <td>1</td>\n",
       "      <td>03/12/2002</td>\n",
       "      <td>3</td>\n",
       "      <td>06:45</td>\n",
       "      <td>940</td>\n",
       "      <td>S12000040</td>\n",
       "      <td>6</td>\n",
       "      <td>0</td>\n",
       "      <td>6</td>\n",
       "      <td>30</td>\n",
       "      <td>3</td>\n",
       "      <td>4</td>\n",
       "      <td>6</td>\n",
       "      <td>0</td>\n",
       "      <td>0</td>\n",
       "      <td>0</td>\n",
       "      <td>4</td>\n",
       "      <td>8</td>\n",
       "      <td>2</td>\n",
       "      <td>0</td>\n",
       "      <td>0</td>\n",
       "      <td>1</td>\n",
       "      <td>1</td>\n",
       "      <td>NaN</td>\n",
       "    </tr>\n",
       "    <tr>\n",
       "      <th>5543028</th>\n",
       "      <td>200150E611447</td>\n",
       "      <td>250410.0</td>\n",
       "      <td>63020.0</td>\n",
       "      <td>-4.108375</td>\n",
       "      <td>50.447834</td>\n",
       "      <td>50</td>\n",
       "      <td>2</td>\n",
       "      <td>2</td>\n",
       "      <td>1</td>\n",
       "      <td>01/07/2001</td>\n",
       "      <td>1</td>\n",
       "      <td>20:02</td>\n",
       "      <td>584</td>\n",
       "      <td>E10000008</td>\n",
       "      <td>3</td>\n",
       "      <td>386</td>\n",
       "      <td>6</td>\n",
       "      <td>60</td>\n",
       "      <td>0</td>\n",
       "      <td>-1</td>\n",
       "      <td>-1</td>\n",
       "      <td>0</td>\n",
       "      <td>0</td>\n",
       "      <td>0</td>\n",
       "      <td>1</td>\n",
       "      <td>1</td>\n",
       "      <td>1</td>\n",
       "      <td>0</td>\n",
       "      <td>0</td>\n",
       "      <td>2</td>\n",
       "      <td>1</td>\n",
       "      <td>E01020145</td>\n",
       "    </tr>\n",
       "    <tr>\n",
       "      <th>3255506</th>\n",
       "      <td>199201LK00057</td>\n",
       "      <td>530190.0</td>\n",
       "      <td>177820.0</td>\n",
       "      <td>NaN</td>\n",
       "      <td>NaN</td>\n",
       "      <td>1</td>\n",
       "      <td>3</td>\n",
       "      <td>2</td>\n",
       "      <td>1</td>\n",
       "      <td>25/02/1992</td>\n",
       "      <td>3</td>\n",
       "      <td>10:53</td>\n",
       "      <td>9</td>\n",
       "      <td>9999</td>\n",
       "      <td>3</td>\n",
       "      <td>3036</td>\n",
       "      <td>3</td>\n",
       "      <td>30</td>\n",
       "      <td>7</td>\n",
       "      <td>2</td>\n",
       "      <td>3</td>\n",
       "      <td>3205</td>\n",
       "      <td>0</td>\n",
       "      <td>5</td>\n",
       "      <td>1</td>\n",
       "      <td>1</td>\n",
       "      <td>1</td>\n",
       "      <td>0</td>\n",
       "      <td>0</td>\n",
       "      <td>-1</td>\n",
       "      <td>-1</td>\n",
       "      <td>NaN</td>\n",
       "    </tr>\n",
       "    <tr>\n",
       "      <th>5528344</th>\n",
       "      <td>200146NK38196</td>\n",
       "      <td>550230.0</td>\n",
       "      <td>164420.0</td>\n",
       "      <td>0.156333</td>\n",
       "      <td>51.358933</td>\n",
       "      <td>46</td>\n",
       "      <td>3</td>\n",
       "      <td>1</td>\n",
       "      <td>1</td>\n",
       "      <td>26/02/2001</td>\n",
       "      <td>2</td>\n",
       "      <td>19:30</td>\n",
       "      <td>538</td>\n",
       "      <td>E10000016</td>\n",
       "      <td>1</td>\n",
       "      <td>25</td>\n",
       "      <td>3</td>\n",
       "      <td>70</td>\n",
       "      <td>0</td>\n",
       "      <td>-1</td>\n",
       "      <td>-1</td>\n",
       "      <td>0</td>\n",
       "      <td>0</td>\n",
       "      <td>0</td>\n",
       "      <td>6</td>\n",
       "      <td>2</td>\n",
       "      <td>2</td>\n",
       "      <td>0</td>\n",
       "      <td>0</td>\n",
       "      <td>2</td>\n",
       "      <td>1</td>\n",
       "      <td>E01024421</td>\n",
       "    </tr>\n",
       "    <tr>\n",
       "      <th>4771517</th>\n",
       "      <td>1998308D00892</td>\n",
       "      <td>438500.0</td>\n",
       "      <td>333400.0</td>\n",
       "      <td>NaN</td>\n",
       "      <td>NaN</td>\n",
       "      <td>30</td>\n",
       "      <td>3</td>\n",
       "      <td>2</td>\n",
       "      <td>3</td>\n",
       "      <td>03/11/1998</td>\n",
       "      <td>3</td>\n",
       "      <td>09:44</td>\n",
       "      <td>323</td>\n",
       "      <td>E06000015</td>\n",
       "      <td>3</td>\n",
       "      <td>5111</td>\n",
       "      <td>3</td>\n",
       "      <td>30</td>\n",
       "      <td>1</td>\n",
       "      <td>4</td>\n",
       "      <td>3</td>\n",
       "      <td>6</td>\n",
       "      <td>0</td>\n",
       "      <td>4</td>\n",
       "      <td>1</td>\n",
       "      <td>1</td>\n",
       "      <td>2</td>\n",
       "      <td>0</td>\n",
       "      <td>0</td>\n",
       "      <td>1</td>\n",
       "      <td>-1</td>\n",
       "      <td>NaN</td>\n",
       "    </tr>\n",
       "  </tbody>\n",
       "</table>\n",
       "</div>"
      ],
      "text/plain": [
       "        Accident_Index  Location_Easting_OSGR  Location_Northing_OSGR  \\\n",
       "5795063  2002950011052               300270.0                676190.0   \n",
       "5543028  200150E611447               250410.0                 63020.0   \n",
       "3255506  199201LK00057               530190.0                177820.0   \n",
       "5528344  200146NK38196               550230.0                164420.0   \n",
       "4771517  1998308D00892               438500.0                333400.0   \n",
       "\n",
       "         Longitude   Latitude  Police_Force  Accident_Severity  \\\n",
       "5795063  -3.599387  55.968364            95                  3   \n",
       "5543028  -4.108375  50.447834            50                  2   \n",
       "3255506        NaN        NaN             1                  3   \n",
       "5528344   0.156333  51.358933            46                  3   \n",
       "4771517        NaN        NaN            30                  3   \n",
       "\n",
       "         Number_of_Vehicles  Number_of_Casualties        Date  Day_of_Week  \\\n",
       "5795063                   2                     1  03/12/2002            3   \n",
       "5543028                   2                     1  01/07/2001            1   \n",
       "3255506                   2                     1  25/02/1992            3   \n",
       "5528344                   1                     1  26/02/2001            2   \n",
       "4771517                   2                     3  03/11/1998            3   \n",
       "\n",
       "          Time  Local_Authority_(District) Local_Authority_(Highway)  \\\n",
       "5795063  06:45                         940                 S12000040   \n",
       "5543028  20:02                         584                 E10000008   \n",
       "3255506  10:53                           9                      9999   \n",
       "5528344  19:30                         538                 E10000016   \n",
       "4771517  09:44                         323                 E06000015   \n",
       "\n",
       "         1st_Road_Class  1st_Road_Number  Road_Type  Speed_limit  \\\n",
       "5795063               6                0          6           30   \n",
       "5543028               3              386          6           60   \n",
       "3255506               3             3036          3           30   \n",
       "5528344               1               25          3           70   \n",
       "4771517               3             5111          3           30   \n",
       "\n",
       "         Junction_Detail  Junction_Control  2nd_Road_Class  2nd_Road_Number  \\\n",
       "5795063                3                 4               6                0   \n",
       "5543028                0                -1              -1                0   \n",
       "3255506                7                 2               3             3205   \n",
       "5528344                0                -1              -1                0   \n",
       "4771517                1                 4               3                6   \n",
       "\n",
       "         Pedestrian_Crossing-Human_Control  \\\n",
       "5795063                                  0   \n",
       "5543028                                  0   \n",
       "3255506                                  0   \n",
       "5528344                                  0   \n",
       "4771517                                  0   \n",
       "\n",
       "         Pedestrian_Crossing-Physical_Facilities  Light_Conditions  \\\n",
       "5795063                                        0                 4   \n",
       "5543028                                        0                 1   \n",
       "3255506                                        5                 1   \n",
       "5528344                                        0                 6   \n",
       "4771517                                        4                 1   \n",
       "\n",
       "         Weather_Conditions  Road_Surface_Conditions  \\\n",
       "5795063                   8                        2   \n",
       "5543028                   1                        1   \n",
       "3255506                   1                        1   \n",
       "5528344                   2                        2   \n",
       "4771517                   1                        2   \n",
       "\n",
       "         Special_Conditions_at_Site  Carriageway_Hazards  Urban_or_Rural_Area  \\\n",
       "5795063                           0                    0                    1   \n",
       "5543028                           0                    0                    2   \n",
       "3255506                           0                    0                   -1   \n",
       "5528344                           0                    0                    2   \n",
       "4771517                           0                    0                    1   \n",
       "\n",
       "         Did_Police_Officer_Attend_Scene_of_Accident LSOA_of_Accident_Location  \n",
       "5795063                                            1                       NaN  \n",
       "5543028                                            1                 E01020145  \n",
       "3255506                                           -1                       NaN  \n",
       "5528344                                            1                 E01024421  \n",
       "4771517                                           -1                       NaN  "
      ]
     },
     "execution_count": 6,
     "metadata": {},
     "output_type": "execute_result"
    }
   ],
   "source": [
    "accidents.sample(5)"
   ]
  },
  {
   "cell_type": "code",
   "execution_count": 7,
   "metadata": {},
   "outputs": [
    {
     "name": "stdout",
     "output_type": "stream",
     "text": [
      "<class 'pandas.core.frame.DataFrame'>\n",
      "RangeIndex: 6224198 entries, 0 to 6224197\n",
      "Data columns (total 32 columns):\n",
      " #   Column                                       Dtype  \n",
      "---  ------                                       -----  \n",
      " 0   Accident_Index                               object \n",
      " 1   Location_Easting_OSGR                        float64\n",
      " 2   Location_Northing_OSGR                       float64\n",
      " 3   Longitude                                    float64\n",
      " 4   Latitude                                     float64\n",
      " 5   Police_Force                                 int64  \n",
      " 6   Accident_Severity                            int64  \n",
      " 7   Number_of_Vehicles                           int64  \n",
      " 8   Number_of_Casualties                         int64  \n",
      " 9   Date                                         object \n",
      " 10  Day_of_Week                                  int64  \n",
      " 11  Time                                         object \n",
      " 12  Local_Authority_(District)                   int64  \n",
      " 13  Local_Authority_(Highway)                    object \n",
      " 14  1st_Road_Class                               int64  \n",
      " 15  1st_Road_Number                              int64  \n",
      " 16  Road_Type                                    int64  \n",
      " 17  Speed_limit                                  int64  \n",
      " 18  Junction_Detail                              int64  \n",
      " 19  Junction_Control                             int64  \n",
      " 20  2nd_Road_Class                               int64  \n",
      " 21  2nd_Road_Number                              int64  \n",
      " 22  Pedestrian_Crossing-Human_Control            int64  \n",
      " 23  Pedestrian_Crossing-Physical_Facilities      int64  \n",
      " 24  Light_Conditions                             int64  \n",
      " 25  Weather_Conditions                           int64  \n",
      " 26  Road_Surface_Conditions                      int64  \n",
      " 27  Special_Conditions_at_Site                   int64  \n",
      " 28  Carriageway_Hazards                          int64  \n",
      " 29  Urban_or_Rural_Area                          int64  \n",
      " 30  Did_Police_Officer_Attend_Scene_of_Accident  int64  \n",
      " 31  LSOA_of_Accident_Location                    object \n",
      "dtypes: float64(4), int64(23), object(5)\n",
      "memory usage: 1.5+ GB\n"
     ]
    }
   ],
   "source": [
    "accidents.info()"
   ]
  },
  {
   "cell_type": "code",
   "execution_count": null,
   "metadata": {},
   "outputs": [],
   "source": []
  },
  {
   "cell_type": "markdown",
   "metadata": {},
   "source": [
    "#### **Cleaning and pre process the data**"
   ]
  },
  {
   "cell_type": "markdown",
   "metadata": {},
   "source": [
    "##### **Checking percentage of missing or NaN values**"
   ]
  },
  {
   "cell_type": "code",
   "execution_count": 9,
   "metadata": {},
   "outputs": [
    {
     "name": "stdout",
     "output_type": "stream",
     "text": [
      "NaN data: \n",
      " \n",
      "  \n",
      "  Accident_Index                                 0.000000\n",
      "Location_Easting_OSGR                          0.001609\n",
      "Location_Northing_OSGR                         0.001609\n",
      "Longitude                                      0.785182\n",
      "Latitude                                       0.785182\n",
      "Police_Force                                   0.000000\n",
      "Accident_Severity                              0.000000\n",
      "Number_of_Vehicles                             0.000000\n",
      "Number_of_Casualties                           0.000000\n",
      "Date                                           0.000001\n",
      "Day_of_Week                                    0.000000\n",
      "Time                                           0.000111\n",
      "Local_Authority_(District)                     0.000000\n",
      "Local_Authority_(Highway)                      0.000000\n",
      "1st_Road_Class                                 0.000000\n",
      "1st_Road_Number                                0.000000\n",
      "Road_Type                                      0.000000\n",
      "Speed_limit                                    0.000000\n",
      "Junction_Detail                                0.000000\n",
      "Junction_Control                               0.000000\n",
      "2nd_Road_Class                                 0.000000\n",
      "2nd_Road_Number                                0.000000\n",
      "Pedestrian_Crossing-Human_Control              0.000000\n",
      "Pedestrian_Crossing-Physical_Facilities        0.000000\n",
      "Light_Conditions                               0.000000\n",
      "Weather_Conditions                             0.000000\n",
      "Road_Surface_Conditions                        0.000000\n",
      "Special_Conditions_at_Site                     0.000000\n",
      "Carriageway_Hazards                            0.000000\n",
      "Urban_or_Rural_Area                            0.000000\n",
      "Did_Police_Officer_Attend_Scene_of_Accident    0.000000\n",
      "LSOA_of_Accident_Location                      0.808709\n",
      "dtype: float64 %\n",
      "\n",
      " Missing or out of range data:\n",
      " Accident_Index                                      0.0\n",
      "Location_Easting_OSGR                               0.0\n",
      "Location_Northing_OSGR                              0.0\n",
      "Longitude                                           0.0\n",
      "Latitude                                            0.0\n",
      "Police_Force                                        0.0\n",
      "Accident_Severity                                   0.0\n",
      "Number_of_Vehicles                                  0.0\n",
      "Number_of_Casualties                                0.0\n",
      "Date                                                0.0\n",
      "Day_of_Week                                         0.0\n",
      "Time                                                0.0\n",
      "Local_Authority_(District)                          0.0\n",
      "Local_Authority_(Highway)                           0.0\n",
      "1st_Road_Class                                 0.000003\n",
      "1st_Road_Number                                0.000078\n",
      "Road_Type                                      0.030341\n",
      "Speed_limit                                         0.0\n",
      "Junction_Detail                                 0.00015\n",
      "Junction_Control                               0.396873\n",
      "2nd_Road_Class                                 0.418299\n",
      "2nd_Road_Number                                 0.02284\n",
      "Pedestrian_Crossing-Human_Control              0.024623\n",
      "Pedestrian_Crossing-Physical_Facilities        0.024615\n",
      "Light_Conditions                               0.000264\n",
      "Weather_Conditions                             0.000308\n",
      "Road_Surface_Conditions                        0.001844\n",
      "Special_Conditions_at_Site                     0.026643\n",
      "Carriageway_Hazards                            0.010954\n",
      "Urban_or_Rural_Area                            0.594938\n",
      "Did_Police_Officer_Attend_Scene_of_Accident    0.799544\n",
      "LSOA_of_Accident_Location                           0.0\n",
      "dtype: object %\n"
     ]
    }
   ],
   "source": [
    "print(\"NaN data: \\n \\n\",\" \\n \",accidents.isna().sum()/len(accidents),\"%\")\n",
    "print(\"\\n Missing or out of range data:\\n\",np.abs(accidents[accidents==-1].sum())/len(accidents),\"%\")\n",
    "#accidents.isna().sum().sum()/len(accidents)"
   ]
  },
  {
   "cell_type": "markdown",
   "metadata": {},
   "source": [
    "##### **Drop the useless columns**"
   ]
  },
  {
   "cell_type": "code",
   "execution_count": 10,
   "metadata": {},
   "outputs": [],
   "source": [
    "columns_to_drop = ['Police_Force', 'Local_Authority_(District)', 'Local_Authority_(Highway)', \n",
    "             '1st_Road_Number', '2nd_Road_Number', 'Pedestrian_Crossing-Human_Control', \n",
    "             'Pedestrian_Crossing-Physical_Facilities','Did_Police_Officer_Attend_Scene_of_Accident',\n",
    "            'LSOA_of_Accident_Location','Longitude','Latitude','Urban_or_Rural_Area','Junction_Control','2nd_Road_Class','Special_Conditions_at_Site','Carriageway_Hazards','Junction_Detail']"
   ]
  },
  {
   "cell_type": "code",
   "execution_count": 11,
   "metadata": {},
   "outputs": [],
   "source": [
    "accidents.drop(labels=columns_to_drop,inplace=True,axis=1)"
   ]
  },
  {
   "cell_type": "markdown",
   "metadata": {},
   "source": [
    "##### **Drop NaN values**"
   ]
  },
  {
   "cell_type": "code",
   "execution_count": 12,
   "metadata": {},
   "outputs": [
    {
     "data": {
      "text/plain": [
       "Accident_Index             0.000000\n",
       "Location_Easting_OSGR      0.001609\n",
       "Location_Northing_OSGR     0.001609\n",
       "Accident_Severity          0.000000\n",
       "Number_of_Vehicles         0.000000\n",
       "Number_of_Casualties       0.000000\n",
       "Date                       0.000001\n",
       "Day_of_Week                0.000000\n",
       "Time                       0.000111\n",
       "1st_Road_Class             0.000000\n",
       "Road_Type                  0.000000\n",
       "Speed_limit                0.000000\n",
       "Light_Conditions           0.000000\n",
       "Weather_Conditions         0.000000\n",
       "Road_Surface_Conditions    0.000000\n",
       "dtype: float64"
      ]
     },
     "execution_count": 12,
     "metadata": {},
     "output_type": "execute_result"
    }
   ],
   "source": [
    "accidents.isna().sum()/len(accidents)"
   ]
  },
  {
   "cell_type": "code",
   "execution_count": 13,
   "metadata": {},
   "outputs": [
    {
     "name": "stdout",
     "output_type": "stream",
     "text": [
      "NaN data: \n",
      " \n",
      "  \n",
      "  Accident_Index             0.000000\n",
      "Location_Easting_OSGR      0.001609\n",
      "Location_Northing_OSGR     0.001609\n",
      "Accident_Severity          0.000000\n",
      "Number_of_Vehicles         0.000000\n",
      "Number_of_Casualties       0.000000\n",
      "Date                       0.000001\n",
      "Day_of_Week                0.000000\n",
      "Time                       0.000111\n",
      "1st_Road_Class             0.000000\n",
      "Road_Type                  0.000000\n",
      "Speed_limit                0.000000\n",
      "Light_Conditions           0.000000\n",
      "Weather_Conditions         0.000000\n",
      "Road_Surface_Conditions    0.000000\n",
      "dtype: float64 %\n",
      "\n",
      " Missing or out of range data:\n",
      " Accident_Index                  0.0\n",
      "Location_Easting_OSGR           0.0\n",
      "Location_Northing_OSGR          0.0\n",
      "Accident_Severity               0.0\n",
      "Number_of_Vehicles              0.0\n",
      "Number_of_Casualties            0.0\n",
      "Date                            0.0\n",
      "Day_of_Week                     0.0\n",
      "Time                            0.0\n",
      "1st_Road_Class             0.000003\n",
      "Road_Type                  0.030341\n",
      "Speed_limit                     0.0\n",
      "Light_Conditions           0.000264\n",
      "Weather_Conditions         0.000308\n",
      "Road_Surface_Conditions    0.001844\n",
      "dtype: object %\n"
     ]
    }
   ],
   "source": [
    "#Values = -1 are missing data or values out of range\n",
    "# el resto el haremos drop ya que tiene unos porcentajes muy bajos y no nos afectarán al análisis posterior.\n",
    "print(\"NaN data: \\n \\n\",\" \\n \",accidents.isna().sum()/len(accidents),\"%\")\n",
    "print(\"\\n Missing or out of range data:\\n\",np.abs(accidents[accidents==-1].sum())/len(accidents),\"%\")\n",
    "#accidents.isna().sum().sum()/len(accidents)"
   ]
  },
  {
   "cell_type": "markdown",
   "metadata": {},
   "source": [
    "##### **Clean missing values = - 1**"
   ]
  },
  {
   "cell_type": "code",
   "execution_count": 14,
   "metadata": {},
   "outputs": [],
   "source": [
    "#cleaning the missing values = -1\n",
    "for i,k in enumerate(accidents):\n",
    "    accidents.drop(index=accidents[accidents[k] == -1].index, inplace=True)"
   ]
  },
  {
   "cell_type": "code",
   "execution_count": 13,
   "metadata": {},
   "outputs": [],
   "source": [
    "#accidents = accidents.to_csv('Descargas/Stats19-Data1979-2004/accidents_clean.csv',sep=',')"
   ]
  },
  {
   "cell_type": "markdown",
   "metadata": {},
   "source": [
    "## **EDA**"
   ]
  },
  {
   "cell_type": "code",
   "execution_count": 15,
   "metadata": {},
   "outputs": [],
   "source": [
    "accidents['Date']=pd.to_datetime(accidents['Date'])\n",
    "accidents['Month']=accidents['Date'].dt.month\n",
    "accidents['Year']=accidents['Date'].dt.year"
   ]
  },
  {
   "cell_type": "code",
   "execution_count": 16,
   "metadata": {},
   "outputs": [
    {
     "data": {
      "text/plain": [
       "6023698"
      ]
     },
     "execution_count": 16,
     "metadata": {},
     "output_type": "execute_result"
    }
   ],
   "source": [
    "accidents['Accident_Index'].count()"
   ]
  },
  {
   "cell_type": "code",
   "execution_count": 17,
   "metadata": {},
   "outputs": [],
   "source": [
    "accidents['Hour']=  accidents['Time'].str[0:2]\n",
    "accidents['Hour'] = pd.to_numeric(accidents['Hour'])\n",
    "accidents = accidents.dropna(subset=['Hour'])\n",
    "accidents['Hour'] = accidents['Hour'].astype('int')"
   ]
  },
  {
   "cell_type": "code",
   "execution_count": 18,
   "metadata": {},
   "outputs": [
    {
     "data": {
      "text/html": [
       "<div>\n",
       "<style scoped>\n",
       "    .dataframe tbody tr th:only-of-type {\n",
       "        vertical-align: middle;\n",
       "    }\n",
       "\n",
       "    .dataframe tbody tr th {\n",
       "        vertical-align: top;\n",
       "    }\n",
       "\n",
       "    .dataframe thead th {\n",
       "        text-align: right;\n",
       "    }\n",
       "</style>\n",
       "<table border=\"1\" class=\"dataframe\">\n",
       "  <thead>\n",
       "    <tr style=\"text-align: right;\">\n",
       "      <th></th>\n",
       "      <th>Time</th>\n",
       "      <th>Hour</th>\n",
       "      <th>Daytime</th>\n",
       "    </tr>\n",
       "  </thead>\n",
       "  <tbody>\n",
       "    <tr>\n",
       "      <th>0</th>\n",
       "      <td>08:00</td>\n",
       "      <td>8</td>\n",
       "      <td>Commuting to work</td>\n",
       "    </tr>\n",
       "    <tr>\n",
       "      <th>1</th>\n",
       "      <td>01:00</td>\n",
       "      <td>1</td>\n",
       "      <td>Night</td>\n",
       "    </tr>\n",
       "    <tr>\n",
       "      <th>2</th>\n",
       "      <td>01:25</td>\n",
       "      <td>1</td>\n",
       "      <td>Night</td>\n",
       "    </tr>\n",
       "    <tr>\n",
       "      <th>4</th>\n",
       "      <td>01:30</td>\n",
       "      <td>1</td>\n",
       "      <td>Night</td>\n",
       "    </tr>\n",
       "    <tr>\n",
       "      <th>5</th>\n",
       "      <td>02:05</td>\n",
       "      <td>2</td>\n",
       "      <td>Night</td>\n",
       "    </tr>\n",
       "    <tr>\n",
       "      <th>6</th>\n",
       "      <td>03:00</td>\n",
       "      <td>3</td>\n",
       "      <td>Night</td>\n",
       "    </tr>\n",
       "    <tr>\n",
       "      <th>7</th>\n",
       "      <td>03:00</td>\n",
       "      <td>3</td>\n",
       "      <td>Night</td>\n",
       "    </tr>\n",
       "    <tr>\n",
       "      <th>8</th>\n",
       "      <td>04:00</td>\n",
       "      <td>4</td>\n",
       "      <td>Night</td>\n",
       "    </tr>\n",
       "  </tbody>\n",
       "</table>\n",
       "</div>"
      ],
      "text/plain": [
       "    Time  Hour            Daytime\n",
       "0  08:00     8  Commuting to work\n",
       "1  01:00     1              Night\n",
       "2  01:25     1              Night\n",
       "4  01:30     1              Night\n",
       "5  02:05     2              Night\n",
       "6  03:00     3              Night\n",
       "7  03:00     3              Night\n",
       "8  04:00     4              Night"
      ]
     },
     "execution_count": 18,
     "metadata": {},
     "output_type": "execute_result"
    }
   ],
   "source": [
    "def daytime(hour):\n",
    "    if hour >= 5 and hour < 10:\n",
    "        return \"Commuting to work\"\n",
    "    elif hour >= 10 and hour < 15:\n",
    "        return \"Office hours\"\n",
    "    elif hour >= 15 and hour < 19:\n",
    "        return \"Commuting to home\"\n",
    "    elif hour >= 19 and hour < 23:\n",
    "        return \"Evening\"\n",
    "    else:\n",
    "        return \"Night\"\n",
    "accidents['Daytime'] = accidents['Hour'].apply(daytime)\n",
    "accidents[['Time', 'Hour', 'Daytime']].head(8)\n"
   ]
  },
  {
   "cell_type": "code",
   "execution_count": 19,
   "metadata": {},
   "outputs": [
    {
     "data": {
      "text/plain": [
       "Commuting to home    1869429\n",
       "Office hours         1630133\n",
       "Commuting to work    1015355\n",
       "Evening               986678\n",
       "Night                 521458\n",
       "Name: Daytime, dtype: int64"
      ]
     },
     "execution_count": 19,
     "metadata": {},
     "output_type": "execute_result"
    }
   ],
   "source": [
    "accidents['Daytime'].value_counts()"
   ]
  },
  {
   "cell_type": "code",
   "execution_count": 20,
   "metadata": {},
   "outputs": [
    {
     "data": {
      "text/plain": [
       "Index(['Accident_Index', 'Location_Easting_OSGR', 'Location_Northing_OSGR',\n",
       "       'Accident_Severity', 'Number_of_Vehicles', 'Number_of_Casualties',\n",
       "       'Date', 'Day_of_Week', 'Time', '1st_Road_Class', 'Road_Type',\n",
       "       'Speed_limit', 'Light_Conditions', 'Weather_Conditions',\n",
       "       'Road_Surface_Conditions', 'Month', 'Year', 'Hour', 'Daytime'],\n",
       "      dtype='object')"
      ]
     },
     "execution_count": 20,
     "metadata": {},
     "output_type": "execute_result"
    }
   ],
   "source": [
    "accidents.columns"
   ]
  },
  {
   "cell_type": "code",
   "execution_count": 21,
   "metadata": {},
   "outputs": [
    {
     "name": "stdout",
     "output_type": "stream",
     "text": [
      "(6023053, 19)\n"
     ]
    },
    {
     "data": {
      "text/plain": [
       "Index(['Accident_Index', 'Location_Easting_OSGR', 'Location_Northing_OSGR',\n",
       "       'Accident_Severity', 'Number_of_Vehicles', 'Number_of_Casualties',\n",
       "       'Date', 'Day_of_Week', 'Time', '1st_Road_Class', 'Road_Type',\n",
       "       'Speed_limit', 'Light_Conditions', 'Weather_Conditions',\n",
       "       'Road_Surface_Conditions', 'Month', 'Year', 'Hour', 'Daytime'],\n",
       "      dtype='object')"
      ]
     },
     "execution_count": 21,
     "metadata": {},
     "output_type": "execute_result"
    }
   ],
   "source": [
    "accidents.head()\n",
    "print(accidents.shape)\n",
    "accidents.columns"
   ]
  },
  {
   "cell_type": "markdown",
   "metadata": {},
   "source": []
  },
  {
   "cell_type": "code",
   "execution_count": 22,
   "metadata": {},
   "outputs": [
    {
     "data": {
      "text/html": [
       "<div>\n",
       "<style scoped>\n",
       "    .dataframe tbody tr th:only-of-type {\n",
       "        vertical-align: middle;\n",
       "    }\n",
       "\n",
       "    .dataframe tbody tr th {\n",
       "        vertical-align: top;\n",
       "    }\n",
       "\n",
       "    .dataframe thead th {\n",
       "        text-align: right;\n",
       "    }\n",
       "</style>\n",
       "<table border=\"1\" class=\"dataframe\">\n",
       "  <thead>\n",
       "    <tr style=\"text-align: right;\">\n",
       "      <th></th>\n",
       "      <th>Accident_Index</th>\n",
       "      <th>Location_Easting_OSGR</th>\n",
       "      <th>Location_Northing_OSGR</th>\n",
       "      <th>Accident_Severity</th>\n",
       "      <th>Number_of_Vehicles</th>\n",
       "      <th>Number_of_Casualties</th>\n",
       "      <th>Date</th>\n",
       "      <th>Day_of_Week</th>\n",
       "      <th>Time</th>\n",
       "      <th>1st_Road_Class</th>\n",
       "      <th>Road_Type</th>\n",
       "      <th>Speed_limit</th>\n",
       "      <th>Light_Conditions</th>\n",
       "      <th>Weather_Conditions</th>\n",
       "      <th>Road_Surface_Conditions</th>\n",
       "      <th>Month</th>\n",
       "      <th>Year</th>\n",
       "      <th>Hour</th>\n",
       "      <th>Daytime</th>\n",
       "    </tr>\n",
       "  </thead>\n",
       "  <tbody>\n",
       "    <tr>\n",
       "      <th>0</th>\n",
       "      <td>197901A11AD14</td>\n",
       "      <td>NaN</td>\n",
       "      <td>NaN</td>\n",
       "      <td>3</td>\n",
       "      <td>2</td>\n",
       "      <td>1</td>\n",
       "      <td>1979-01-18</td>\n",
       "      <td>5</td>\n",
       "      <td>08:00</td>\n",
       "      <td>3</td>\n",
       "      <td>1</td>\n",
       "      <td>30</td>\n",
       "      <td>1</td>\n",
       "      <td>8</td>\n",
       "      <td>1</td>\n",
       "      <td>1.0</td>\n",
       "      <td>1979.0</td>\n",
       "      <td>8</td>\n",
       "      <td>Commuting to work</td>\n",
       "    </tr>\n",
       "    <tr>\n",
       "      <th>1</th>\n",
       "      <td>197901A1BAW34</td>\n",
       "      <td>198460.0</td>\n",
       "      <td>894000.0</td>\n",
       "      <td>3</td>\n",
       "      <td>1</td>\n",
       "      <td>1</td>\n",
       "      <td>1979-01-01</td>\n",
       "      <td>2</td>\n",
       "      <td>01:00</td>\n",
       "      <td>6</td>\n",
       "      <td>9</td>\n",
       "      <td>30</td>\n",
       "      <td>4</td>\n",
       "      <td>8</td>\n",
       "      <td>3</td>\n",
       "      <td>1.0</td>\n",
       "      <td>1979.0</td>\n",
       "      <td>1</td>\n",
       "      <td>Night</td>\n",
       "    </tr>\n",
       "    <tr>\n",
       "      <th>2</th>\n",
       "      <td>197901A1BFD77</td>\n",
       "      <td>406380.0</td>\n",
       "      <td>307000.0</td>\n",
       "      <td>3</td>\n",
       "      <td>2</td>\n",
       "      <td>3</td>\n",
       "      <td>1979-01-01</td>\n",
       "      <td>2</td>\n",
       "      <td>01:25</td>\n",
       "      <td>3</td>\n",
       "      <td>9</td>\n",
       "      <td>30</td>\n",
       "      <td>4</td>\n",
       "      <td>8</td>\n",
       "      <td>3</td>\n",
       "      <td>1.0</td>\n",
       "      <td>1979.0</td>\n",
       "      <td>1</td>\n",
       "      <td>Night</td>\n",
       "    </tr>\n",
       "    <tr>\n",
       "      <th>4</th>\n",
       "      <td>197901A1BGF95</td>\n",
       "      <td>153960.0</td>\n",
       "      <td>795000.0</td>\n",
       "      <td>2</td>\n",
       "      <td>2</td>\n",
       "      <td>1</td>\n",
       "      <td>1979-01-01</td>\n",
       "      <td>2</td>\n",
       "      <td>01:30</td>\n",
       "      <td>3</td>\n",
       "      <td>6</td>\n",
       "      <td>30</td>\n",
       "      <td>4</td>\n",
       "      <td>3</td>\n",
       "      <td>3</td>\n",
       "      <td>1.0</td>\n",
       "      <td>1979.0</td>\n",
       "      <td>1</td>\n",
       "      <td>Night</td>\n",
       "    </tr>\n",
       "    <tr>\n",
       "      <th>5</th>\n",
       "      <td>197901A1CBC96</td>\n",
       "      <td>300370.0</td>\n",
       "      <td>146000.0</td>\n",
       "      <td>3</td>\n",
       "      <td>1</td>\n",
       "      <td>1</td>\n",
       "      <td>1979-01-01</td>\n",
       "      <td>2</td>\n",
       "      <td>02:05</td>\n",
       "      <td>3</td>\n",
       "      <td>6</td>\n",
       "      <td>30</td>\n",
       "      <td>4</td>\n",
       "      <td>8</td>\n",
       "      <td>3</td>\n",
       "      <td>1.0</td>\n",
       "      <td>1979.0</td>\n",
       "      <td>2</td>\n",
       "      <td>Night</td>\n",
       "    </tr>\n",
       "  </tbody>\n",
       "</table>\n",
       "</div>"
      ],
      "text/plain": [
       "  Accident_Index  Location_Easting_OSGR  Location_Northing_OSGR  \\\n",
       "0  197901A11AD14                    NaN                     NaN   \n",
       "1  197901A1BAW34               198460.0                894000.0   \n",
       "2  197901A1BFD77               406380.0                307000.0   \n",
       "4  197901A1BGF95               153960.0                795000.0   \n",
       "5  197901A1CBC96               300370.0                146000.0   \n",
       "\n",
       "   Accident_Severity  Number_of_Vehicles  Number_of_Casualties       Date  \\\n",
       "0                  3                   2                     1 1979-01-18   \n",
       "1                  3                   1                     1 1979-01-01   \n",
       "2                  3                   2                     3 1979-01-01   \n",
       "4                  2                   2                     1 1979-01-01   \n",
       "5                  3                   1                     1 1979-01-01   \n",
       "\n",
       "   Day_of_Week   Time  1st_Road_Class  Road_Type  Speed_limit  \\\n",
       "0            5  08:00               3          1           30   \n",
       "1            2  01:00               6          9           30   \n",
       "2            2  01:25               3          9           30   \n",
       "4            2  01:30               3          6           30   \n",
       "5            2  02:05               3          6           30   \n",
       "\n",
       "   Light_Conditions  Weather_Conditions  Road_Surface_Conditions  Month  \\\n",
       "0                 1                   8                        1    1.0   \n",
       "1                 4                   8                        3    1.0   \n",
       "2                 4                   8                        3    1.0   \n",
       "4                 4                   3                        3    1.0   \n",
       "5                 4                   8                        3    1.0   \n",
       "\n",
       "     Year  Hour            Daytime  \n",
       "0  1979.0     8  Commuting to work  \n",
       "1  1979.0     1              Night  \n",
       "2  1979.0     1              Night  \n",
       "4  1979.0     1              Night  \n",
       "5  1979.0     2              Night  "
      ]
     },
     "execution_count": 22,
     "metadata": {},
     "output_type": "execute_result"
    }
   ],
   "source": [
    "accidents.head()"
   ]
  },
  {
   "cell_type": "code",
   "execution_count": 23,
   "metadata": {},
   "outputs": [
    {
     "data": {
      "text/plain": [
       "<AxesSubplot:ylabel='Accident_Severity'>"
      ]
     },
     "execution_count": 23,
     "metadata": {},
     "output_type": "execute_result"
    },
    {
     "data": {
      "image/png": "[encoded data removed]",
      "text/plain": [
       "<Figure size 432x288 with 1 Axes>"
      ]
     },
     "metadata": {},
     "output_type": "display_data"
    }
   ],
   "source": [
    "accidents['Accident_Severity'].replace([1,2,3],['Fatal','Serious','Slight'],inplace=True)\n",
    "accidents.Accident_Severity.value_counts(normalize=True).plot(kind='pie')\n"
   ]
  },
  {
   "cell_type": "code",
   "execution_count": 24,
   "metadata": {},
   "outputs": [
    {
     "data": {
      "image/png": "[encoded data removed]",
      "text/plain": [
       "<Figure size 432x288 with 1 Axes>"
      ]
     },
     "metadata": {
      "needs_background": "light"
     },
     "output_type": "display_data"
    }
   ],
   "source": [
    "days = ['Sunday', 'Monday', 'Tuesday', 'Wednesday', 'Thursday', 'Friday', 'Saturday']\n",
    "accidents['Day_of_Week'].replace([1,2,3,4,5,6,7],days, inplace=True)\n",
    "accidents.Day_of_Week.value_counts(normalize=True).sort_values(ascending=True).plot(kind='bar',color='grey');"
   ]
  },
  {
   "cell_type": "code",
   "execution_count": 33,
   "metadata": {},
   "outputs": [
    {
     "data": {
      "image/png": "[encoded data removed]",
      "text/plain": [
       "<Figure size 432x288 with 1 Axes>"
      ]
     },
     "metadata": {
      "needs_background": "light"
     },
     "output_type": "display_data"
    }
   ],
   "source": [
    "#Put Motorway and A(M) in the same category\n",
    "accidents['1st_Road_Class'].replace([1,2,3,4,5,6],['Motorway','A(M)','A', 'B', 'C', 'Unclassified'],inplace=True)\n",
    "\n",
    "accidents['1st_Road_Class'] = accidents['1st_Road_Class'].replace('A(M)', 'Motorway')\n",
    "accidents['1st_Road_Class'].value_counts(normalize=True).plot(kind='bar',color='gold');\n"
   ]
  },
  {
   "cell_type": "code",
   "execution_count": 34,
   "metadata": {},
   "outputs": [
    {
     "data": {
      "image/png": "[encoded data removed]",
      "text/plain": [
       "<Figure size 432x288 with 1 Axes>"
      ]
     },
     "metadata": {
      "needs_background": "light"
     },
     "output_type": "display_data"
    }
   ],
   "source": [
    "accidents['Road_Type'].replace([1,2,3,6,7,9,12],['Roundabout','One way street','Dual carriageway','Single carriageway','Slip road','Unknown','One way street/Slip road'],inplace=True)\n",
    "accidents.Road_Type.value_counts(normalize=True).plot(kind='bar',color='gold');"
   ]
  },
  {
   "cell_type": "code",
   "execution_count": 37,
   "metadata": {},
   "outputs": [
    {
     "data": {
      "image/png": "[encoded data removed]",
      "text/plain": [
       "<Figure size 432x288 with 1 Axes>"
      ]
     },
     "metadata": {
      "needs_background": "light"
     },
     "output_type": "display_data"
    }
   ],
   "source": [
    "accidents.Light_Conditions = accidents.Light_Conditions.replace([1,4,5,6,7], \n",
    "                                                      ['Daylight', \n",
    "                                                       'Darkness - lights lit', \n",
    "                                                       'Darkness - lights unlit', \n",
    "                                                       'Darkness - no lighting', \n",
    "                                                       'Darkness - lighting unknown'])\n",
    "\n",
    "\n",
    "accidents.Light_Conditions.value_counts(normalize=True).plot(kind='bar',color='gold');"
   ]
  },
  {
   "cell_type": "code",
   "execution_count": 38,
   "metadata": {},
   "outputs": [
    {
     "data": {
      "image/png": "[encoded data removed]",
      "text/plain": [
       "<Figure size 432x288 with 1 Axes>"
      ]
     },
     "metadata": {
      "needs_background": "light"
     },
     "output_type": "display_data"
    }
   ],
   "source": [
    "accidents.Weather_Conditions = accidents.Weather_Conditions.replace([1,2,3,4,5,6,7,8,9], \n",
    "                                                                ['Fine no high winds', \n",
    "                                                                 'Raining no high winds', \n",
    "                                                                 'Snowing no high winds', \n",
    "                                                                 'Fine + high winds', \n",
    "                                                                 'Raining + high winds', \n",
    "                                                                 'Snowing + high winds', \n",
    "                                                                 'Fog or mist', 'Other', 'Unknown', \n",
    "                                                                 ])\n",
    "accidents.Weather_Conditions.value_counts(normalize=True).plot(kind='bar',color='gold');"
   ]
  },
  {
   "cell_type": "code",
   "execution_count": 39,
   "metadata": {},
   "outputs": [
    {
     "data": {
      "image/png": "[encoded data removed]",
      "text/plain": [
       "<Figure size 432x288 with 1 Axes>"
      ]
     },
     "metadata": {
      "needs_background": "light"
     },
     "output_type": "display_data"
    }
   ],
   "source": [
    "accidents.Road_Surface_Conditions = accidents.Road_Surface_Conditions.replace([1,2,3,4,5,6,7], \n",
    "                                                                                    ['Dry', \n",
    "                                                                                     'Wet or damp', \n",
    "                                                                                     'Snow', \n",
    "                                                                                     'Frost or ice', \n",
    "                                                                                     'Flood over 3cm. deep',\n",
    "                                                                                     'Oil or diesel',\n",
    "                                                                                     'Mud'])\n",
    "accidents.Road_Surface_Conditions.value_counts(normalize=True).plot(kind='bar',color='gold');"
   ]
  },
  {
   "cell_type": "code",
   "execution_count": 42,
   "metadata": {},
   "outputs": [],
   "source": [
    "accidents['Month'] = accidents['Month'].astype(int)\n",
    "\n",
    "accidents['Month'] = accidents['Month'].replace([1,2,3,4,5,6,7,8,9,10,11,12],['January', 'February', \n",
    "                                                 'March','April', 'May','June',\n",
    "                                                 'July', 'August', 'September',\n",
    "                                                'October','November','December'\n",
    "])\n",
    "\n",
    "accidents['Year'] = accidents['Year'].astype(int)"
   ]
  },
  {
   "cell_type": "code",
   "execution_count": 44,
   "metadata": {},
   "outputs": [
    {
     "data": {
      "image/png": "[encoded data removed]",
      "text/plain": [
       "<Figure size 432x288 with 1 Axes>"
      ]
     },
     "metadata": {
      "needs_background": "light"
     },
     "output_type": "display_data"
    }
   ],
   "source": [
    "def dark_or_not(value):\n",
    "    if value == 'Daylight':\n",
    "        return 'Yes'\n",
    "    else:\n",
    "        return 'No'\n",
    "accidents['Daylight?'] = accidents['Light_Conditions'].apply(dark_or_not)\n",
    "accidents['Daylight?'].value_counts(normalize=True).plot(kind='bar',color='coral');"
   ]
  },
  {
   "cell_type": "code",
   "execution_count": 48,
   "metadata": {},
   "outputs": [
    {
     "data": {
      "text/plain": [
       "<AxesSubplot:>"
      ]
     },
     "execution_count": 48,
     "metadata": {},
     "output_type": "execute_result"
    },
    {
     "data": {
      "image/png": "[encoded data removed]",
      "text/plain": [
       "<Figure size 432x288 with 1 Axes>"
      ]
     },
     "metadata": {
      "needs_background": "light"
     },
     "output_type": "display_data"
    }
   ],
   "source": [
    "accidents.Weather_Conditions.value_counts()\n",
    "\n",
    "def good_weather(value):\n",
    "    if value == 'Fine no high winds':\n",
    "        return 'Yes'\n",
    "    else:\n",
    "        return 'No'\n",
    "accidents['Good_weather_conditions'] =  accidents.Weather_Conditions.apply(good_weather)\n",
    "accidents['Good_weather_conditions'].value_counts(normalize=True).plot(kind='barh')"
   ]
  },
  {
   "cell_type": "code",
   "execution_count": 50,
   "metadata": {},
   "outputs": [
    {
     "data": {
      "text/plain": [
       "Index(['Accident_Index', 'Location_Easting_OSGR', 'Location_Northing_OSGR',\n",
       "       'Accident_Severity', 'Number_of_Vehicles', 'Number_of_Casualties',\n",
       "       'Date', 'Day_of_Week', 'Time', '1st_Road_Class', 'Road_Type',\n",
       "       'Speed_limit', 'Light_Conditions', 'Weather_Conditions',\n",
       "       'Road_Surface_Conditions', 'Month', 'Year', 'Hour', 'Daytime',\n",
       "       'Daylight?', 'Good_weather_conditions'],\n",
       "      dtype='object')"
      ]
     },
     "execution_count": 50,
     "metadata": {},
     "output_type": "execute_result"
    }
   ],
   "source": [
    "accidents.columns"
   ]
  },
  {
   "cell_type": "code",
   "execution_count": 51,
   "metadata": {},
   "outputs": [
    {
     "data": {
      "text/html": [
       "<div>\n",
       "<style scoped>\n",
       "    .dataframe tbody tr th:only-of-type {\n",
       "        vertical-align: middle;\n",
       "    }\n",
       "\n",
       "    .dataframe tbody tr th {\n",
       "        vertical-align: top;\n",
       "    }\n",
       "\n",
       "    .dataframe thead th {\n",
       "        text-align: right;\n",
       "    }\n",
       "</style>\n",
       "<table border=\"1\" class=\"dataframe\">\n",
       "  <thead>\n",
       "    <tr style=\"text-align: right;\">\n",
       "      <th></th>\n",
       "      <th>count</th>\n",
       "      <th>mean</th>\n",
       "      <th>std</th>\n",
       "      <th>min</th>\n",
       "      <th>25%</th>\n",
       "      <th>50%</th>\n",
       "      <th>75%</th>\n",
       "      <th>max</th>\n",
       "    </tr>\n",
       "  </thead>\n",
       "  <tbody>\n",
       "    <tr>\n",
       "      <th>Location_Easting_OSGR</th>\n",
       "      <td>6013794.0</td>\n",
       "      <td>429620.057085</td>\n",
       "      <td>109766.858766</td>\n",
       "      <td>0.0</td>\n",
       "      <td>366870.0</td>\n",
       "      <td>435120.0</td>\n",
       "      <td>519290.0</td>\n",
       "      <td>999980.0</td>\n",
       "    </tr>\n",
       "    <tr>\n",
       "      <th>Location_Northing_OSGR</th>\n",
       "      <td>6013794.0</td>\n",
       "      <td>303788.886251</td>\n",
       "      <td>171820.443490</td>\n",
       "      <td>0.0</td>\n",
       "      <td>177860.0</td>\n",
       "      <td>269000.0</td>\n",
       "      <td>399700.0</td>\n",
       "      <td>1213700.0</td>\n",
       "    </tr>\n",
       "    <tr>\n",
       "      <th>Number_of_Vehicles</th>\n",
       "      <td>6023053.0</td>\n",
       "      <td>1.770882</td>\n",
       "      <td>0.733326</td>\n",
       "      <td>1.0</td>\n",
       "      <td>1.0</td>\n",
       "      <td>2.0</td>\n",
       "      <td>2.0</td>\n",
       "      <td>192.0</td>\n",
       "    </tr>\n",
       "    <tr>\n",
       "      <th>Number_of_Casualties</th>\n",
       "      <td>6023053.0</td>\n",
       "      <td>1.332221</td>\n",
       "      <td>0.831614</td>\n",
       "      <td>1.0</td>\n",
       "      <td>1.0</td>\n",
       "      <td>1.0</td>\n",
       "      <td>1.0</td>\n",
       "      <td>90.0</td>\n",
       "    </tr>\n",
       "    <tr>\n",
       "      <th>Speed_limit</th>\n",
       "      <td>6023053.0</td>\n",
       "      <td>39.049123</td>\n",
       "      <td>14.045037</td>\n",
       "      <td>0.0</td>\n",
       "      <td>30.0</td>\n",
       "      <td>30.0</td>\n",
       "      <td>50.0</td>\n",
       "      <td>99.0</td>\n",
       "    </tr>\n",
       "    <tr>\n",
       "      <th>Year</th>\n",
       "      <td>6023053.0</td>\n",
       "      <td>1991.160391</td>\n",
       "      <td>7.448130</td>\n",
       "      <td>1979.0</td>\n",
       "      <td>1985.0</td>\n",
       "      <td>1991.0</td>\n",
       "      <td>1998.0</td>\n",
       "      <td>2004.0</td>\n",
       "    </tr>\n",
       "    <tr>\n",
       "      <th>Hour</th>\n",
       "      <td>6023053.0</td>\n",
       "      <td>13.956148</td>\n",
       "      <td>5.302018</td>\n",
       "      <td>0.0</td>\n",
       "      <td>10.0</td>\n",
       "      <td>15.0</td>\n",
       "      <td>18.0</td>\n",
       "      <td>23.0</td>\n",
       "    </tr>\n",
       "  </tbody>\n",
       "</table>\n",
       "</div>"
      ],
      "text/plain": [
       "                            count           mean            std     min  \\\n",
       "Location_Easting_OSGR   6013794.0  429620.057085  109766.858766     0.0   \n",
       "Location_Northing_OSGR  6013794.0  303788.886251  171820.443490     0.0   \n",
       "Number_of_Vehicles      6023053.0       1.770882       0.733326     1.0   \n",
       "Number_of_Casualties    6023053.0       1.332221       0.831614     1.0   \n",
       "Speed_limit             6023053.0      39.049123      14.045037     0.0   \n",
       "Year                    6023053.0    1991.160391       7.448130  1979.0   \n",
       "Hour                    6023053.0      13.956148       5.302018     0.0   \n",
       "\n",
       "                             25%       50%       75%        max  \n",
       "Location_Easting_OSGR   366870.0  435120.0  519290.0   999980.0  \n",
       "Location_Northing_OSGR  177860.0  269000.0  399700.0  1213700.0  \n",
       "Number_of_Vehicles           1.0       2.0       2.0      192.0  \n",
       "Number_of_Casualties         1.0       1.0       1.0       90.0  \n",
       "Speed_limit                 30.0      30.0      50.0       99.0  \n",
       "Year                      1985.0    1991.0    1998.0     2004.0  \n",
       "Hour                        10.0      15.0      18.0       23.0  "
      ]
     },
     "execution_count": 51,
     "metadata": {},
     "output_type": "execute_result"
    }
   ],
   "source": [
    "accidents.describe().T"
   ]
  },
  {
   "cell_type": "code",
   "execution_count": 52,
   "metadata": {},
   "outputs": [],
   "source": [
    "df1 = accidents.groupby('Year')\\\n",
    ".agg({'Accident_Index':'count', 'Number_of_Vehicles': 'sum','Number_of_Casualties': 'sum','Accident_Severity':'count'})\\\n",
    ".reset_index()"
   ]
  },
  {
   "cell_type": "code",
   "execution_count": 53,
   "metadata": {},
   "outputs": [
    {
     "data": {
      "text/plain": [
       "'\\n\\nmport altair as alt\\nfrom vega_datasets import data\\n\\nsource = df1\\n\\nalt.Chart(source).mark_bar().encode(\\n    x=\\'Year:O\\',\\n    y=\"Accident_Index:Q\",    # The highlight will be set on the result of a conditional statement\\n    color=alt.condition(\\n        alt.datum.Year == 1989,  # If the year is 1810 this test returns True,\\n        alt.value(\\'blue\\'),     # which sets the bar orange.\\n        alt.value(\\'steelblue\\')   # And if it\\'s not true it sets the bar steelblue.\\n        \\n    )\\n).properties(\\n    width=600,title=\"Relación peso del cerebro y del cuerpo\"\\n).interactive()\\n    \\n\\n'"
      ]
     },
     "execution_count": 53,
     "metadata": {},
     "output_type": "execute_result"
    }
   ],
   "source": [
    "'''\n",
    "\n",
    "mport altair as alt\n",
    "from vega_datasets import data\n",
    "\n",
    "source = df1\n",
    "\n",
    "alt.Chart(source).mark_bar().encode(\n",
    "    x='Year:O',\n",
    "    y=\"Accident_Index:Q\",    # The highlight will be set on the result of a conditional statement\n",
    "    color=alt.condition(\n",
    "        alt.datum.Year == 1989,  # If the year is 1810 this test returns True,\n",
    "        alt.value('blue'),     # which sets the bar orange.\n",
    "        alt.value('steelblue')   # And if it's not true it sets the bar steelblue.\n",
    "        \n",
    "    )\n",
    ").properties(\n",
    "    width=600,title=\"Relación peso del cerebro y del cuerpo\"\n",
    ").interactive()\n",
    "    \n",
    "\n",
    "'''\n"
   ]
  },
  {
   "cell_type": "code",
   "execution_count": null,
   "metadata": {},
   "outputs": [],
   "source": [
    "\n"
   ]
  },
  {
   "cell_type": "code",
   "execution_count": null,
   "metadata": {},
   "outputs": [],
   "source": []
  },
  {
   "cell_type": "code",
   "execution_count": null,
   "metadata": {},
   "outputs": [],
   "source": []
  },
  {
   "cell_type": "markdown",
   "metadata": {},
   "source": [
    "# Analysis and Visualization"
   ]
  },
  {
   "cell_type": "code",
   "execution_count": 54,
   "metadata": {},
   "outputs": [
    {
     "data": {
      "image/png": "[encoded data removed]",
      "text/plain": [
       "<Figure size 2016x720 with 1 Axes>"
      ]
     },
     "metadata": {},
     "output_type": "display_data"
    }
   ],
   "source": [
    "# Utilizarmos resample de la fecha para ponerla como índice y agruparla por mes, de esta manera\n",
    "# podemos generar el gráfico con el total mensual y luego poder calcular una media con una ventana=12\n",
    "# que son lso meses del año.\n",
    "\n",
    "sns.set_style('white')\n",
    "fig, ax = plt.subplots(figsize=(28,10))\n",
    "\n",
    "accidents.set_index('Date').resample('M').size().plot(label='Total por Mes', color='grey', ax=ax)\n",
    "accidents.set_index('Date').resample('M').size().rolling(window=12).mean()\\\n",
    "                           .plot(color='lightgreen', linewidth=5, label='Media mensual 12 meses', ax=ax)\n",
    "\n",
    "ax.set_title('Accidents per Month', fontsize=25, fontweight='bold')\n",
    "ax.set(ylabel='Total Count\\n', xlabel='')\n",
    "ax.legend()\n",
    "\n",
    "sns.despine(ax=ax, top=True, right=True, left=True, bottom=False);"
   ]
  },
  {
   "cell_type": "code",
   "execution_count": 55,
   "metadata": {},
   "outputs": [
    {
     "data": {
      "image/png": "[encoded data removed]",
      "text/plain": [
       "<Figure size 1296x504 with 1 Axes>"
      ]
     },
     "metadata": {},
     "output_type": "display_data"
    }
   ],
   "source": [
    "df1 = accidents.groupby(['Year'])\\\n",
    ".agg({'Accident_Index':'count', 'Number_of_Vehicles': 'sum','Number_of_Casualties': 'sum',})\\\n",
    ".reset_index()\n",
    "#-------------------------\n",
    "sns.set_style(\"white\")\n",
    "\n",
    "x = df1.Year\n",
    "labels = df1.Year\n",
    "width = 0.5\n",
    "Accidentcounts = df1['Accident_Index']\n",
    "Casualtycounts =  df1['Number_of_Casualties']\n",
    "fig,ax =  plt.subplots(figsize=(18,7))\n",
    "\n",
    "bar1 = ax.bar(x - width/2, Accidentcounts, width, label='Accident counts', color = 'lightgrey');\n",
    "bar2 = ax.bar(x + width/2, Casualtycounts, width, label='Casualty counts', color = 'lightskyblue');\n",
    "bar1[10].set_color('orange')\n",
    "bar2[10].set_color('purple')\n",
    "ax.set_title('\\nAccidents / Casualties \\n per Year\\n', fontsize=25, fontweight='bold')\n",
    "ax.set_xlabel('Year',fontsize=15)\n",
    "ax.set_ylabel('Total counts\\n',fontsize=15)\n",
    "ax.legend()\n",
    "ax.set_xticks(x)\n",
    "sns.despine(ax=ax, top=True, right=True, left=True, bottom=False);\n",
    "plt.show();"
   ]
  },
  {
   "cell_type": "code",
   "execution_count": 56,
   "metadata": {},
   "outputs": [
    {
     "data": {
      "text/html": [
       "<div>\n",
       "<style scoped>\n",
       "    .dataframe tbody tr th:only-of-type {\n",
       "        vertical-align: middle;\n",
       "    }\n",
       "\n",
       "    .dataframe tbody tr th {\n",
       "        vertical-align: top;\n",
       "    }\n",
       "\n",
       "    .dataframe thead th {\n",
       "        text-align: right;\n",
       "    }\n",
       "</style>\n",
       "<table border=\"1\" class=\"dataframe\">\n",
       "  <thead>\n",
       "    <tr style=\"text-align: right;\">\n",
       "      <th></th>\n",
       "      <th>Accident_Index</th>\n",
       "      <th>Location_Easting_OSGR</th>\n",
       "      <th>Location_Northing_OSGR</th>\n",
       "      <th>Accident_Severity</th>\n",
       "      <th>Number_of_Vehicles</th>\n",
       "      <th>Number_of_Casualties</th>\n",
       "      <th>Date</th>\n",
       "      <th>Day_of_Week</th>\n",
       "      <th>Time</th>\n",
       "      <th>1st_Road_Class</th>\n",
       "      <th>Road_Type</th>\n",
       "      <th>Speed_limit</th>\n",
       "      <th>Light_Conditions</th>\n",
       "      <th>Weather_Conditions</th>\n",
       "      <th>Road_Surface_Conditions</th>\n",
       "      <th>Month</th>\n",
       "      <th>Year</th>\n",
       "      <th>Hour</th>\n",
       "      <th>Daytime</th>\n",
       "      <th>Daylight?</th>\n",
       "      <th>Good_weather_conditions</th>\n",
       "    </tr>\n",
       "  </thead>\n",
       "  <tbody>\n",
       "    <tr>\n",
       "      <th>0</th>\n",
       "      <td>197901A11AD14</td>\n",
       "      <td>NaN</td>\n",
       "      <td>NaN</td>\n",
       "      <td>Slight</td>\n",
       "      <td>2</td>\n",
       "      <td>1</td>\n",
       "      <td>1979-01-18</td>\n",
       "      <td>Thursday</td>\n",
       "      <td>08:00</td>\n",
       "      <td>A</td>\n",
       "      <td>Roundabout</td>\n",
       "      <td>30</td>\n",
       "      <td>Daylight</td>\n",
       "      <td>Other</td>\n",
       "      <td>Dry</td>\n",
       "      <td>January</td>\n",
       "      <td>1979</td>\n",
       "      <td>8</td>\n",
       "      <td>Commuting to work</td>\n",
       "      <td>Yes</td>\n",
       "      <td>No</td>\n",
       "    </tr>\n",
       "    <tr>\n",
       "      <th>1</th>\n",
       "      <td>197901A1BAW34</td>\n",
       "      <td>198460.0</td>\n",
       "      <td>894000.0</td>\n",
       "      <td>Slight</td>\n",
       "      <td>1</td>\n",
       "      <td>1</td>\n",
       "      <td>1979-01-01</td>\n",
       "      <td>Monday</td>\n",
       "      <td>01:00</td>\n",
       "      <td>Unclassified</td>\n",
       "      <td>Unknown</td>\n",
       "      <td>30</td>\n",
       "      <td>Darkness - lights lit</td>\n",
       "      <td>Other</td>\n",
       "      <td>Snow</td>\n",
       "      <td>January</td>\n",
       "      <td>1979</td>\n",
       "      <td>1</td>\n",
       "      <td>Night</td>\n",
       "      <td>No</td>\n",
       "      <td>No</td>\n",
       "    </tr>\n",
       "    <tr>\n",
       "      <th>2</th>\n",
       "      <td>197901A1BFD77</td>\n",
       "      <td>406380.0</td>\n",
       "      <td>307000.0</td>\n",
       "      <td>Slight</td>\n",
       "      <td>2</td>\n",
       "      <td>3</td>\n",
       "      <td>1979-01-01</td>\n",
       "      <td>Monday</td>\n",
       "      <td>01:25</td>\n",
       "      <td>A</td>\n",
       "      <td>Unknown</td>\n",
       "      <td>30</td>\n",
       "      <td>Darkness - lights lit</td>\n",
       "      <td>Other</td>\n",
       "      <td>Snow</td>\n",
       "      <td>January</td>\n",
       "      <td>1979</td>\n",
       "      <td>1</td>\n",
       "      <td>Night</td>\n",
       "      <td>No</td>\n",
       "      <td>No</td>\n",
       "    </tr>\n",
       "    <tr>\n",
       "      <th>4</th>\n",
       "      <td>197901A1BGF95</td>\n",
       "      <td>153960.0</td>\n",
       "      <td>795000.0</td>\n",
       "      <td>Serious</td>\n",
       "      <td>2</td>\n",
       "      <td>1</td>\n",
       "      <td>1979-01-01</td>\n",
       "      <td>Monday</td>\n",
       "      <td>01:30</td>\n",
       "      <td>A</td>\n",
       "      <td>Single carriageway</td>\n",
       "      <td>30</td>\n",
       "      <td>Darkness - lights lit</td>\n",
       "      <td>Snowing no high winds</td>\n",
       "      <td>Snow</td>\n",
       "      <td>January</td>\n",
       "      <td>1979</td>\n",
       "      <td>1</td>\n",
       "      <td>Night</td>\n",
       "      <td>No</td>\n",
       "      <td>No</td>\n",
       "    </tr>\n",
       "    <tr>\n",
       "      <th>5</th>\n",
       "      <td>197901A1CBC96</td>\n",
       "      <td>300370.0</td>\n",
       "      <td>146000.0</td>\n",
       "      <td>Slight</td>\n",
       "      <td>1</td>\n",
       "      <td>1</td>\n",
       "      <td>1979-01-01</td>\n",
       "      <td>Monday</td>\n",
       "      <td>02:05</td>\n",
       "      <td>A</td>\n",
       "      <td>Single carriageway</td>\n",
       "      <td>30</td>\n",
       "      <td>Darkness - lights lit</td>\n",
       "      <td>Other</td>\n",
       "      <td>Snow</td>\n",
       "      <td>January</td>\n",
       "      <td>1979</td>\n",
       "      <td>2</td>\n",
       "      <td>Night</td>\n",
       "      <td>No</td>\n",
       "      <td>No</td>\n",
       "    </tr>\n",
       "  </tbody>\n",
       "</table>\n",
       "</div>"
      ],
      "text/plain": [
       "  Accident_Index  Location_Easting_OSGR  Location_Northing_OSGR  \\\n",
       "0  197901A11AD14                    NaN                     NaN   \n",
       "1  197901A1BAW34               198460.0                894000.0   \n",
       "2  197901A1BFD77               406380.0                307000.0   \n",
       "4  197901A1BGF95               153960.0                795000.0   \n",
       "5  197901A1CBC96               300370.0                146000.0   \n",
       "\n",
       "  Accident_Severity  Number_of_Vehicles  Number_of_Casualties       Date  \\\n",
       "0            Slight                   2                     1 1979-01-18   \n",
       "1            Slight                   1                     1 1979-01-01   \n",
       "2            Slight                   2                     3 1979-01-01   \n",
       "4           Serious                   2                     1 1979-01-01   \n",
       "5            Slight                   1                     1 1979-01-01   \n",
       "\n",
       "  Day_of_Week   Time 1st_Road_Class           Road_Type  Speed_limit  \\\n",
       "0    Thursday  08:00              A          Roundabout           30   \n",
       "1      Monday  01:00   Unclassified             Unknown           30   \n",
       "2      Monday  01:25              A             Unknown           30   \n",
       "4      Monday  01:30              A  Single carriageway           30   \n",
       "5      Monday  02:05              A  Single carriageway           30   \n",
       "\n",
       "        Light_Conditions     Weather_Conditions Road_Surface_Conditions  \\\n",
       "0               Daylight                  Other                     Dry   \n",
       "1  Darkness - lights lit                  Other                    Snow   \n",
       "2  Darkness - lights lit                  Other                    Snow   \n",
       "4  Darkness - lights lit  Snowing no high winds                    Snow   \n",
       "5  Darkness - lights lit                  Other                    Snow   \n",
       "\n",
       "     Month  Year  Hour            Daytime Daylight? Good_weather_conditions  \n",
       "0  January  1979     8  Commuting to work       Yes                      No  \n",
       "1  January  1979     1              Night        No                      No  \n",
       "2  January  1979     1              Night        No                      No  \n",
       "4  January  1979     1              Night        No                      No  \n",
       "5  January  1979     2              Night        No                      No  "
      ]
     },
     "execution_count": 56,
     "metadata": {},
     "output_type": "execute_result"
    }
   ],
   "source": [
    "accidents.head()"
   ]
  },
  {
   "cell_type": "markdown",
   "metadata": {},
   "source": [
    "# En qué meses hay más accidentes"
   ]
  },
  {
   "cell_type": "code",
   "execution_count": 59,
   "metadata": {},
   "outputs": [
    {
     "data": {
      "image/png": "[encoded data removed]",
      "text/plain": [
       "<Figure size 1080x576 with 1 Axes>"
      ]
     },
     "metadata": {},
     "output_type": "display_data"
    }
   ],
   "source": [
    "df2 = accidents.groupby(['Month'])['Accident_Index'].count().reset_index()\n",
    "\n",
    "months = ['January', 'February','March','April', 'May','June','July','August', 'September','October','November','December']\n",
    "df2['Month'] = pd.Categorical(df2['Month'], categories=months, ordered=True)\n",
    "#df2.sort_values(...)  # same as you have now; can use inplace=True\n",
    "df2 = df2.sort_values(by='Month')\n",
    "\n",
    "\n",
    "sns.set_style(\"white\")\n",
    "\n",
    "x = df2['Month']\n",
    "y = df2['Accident_Index']\n",
    "fig, ax =  plt.subplots(figsize=(15,8))\n",
    "\n",
    "ax.plot(x,y,color='lightskyblue',linewidth=4)\n",
    "ax.set_title('Accidents per Month', fontsize=25, fontweight='bold')\n",
    "ax.set_xlabel('\\n Month',fontsize=15)\n",
    "ax.set_ylabel('Total Count\\n',fontsize=15)\n",
    "sns.despine(ax=ax, top=True, right=True, left=True, bottom=False);\n",
    "plt.show();\n",
    "\n"
   ]
  },
  {
   "cell_type": "code",
   "execution_count": 66,
   "metadata": {},
   "outputs": [],
   "source": [
    "cas_ratio= accidents.groupby(['Month'])['Number_of_Casualties'].sum().reset_index()\n",
    "\n",
    "cas_ratio['Casualty_Ratio'] = cas_ratio['Number_of_Casualties'].div(cas_ratio['Number_of_Casualties'].sum())\n",
    "\n",
    "\n",
    "veh_ratio = accidents.groupby(['Month'])['Number_of_Vehicles'].sum().reset_index()\n",
    "\n",
    "veh_ratio['Vehicle_Ratio'] = veh_ratio['Number_of_Vehicles'].div(veh_ratio['Number_of_Vehicles'].sum())\n",
    "\n",
    "df2\n",
    "merged = pd.merge(veh_ratio,cas_ratio,on='Month',how='inner')\n"
   ]
  },
  {
   "cell_type": "code",
   "execution_count": 65,
   "metadata": {},
   "outputs": [
    {
     "data": {
      "text/html": [
       "<div>\n",
       "<style scoped>\n",
       "    .dataframe tbody tr th:only-of-type {\n",
       "        vertical-align: middle;\n",
       "    }\n",
       "\n",
       "    .dataframe tbody tr th {\n",
       "        vertical-align: top;\n",
       "    }\n",
       "\n",
       "    .dataframe thead th {\n",
       "        text-align: right;\n",
       "    }\n",
       "</style>\n",
       "<table border=\"1\" class=\"dataframe\">\n",
       "  <thead>\n",
       "    <tr style=\"text-align: right;\">\n",
       "      <th></th>\n",
       "      <th>Month</th>\n",
       "      <th>Number_of_Vehicles</th>\n",
       "      <th>Vehicle_Ratio</th>\n",
       "      <th>Number_of_Casualties</th>\n",
       "      <th>Casualty_Ratio</th>\n",
       "    </tr>\n",
       "  </thead>\n",
       "  <tbody>\n",
       "    <tr>\n",
       "      <th>0</th>\n",
       "      <td>April</td>\n",
       "      <td>835565</td>\n",
       "      <td>0.078338</td>\n",
       "      <td>630291</td>\n",
       "      <td>0.078550</td>\n",
       "    </tr>\n",
       "    <tr>\n",
       "      <th>1</th>\n",
       "      <td>August</td>\n",
       "      <td>906150</td>\n",
       "      <td>0.084956</td>\n",
       "      <td>689449</td>\n",
       "      <td>0.085923</td>\n",
       "    </tr>\n",
       "    <tr>\n",
       "      <th>2</th>\n",
       "      <td>December</td>\n",
       "      <td>871662</td>\n",
       "      <td>0.081723</td>\n",
       "      <td>662362</td>\n",
       "      <td>0.082547</td>\n",
       "    </tr>\n",
       "    <tr>\n",
       "      <th>3</th>\n",
       "      <td>February</td>\n",
       "      <td>775610</td>\n",
       "      <td>0.072717</td>\n",
       "      <td>583757</td>\n",
       "      <td>0.072751</td>\n",
       "    </tr>\n",
       "    <tr>\n",
       "      <th>4</th>\n",
       "      <td>January</td>\n",
       "      <td>877146</td>\n",
       "      <td>0.082237</td>\n",
       "      <td>658702</td>\n",
       "      <td>0.082091</td>\n",
       "    </tr>\n",
       "    <tr>\n",
       "      <th>5</th>\n",
       "      <td>July</td>\n",
       "      <td>916057</td>\n",
       "      <td>0.085885</td>\n",
       "      <td>692853</td>\n",
       "      <td>0.086347</td>\n",
       "    </tr>\n",
       "    <tr>\n",
       "      <th>6</th>\n",
       "      <td>June</td>\n",
       "      <td>885037</td>\n",
       "      <td>0.082976</td>\n",
       "      <td>664644</td>\n",
       "      <td>0.082832</td>\n",
       "    </tr>\n",
       "    <tr>\n",
       "      <th>7</th>\n",
       "      <td>March</td>\n",
       "      <td>862544</td>\n",
       "      <td>0.080868</td>\n",
       "      <td>647438</td>\n",
       "      <td>0.080687</td>\n",
       "    </tr>\n",
       "    <tr>\n",
       "      <th>8</th>\n",
       "      <td>May</td>\n",
       "      <td>901750</td>\n",
       "      <td>0.084543</td>\n",
       "      <td>680314</td>\n",
       "      <td>0.084785</td>\n",
       "    </tr>\n",
       "    <tr>\n",
       "      <th>9</th>\n",
       "      <td>November</td>\n",
       "      <td>956099</td>\n",
       "      <td>0.089639</td>\n",
       "      <td>712662</td>\n",
       "      <td>0.088816</td>\n",
       "    </tr>\n",
       "    <tr>\n",
       "      <th>10</th>\n",
       "      <td>October</td>\n",
       "      <td>962093</td>\n",
       "      <td>0.090201</td>\n",
       "      <td>717860</td>\n",
       "      <td>0.089464</td>\n",
       "    </tr>\n",
       "    <tr>\n",
       "      <th>11</th>\n",
       "      <td>September</td>\n",
       "      <td>916405</td>\n",
       "      <td>0.085917</td>\n",
       "      <td>683704</td>\n",
       "      <td>0.085207</td>\n",
       "    </tr>\n",
       "  </tbody>\n",
       "</table>\n",
       "</div>"
      ],
      "text/plain": [
       "        Month  Number_of_Vehicles  Vehicle_Ratio  Number_of_Casualties  \\\n",
       "0       April              835565       0.078338                630291   \n",
       "1      August              906150       0.084956                689449   \n",
       "2    December              871662       0.081723                662362   \n",
       "3    February              775610       0.072717                583757   \n",
       "4     January              877146       0.082237                658702   \n",
       "5        July              916057       0.085885                692853   \n",
       "6        June              885037       0.082976                664644   \n",
       "7       March              862544       0.080868                647438   \n",
       "8         May              901750       0.084543                680314   \n",
       "9    November              956099       0.089639                712662   \n",
       "10    October              962093       0.090201                717860   \n",
       "11  September              916405       0.085917                683704   \n",
       "\n",
       "    Casualty_Ratio  \n",
       "0         0.078550  \n",
       "1         0.085923  \n",
       "2         0.082547  \n",
       "3         0.072751  \n",
       "4         0.082091  \n",
       "5         0.086347  \n",
       "6         0.082832  \n",
       "7         0.080687  \n",
       "8         0.084785  \n",
       "9         0.088816  \n",
       "10        0.089464  \n",
       "11        0.085207  "
      ]
     },
     "execution_count": 65,
     "metadata": {},
     "output_type": "execute_result"
    }
   ],
   "source": [
    "merged"
   ]
  },
  {
   "cell_type": "code",
   "execution_count": 45,
   "metadata": {},
   "outputs": [
    {
     "data": {
      "text/html": [
       "<div>\n",
       "<style scoped>\n",
       "    .dataframe tbody tr th:only-of-type {\n",
       "        vertical-align: middle;\n",
       "    }\n",
       "\n",
       "    .dataframe tbody tr th {\n",
       "        vertical-align: top;\n",
       "    }\n",
       "\n",
       "    .dataframe thead th {\n",
       "        text-align: right;\n",
       "    }\n",
       "</style>\n",
       "<table border=\"1\" class=\"dataframe\">\n",
       "  <thead>\n",
       "    <tr style=\"text-align: right;\">\n",
       "      <th></th>\n",
       "      <th>Accident_Index</th>\n",
       "      <th>Location_Easting_OSGR</th>\n",
       "      <th>Location_Northing_OSGR</th>\n",
       "      <th>Accident_Severity</th>\n",
       "      <th>Number_of_Vehicles</th>\n",
       "      <th>Number_of_Casualties</th>\n",
       "      <th>Date</th>\n",
       "      <th>Day_of_Week</th>\n",
       "      <th>Time</th>\n",
       "      <th>1st_Road_Class</th>\n",
       "      <th>Road_Type</th>\n",
       "      <th>Speed_limit</th>\n",
       "      <th>Light_Conditions</th>\n",
       "      <th>Weather_Conditions</th>\n",
       "      <th>Road_Surface_Conditions</th>\n",
       "      <th>Month</th>\n",
       "      <th>Year</th>\n",
       "      <th>Hour</th>\n",
       "      <th>Daytime</th>\n",
       "      <th>Daylight?</th>\n",
       "      <th>Good_weather_conditions</th>\n",
       "    </tr>\n",
       "  </thead>\n",
       "  <tbody>\n",
       "    <tr>\n",
       "      <th>0</th>\n",
       "      <td>197901A11AD14</td>\n",
       "      <td>NaN</td>\n",
       "      <td>NaN</td>\n",
       "      <td>Slight</td>\n",
       "      <td>2</td>\n",
       "      <td>1</td>\n",
       "      <td>1979-01-18</td>\n",
       "      <td>Thursday</td>\n",
       "      <td>08:00</td>\n",
       "      <td>A</td>\n",
       "      <td>Roundabout</td>\n",
       "      <td>30</td>\n",
       "      <td>Daylight</td>\n",
       "      <td>Other</td>\n",
       "      <td>Dry</td>\n",
       "      <td>January</td>\n",
       "      <td>1979</td>\n",
       "      <td>8</td>\n",
       "      <td>Commuting to work</td>\n",
       "      <td>Yes</td>\n",
       "      <td>No</td>\n",
       "    </tr>\n",
       "    <tr>\n",
       "      <th>1</th>\n",
       "      <td>197901A1BAW34</td>\n",
       "      <td>198460.0</td>\n",
       "      <td>894000.0</td>\n",
       "      <td>Slight</td>\n",
       "      <td>1</td>\n",
       "      <td>1</td>\n",
       "      <td>1979-01-01</td>\n",
       "      <td>Monday</td>\n",
       "      <td>01:00</td>\n",
       "      <td>Unclassified</td>\n",
       "      <td>Unknown</td>\n",
       "      <td>30</td>\n",
       "      <td>Darkness - lights lit</td>\n",
       "      <td>Other</td>\n",
       "      <td>Snow</td>\n",
       "      <td>January</td>\n",
       "      <td>1979</td>\n",
       "      <td>1</td>\n",
       "      <td>Night</td>\n",
       "      <td>No</td>\n",
       "      <td>No</td>\n",
       "    </tr>\n",
       "    <tr>\n",
       "      <th>2</th>\n",
       "      <td>197901A1BFD77</td>\n",
       "      <td>406380.0</td>\n",
       "      <td>307000.0</td>\n",
       "      <td>Slight</td>\n",
       "      <td>2</td>\n",
       "      <td>3</td>\n",
       "      <td>1979-01-01</td>\n",
       "      <td>Monday</td>\n",
       "      <td>01:25</td>\n",
       "      <td>A</td>\n",
       "      <td>Unknown</td>\n",
       "      <td>30</td>\n",
       "      <td>Darkness - lights lit</td>\n",
       "      <td>Other</td>\n",
       "      <td>Snow</td>\n",
       "      <td>January</td>\n",
       "      <td>1979</td>\n",
       "      <td>1</td>\n",
       "      <td>Night</td>\n",
       "      <td>No</td>\n",
       "      <td>No</td>\n",
       "    </tr>\n",
       "    <tr>\n",
       "      <th>4</th>\n",
       "      <td>197901A1BGF95</td>\n",
       "      <td>153960.0</td>\n",
       "      <td>795000.0</td>\n",
       "      <td>Serious</td>\n",
       "      <td>2</td>\n",
       "      <td>1</td>\n",
       "      <td>1979-01-01</td>\n",
       "      <td>Monday</td>\n",
       "      <td>01:30</td>\n",
       "      <td>A</td>\n",
       "      <td>Single carriageway</td>\n",
       "      <td>30</td>\n",
       "      <td>Darkness - lights lit</td>\n",
       "      <td>Snowing no high winds</td>\n",
       "      <td>Snow</td>\n",
       "      <td>January</td>\n",
       "      <td>1979</td>\n",
       "      <td>1</td>\n",
       "      <td>Night</td>\n",
       "      <td>No</td>\n",
       "      <td>No</td>\n",
       "    </tr>\n",
       "    <tr>\n",
       "      <th>5</th>\n",
       "      <td>197901A1CBC96</td>\n",
       "      <td>300370.0</td>\n",
       "      <td>146000.0</td>\n",
       "      <td>Slight</td>\n",
       "      <td>1</td>\n",
       "      <td>1</td>\n",
       "      <td>1979-01-01</td>\n",
       "      <td>Monday</td>\n",
       "      <td>02:05</td>\n",
       "      <td>A</td>\n",
       "      <td>Single carriageway</td>\n",
       "      <td>30</td>\n",
       "      <td>Darkness - lights lit</td>\n",
       "      <td>Other</td>\n",
       "      <td>Snow</td>\n",
       "      <td>January</td>\n",
       "      <td>1979</td>\n",
       "      <td>2</td>\n",
       "      <td>Night</td>\n",
       "      <td>No</td>\n",
       "      <td>No</td>\n",
       "    </tr>\n",
       "  </tbody>\n",
       "</table>\n",
       "</div>"
      ],
      "text/plain": [
       "  Accident_Index  Location_Easting_OSGR  Location_Northing_OSGR  \\\n",
       "0  197901A11AD14                    NaN                     NaN   \n",
       "1  197901A1BAW34               198460.0                894000.0   \n",
       "2  197901A1BFD77               406380.0                307000.0   \n",
       "4  197901A1BGF95               153960.0                795000.0   \n",
       "5  197901A1CBC96               300370.0                146000.0   \n",
       "\n",
       "  Accident_Severity  Number_of_Vehicles  Number_of_Casualties       Date  \\\n",
       "0            Slight                   2                     1 1979-01-18   \n",
       "1            Slight                   1                     1 1979-01-01   \n",
       "2            Slight                   2                     3 1979-01-01   \n",
       "4           Serious                   2                     1 1979-01-01   \n",
       "5            Slight                   1                     1 1979-01-01   \n",
       "\n",
       "  Day_of_Week   Time 1st_Road_Class           Road_Type  Speed_limit  \\\n",
       "0    Thursday  08:00              A          Roundabout           30   \n",
       "1      Monday  01:00   Unclassified             Unknown           30   \n",
       "2      Monday  01:25              A             Unknown           30   \n",
       "4      Monday  01:30              A  Single carriageway           30   \n",
       "5      Monday  02:05              A  Single carriageway           30   \n",
       "\n",
       "        Light_Conditions     Weather_Conditions Road_Surface_Conditions  \\\n",
       "0               Daylight                  Other                     Dry   \n",
       "1  Darkness - lights lit                  Other                    Snow   \n",
       "2  Darkness - lights lit                  Other                    Snow   \n",
       "4  Darkness - lights lit  Snowing no high winds                    Snow   \n",
       "5  Darkness - lights lit                  Other                    Snow   \n",
       "\n",
       "     Month  Year  Hour            Daytime Daylight? Good_weather_conditions  \n",
       "0  January  1979     8  Commuting to work       Yes                      No  \n",
       "1  January  1979     1              Night        No                      No  \n",
       "2  January  1979     1              Night        No                      No  \n",
       "4  January  1979     1              Night        No                      No  \n",
       "5  January  1979     2              Night        No                      No  "
      ]
     },
     "execution_count": 45,
     "metadata": {},
     "output_type": "execute_result"
    }
   ],
   "source": [
    "accidents.head()"
   ]
  },
  {
   "cell_type": "code",
   "execution_count": null,
   "metadata": {},
   "outputs": [],
   "source": []
  },
  {
   "cell_type": "code",
   "execution_count": 46,
   "metadata": {},
   "outputs": [
    {
     "data": {
      "text/html": [
       "<div>\n",
       "<style scoped>\n",
       "    .dataframe tbody tr th:only-of-type {\n",
       "        vertical-align: middle;\n",
       "    }\n",
       "\n",
       "    .dataframe tbody tr th {\n",
       "        vertical-align: top;\n",
       "    }\n",
       "\n",
       "    .dataframe thead th {\n",
       "        text-align: right;\n",
       "    }\n",
       "</style>\n",
       "<table border=\"1\" class=\"dataframe\">\n",
       "  <thead>\n",
       "    <tr style=\"text-align: right;\">\n",
       "      <th></th>\n",
       "      <th>Day_of_Week</th>\n",
       "      <th>Accident_Index</th>\n",
       "    </tr>\n",
       "  </thead>\n",
       "  <tbody>\n",
       "    <tr>\n",
       "      <th>6</th>\n",
       "      <td>Sunday</td>\n",
       "      <td>675584</td>\n",
       "    </tr>\n",
       "    <tr>\n",
       "      <th>5</th>\n",
       "      <td>Monday</td>\n",
       "      <td>845280</td>\n",
       "    </tr>\n",
       "    <tr>\n",
       "      <th>4</th>\n",
       "      <td>Tuesday</td>\n",
       "      <td>848248</td>\n",
       "    </tr>\n",
       "    <tr>\n",
       "      <th>3</th>\n",
       "      <td>Wednesday</td>\n",
       "      <td>861790</td>\n",
       "    </tr>\n",
       "    <tr>\n",
       "      <th>1</th>\n",
       "      <td>Thursday</td>\n",
       "      <td>903553</td>\n",
       "    </tr>\n",
       "    <tr>\n",
       "      <th>0</th>\n",
       "      <td>Friday</td>\n",
       "      <td>1023242</td>\n",
       "    </tr>\n",
       "    <tr>\n",
       "      <th>2</th>\n",
       "      <td>Saturday</td>\n",
       "      <td>865356</td>\n",
       "    </tr>\n",
       "  </tbody>\n",
       "</table>\n",
       "</div>"
      ],
      "text/plain": [
       "  Day_of_Week  Accident_Index\n",
       "6      Sunday          675584\n",
       "5      Monday          845280\n",
       "4     Tuesday          848248\n",
       "3   Wednesday          861790\n",
       "1    Thursday          903553\n",
       "0      Friday         1023242\n",
       "2    Saturday          865356"
      ]
     },
     "execution_count": 46,
     "metadata": {},
     "output_type": "execute_result"
    }
   ],
   "source": [
    "df3 = accidents.groupby(['Day_of_Week'])['Accident_Index'].count().sort_values(ascending=False).reset_index()\n",
    "df3\n",
    "days = ['Sunday', 'Monday', 'Tuesday','Wednesday', 'Thursday', 'Friday', 'Saturday']\n",
    "df3['Day_of_Week'] = pd.Categorical(df3['Day_of_Week'], categories=days, ordered=True)\n",
    "\n",
    "df3 = df3.sort_values(by='Day_of_Week',ascending=True)\n",
    "df3"
   ]
  },
  {
   "cell_type": "markdown",
   "metadata": {},
   "source": [
    "## Qué dia de la semana hay más accidentes?"
   ]
  },
  {
   "cell_type": "code",
   "execution_count": 47,
   "metadata": {},
   "outputs": [
    {
     "data": {
      "image/png": "[encoded data removed]",
      "text/plain": [
       "<Figure size 720x360 with 1 Axes>"
      ]
     },
     "metadata": {},
     "output_type": "display_data"
    }
   ],
   "source": [
    "# sns.set_style('white')\n",
    "fig, ax = plt.subplots(figsize=(10,5))\n",
    "\n",
    "barlist = plt.bar(df3['Day_of_Week'],df3['Accident_Index'],color='lightgreen')\n",
    "barlist[5].set_color('r')\n",
    "\n",
    "ax.set_title('\\nAccidents per Weekday\\n', fontsize=14, fontweight='bold')\n",
    "ax.set(ylabel='\\nTotal Counts',xlabel='\\nWeekDay')\n",
    "\n",
    "\n",
    "# remove all spines\n",
    "sns.despine(ax=ax, top=True, right=True, left=True, bottom=True);"
   ]
  },
  {
   "cell_type": "markdown",
   "metadata": {},
   "source": [
    "## Mapa de calor Weekday vs Daytime"
   ]
  },
  {
   "cell_type": "code",
   "execution_count": 48,
   "metadata": {},
   "outputs": [
    {
     "data": {
      "text/html": [
       "<div>\n",
       "<style scoped>\n",
       "    .dataframe tbody tr th:only-of-type {\n",
       "        vertical-align: middle;\n",
       "    }\n",
       "\n",
       "    .dataframe tbody tr th {\n",
       "        vertical-align: top;\n",
       "    }\n",
       "\n",
       "    .dataframe thead th {\n",
       "        text-align: right;\n",
       "    }\n",
       "</style>\n",
       "<table border=\"1\" class=\"dataframe\">\n",
       "  <thead>\n",
       "    <tr style=\"text-align: right;\">\n",
       "      <th>Daytime</th>\n",
       "      <th>Commuting to home</th>\n",
       "      <th>Commuting to work</th>\n",
       "      <th>Evening</th>\n",
       "      <th>Night</th>\n",
       "      <th>Office hours</th>\n",
       "    </tr>\n",
       "    <tr>\n",
       "      <th>Day_of_Week</th>\n",
       "      <th></th>\n",
       "      <th></th>\n",
       "      <th></th>\n",
       "      <th></th>\n",
       "      <th></th>\n",
       "    </tr>\n",
       "  </thead>\n",
       "  <tbody>\n",
       "    <tr>\n",
       "      <th>Sunday</th>\n",
       "      <td>187286</td>\n",
       "      <td>45377</td>\n",
       "      <td>119074</td>\n",
       "      <td>113404</td>\n",
       "      <td>210443</td>\n",
       "    </tr>\n",
       "    <tr>\n",
       "      <th>Monday</th>\n",
       "      <td>278835</td>\n",
       "      <td>173146</td>\n",
       "      <td>128267</td>\n",
       "      <td>45499</td>\n",
       "      <td>219533</td>\n",
       "    </tr>\n",
       "    <tr>\n",
       "      <th>Tuesday</th>\n",
       "      <td>278342</td>\n",
       "      <td>178830</td>\n",
       "      <td>132567</td>\n",
       "      <td>43634</td>\n",
       "      <td>214875</td>\n",
       "    </tr>\n",
       "    <tr>\n",
       "      <th>Wednesday</th>\n",
       "      <td>281124</td>\n",
       "      <td>180827</td>\n",
       "      <td>137443</td>\n",
       "      <td>45866</td>\n",
       "      <td>216530</td>\n",
       "    </tr>\n",
       "    <tr>\n",
       "      <th>Thursday</th>\n",
       "      <td>291861</td>\n",
       "      <td>182698</td>\n",
       "      <td>148394</td>\n",
       "      <td>56106</td>\n",
       "      <td>224494</td>\n",
       "    </tr>\n",
       "    <tr>\n",
       "      <th>Friday</th>\n",
       "      <td>326440</td>\n",
       "      <td>175149</td>\n",
       "      <td>178630</td>\n",
       "      <td>89506</td>\n",
       "      <td>253517</td>\n",
       "    </tr>\n",
       "    <tr>\n",
       "      <th>Saturday</th>\n",
       "      <td>225541</td>\n",
       "      <td>79328</td>\n",
       "      <td>142303</td>\n",
       "      <td>127443</td>\n",
       "      <td>290741</td>\n",
       "    </tr>\n",
       "  </tbody>\n",
       "</table>\n",
       "</div>"
      ],
      "text/plain": [
       "Daytime      Commuting to home  Commuting to work  Evening   Night  \\\n",
       "Day_of_Week                                                          \n",
       "Sunday                  187286              45377   119074  113404   \n",
       "Monday                  278835             173146   128267   45499   \n",
       "Tuesday                 278342             178830   132567   43634   \n",
       "Wednesday               281124             180827   137443   45866   \n",
       "Thursday                291861             182698   148394   56106   \n",
       "Friday                  326440             175149   178630   89506   \n",
       "Saturday                225541              79328   142303  127443   \n",
       "\n",
       "Daytime      Office hours  \n",
       "Day_of_Week                \n",
       "Sunday             210443  \n",
       "Monday             219533  \n",
       "Tuesday            214875  \n",
       "Wednesday          216530  \n",
       "Thursday           224494  \n",
       "Friday             253517  \n",
       "Saturday           290741  "
      ]
     },
     "execution_count": 48,
     "metadata": {},
     "output_type": "execute_result"
    }
   ],
   "source": [
    "df4 = accidents.groupby(['Day_of_Week','Daytime'])['Accident_Index'].count().reset_index()\n",
    "\n",
    "\n",
    "days = ['Sunday', 'Monday', 'Tuesday','Wednesday', 'Thursday', 'Friday', 'Saturday']\n",
    "df4['Day_of_Week'] = pd.Categorical(df4['Day_of_Week'], categories=days, ordered=True)\n",
    "df4 = df4.pivot(index='Day_of_Week', columns='Daytime', values='Accident_Index')\n",
    "df4.sort_values(by='Day_of_Week',ascending=True)"
   ]
  },
  {
   "cell_type": "code",
   "execution_count": 49,
   "metadata": {},
   "outputs": [
    {
     "data": {
      "text/plain": [
       "(array([0.5, 1.5, 2.5, 3.5, 4.5, 5.5, 6.5]),\n",
       " [Text(0, 0.5, 'Sunday'),\n",
       "  Text(0, 1.5, 'Monday'),\n",
       "  Text(0, 2.5, 'Tuesday'),\n",
       "  Text(0, 3.5, 'Wednesday'),\n",
       "  Text(0, 4.5, 'Thursday'),\n",
       "  Text(0, 5.5, 'Friday'),\n",
       "  Text(0, 6.5, 'Saturday')])"
      ]
     },
     "execution_count": 49,
     "metadata": {},
     "output_type": "execute_result"
    },
    {
     "data": {
      "image/png": "[encoded data removed]",
      "text/plain": [
       "<Figure size 1080x720 with 2 Axes>"
      ]
     },
     "metadata": {},
     "output_type": "display_data"
    }
   ],
   "source": [
    "cmap = cm.get_cmap('PuBu')\n",
    "plt.figure(figsize=(15,10))\n",
    "weekday = ['Sunday', 'Monday', 'Tuesday','Wednesday', 'Thursday', 'Friday', 'Saturday']\n",
    "number=[1,2,3,4,5,6,7]\n",
    "sns.heatmap(df4, cmap=cmap)\n",
    "plt.title('\\nAccidents by Weekday and Daytime\\n', fontsize=14, fontweight='bold');\n",
    "plt.yticks(rotation=0)"
   ]
  },
  {
   "cell_type": "code",
   "execution_count": 50,
   "metadata": {},
   "outputs": [
    {
     "data": {
      "text/plain": [
       "Index(['Accident_Index', 'Location_Easting_OSGR', 'Location_Northing_OSGR',\n",
       "       'Accident_Severity', 'Number_of_Vehicles', 'Number_of_Casualties',\n",
       "       'Date', 'Day_of_Week', 'Time', '1st_Road_Class', 'Road_Type',\n",
       "       'Speed_limit', 'Light_Conditions', 'Weather_Conditions',\n",
       "       'Road_Surface_Conditions', 'Month', 'Year', 'Hour', 'Daytime',\n",
       "       'Daylight?', 'Good_weather_conditions'],\n",
       "      dtype='object')"
      ]
     },
     "execution_count": 50,
     "metadata": {},
     "output_type": "execute_result"
    }
   ],
   "source": [
    "accidents.columns"
   ]
  },
  {
   "cell_type": "code",
   "execution_count": 51,
   "metadata": {},
   "outputs": [
    {
     "data": {
      "text/html": [
       "<div>\n",
       "<style scoped>\n",
       "    .dataframe tbody tr th:only-of-type {\n",
       "        vertical-align: middle;\n",
       "    }\n",
       "\n",
       "    .dataframe tbody tr th {\n",
       "        vertical-align: top;\n",
       "    }\n",
       "\n",
       "    .dataframe thead th {\n",
       "        text-align: right;\n",
       "    }\n",
       "</style>\n",
       "<table border=\"1\" class=\"dataframe\">\n",
       "  <thead>\n",
       "    <tr style=\"text-align: right;\">\n",
       "      <th></th>\n",
       "      <th>Day_of_Week</th>\n",
       "      <th>Accident_Severity</th>\n",
       "      <th>Daylight?</th>\n",
       "      <th>Number_of_Casualties</th>\n",
       "    </tr>\n",
       "  </thead>\n",
       "  <tbody>\n",
       "    <tr>\n",
       "      <th>20</th>\n",
       "      <td>Sunday</td>\n",
       "      <td>Serious</td>\n",
       "      <td>No</td>\n",
       "      <td>102944</td>\n",
       "    </tr>\n",
       "    <tr>\n",
       "      <th>19</th>\n",
       "      <td>Sunday</td>\n",
       "      <td>Fatal</td>\n",
       "      <td>Yes</td>\n",
       "      <td>17934</td>\n",
       "    </tr>\n",
       "    <tr>\n",
       "      <th>18</th>\n",
       "      <td>Sunday</td>\n",
       "      <td>Fatal</td>\n",
       "      <td>No</td>\n",
       "      <td>15250</td>\n",
       "    </tr>\n",
       "    <tr>\n",
       "      <th>23</th>\n",
       "      <td>Sunday</td>\n",
       "      <td>Slight</td>\n",
       "      <td>Yes</td>\n",
       "      <td>469840</td>\n",
       "    </tr>\n",
       "    <tr>\n",
       "      <th>22</th>\n",
       "      <td>Sunday</td>\n",
       "      <td>Slight</td>\n",
       "      <td>No</td>\n",
       "      <td>238113</td>\n",
       "    </tr>\n",
       "  </tbody>\n",
       "</table>\n",
       "</div>"
      ],
      "text/plain": [
       "   Day_of_Week Accident_Severity Daylight?  Number_of_Casualties\n",
       "20      Sunday           Serious        No                102944\n",
       "19      Sunday             Fatal       Yes                 17934\n",
       "18      Sunday             Fatal        No                 15250\n",
       "23      Sunday            Slight       Yes                469840\n",
       "22      Sunday            Slight        No                238113"
      ]
     },
     "execution_count": 51,
     "metadata": {},
     "output_type": "execute_result"
    }
   ],
   "source": [
    "df5 = accidents.groupby(['Day_of_Week','Accident_Severity','Daylight?'])['Number_of_Casualties'].sum().reset_index()\n",
    "dayweek = ['Sunday','Monday','Tuesday','Wednesday','Thursday','Friday','Saturday']\n",
    "df5['Day_of_Week'] = pd.Categorical(df5['Day_of_Week'], categories=dayweek, ordered=True)\n",
    "#df2.sort_values(...)  # same as you have now; can use inplace=True\n",
    "df5 = df5.sort_values(by='Day_of_Week',ascending=True)\n",
    "df5.head()"
   ]
  },
  {
   "cell_type": "code",
   "execution_count": 52,
   "metadata": {},
   "outputs": [
    {
     "data": {
      "text/html": [
       "\n",
       "<div id=\"altair-viz-99893de646044098b71b42fa4380baee\"></div>\n",
       "<script type=\"text/javascript\">\n",
       "  (function(spec, embedOpt){\n",
       "    let outputDiv = document.currentScript.previousElementSibling;\n",
       "    if (outputDiv.id !== \"altair-viz-99893de646044098b71b42fa4380baee\") {\n",
       "      outputDiv = document.getElementById(\"altair-viz-99893de646044098b71b42fa4380baee\");\n",
       "    }\n",
       "    const paths = {\n",
       "      \"vega\": \"https://cdn.jsdelivr.net/npm//vega@5?noext\",\n",
       "      \"vega-lib\": \"https://cdn.jsdelivr.net/npm//vega-lib?noext\",\n",
       "      \"vega-lite\": \"https://cdn.jsdelivr.net/npm//vega-lite@4.8.1?noext\",\n",
       "      \"vega-embed\": \"https://cdn.jsdelivr.net/npm//vega-embed@6?noext\",\n",
       "    };\n",
       "\n",
       "    function loadScript(lib) {\n",
       "      return new Promise(function(resolve, reject) {\n",
       "        var s = document.createElement('script');\n",
       "        s.src = paths[lib];\n",
       "        s.async = true;\n",
       "        s.onload = () => resolve(paths[lib]);\n",
       "        s.onerror = () => reject(`Error loading script: ${paths[lib]}`);\n",
       "        document.getElementsByTagName(\"head\")[0].appendChild(s);\n",
       "      });\n",
       "    }\n",
       "\n",
       "    function showError(err) {\n",
       "      outputDiv.innerHTML = `<div class=\"error\" style=\"color:red;\">${err}</div>`;\n",
       "      throw err;\n",
       "    }\n",
       "\n",
       "    function displayChart(vegaEmbed) {\n",
       "      vegaEmbed(outputDiv, spec, embedOpt)\n",
       "        .catch(err => showError(`Javascript Error: ${err.message}<br>This usually means there's a typo in your chart specification. See the javascript console for the full traceback.`));\n",
       "    }\n",
       "\n",
       "    if(typeof define === \"function\" && define.amd) {\n",
       "      requirejs.config({paths});\n",
       "      require([\"vega-embed\"], displayChart, err => showError(`Error loading script: ${err.message}`));\n",
       "    } else if (typeof vegaEmbed === \"function\") {\n",
       "      displayChart(vegaEmbed);\n",
       "    } else {\n",
       "      loadScript(\"vega\")\n",
       "        .then(() => loadScript(\"vega-lite\"))\n",
       "        .then(() => loadScript(\"vega-embed\"))\n",
       "        .catch(showError)\n",
       "        .then(() => displayChart(vegaEmbed));\n",
       "    }\n",
       "  })({\"config\": {\"view\": {\"continuousWidth\": 400, \"continuousHeight\": 300}}, \"data\": {\"name\": \"data-215256f2749de171e68855e8d4cbbf24\"}, \"mark\": \"circle\", \"encoding\": {\"color\": {\"type\": \"nominal\", \"field\": \"Accident_Severity\"}, \"size\": {\"type\": \"nominal\", \"field\": \"Daylight?\"}, \"x\": {\"type\": \"quantitative\", \"field\": \"Number_of_Casualties\", \"scale\": {\"zero\": false}}, \"y\": {\"type\": \"nominal\", \"field\": \"Day_of_Week\", \"scale\": {\"padding\": 1, \"zero\": false}}}, \"height\": 500, \"selection\": {\"selector001\": {\"type\": \"interval\", \"bind\": \"scales\", \"encodings\": [\"x\", \"y\"]}}, \"width\": 1000, \"$schema\": \"https://vega.github.io/schema/vega-lite/v4.8.1.json\", \"datasets\": {\"data-215256f2749de171e68855e8d4cbbf24\": [{\"Day_of_Week\": \"Sunday\", \"Accident_Severity\": \"Serious\", \"Daylight?\": \"No\", \"Number_of_Casualties\": 102944}, {\"Day_of_Week\": \"Sunday\", \"Accident_Severity\": \"Fatal\", \"Daylight?\": \"Yes\", \"Number_of_Casualties\": 17934}, {\"Day_of_Week\": \"Sunday\", \"Accident_Severity\": \"Fatal\", \"Daylight?\": \"No\", \"Number_of_Casualties\": 15250}, {\"Day_of_Week\": \"Sunday\", \"Accident_Severity\": \"Slight\", \"Daylight?\": \"Yes\", \"Number_of_Casualties\": 469840}, {\"Day_of_Week\": \"Sunday\", \"Accident_Severity\": \"Slight\", \"Daylight?\": \"No\", \"Number_of_Casualties\": 238113}, {\"Day_of_Week\": \"Sunday\", \"Accident_Severity\": \"Serious\", \"Daylight?\": \"Yes\", \"Number_of_Casualties\": 153923}, {\"Day_of_Week\": \"Monday\", \"Accident_Severity\": \"Fatal\", \"Daylight?\": \"No\", \"Number_of_Casualties\": 10030}, {\"Day_of_Week\": \"Monday\", \"Accident_Severity\": \"Fatal\", \"Daylight?\": \"Yes\", \"Number_of_Casualties\": 16208}, {\"Day_of_Week\": \"Monday\", \"Accident_Severity\": \"Serious\", \"Daylight?\": \"No\", \"Number_of_Casualties\": 72816}, {\"Day_of_Week\": \"Monday\", \"Accident_Severity\": \"Serious\", \"Daylight?\": \"Yes\", \"Number_of_Casualties\": 158503}, {\"Day_of_Week\": \"Monday\", \"Accident_Severity\": \"Slight\", \"Daylight?\": \"Yes\", \"Number_of_Casualties\": 628972}, {\"Day_of_Week\": \"Monday\", \"Accident_Severity\": \"Slight\", \"Daylight?\": \"No\", \"Number_of_Casualties\": 209579}, {\"Day_of_Week\": \"Tuesday\", \"Accident_Severity\": \"Slight\", \"Daylight?\": \"No\", \"Number_of_Casualties\": 211584}, {\"Day_of_Week\": \"Tuesday\", \"Accident_Severity\": \"Serious\", \"Daylight?\": \"Yes\", \"Number_of_Casualties\": 152174}, {\"Day_of_Week\": \"Tuesday\", \"Accident_Severity\": \"Serious\", \"Daylight?\": \"No\", \"Number_of_Casualties\": 71475}, {\"Day_of_Week\": \"Tuesday\", \"Accident_Severity\": \"Fatal\", \"Daylight?\": \"Yes\", \"Number_of_Casualties\": 15377}, {\"Day_of_Week\": \"Tuesday\", \"Accident_Severity\": \"Fatal\", \"Daylight?\": \"No\", \"Number_of_Casualties\": 9660}, {\"Day_of_Week\": \"Tuesday\", \"Accident_Severity\": \"Slight\", \"Daylight?\": \"Yes\", \"Number_of_Casualties\": 626414}, {\"Day_of_Week\": \"Wednesday\", \"Accident_Severity\": \"Fatal\", \"Daylight?\": \"No\", \"Number_of_Casualties\": 10352}, {\"Day_of_Week\": \"Wednesday\", \"Accident_Severity\": \"Fatal\", \"Daylight?\": \"Yes\", \"Number_of_Casualties\": 15835}, {\"Day_of_Week\": \"Wednesday\", \"Accident_Severity\": \"Serious\", \"Daylight?\": \"No\", \"Number_of_Casualties\": 75208}, {\"Day_of_Week\": \"Wednesday\", \"Accident_Severity\": \"Serious\", \"Daylight?\": \"Yes\", \"Number_of_Casualties\": 154697}, {\"Day_of_Week\": \"Wednesday\", \"Accident_Severity\": \"Slight\", \"Daylight?\": \"Yes\", \"Number_of_Casualties\": 632933}, {\"Day_of_Week\": \"Wednesday\", \"Accident_Severity\": \"Slight\", \"Daylight?\": \"No\", \"Number_of_Casualties\": 217379}, {\"Day_of_Week\": \"Thursday\", \"Accident_Severity\": \"Fatal\", \"Daylight?\": \"No\", \"Number_of_Casualties\": 11957}, {\"Day_of_Week\": \"Thursday\", \"Accident_Severity\": \"Fatal\", \"Daylight?\": \"Yes\", \"Number_of_Casualties\": 16078}, {\"Day_of_Week\": \"Thursday\", \"Accident_Severity\": \"Serious\", \"Daylight?\": \"No\", \"Number_of_Casualties\": 85838}, {\"Day_of_Week\": \"Thursday\", \"Accident_Severity\": \"Serious\", \"Daylight?\": \"Yes\", \"Number_of_Casualties\": 160195}, {\"Day_of_Week\": \"Thursday\", \"Accident_Severity\": \"Slight\", \"Daylight?\": \"No\", \"Number_of_Casualties\": 237937}, {\"Day_of_Week\": \"Thursday\", \"Accident_Severity\": \"Slight\", \"Daylight?\": \"Yes\", \"Number_of_Casualties\": 651282}, {\"Day_of_Week\": \"Friday\", \"Accident_Severity\": \"Fatal\", \"Daylight?\": \"No\", \"Number_of_Casualties\": 16997}, {\"Day_of_Week\": \"Friday\", \"Accident_Severity\": \"Fatal\", \"Daylight?\": \"Yes\", \"Number_of_Casualties\": 19126}, {\"Day_of_Week\": \"Friday\", \"Accident_Severity\": \"Serious\", \"Daylight?\": \"No\", \"Number_of_Casualties\": 117220}, {\"Day_of_Week\": \"Friday\", \"Accident_Severity\": \"Serious\", \"Daylight?\": \"Yes\", \"Number_of_Casualties\": 183199}, {\"Day_of_Week\": \"Friday\", \"Accident_Severity\": \"Slight\", \"Daylight?\": \"No\", \"Number_of_Casualties\": 297421}, {\"Day_of_Week\": \"Friday\", \"Accident_Severity\": \"Slight\", \"Daylight?\": \"Yes\", \"Number_of_Casualties\": 714563}, {\"Day_of_Week\": \"Saturday\", \"Accident_Severity\": \"Slight\", \"Daylight?\": \"Yes\", \"Number_of_Casualties\": 607349}, {\"Day_of_Week\": \"Saturday\", \"Accident_Severity\": \"Fatal\", \"Daylight?\": \"Yes\", \"Number_of_Casualties\": 19933}, {\"Day_of_Week\": \"Saturday\", \"Accident_Severity\": \"Serious\", \"Daylight?\": \"Yes\", \"Number_of_Casualties\": 178487}, {\"Day_of_Week\": \"Saturday\", \"Accident_Severity\": \"Slight\", \"Daylight?\": \"No\", \"Number_of_Casualties\": 278499}, {\"Day_of_Week\": \"Saturday\", \"Accident_Severity\": \"Fatal\", \"Daylight?\": \"No\", \"Number_of_Casualties\": 18558}, {\"Day_of_Week\": \"Saturday\", \"Accident_Severity\": \"Serious\", \"Daylight?\": \"No\", \"Number_of_Casualties\": 122197}]}}, {\"mode\": \"vega-lite\"});\n",
       "</script>"
      ],
      "text/plain": [
       "alt.Chart(...)"
      ]
     },
     "execution_count": 52,
     "metadata": {},
     "output_type": "execute_result"
    }
   ],
   "source": [
    "accidents.head()\n",
    "\n",
    "import altair as alt\n",
    "from vega_datasets import data\n",
    "\n",
    "source = df5\n",
    "\n",
    "alt.Chart(source).mark_circle().encode(\n",
    "    alt.X('Number_of_Casualties',scale=alt.Scale(zero=False)),\n",
    "    alt.Y('Day_of_Week',scale=alt.Scale(zero=False, padding=1)),\n",
    "    color='Accident_Severity',\n",
    "    size='Daylight?'\n",
    ").properties(\n",
    "    width=1000,\n",
    "    height=500).interactive()\n",
    "#por mas que lo intento no me ordena por weekday"
   ]
  },
  {
   "cell_type": "code",
   "execution_count": null,
   "metadata": {},
   "outputs": [],
   "source": []
  },
  {
   "cell_type": "code",
   "execution_count": null,
   "metadata": {},
   "outputs": [],
   "source": []
  },
  {
   "cell_type": "code",
   "execution_count": 53,
   "metadata": {},
   "outputs": [
    {
     "data": {
      "image/png": "[encoded data removed]",
      "text/plain": [
       "<Figure size 1080x576 with 1 Axes>"
      ]
     },
     "metadata": {},
     "output_type": "display_data"
    }
   ],
   "source": [
    "sns.set_style('white')\n",
    "fig, ax = plt.subplots(figsize=(15,8))\n",
    "\n",
    "\n",
    "accidents.Hour.hist(bins=24, ax=ax, color='lightpink')\n",
    "ax.set_title('\\nAccidents by Time\\n', fontsize=14, fontweight='bold')\n",
    "ax.set(xlabel='\\nHour of the Day', ylabel='\\n Total Count of Accidents')\n",
    "\n",
    "# remove all spines\n",
    "sns.despine(top=True, right=True, left=True, bottom=False);"
   ]
  },
  {
   "cell_type": "code",
   "execution_count": null,
   "metadata": {},
   "outputs": [],
   "source": [
    "\n"
   ]
  },
  {
   "cell_type": "markdown",
   "metadata": {},
   "source": [
    "## Accident Severity vs Daytime"
   ]
  },
  {
   "cell_type": "code",
   "execution_count": 56,
   "metadata": {},
   "outputs": [
    {
     "data": {
      "text/plain": [
       "<matplotlib.legend.Legend at 0x21a4401a730>"
      ]
     },
     "execution_count": 56,
     "metadata": {},
     "output_type": "execute_result"
    },
    {
     "data": {
      "image/png": "[encoded data removed]",
      "text/plain": [
       "<Figure size 2160x720 with 1 Axes>"
      ]
     },
     "metadata": {},
     "output_type": "display_data"
    }
   ],
   "source": [
    "#df6 = accidents.groupby(['Daytime','Accident_Severity'])['Accident_Index'].count().reset_index()\n",
    "fig, ax = plt.subplots(1, figsize=(30,10))\n",
    "accidents.groupby('Daytime')['Accident_Severity'].value_counts(normalize=True).unstack().plot(kind='barh', stacked=True, color=['red', 'orange', 'lightgreen'], ax=ax)\n",
    "ax.legend(loc='best', bbox_to_anchor=(1,1))"
   ]
  },
  {
   "cell_type": "code",
   "execution_count": 57,
   "metadata": {},
   "outputs": [
    {
     "data": {
      "image/png": "[encoded data removed]",
      "text/plain": [
       "<Figure size 2160x720 with 1 Axes>"
      ]
     },
     "metadata": {},
     "output_type": "display_data"
    }
   ],
   "source": [
    "fig, ax = plt.subplots(1, figsize=(30,10))\n",
    "\n",
    "accidents.groupby('Speed_limit')['Accident_Severity'].value_counts(normalize=True).unstack().plot(kind='bar', stacked=True, color=['black', 'orange', 'lightgrey'], ax=ax)\n",
    "\n",
    "ax.legend(loc='best', bbox_to_anchor=(1,1))\n",
    "\n",
    "ax.set_title('Accident severity proportions at different speed limits')\n",
    "ax.set_xlabel('Road speed limit (mph)',rotation=0)\n",
    "ax.set_ylabel('Proportion of accidents')\n",
    "plt.xticks(rotation=0)\n",
    "plt.show()"
   ]
  },
  {
   "cell_type": "code",
   "execution_count": 58,
   "metadata": {},
   "outputs": [
    {
     "data": {
      "image/png": "[encoded data removed]",
      "text/plain": [
       "<Figure size 1080x864 with 9 Axes>"
      ]
     },
     "metadata": {},
     "output_type": "display_data"
    }
   ],
   "source": [
    "#HIST DE LAS VARIABLES NUMERICAS\n",
    "\n",
    "\n",
    "accidents.hist(figsize=(15,12));\n",
    "plt.tight_layout()\n",
    "#PARTE DE CONCATENAR LOS DATAFRAMES"
   ]
  },
  {
   "cell_type": "markdown",
   "metadata": {},
   "source": []
  },
  {
   "cell_type": "code",
   "execution_count": null,
   "metadata": {},
   "outputs": [],
   "source": []
  },
  {
   "cell_type": "code",
   "execution_count": 59,
   "metadata": {},
   "outputs": [
    {
     "data": {
      "text/html": [
       "<div>\n",
       "<style scoped>\n",
       "    .dataframe tbody tr th:only-of-type {\n",
       "        vertical-align: middle;\n",
       "    }\n",
       "\n",
       "    .dataframe tbody tr th {\n",
       "        vertical-align: top;\n",
       "    }\n",
       "\n",
       "    .dataframe thead th {\n",
       "        text-align: right;\n",
       "    }\n",
       "</style>\n",
       "<table border=\"1\" class=\"dataframe\">\n",
       "  <thead>\n",
       "    <tr style=\"text-align: right;\">\n",
       "      <th></th>\n",
       "      <th>Accident_Index</th>\n",
       "      <th>Location_Easting_OSGR</th>\n",
       "      <th>Location_Northing_OSGR</th>\n",
       "      <th>Accident_Severity</th>\n",
       "      <th>Number_of_Vehicles</th>\n",
       "      <th>Number_of_Casualties</th>\n",
       "      <th>Date</th>\n",
       "      <th>Day_of_Week</th>\n",
       "      <th>Time</th>\n",
       "      <th>1st_Road_Class</th>\n",
       "      <th>Road_Type</th>\n",
       "      <th>Speed_limit</th>\n",
       "      <th>Light_Conditions</th>\n",
       "      <th>Weather_Conditions</th>\n",
       "      <th>Road_Surface_Conditions</th>\n",
       "      <th>Month</th>\n",
       "      <th>Year</th>\n",
       "      <th>Hour</th>\n",
       "      <th>Daytime</th>\n",
       "      <th>Daylight?</th>\n",
       "      <th>Good_weather_conditions</th>\n",
       "    </tr>\n",
       "  </thead>\n",
       "  <tbody>\n",
       "    <tr>\n",
       "      <th>0</th>\n",
       "      <td>197901A11AD14</td>\n",
       "      <td>NaN</td>\n",
       "      <td>NaN</td>\n",
       "      <td>Slight</td>\n",
       "      <td>2</td>\n",
       "      <td>1</td>\n",
       "      <td>1979-01-18</td>\n",
       "      <td>Thursday</td>\n",
       "      <td>08:00</td>\n",
       "      <td>A</td>\n",
       "      <td>Roundabout</td>\n",
       "      <td>30</td>\n",
       "      <td>Daylight</td>\n",
       "      <td>Other</td>\n",
       "      <td>Dry</td>\n",
       "      <td>January</td>\n",
       "      <td>1979</td>\n",
       "      <td>8</td>\n",
       "      <td>Commuting to work</td>\n",
       "      <td>Yes</td>\n",
       "      <td>No</td>\n",
       "    </tr>\n",
       "    <tr>\n",
       "      <th>1</th>\n",
       "      <td>197901A1BAW34</td>\n",
       "      <td>198460.0</td>\n",
       "      <td>894000.0</td>\n",
       "      <td>Slight</td>\n",
       "      <td>1</td>\n",
       "      <td>1</td>\n",
       "      <td>1979-01-01</td>\n",
       "      <td>Monday</td>\n",
       "      <td>01:00</td>\n",
       "      <td>Unclassified</td>\n",
       "      <td>Unknown</td>\n",
       "      <td>30</td>\n",
       "      <td>Darkness - lights lit</td>\n",
       "      <td>Other</td>\n",
       "      <td>Snow</td>\n",
       "      <td>January</td>\n",
       "      <td>1979</td>\n",
       "      <td>1</td>\n",
       "      <td>Night</td>\n",
       "      <td>No</td>\n",
       "      <td>No</td>\n",
       "    </tr>\n",
       "    <tr>\n",
       "      <th>2</th>\n",
       "      <td>197901A1BFD77</td>\n",
       "      <td>406380.0</td>\n",
       "      <td>307000.0</td>\n",
       "      <td>Slight</td>\n",
       "      <td>2</td>\n",
       "      <td>3</td>\n",
       "      <td>1979-01-01</td>\n",
       "      <td>Monday</td>\n",
       "      <td>01:25</td>\n",
       "      <td>A</td>\n",
       "      <td>Unknown</td>\n",
       "      <td>30</td>\n",
       "      <td>Darkness - lights lit</td>\n",
       "      <td>Other</td>\n",
       "      <td>Snow</td>\n",
       "      <td>January</td>\n",
       "      <td>1979</td>\n",
       "      <td>1</td>\n",
       "      <td>Night</td>\n",
       "      <td>No</td>\n",
       "      <td>No</td>\n",
       "    </tr>\n",
       "    <tr>\n",
       "      <th>4</th>\n",
       "      <td>197901A1BGF95</td>\n",
       "      <td>153960.0</td>\n",
       "      <td>795000.0</td>\n",
       "      <td>Serious</td>\n",
       "      <td>2</td>\n",
       "      <td>1</td>\n",
       "      <td>1979-01-01</td>\n",
       "      <td>Monday</td>\n",
       "      <td>01:30</td>\n",
       "      <td>A</td>\n",
       "      <td>Single carriageway</td>\n",
       "      <td>30</td>\n",
       "      <td>Darkness - lights lit</td>\n",
       "      <td>Snowing no high winds</td>\n",
       "      <td>Snow</td>\n",
       "      <td>January</td>\n",
       "      <td>1979</td>\n",
       "      <td>1</td>\n",
       "      <td>Night</td>\n",
       "      <td>No</td>\n",
       "      <td>No</td>\n",
       "    </tr>\n",
       "    <tr>\n",
       "      <th>5</th>\n",
       "      <td>197901A1CBC96</td>\n",
       "      <td>300370.0</td>\n",
       "      <td>146000.0</td>\n",
       "      <td>Slight</td>\n",
       "      <td>1</td>\n",
       "      <td>1</td>\n",
       "      <td>1979-01-01</td>\n",
       "      <td>Monday</td>\n",
       "      <td>02:05</td>\n",
       "      <td>A</td>\n",
       "      <td>Single carriageway</td>\n",
       "      <td>30</td>\n",
       "      <td>Darkness - lights lit</td>\n",
       "      <td>Other</td>\n",
       "      <td>Snow</td>\n",
       "      <td>January</td>\n",
       "      <td>1979</td>\n",
       "      <td>2</td>\n",
       "      <td>Night</td>\n",
       "      <td>No</td>\n",
       "      <td>No</td>\n",
       "    </tr>\n",
       "  </tbody>\n",
       "</table>\n",
       "</div>"
      ],
      "text/plain": [
       "  Accident_Index  Location_Easting_OSGR  Location_Northing_OSGR  \\\n",
       "0  197901A11AD14                    NaN                     NaN   \n",
       "1  197901A1BAW34               198460.0                894000.0   \n",
       "2  197901A1BFD77               406380.0                307000.0   \n",
       "4  197901A1BGF95               153960.0                795000.0   \n",
       "5  197901A1CBC96               300370.0                146000.0   \n",
       "\n",
       "  Accident_Severity  Number_of_Vehicles  Number_of_Casualties       Date  \\\n",
       "0            Slight                   2                     1 1979-01-18   \n",
       "1            Slight                   1                     1 1979-01-01   \n",
       "2            Slight                   2                     3 1979-01-01   \n",
       "4           Serious                   2                     1 1979-01-01   \n",
       "5            Slight                   1                     1 1979-01-01   \n",
       "\n",
       "  Day_of_Week   Time 1st_Road_Class           Road_Type  Speed_limit  \\\n",
       "0    Thursday  08:00              A          Roundabout           30   \n",
       "1      Monday  01:00   Unclassified             Unknown           30   \n",
       "2      Monday  01:25              A             Unknown           30   \n",
       "4      Monday  01:30              A  Single carriageway           30   \n",
       "5      Monday  02:05              A  Single carriageway           30   \n",
       "\n",
       "        Light_Conditions     Weather_Conditions Road_Surface_Conditions  \\\n",
       "0               Daylight                  Other                     Dry   \n",
       "1  Darkness - lights lit                  Other                    Snow   \n",
       "2  Darkness - lights lit                  Other                    Snow   \n",
       "4  Darkness - lights lit  Snowing no high winds                    Snow   \n",
       "5  Darkness - lights lit                  Other                    Snow   \n",
       "\n",
       "     Month  Year  Hour            Daytime Daylight? Good_weather_conditions  \n",
       "0  January  1979     8  Commuting to work       Yes                      No  \n",
       "1  January  1979     1              Night        No                      No  \n",
       "2  January  1979     1              Night        No                      No  \n",
       "4  January  1979     1              Night        No                      No  \n",
       "5  January  1979     2              Night        No                      No  "
      ]
     },
     "execution_count": 59,
     "metadata": {},
     "output_type": "execute_result"
    }
   ],
   "source": [
    "accidents.head()"
   ]
  },
  {
   "cell_type": "code",
   "execution_count": null,
   "metadata": {},
   "outputs": [],
   "source": []
  },
  {
   "cell_type": "code",
   "execution_count": null,
   "metadata": {},
   "outputs": [],
   "source": []
  },
  {
   "cell_type": "code",
   "execution_count": null,
   "metadata": {},
   "outputs": [],
   "source": []
  },
  {
   "cell_type": "code",
   "execution_count": null,
   "metadata": {},
   "outputs": [],
   "source": []
  },
  {
   "cell_type": "code",
   "execution_count": null,
   "metadata": {},
   "outputs": [],
   "source": []
  },
  {
   "cell_type": "code",
   "execution_count": null,
   "metadata": {},
   "outputs": [],
   "source": []
  },
  {
   "cell_type": "code",
   "execution_count": null,
   "metadata": {},
   "outputs": [],
   "source": []
  },
  {
   "cell_type": "code",
   "execution_count": null,
   "metadata": {},
   "outputs": [],
   "source": []
  },
  {
   "cell_type": "code",
   "execution_count": null,
   "metadata": {},
   "outputs": [],
   "source": []
  },
  {
   "cell_type": "code",
   "execution_count": null,
   "metadata": {},
   "outputs": [],
   "source": []
  },
  {
   "cell_type": "code",
   "execution_count": null,
   "metadata": {},
   "outputs": [],
   "source": []
  },
  {
   "cell_type": "code",
   "execution_count": null,
   "metadata": {},
   "outputs": [],
   "source": []
  },
  {
   "cell_type": "code",
   "execution_count": null,
   "metadata": {},
   "outputs": [],
   "source": []
  },
  {
   "cell_type": "markdown",
   "metadata": {},
   "source": [
    "## VEHICLES"
   ]
  },
  {
   "cell_type": "code",
   "execution_count": null,
   "metadata": {},
   "outputs": [],
   "source": [
    "%reset"
   ]
  },
  {
   "cell_type": "code",
   "execution_count": null,
   "metadata": {},
   "outputs": [],
   "source": [
    "import pandas as pd\n",
    "import numpy as np\n",
    "import matplotlib.pyplot as plt\n",
    "from matplotlib import cm\n",
    "cmap = cm.get_cmap\n",
    "import seaborn as sns\n",
    "pd.set_option('display.max_columns', None)\n",
    "%matplotlib inline\n",
    "import io"
   ]
  },
  {
   "cell_type": "code",
   "execution_count": null,
   "metadata": {},
   "outputs": [],
   "source": [
    "veh=pd.read_csv('D:/Descargas/Stats19-Data1979-2004/Vehicles7904.csv',delimiter=',',encoding='UTF-8-SIG',usecols=[\n",
    "    'Acc_Index', 'Vehicle_Reference', 'Vehicle_Type',\n",
    "    'Was_Vehicle_Left_Hand_Drive?','Sex_of_Driver',\n",
    "    'Age_Band_of_Driver','Engine_Capacity_(CC)', \n",
    "    'Propulsion_Code', 'Age_of_Vehicle'\n",
    "])"
   ]
  },
  {
   "cell_type": "code",
   "execution_count": null,
   "metadata": {},
   "outputs": [],
   "source": [
    "print(\"NaN data: \\n \\n\",\" \\n \",veh.isna().sum()/len(veh),\"%\")\n",
    "print(\"\\n Missing or out of range data:\\n\",np.abs(veh[veh==-1].sum())/len(veh),\"%\")"
   ]
  },
  {
   "cell_type": "code",
   "execution_count": null,
   "metadata": {},
   "outputs": [],
   "source": [
    "# drop missing or out of range values\n",
    "veh.drop(labels='Was_Vehicle_Left_Hand_Drive?',inplace=True,axis=1)\n",
    "veh.shape"
   ]
  },
  {
   "cell_type": "code",
   "execution_count": null,
   "metadata": {},
   "outputs": [],
   "source": [
    "# drop missing or out of range values\n",
    "for i,k in enumerate(veh):\n",
    "    veh.drop(index=veh[veh[k] == -1].index, inplace=True,axis=1)\n",
    "\n",
    "#veh.drop(index=veh[veh['Sex_of_Driver'] == -1].index, inplace=True)"
   ]
  },
  {
   "cell_type": "code",
   "execution_count": null,
   "metadata": {},
   "outputs": [],
   "source": [
    "veh.describe().T"
   ]
  },
  {
   "cell_type": "code",
   "execution_count": null,
   "metadata": {},
   "outputs": [],
   "source": [
    "veh.shape"
   ]
  },
  {
   "cell_type": "code",
   "execution_count": null,
   "metadata": {},
   "outputs": [],
   "source": [
    "veh.head()"
   ]
  },
  {
   "cell_type": "markdown",
   "metadata": {},
   "source": [
    "## CASUALTIES"
   ]
  },
  {
   "cell_type": "code",
   "execution_count": null,
   "metadata": {},
   "outputs": [],
   "source": [
    "cas=pd.read_csv('D:/Descargas/Stats19-Data1979-2004/Casualty7904.csv',delimiter=',',encoding='UTF-8-SIG')"
   ]
  },
  {
   "cell_type": "code",
   "execution_count": null,
   "metadata": {},
   "outputs": [],
   "source": [
    "print(\"NaN data: \\n \\n\",\" \\n \",veh.isna().sum()/len(veh),\"%\")\n",
    "print(\"\\n Missing or out of range data:\\n\",np.abs(veh[veh==-1].sum())/len(veh),\"%\")"
   ]
  },
  {
   "cell_type": "code",
   "execution_count": null,
   "metadata": {},
   "outputs": [],
   "source": [
    "print(cas.describe().T)\n",
    "cas.shape\n",
    "cas.columns"
   ]
  },
  {
   "cell_type": "code",
   "execution_count": null,
   "metadata": {},
   "outputs": [],
   "source": [
    "%who\n",
    "df_merge = pd.merge(cas,veh,how='inner',on='Acc_Index')"
   ]
  },
  {
   "cell_type": "code",
   "execution_count": null,
   "metadata": {},
   "outputs": [],
   "source": [
    "del veh,cas\n",
    "df_merge.columns\n",
    "df_merge.shape"
   ]
  },
  {
   "cell_type": "code",
   "execution_count": null,
   "metadata": {},
   "outputs": [],
   "source": [
    "print(df_merge.shape)\n",
    "df_merge.head()"
   ]
  },
  {
   "cell_type": "code",
   "execution_count": null,
   "metadata": {},
   "outputs": [],
   "source": [
    "print(\"NaN data: \\n \\n\",\" \\n \",df_merge.isna().sum()/len(df_merge),\"%\")\n",
    "print(\"\\n Missing or out of range data:\\n\",np.abs(df_merge[df_merge==-1].sum())/len(df_merge),\"%\")"
   ]
  },
  {
   "cell_type": "code",
   "execution_count": null,
   "metadata": {},
   "outputs": [],
   "source": [
    "df_merge.drop(labels=['Casualty_Home_Area_Type','Pedestrian_Road_Maintenance_Worker','Pedestrian_Location',\n",
    "              'Casualty_Class','Vehicle_Reference_y','Vehicle_Reference_x','Casualty_Home_Area_Type',\n",
    "              'Pedestrian_Road_Maintenance_Worker','Car_Passenger','Pedestrian_Movement','Pedestrian_Location',\n",
    "                'Casualty_Severity','Casualty_Reference','Bus_or_Coach_Passenger'],inplace=True,axis=1)\n"
   ]
  },
  {
   "cell_type": "code",
   "execution_count": null,
   "metadata": {},
   "outputs": [],
   "source": [
    "df_merge.head()"
   ]
  },
  {
   "cell_type": "code",
   "execution_count": null,
   "metadata": {},
   "outputs": [],
   "source": [
    "for i,k in enumerate(df_merge):\n",
    "    df_merge.drop(index=df_merge[df_merge[k] == -1].index, inplace=True,axis=1)"
   ]
  },
  {
   "cell_type": "code",
   "execution_count": null,
   "metadata": {},
   "outputs": [],
   "source": [
    "#Drop unknown values of Sex_of_Driver\n",
    "df_merge.drop(index=df_merge[df_merge['Sex_of_Driver'] == 3].index, inplace=True,axis=1)"
   ]
  },
  {
   "cell_type": "code",
   "execution_count": null,
   "metadata": {},
   "outputs": [],
   "source": []
  },
  {
   "cell_type": "code",
   "execution_count": null,
   "metadata": {},
   "outputs": [],
   "source": [
    "df_merge.Sex_of_Casualty = df_merge.Sex_of_Casualty.replace([1,2],['Male','Female'])\n",
    "\n",
    "df_merge.Age_Band_of_Casualty = df_merge.Age_Band_of_Casualty.replace([1,2,3,4,5,6,7,8,9,10,11],['0 - 5','6 - 10','11 - 15',\n",
    "                                                                                                 '16 - 20','21 - 25','26 - 35',\n",
    "                                                                                              '36 - 45','46 - 55','56 - 65',\n",
    "                                                                                              '66 - 75','Over 75'\n",
    "                                                                                                ])\n",
    "\n",
    "values1=['Pedestrian',\n",
    "'Cyclist',\n",
    "'Motorcycle 50cc and under rider or passenger',\n",
    "'Motorcycle 125cc and under rider or passenger',\n",
    "'Motorcycle over 125cc and up to 500cc rider or  passenger',\n",
    "'Motorcycle over 500cc rider or passenger',\n",
    "'Taxi/Private hire car occupant',\n",
    "'Car occupant',\n",
    "'Minibus (8 - 16 passenger seats) occupant',\n",
    "'Bus or coach occupant (17 or more pass seats)',\n",
    "'Horse rider',\n",
    "'Agricultural vehicle occupant',\n",
    "'Tram occupant',\n",
    "'Van / Goods vehicle (3.5 tonnes mgw or under) occupant',\n",
    "'Goods vehicle (over 3.5t. and under 7.5t.) occupant',\n",
    "'Goods vehicle (7.5 tonnes mgw and over) occupant',\n",
    "'Mobility scooter rider',\n",
    "'Electric motorcycle rider or passenger',\n",
    "'Other vehicle occupant',\n",
    "'Motorcycle - unknown cc rider or passenger',\n",
    "'Goods vehicle (unknown weight) occupant',\n",
    "'Motorcycle - Scooter rider or passenger',\n",
    "'Motorcycle rider or passenger',\n",
    "'Motorcycle - Combination rider or passenger',\n",
    "'Motorcycle over 125cc rider or passenger',\n",
    "'Taxi (excluding private hire cars) occupant',\n",
    "'Car occupant (including private hire cars)',\n",
    "'Minibus/Motor caravan occupant',\n",
    "'Goods vehicle (over 3.5 tonnes) occupant']\n",
    "values2 = [0,1,2,3,4,5,8,9,10,11,16,17,18,19,\n",
    "20,21,22,23,90,97,98,103,104,105,\n",
    "106,108,109,110,113]\n",
    "\n",
    "values3 = [1,2,3,10,11,17,19,20,\n",
    "21,90,103,104,105,\n",
    "106,108,109,110,113]\n",
    "\n",
    "values4 = ['Pedal cycle',\n",
    "'Motorcycle 50cc and under',\n",
    "'Motorcycle 125cc and under',\n",
    "'Minibus (8 - 16 passenger seats)',\n",
    "'Bus or coach (17 or more pass seats)',\n",
    "'Agricultural vehicle',\n",
    "'Van / Goods 3.5 tonnes mgw or under',\n",
    "'Goods over 3.5t. and under 7.5t',\n",
    "'Goods 7.5 tonnes mgw and over',\n",
    "'Other vehicle',\n",
    "'Motorcycle - Scooter',\n",
    "'Motorcycle',\n",
    "'Motorcycle - Combination',\n",
    "'Motorcycle over 125cc',\n",
    "'Taxi (excluding private hire cars)',\n",
    "'Car (including private hire cars)',\n",
    "'Minibus/Motor caravan',\n",
    "'Goods vehicle over 3.5 tonnes']\n",
    "\n",
    "\n",
    "\n",
    "df_merge.Casualty_Type = df_merge.Casualty_Type.replace(values2,values1)\n",
    "\n",
    "\n",
    "df_merge.Vehicle_Type = df_merge.Vehicle_Type.replace(values3,values4)\n",
    "\n",
    "df_merge.Sex_of_Driver = df_merge.Sex_of_Driver.replace([1,2],['Male','Female'])\n",
    "\n",
    "df_merge.Age_Band_of_Driver = df_merge.Age_Band_of_Driver.replace([1,2,3,4,5,6,7,8,9,10,11],['0 - 5','6 - 10','11 - 15',\n",
    "                                                                                                 '16 - 20','21 - 25','26 - 35',\n",
    "                                                                                              '36 - 45','46 - 55','56 - 65',\n",
    "                                                                                              '66 - 75','Over 75'\n",
    "                                                                                                ])\n",
    "#df_merge.Engine_Capacity_(CC) = df_merge.Engine_Capacity_(CC).replace([1,2],['Male','Female']) -->drop column\n",
    "\n",
    "df_merge.Propulsion_Code = df_merge.Propulsion_Code.replace([1,2,4,5,6,7,8,9],['Petrol',\n",
    "                                                                    'Heavy oil',\n",
    "                                                                    'Steam',\n",
    "                                                                    'Gas',\n",
    "                                                                    'Petrol/Gas (LPG)',\n",
    "                                                                    'Gas/Bi-fuel',\n",
    "                                                                    'Hybrid electric',\n",
    "                                                                    'Fuel cells'])\n"
   ]
  },
  {
   "cell_type": "code",
   "execution_count": null,
   "metadata": {},
   "outputs": [],
   "source": [
    "df_merge.head()"
   ]
  },
  {
   "cell_type": "code",
   "execution_count": null,
   "metadata": {},
   "outputs": [],
   "source": [
    "all_sex_driver = df_merge.groupby(['Age_Band_of_Driver','Sex_of_Driver']).size().reset_index()\n",
    "\n",
    "female = all_sex_driver[all_sex_driver['Sex_of_Driver'] == 'Female']\n",
    "male = all_sex_driver[all_sex_driver['Sex_of_Driver'] == 'Male']\n",
    "male['percentage'] = (male[0]/male[0].sum())*100\n",
    "female = all_sex_driver[all_sex_driver['Sex_of_Driver'] == 'Female']\n",
    "female['percentage'] = (female[0]/female[0].sum())*100\n",
    "female['percentage']=female['percentage'].astype(str)\n",
    "male['percentage']=male['percentage'].astype(str)\n",
    "female['percentage'] = female['percentage'].str[:4]+'%'\n",
    "male['percentage'] = male['percentage'].str[:4]+'%'\n",
    "\n",
    "\n",
    "all_sex_casualty = df_merge.groupby(['Age_Band_of_Casualty','Sex_of_Casualty'])['Acc_Index'].count().reset_index()\n",
    "female_cs = all_sex_casualty[all_sex_casualty['Sex_of_Casualty'] == 'Female']\n",
    "male_cs = all_sex_casualty[all_sex_casualty['Sex_of_Casualty'] == 'Male']\n",
    "\n",
    "female_cs['Percentage'] = (female_cs['Acc_Index']/(female_cs['Acc_Index'].sum())*100).astype(str).str[:4]+'%'\n",
    "male_cs['Percentage'] = (male_cs['Acc_Index']/(male_cs['Acc_Index'].sum())*100).astype(str).str[:4]+'%'\n",
    "gender_driver =  pd.concat([male,female])\n",
    "gender_casualty = pd.concat([male_cs,female_cs])"
   ]
  },
  {
   "cell_type": "code",
   "execution_count": null,
   "metadata": {},
   "outputs": [],
   "source": [
    "'''\n",
    "#FALTA pasar LO DE LOS RANGOS DE EDAD EN EL EJE Y\n",
    "fig, ax = plt.subplots(1, figsize=(15,10))\n",
    "df_merge.groupby('Age_Band_of_Driver')['Sex_of_Driver'].value_counts(normalize=True).unstack().plot(kind='barh', stacked=False, color=['grey', 'orange'], ax=ax)\n",
    "ax.legend(loc='best', bbox_to_anchor=(1,1),labels=['Male','Female'])\n",
    "\n",
    "\n",
    "'''\n",
    "''''''\n",
    "from plotly.subplots import make_subplots\n",
    "import plotly.graph_objects as go\n",
    "fig = make_subplots(1,1)\n",
    "import plotly.express as px\n",
    "\n",
    "fig1 = px.sunburst(gender_driver, path=['Sex_of_Driver','Age_Band_of_Driver','percentage'], color='Sex_of_Driver')\n",
    "fig1.update_layout(height=600, width=600, title_text=\"Age_Band_of_Driver vs Sex\")\n",
    "fig1.show()\n",
    "#PORCENTAJE DRIVERS IMPLICADOS\n",
    "\n"
   ]
  },
  {
   "cell_type": "code",
   "execution_count": null,
   "metadata": {},
   "outputs": [],
   "source": [
    "df_merge.head()\n",
    "prueba = df_merge['Age_Band_of_Casualty'].sort_values().reset_index()\n",
    "import plotly.express as px\n",
    "fig2 = px.histogram(prueba, x=\"Age_Band_of_Casualty\")\n",
    "fig2.update_layout(height=700, width=700, title_text=\"Age_Band_of_Casualty\")\n",
    "fig2.show()"
   ]
  },
  {
   "cell_type": "code",
   "execution_count": null,
   "metadata": {},
   "outputs": [],
   "source": []
  },
  {
   "cell_type": "code",
   "execution_count": null,
   "metadata": {},
   "outputs": [],
   "source": [
    "#df_merge.Engine_Capacity_(CC) = df_merge.Engine_Capacity_(CC).replace([1,2],['Male','Female']) -->drop column\n",
    "veh_type = df_merge.groupby(['Vehicle_Type','Sex_of_Driver'])['Acc_Index'].count().reset_index()\n",
    "veh_type['Percentage'] = (veh_type['Acc_Index']/veh_type['Acc_Index'].sum()*100).sort_values(ascending=True).astype(str).str[:4]+'%'\n",
    "\n",
    "veh_type"
   ]
  },
  {
   "cell_type": "code",
   "execution_count": null,
   "metadata": {},
   "outputs": [],
   "source": [
    "df_merge.head()"
   ]
  },
  {
   "cell_type": "code",
   "execution_count": null,
   "metadata": {},
   "outputs": [],
   "source": []
  },
  {
   "cell_type": "code",
   "execution_count": null,
   "metadata": {},
   "outputs": [],
   "source": [
    "df_merge.hist()"
   ]
  },
  {
   "cell_type": "code",
   "execution_count": null,
   "metadata": {},
   "outputs": [],
   "source": []
  },
  {
   "cell_type": "code",
   "execution_count": null,
   "metadata": {},
   "outputs": [],
   "source": []
  },
  {
   "cell_type": "code",
   "execution_count": null,
   "metadata": {},
   "outputs": [],
   "source": []
  },
  {
   "cell_type": "code",
   "execution_count": null,
   "metadata": {},
   "outputs": [],
   "source": []
  },
  {
   "cell_type": "code",
   "execution_count": null,
   "metadata": {},
   "outputs": [],
   "source": []
  },
  {
   "cell_type": "code",
   "execution_count": null,
   "metadata": {},
   "outputs": [],
   "source": []
  },
  {
   "cell_type": "code",
   "execution_count": null,
   "metadata": {},
   "outputs": [],
   "source": []
  },
  {
   "cell_type": "code",
   "execution_count": null,
   "metadata": {},
   "outputs": [],
   "source": []
  },
  {
   "cell_type": "code",
   "execution_count": null,
   "metadata": {},
   "outputs": [],
   "source": []
  },
  {
   "cell_type": "code",
   "execution_count": 3,
   "metadata": {},
   "outputs": [
    {
     "name": "stdin",
     "output_type": "stream",
     "text": [
      "Once deleted, variables cannot be recovered. Proceed (y/[n])?  y\n"
     ]
    }
   ],
   "source": [
    "%reset"
   ]
  },
  {
   "cell_type": "markdown",
   "metadata": {},
   "source": [
    "### **Feature Engineering**"
   ]
  },
  {
   "cell_type": "code",
   "execution_count": 4,
   "metadata": {},
   "outputs": [],
   "source": [
    "import pandas as pd\n",
    "import numpy as np\n",
    "import matplotlib.pyplot as plt\n",
    "from matplotlib import cm\n",
    "cmap = cm.get_cmap\n",
    "import seaborn as sns\n",
    "from sklearn.preprocessing import StandardScaler, OneHotEncoder,LabelEncoder\n",
    "from sklearn.model_selection import train_test_split,cross_validate\n",
    "from sklearn.metrics import mean_squared_error, mean_absolute_error, \\\n",
    "explained_variance_score,recall_score,f1_score,precision_score,roc_curve,roc_auc_score,accuracy_score\n",
    "from sklearn.linear_model import LogisticRegression  #regresión logistica en clasificación\n",
    "from sklearn.tree import DecisionTreeClassifier\n",
    "from sklearn.impute import SimpleImputer\n",
    "\n",
    "\n",
    "\n",
    "pd.set_option('display.max_columns', None)\n",
    "%matplotlib inline"
   ]
  },
  {
   "cell_type": "code",
   "execution_count": 5,
   "metadata": {},
   "outputs": [],
   "source": [
    "dfa = pd.read_csv('D:\\Descargas\\Stats19-Data1979-2004\\Accidents7904.csv',delimiter=',',encoding='UTF-8-SIG',index_col=0,nrows=300000)"
   ]
  },
  {
   "cell_type": "code",
   "execution_count": 6,
   "metadata": {},
   "outputs": [],
   "source": [
    "dfv = pd.read_csv('D:/Descargas/Stats19-Data1979-2004/Vehicles7904.csv',delimiter=',',encoding='UTF-8-SIG',index_col=0,nrows=300000)"
   ]
  },
  {
   "cell_type": "code",
   "execution_count": 13,
   "metadata": {},
   "outputs": [],
   "source": [
    "dfc = pd.read_csv('D:/Descargas/Stats19-Data1979-2004/Casualty7904.csv',delimiter=',',encoding='UTF-8-SIG',index_col=0)"
   ]
  },
  {
   "cell_type": "code",
   "execution_count": 14,
   "metadata": {},
   "outputs": [
    {
     "data": {
      "text/plain": [
       "Vehicle_Reference                     0\n",
       "Casualty_Reference                    0\n",
       "Casualty_Class                        0\n",
       "Sex_of_Casualty                       0\n",
       "Age_Band_of_Casualty                  0\n",
       "Casualty_Severity                     0\n",
       "Pedestrian_Location                   0\n",
       "Pedestrian_Movement                   0\n",
       "Car_Passenger                         0\n",
       "Bus_or_Coach_Passenger                0\n",
       "Pedestrian_Road_Maintenance_Worker    0\n",
       "Casualty_Type                         0\n",
       "Casualty_Home_Area_Type               0\n",
       "dtype: int64"
      ]
     },
     "execution_count": 14,
     "metadata": {},
     "output_type": "execute_result"
    }
   ],
   "source": [
    "dfc.isna().sum()"
   ]
  },
  {
   "cell_type": "code",
   "execution_count": 27,
   "metadata": {},
   "outputs": [
    {
     "data": {
      "text/html": [
       "<div>\n",
       "<style scoped>\n",
       "    .dataframe tbody tr th:only-of-type {\n",
       "        vertical-align: middle;\n",
       "    }\n",
       "\n",
       "    .dataframe tbody tr th {\n",
       "        vertical-align: top;\n",
       "    }\n",
       "\n",
       "    .dataframe thead th {\n",
       "        text-align: right;\n",
       "    }\n",
       "</style>\n",
       "<table border=\"1\" class=\"dataframe\">\n",
       "  <thead>\n",
       "    <tr style=\"text-align: right;\">\n",
       "      <th></th>\n",
       "      <th>Location_Easting_OSGR</th>\n",
       "      <th>Location_Northing_OSGR</th>\n",
       "      <th>Longitude</th>\n",
       "      <th>Latitude</th>\n",
       "      <th>Police_Force</th>\n",
       "      <th>Accident_Severity</th>\n",
       "      <th>Number_of_Vehicles</th>\n",
       "      <th>Number_of_Casualties</th>\n",
       "      <th>Date</th>\n",
       "      <th>Day_of_Week</th>\n",
       "      <th>Time</th>\n",
       "      <th>Local_Authority_(District)</th>\n",
       "      <th>Local_Authority_(Highway)</th>\n",
       "      <th>1st_Road_Class</th>\n",
       "      <th>1st_Road_Number</th>\n",
       "      <th>Road_Type</th>\n",
       "      <th>Speed_limit</th>\n",
       "      <th>Junction_Detail</th>\n",
       "      <th>Junction_Control</th>\n",
       "      <th>2nd_Road_Class</th>\n",
       "      <th>2nd_Road_Number</th>\n",
       "      <th>Pedestrian_Crossing-Human_Control</th>\n",
       "      <th>Pedestrian_Crossing-Physical_Facilities</th>\n",
       "      <th>Light_Conditions</th>\n",
       "      <th>Weather_Conditions</th>\n",
       "      <th>Road_Surface_Conditions</th>\n",
       "      <th>Special_Conditions_at_Site</th>\n",
       "      <th>Carriageway_Hazards</th>\n",
       "      <th>Urban_or_Rural_Area</th>\n",
       "      <th>Did_Police_Officer_Attend_Scene_of_Accident</th>\n",
       "      <th>LSOA_of_Accident_Location</th>\n",
       "    </tr>\n",
       "    <tr>\n",
       "      <th>Accident_Index</th>\n",
       "      <th></th>\n",
       "      <th></th>\n",
       "      <th></th>\n",
       "      <th></th>\n",
       "      <th></th>\n",
       "      <th></th>\n",
       "      <th></th>\n",
       "      <th></th>\n",
       "      <th></th>\n",
       "      <th></th>\n",
       "      <th></th>\n",
       "      <th></th>\n",
       "      <th></th>\n",
       "      <th></th>\n",
       "      <th></th>\n",
       "      <th></th>\n",
       "      <th></th>\n",
       "      <th></th>\n",
       "      <th></th>\n",
       "      <th></th>\n",
       "      <th></th>\n",
       "      <th></th>\n",
       "      <th></th>\n",
       "      <th></th>\n",
       "      <th></th>\n",
       "      <th></th>\n",
       "      <th></th>\n",
       "      <th></th>\n",
       "      <th></th>\n",
       "      <th></th>\n",
       "      <th></th>\n",
       "    </tr>\n",
       "  </thead>\n",
       "  <tbody>\n",
       "    <tr>\n",
       "      <th>197901A11AD14</th>\n",
       "      <td>NaN</td>\n",
       "      <td>NaN</td>\n",
       "      <td>NaN</td>\n",
       "      <td>NaN</td>\n",
       "      <td>1</td>\n",
       "      <td>3</td>\n",
       "      <td>2</td>\n",
       "      <td>1</td>\n",
       "      <td>18/01/1979</td>\n",
       "      <td>5</td>\n",
       "      <td>08:00</td>\n",
       "      <td>11</td>\n",
       "      <td>9999</td>\n",
       "      <td>3</td>\n",
       "      <td>4</td>\n",
       "      <td>1</td>\n",
       "      <td>30</td>\n",
       "      <td>1</td>\n",
       "      <td>4</td>\n",
       "      <td>-1</td>\n",
       "      <td>-1</td>\n",
       "      <td>-1</td>\n",
       "      <td>-1</td>\n",
       "      <td>1</td>\n",
       "      <td>8</td>\n",
       "      <td>1</td>\n",
       "      <td>-1</td>\n",
       "      <td>0</td>\n",
       "      <td>-1</td>\n",
       "      <td>-1</td>\n",
       "      <td>NaN</td>\n",
       "    </tr>\n",
       "    <tr>\n",
       "      <th>197901A1BAW34</th>\n",
       "      <td>198460.0</td>\n",
       "      <td>894000.0</td>\n",
       "      <td>NaN</td>\n",
       "      <td>NaN</td>\n",
       "      <td>1</td>\n",
       "      <td>3</td>\n",
       "      <td>1</td>\n",
       "      <td>1</td>\n",
       "      <td>01/01/1979</td>\n",
       "      <td>2</td>\n",
       "      <td>01:00</td>\n",
       "      <td>23</td>\n",
       "      <td>9999</td>\n",
       "      <td>6</td>\n",
       "      <td>0</td>\n",
       "      <td>9</td>\n",
       "      <td>30</td>\n",
       "      <td>3</td>\n",
       "      <td>4</td>\n",
       "      <td>-1</td>\n",
       "      <td>-1</td>\n",
       "      <td>-1</td>\n",
       "      <td>-1</td>\n",
       "      <td>4</td>\n",
       "      <td>8</td>\n",
       "      <td>3</td>\n",
       "      <td>-1</td>\n",
       "      <td>0</td>\n",
       "      <td>-1</td>\n",
       "      <td>-1</td>\n",
       "      <td>NaN</td>\n",
       "    </tr>\n",
       "    <tr>\n",
       "      <th>197901A1BFD77</th>\n",
       "      <td>406380.0</td>\n",
       "      <td>307000.0</td>\n",
       "      <td>NaN</td>\n",
       "      <td>NaN</td>\n",
       "      <td>1</td>\n",
       "      <td>3</td>\n",
       "      <td>2</td>\n",
       "      <td>3</td>\n",
       "      <td>01/01/1979</td>\n",
       "      <td>2</td>\n",
       "      <td>01:25</td>\n",
       "      <td>17</td>\n",
       "      <td>9999</td>\n",
       "      <td>3</td>\n",
       "      <td>112</td>\n",
       "      <td>9</td>\n",
       "      <td>30</td>\n",
       "      <td>6</td>\n",
       "      <td>4</td>\n",
       "      <td>-1</td>\n",
       "      <td>-1</td>\n",
       "      <td>-1</td>\n",
       "      <td>-1</td>\n",
       "      <td>4</td>\n",
       "      <td>8</td>\n",
       "      <td>3</td>\n",
       "      <td>-1</td>\n",
       "      <td>0</td>\n",
       "      <td>-1</td>\n",
       "      <td>-1</td>\n",
       "      <td>NaN</td>\n",
       "    </tr>\n",
       "    <tr>\n",
       "      <th>197901A1BGC20</th>\n",
       "      <td>281680.0</td>\n",
       "      <td>440000.0</td>\n",
       "      <td>NaN</td>\n",
       "      <td>NaN</td>\n",
       "      <td>1</td>\n",
       "      <td>3</td>\n",
       "      <td>2</td>\n",
       "      <td>2</td>\n",
       "      <td>01/01/1979</td>\n",
       "      <td>2</td>\n",
       "      <td>01:30</td>\n",
       "      <td>2</td>\n",
       "      <td>9999</td>\n",
       "      <td>3</td>\n",
       "      <td>502</td>\n",
       "      <td>-1</td>\n",
       "      <td>30</td>\n",
       "      <td>3</td>\n",
       "      <td>2</td>\n",
       "      <td>-1</td>\n",
       "      <td>-1</td>\n",
       "      <td>-1</td>\n",
       "      <td>-1</td>\n",
       "      <td>4</td>\n",
       "      <td>8</td>\n",
       "      <td>3</td>\n",
       "      <td>-1</td>\n",
       "      <td>0</td>\n",
       "      <td>-1</td>\n",
       "      <td>-1</td>\n",
       "      <td>NaN</td>\n",
       "    </tr>\n",
       "    <tr>\n",
       "      <th>197901A1BGF95</th>\n",
       "      <td>153960.0</td>\n",
       "      <td>795000.0</td>\n",
       "      <td>NaN</td>\n",
       "      <td>NaN</td>\n",
       "      <td>1</td>\n",
       "      <td>2</td>\n",
       "      <td>2</td>\n",
       "      <td>1</td>\n",
       "      <td>01/01/1979</td>\n",
       "      <td>2</td>\n",
       "      <td>01:30</td>\n",
       "      <td>510</td>\n",
       "      <td>9999</td>\n",
       "      <td>3</td>\n",
       "      <td>309</td>\n",
       "      <td>6</td>\n",
       "      <td>30</td>\n",
       "      <td>0</td>\n",
       "      <td>-1</td>\n",
       "      <td>-1</td>\n",
       "      <td>0</td>\n",
       "      <td>-1</td>\n",
       "      <td>-1</td>\n",
       "      <td>4</td>\n",
       "      <td>3</td>\n",
       "      <td>3</td>\n",
       "      <td>-1</td>\n",
       "      <td>0</td>\n",
       "      <td>-1</td>\n",
       "      <td>-1</td>\n",
       "      <td>NaN</td>\n",
       "    </tr>\n",
       "  </tbody>\n",
       "</table>\n",
       "</div>"
      ],
      "text/plain": [
       "                Location_Easting_OSGR  Location_Northing_OSGR  Longitude  \\\n",
       "Accident_Index                                                             \n",
       "197901A11AD14                     NaN                     NaN        NaN   \n",
       "197901A1BAW34                198460.0                894000.0        NaN   \n",
       "197901A1BFD77                406380.0                307000.0        NaN   \n",
       "197901A1BGC20                281680.0                440000.0        NaN   \n",
       "197901A1BGF95                153960.0                795000.0        NaN   \n",
       "\n",
       "                Latitude  Police_Force  Accident_Severity  Number_of_Vehicles  \\\n",
       "Accident_Index                                                                  \n",
       "197901A11AD14        NaN             1                  3                   2   \n",
       "197901A1BAW34        NaN             1                  3                   1   \n",
       "197901A1BFD77        NaN             1                  3                   2   \n",
       "197901A1BGC20        NaN             1                  3                   2   \n",
       "197901A1BGF95        NaN             1                  2                   2   \n",
       "\n",
       "                Number_of_Casualties        Date  Day_of_Week   Time  \\\n",
       "Accident_Index                                                         \n",
       "197901A11AD14                      1  18/01/1979            5  08:00   \n",
       "197901A1BAW34                      1  01/01/1979            2  01:00   \n",
       "197901A1BFD77                      3  01/01/1979            2  01:25   \n",
       "197901A1BGC20                      2  01/01/1979            2  01:30   \n",
       "197901A1BGF95                      1  01/01/1979            2  01:30   \n",
       "\n",
       "                Local_Authority_(District)  Local_Authority_(Highway)  \\\n",
       "Accident_Index                                                          \n",
       "197901A11AD14                           11                       9999   \n",
       "197901A1BAW34                           23                       9999   \n",
       "197901A1BFD77                           17                       9999   \n",
       "197901A1BGC20                            2                       9999   \n",
       "197901A1BGF95                          510                       9999   \n",
       "\n",
       "                1st_Road_Class  1st_Road_Number  Road_Type  Speed_limit  \\\n",
       "Accident_Index                                                            \n",
       "197901A11AD14                3                4          1           30   \n",
       "197901A1BAW34                6                0          9           30   \n",
       "197901A1BFD77                3              112          9           30   \n",
       "197901A1BGC20                3              502         -1           30   \n",
       "197901A1BGF95                3              309          6           30   \n",
       "\n",
       "                Junction_Detail  Junction_Control  2nd_Road_Class  \\\n",
       "Accident_Index                                                      \n",
       "197901A11AD14                 1                 4              -1   \n",
       "197901A1BAW34                 3                 4              -1   \n",
       "197901A1BFD77                 6                 4              -1   \n",
       "197901A1BGC20                 3                 2              -1   \n",
       "197901A1BGF95                 0                -1              -1   \n",
       "\n",
       "                2nd_Road_Number  Pedestrian_Crossing-Human_Control  \\\n",
       "Accident_Index                                                       \n",
       "197901A11AD14                -1                                 -1   \n",
       "197901A1BAW34                -1                                 -1   \n",
       "197901A1BFD77                -1                                 -1   \n",
       "197901A1BGC20                -1                                 -1   \n",
       "197901A1BGF95                 0                                 -1   \n",
       "\n",
       "                Pedestrian_Crossing-Physical_Facilities  Light_Conditions  \\\n",
       "Accident_Index                                                              \n",
       "197901A11AD14                                        -1                 1   \n",
       "197901A1BAW34                                        -1                 4   \n",
       "197901A1BFD77                                        -1                 4   \n",
       "197901A1BGC20                                        -1                 4   \n",
       "197901A1BGF95                                        -1                 4   \n",
       "\n",
       "                Weather_Conditions  Road_Surface_Conditions  \\\n",
       "Accident_Index                                                \n",
       "197901A11AD14                    8                        1   \n",
       "197901A1BAW34                    8                        3   \n",
       "197901A1BFD77                    8                        3   \n",
       "197901A1BGC20                    8                        3   \n",
       "197901A1BGF95                    3                        3   \n",
       "\n",
       "                Special_Conditions_at_Site  Carriageway_Hazards  \\\n",
       "Accident_Index                                                    \n",
       "197901A11AD14                           -1                    0   \n",
       "197901A1BAW34                           -1                    0   \n",
       "197901A1BFD77                           -1                    0   \n",
       "197901A1BGC20                           -1                    0   \n",
       "197901A1BGF95                           -1                    0   \n",
       "\n",
       "                Urban_or_Rural_Area  \\\n",
       "Accident_Index                        \n",
       "197901A11AD14                    -1   \n",
       "197901A1BAW34                    -1   \n",
       "197901A1BFD77                    -1   \n",
       "197901A1BGC20                    -1   \n",
       "197901A1BGF95                    -1   \n",
       "\n",
       "                Did_Police_Officer_Attend_Scene_of_Accident  \\\n",
       "Accident_Index                                                \n",
       "197901A11AD14                                            -1   \n",
       "197901A1BAW34                                            -1   \n",
       "197901A1BFD77                                            -1   \n",
       "197901A1BGC20                                            -1   \n",
       "197901A1BGF95                                            -1   \n",
       "\n",
       "                LSOA_of_Accident_Location  \n",
       "Accident_Index                             \n",
       "197901A11AD14                         NaN  \n",
       "197901A1BAW34                         NaN  \n",
       "197901A1BFD77                         NaN  \n",
       "197901A1BGC20                         NaN  \n",
       "197901A1BGF95                         NaN  "
      ]
     },
     "execution_count": 27,
     "metadata": {},
     "output_type": "execute_result"
    }
   ],
   "source": [
    "dfa.head()"
   ]
  },
  {
   "cell_type": "code",
   "execution_count": 28,
   "metadata": {},
   "outputs": [
    {
     "data": {
      "text/plain": [
       "Index(['Location_Easting_OSGR', 'Location_Northing_OSGR', 'Longitude',\n",
       "       'Latitude', 'Police_Force', 'Accident_Severity', 'Number_of_Vehicles',\n",
       "       'Number_of_Casualties', 'Date', 'Day_of_Week', 'Time',\n",
       "       'Local_Authority_(District)', 'Local_Authority_(Highway)',\n",
       "       '1st_Road_Class', '1st_Road_Number', 'Road_Type', 'Speed_limit',\n",
       "       'Junction_Detail', 'Junction_Control', '2nd_Road_Class',\n",
       "       '2nd_Road_Number', 'Pedestrian_Crossing-Human_Control',\n",
       "       'Pedestrian_Crossing-Physical_Facilities', 'Light_Conditions',\n",
       "       'Weather_Conditions', 'Road_Surface_Conditions',\n",
       "       'Special_Conditions_at_Site', 'Carriageway_Hazards',\n",
       "       'Urban_or_Rural_Area', 'Did_Police_Officer_Attend_Scene_of_Accident',\n",
       "       'LSOA_of_Accident_Location'],\n",
       "      dtype='object')"
      ]
     },
     "execution_count": 28,
     "metadata": {},
     "output_type": "execute_result"
    }
   ],
   "source": [
    "dfa.columns"
   ]
  },
  {
   "cell_type": "code",
   "execution_count": 29,
   "metadata": {},
   "outputs": [
    {
     "data": {
      "text/plain": [
       "Location_Easting_OSGR                          float64\n",
       "Location_Northing_OSGR                         float64\n",
       "Longitude                                      float64\n",
       "Latitude                                       float64\n",
       "Police_Force                                     int64\n",
       "Accident_Severity                                int64\n",
       "Number_of_Vehicles                               int64\n",
       "Number_of_Casualties                             int64\n",
       "Date                                            object\n",
       "Day_of_Week                                      int64\n",
       "Time                                            object\n",
       "Local_Authority_(District)                       int64\n",
       "Local_Authority_(Highway)                        int64\n",
       "1st_Road_Class                                   int64\n",
       "1st_Road_Number                                  int64\n",
       "Road_Type                                        int64\n",
       "Speed_limit                                      int64\n",
       "Junction_Detail                                  int64\n",
       "Junction_Control                                 int64\n",
       "2nd_Road_Class                                   int64\n",
       "2nd_Road_Number                                  int64\n",
       "Pedestrian_Crossing-Human_Control                int64\n",
       "Pedestrian_Crossing-Physical_Facilities          int64\n",
       "Light_Conditions                                 int64\n",
       "Weather_Conditions                               int64\n",
       "Road_Surface_Conditions                          int64\n",
       "Special_Conditions_at_Site                       int64\n",
       "Carriageway_Hazards                              int64\n",
       "Urban_or_Rural_Area                              int64\n",
       "Did_Police_Officer_Attend_Scene_of_Accident      int64\n",
       "LSOA_of_Accident_Location                      float64\n",
       "dtype: object"
      ]
     },
     "execution_count": 29,
     "metadata": {},
     "output_type": "execute_result"
    }
   ],
   "source": [
    "dfa.dtypes"
   ]
  },
  {
   "cell_type": "markdown",
   "metadata": {},
   "source": []
  },
  {
   "cell_type": "code",
   "execution_count": 30,
   "metadata": {},
   "outputs": [
    {
     "data": {
      "text/plain": [
       "Location_Easting_OSGR                          0.001367\n",
       "Location_Northing_OSGR                         0.001367\n",
       "Longitude                                      1.000000\n",
       "Latitude                                       1.000000\n",
       "Police_Force                                   0.000000\n",
       "Accident_Severity                              0.000000\n",
       "Number_of_Vehicles                             0.000000\n",
       "Number_of_Casualties                           0.000000\n",
       "Date                                           0.000000\n",
       "Day_of_Week                                    0.000000\n",
       "Time                                           0.000190\n",
       "Local_Authority_(District)                     0.000000\n",
       "Local_Authority_(Highway)                      0.000000\n",
       "1st_Road_Class                                 0.000000\n",
       "1st_Road_Number                                0.000000\n",
       "Road_Type                                      0.000000\n",
       "Speed_limit                                    0.000000\n",
       "Junction_Detail                                0.000000\n",
       "Junction_Control                               0.000000\n",
       "2nd_Road_Class                                 0.000000\n",
       "2nd_Road_Number                                0.000000\n",
       "Pedestrian_Crossing-Human_Control              0.000000\n",
       "Pedestrian_Crossing-Physical_Facilities        0.000000\n",
       "Light_Conditions                               0.000000\n",
       "Weather_Conditions                             0.000000\n",
       "Road_Surface_Conditions                        0.000000\n",
       "Special_Conditions_at_Site                     0.000000\n",
       "Carriageway_Hazards                            0.000000\n",
       "Urban_or_Rural_Area                            0.000000\n",
       "Did_Police_Officer_Attend_Scene_of_Accident    0.000000\n",
       "LSOA_of_Accident_Location                      1.000000\n",
       "dtype: float64"
      ]
     },
     "execution_count": 30,
     "metadata": {},
     "output_type": "execute_result"
    }
   ],
   "source": [
    "dfa.isna().sum()/len(dfa)"
   ]
  },
  {
   "cell_type": "code",
   "execution_count": 31,
   "metadata": {},
   "outputs": [],
   "source": [
    "dfa['Hour'] = pd.to_datetime(dfa['Time']).dt.hour\n",
    "dfa.Hour.fillna(dfa.Hour.median(), inplace=True)\n",
    "dfa.Hour =  dfa.Hour.astype('int64')"
   ]
  },
  {
   "cell_type": "code",
   "execution_count": 32,
   "metadata": {},
   "outputs": [
    {
     "data": {
      "text/plain": [
       "Location_Easting_OSGR                               0.0\n",
       "Location_Northing_OSGR                              0.0\n",
       "Longitude                                           0.0\n",
       "Latitude                                            0.0\n",
       "Police_Force                                        0.0\n",
       "Accident_Severity                                   0.0\n",
       "Number_of_Vehicles                                  0.0\n",
       "Number_of_Casualties                                0.0\n",
       "Date                                                0.0\n",
       "Day_of_Week                                         0.0\n",
       "Time                                                0.0\n",
       "Local_Authority_(District)                          0.0\n",
       "Local_Authority_(Highway)                           0.0\n",
       "1st_Road_Class                                 0.000003\n",
       "1st_Road_Number                                 0.00007\n",
       "Road_Type                                       0.03505\n",
       "Speed_limit                                         0.0\n",
       "Junction_Detail                                0.000367\n",
       "Junction_Control                               0.413797\n",
       "2nd_Road_Class                                  0.66988\n",
       "2nd_Road_Number                                0.257547\n",
       "Pedestrian_Crossing-Human_Control               0.34544\n",
       "Pedestrian_Crossing-Physical_Facilities         0.34544\n",
       "Light_Conditions                               0.000137\n",
       "Weather_Conditions                                  0.0\n",
       "Road_Surface_Conditions                         0.00019\n",
       "Special_Conditions_at_Site                     0.373327\n",
       "Carriageway_Hazards                            0.010617\n",
       "Urban_or_Rural_Area                                 1.0\n",
       "Did_Police_Officer_Attend_Scene_of_Accident         1.0\n",
       "LSOA_of_Accident_Location                           0.0\n",
       "Hour                                                0.0\n",
       "dtype: object"
      ]
     },
     "execution_count": 32,
     "metadata": {},
     "output_type": "execute_result"
    }
   ],
   "source": [
    "#for i,k in enumerate(accidents):\n",
    "np.abs(dfa[dfa == -1].sum())/len(dfa)\n",
    "    \n",
    "#for i,k in enumerate(accidents):\n",
    "   # accidents.drop(index=accidents[accidents[k] == -1].index, inplace=True)"
   ]
  },
  {
   "cell_type": "code",
   "execution_count": 33,
   "metadata": {},
   "outputs": [],
   "source": [
    "dfa.drop(['Did_Police_Officer_Attend_Scene_of_Accident','Urban_or_Rural_Area',\n",
    "          'Junction_Control','2nd_Road_Class',\n",
    "          'Latitude','Longitude',\n",
    "          'Location_Easting_OSGR','Local_Authority_(District)',\n",
    "          'Local_Authority_(Highway)','Location_Northing_OSGR',\n",
    "          'LSOA_of_Accident_Location','1st_Road_Number','Junction_Detail',\n",
    "          '2nd_Road_Number','Pedestrian_Crossing-Physical_Facilities',\n",
    "          'Pedestrian_Crossing-Human_Control','Urban_or_Rural_Area',\n",
    "          'Special_Conditions_at_Site'\n",
    "         ],\n",
    "               inplace=True,axis=1)\n",
    "\n",
    "\n"
   ]
  },
  {
   "cell_type": "code",
   "execution_count": 34,
   "metadata": {},
   "outputs": [],
   "source": [
    "dfa.drop(['Date'],inplace=True,axis=1)\n",
    "dfa.drop(['Time'],axis=1,inplace=True)"
   ]
  },
  {
   "cell_type": "code",
   "execution_count": 35,
   "metadata": {},
   "outputs": [],
   "source": [
    "#DROP MISSING VALUES =  -1\n",
    "for i,k in enumerate(dfa):\n",
    "    dfa.drop(index=dfa[dfa[k] == -1].index, inplace=True)"
   ]
  },
  {
   "cell_type": "code",
   "execution_count": null,
   "metadata": {},
   "outputs": [],
   "source": []
  },
  {
   "cell_type": "code",
   "execution_count": 36,
   "metadata": {},
   "outputs": [],
   "source": [
    "#DROP NaN's\n",
    "dfa.dropna(inplace=True)"
   ]
  },
  {
   "cell_type": "code",
   "execution_count": 37,
   "metadata": {},
   "outputs": [
    {
     "data": {
      "text/plain": [
       "Index(['Police_Force', 'Accident_Severity', 'Number_of_Vehicles',\n",
       "       'Number_of_Casualties', 'Day_of_Week', '1st_Road_Class', 'Road_Type',\n",
       "       'Speed_limit', 'Light_Conditions', 'Weather_Conditions',\n",
       "       'Road_Surface_Conditions', 'Carriageway_Hazards', 'Hour'],\n",
       "      dtype='object')"
      ]
     },
     "execution_count": 37,
     "metadata": {},
     "output_type": "execute_result"
    }
   ],
   "source": [
    "dfa.columns"
   ]
  },
  {
   "cell_type": "code",
   "execution_count": 38,
   "metadata": {},
   "outputs": [
    {
     "data": {
      "text/plain": [
       "Police_Force               int64\n",
       "Accident_Severity          int64\n",
       "Number_of_Vehicles         int64\n",
       "Number_of_Casualties       int64\n",
       "Day_of_Week                int64\n",
       "1st_Road_Class             int64\n",
       "Road_Type                  int64\n",
       "Speed_limit                int64\n",
       "Light_Conditions           int64\n",
       "Weather_Conditions         int64\n",
       "Road_Surface_Conditions    int64\n",
       "Carriageway_Hazards        int64\n",
       "Hour                       int64\n",
       "dtype: object"
      ]
     },
     "execution_count": 38,
     "metadata": {},
     "output_type": "execute_result"
    }
   ],
   "source": [
    "dfa.dtypes"
   ]
  },
  {
   "cell_type": "code",
   "execution_count": 15,
   "metadata": {},
   "outputs": [
    {
     "data": {
      "text/html": [
       "<div>\n",
       "<style scoped>\n",
       "    .dataframe tbody tr th:only-of-type {\n",
       "        vertical-align: middle;\n",
       "    }\n",
       "\n",
       "    .dataframe tbody tr th {\n",
       "        vertical-align: top;\n",
       "    }\n",
       "\n",
       "    .dataframe thead th {\n",
       "        text-align: right;\n",
       "    }\n",
       "</style>\n",
       "<table border=\"1\" class=\"dataframe\">\n",
       "  <thead>\n",
       "    <tr style=\"text-align: right;\">\n",
       "      <th></th>\n",
       "      <th>Police_Force</th>\n",
       "      <th>Accident_Severity</th>\n",
       "      <th>Number_of_Vehicles</th>\n",
       "      <th>Number_of_Casualties</th>\n",
       "      <th>Day_of_Week</th>\n",
       "      <th>1st_Road_Class</th>\n",
       "      <th>Road_Type</th>\n",
       "      <th>Speed_limit</th>\n",
       "      <th>Light_Conditions</th>\n",
       "      <th>Weather_Conditions</th>\n",
       "      <th>Road_Surface_Conditions</th>\n",
       "      <th>Carriageway_Hazards</th>\n",
       "      <th>Hour</th>\n",
       "    </tr>\n",
       "    <tr>\n",
       "      <th>Accident_Index</th>\n",
       "      <th></th>\n",
       "      <th></th>\n",
       "      <th></th>\n",
       "      <th></th>\n",
       "      <th></th>\n",
       "      <th></th>\n",
       "      <th></th>\n",
       "      <th></th>\n",
       "      <th></th>\n",
       "      <th></th>\n",
       "      <th></th>\n",
       "      <th></th>\n",
       "      <th></th>\n",
       "    </tr>\n",
       "  </thead>\n",
       "  <tbody>\n",
       "    <tr>\n",
       "      <th>197901A11AD14</th>\n",
       "      <td>1</td>\n",
       "      <td>3</td>\n",
       "      <td>2</td>\n",
       "      <td>1</td>\n",
       "      <td>5</td>\n",
       "      <td>3</td>\n",
       "      <td>1</td>\n",
       "      <td>30</td>\n",
       "      <td>1</td>\n",
       "      <td>8</td>\n",
       "      <td>1</td>\n",
       "      <td>0</td>\n",
       "      <td>8</td>\n",
       "    </tr>\n",
       "    <tr>\n",
       "      <th>197901A1BAW34</th>\n",
       "      <td>1</td>\n",
       "      <td>3</td>\n",
       "      <td>1</td>\n",
       "      <td>1</td>\n",
       "      <td>2</td>\n",
       "      <td>6</td>\n",
       "      <td>9</td>\n",
       "      <td>30</td>\n",
       "      <td>4</td>\n",
       "      <td>8</td>\n",
       "      <td>3</td>\n",
       "      <td>0</td>\n",
       "      <td>1</td>\n",
       "    </tr>\n",
       "    <tr>\n",
       "      <th>197901A1BFD77</th>\n",
       "      <td>1</td>\n",
       "      <td>3</td>\n",
       "      <td>2</td>\n",
       "      <td>3</td>\n",
       "      <td>2</td>\n",
       "      <td>3</td>\n",
       "      <td>9</td>\n",
       "      <td>30</td>\n",
       "      <td>4</td>\n",
       "      <td>8</td>\n",
       "      <td>3</td>\n",
       "      <td>0</td>\n",
       "      <td>1</td>\n",
       "    </tr>\n",
       "    <tr>\n",
       "      <th>197901A1BGF95</th>\n",
       "      <td>1</td>\n",
       "      <td>2</td>\n",
       "      <td>2</td>\n",
       "      <td>1</td>\n",
       "      <td>2</td>\n",
       "      <td>3</td>\n",
       "      <td>6</td>\n",
       "      <td>30</td>\n",
       "      <td>4</td>\n",
       "      <td>3</td>\n",
       "      <td>3</td>\n",
       "      <td>0</td>\n",
       "      <td>1</td>\n",
       "    </tr>\n",
       "    <tr>\n",
       "      <th>197901A1CBC96</th>\n",
       "      <td>1</td>\n",
       "      <td>3</td>\n",
       "      <td>1</td>\n",
       "      <td>1</td>\n",
       "      <td>2</td>\n",
       "      <td>3</td>\n",
       "      <td>6</td>\n",
       "      <td>30</td>\n",
       "      <td>4</td>\n",
       "      <td>8</td>\n",
       "      <td>3</td>\n",
       "      <td>0</td>\n",
       "      <td>2</td>\n",
       "    </tr>\n",
       "    <tr>\n",
       "      <th>...</th>\n",
       "      <td>...</td>\n",
       "      <td>...</td>\n",
       "      <td>...</td>\n",
       "      <td>...</td>\n",
       "      <td>...</td>\n",
       "      <td>...</td>\n",
       "      <td>...</td>\n",
       "      <td>...</td>\n",
       "      <td>...</td>\n",
       "      <td>...</td>\n",
       "      <td>...</td>\n",
       "      <td>...</td>\n",
       "      <td>...</td>\n",
       "    </tr>\n",
       "    <tr>\n",
       "      <th>199097KB65007</th>\n",
       "      <td>97</td>\n",
       "      <td>3</td>\n",
       "      <td>2</td>\n",
       "      <td>1</td>\n",
       "      <td>6</td>\n",
       "      <td>1</td>\n",
       "      <td>3</td>\n",
       "      <td>70</td>\n",
       "      <td>1</td>\n",
       "      <td>1</td>\n",
       "      <td>1</td>\n",
       "      <td>0</td>\n",
       "      <td>15</td>\n",
       "    </tr>\n",
       "    <tr>\n",
       "      <th>199097KB65008</th>\n",
       "      <td>97</td>\n",
       "      <td>3</td>\n",
       "      <td>2</td>\n",
       "      <td>1</td>\n",
       "      <td>1</td>\n",
       "      <td>4</td>\n",
       "      <td>6</td>\n",
       "      <td>30</td>\n",
       "      <td>1</td>\n",
       "      <td>2</td>\n",
       "      <td>2</td>\n",
       "      <td>0</td>\n",
       "      <td>17</td>\n",
       "    </tr>\n",
       "    <tr>\n",
       "      <th>199097KB65103</th>\n",
       "      <td>97</td>\n",
       "      <td>3</td>\n",
       "      <td>2</td>\n",
       "      <td>1</td>\n",
       "      <td>7</td>\n",
       "      <td>5</td>\n",
       "      <td>6</td>\n",
       "      <td>30</td>\n",
       "      <td>4</td>\n",
       "      <td>1</td>\n",
       "      <td>2</td>\n",
       "      <td>0</td>\n",
       "      <td>21</td>\n",
       "    </tr>\n",
       "    <tr>\n",
       "      <th>199097KB65201</th>\n",
       "      <td>97</td>\n",
       "      <td>3</td>\n",
       "      <td>1</td>\n",
       "      <td>1</td>\n",
       "      <td>4</td>\n",
       "      <td>5</td>\n",
       "      <td>6</td>\n",
       "      <td>60</td>\n",
       "      <td>1</td>\n",
       "      <td>1</td>\n",
       "      <td>1</td>\n",
       "      <td>0</td>\n",
       "      <td>14</td>\n",
       "    </tr>\n",
       "    <tr>\n",
       "      <th>199097KB65203</th>\n",
       "      <td>97</td>\n",
       "      <td>3</td>\n",
       "      <td>2</td>\n",
       "      <td>1</td>\n",
       "      <td>5</td>\n",
       "      <td>4</td>\n",
       "      <td>6</td>\n",
       "      <td>60</td>\n",
       "      <td>6</td>\n",
       "      <td>4</td>\n",
       "      <td>2</td>\n",
       "      <td>0</td>\n",
       "      <td>21</td>\n",
       "    </tr>\n",
       "  </tbody>\n",
       "</table>\n",
       "<p>2875222 rows × 13 columns</p>\n",
       "</div>"
      ],
      "text/plain": [
       "               Police_Force Accident_Severity  Number_of_Vehicles  \\\n",
       "Accident_Index                                                      \n",
       "197901A11AD14             1                 3                   2   \n",
       "197901A1BAW34             1                 3                   1   \n",
       "197901A1BFD77             1                 3                   2   \n",
       "197901A1BGF95             1                 2                   2   \n",
       "197901A1CBC96             1                 3                   1   \n",
       "...                     ...               ...                 ...   \n",
       "199097KB65007            97                 3                   2   \n",
       "199097KB65008            97                 3                   2   \n",
       "199097KB65103            97                 3                   2   \n",
       "199097KB65201            97                 3                   1   \n",
       "199097KB65203            97                 3                   2   \n",
       "\n",
       "                Number_of_Casualties Day_of_Week 1st_Road_Class Road_Type  \\\n",
       "Accident_Index                                                              \n",
       "197901A11AD14                      1           5              3         1   \n",
       "197901A1BAW34                      1           2              6         9   \n",
       "197901A1BFD77                      3           2              3         9   \n",
       "197901A1BGF95                      1           2              3         6   \n",
       "197901A1CBC96                      1           2              3         6   \n",
       "...                              ...         ...            ...       ...   \n",
       "199097KB65007                      1           6              1         3   \n",
       "199097KB65008                      1           1              4         6   \n",
       "199097KB65103                      1           7              5         6   \n",
       "199097KB65201                      1           4              5         6   \n",
       "199097KB65203                      1           5              4         6   \n",
       "\n",
       "               Speed_limit Light_Conditions Weather_Conditions  \\\n",
       "Accident_Index                                                   \n",
       "197901A11AD14           30                1                  8   \n",
       "197901A1BAW34           30                4                  8   \n",
       "197901A1BFD77           30                4                  8   \n",
       "197901A1BGF95           30                4                  3   \n",
       "197901A1CBC96           30                4                  8   \n",
       "...                    ...              ...                ...   \n",
       "199097KB65007           70                1                  1   \n",
       "199097KB65008           30                1                  2   \n",
       "199097KB65103           30                4                  1   \n",
       "199097KB65201           60                1                  1   \n",
       "199097KB65203           60                6                  4   \n",
       "\n",
       "               Road_Surface_Conditions Carriageway_Hazards Hour  \n",
       "Accident_Index                                                   \n",
       "197901A11AD14                        1                   0    8  \n",
       "197901A1BAW34                        3                   0    1  \n",
       "197901A1BFD77                        3                   0    1  \n",
       "197901A1BGF95                        3                   0    1  \n",
       "197901A1CBC96                        3                   0    2  \n",
       "...                                ...                 ...  ...  \n",
       "199097KB65007                        1                   0   15  \n",
       "199097KB65008                        2                   0   17  \n",
       "199097KB65103                        2                   0   21  \n",
       "199097KB65201                        1                   0   14  \n",
       "199097KB65203                        2                   0   21  \n",
       "\n",
       "[2875222 rows x 13 columns]"
      ]
     },
     "execution_count": 15,
     "metadata": {},
     "output_type": "execute_result"
    }
   ],
   "source": [
    "cat_features = ['Accident_Severity',\n",
    "       'Police_Force', 'Day_of_Week', '1st_Road_Class', 'Road_Type',\n",
    "       'Speed_limit', 'Light_Conditions', 'Weather_Conditions',\n",
    "       'Road_Surface_Conditions', 'Carriageway_Hazards', 'Hour']\n",
    "\n",
    "num_features = ['Number_of_Vehicles','Number_of_Casualties']\n",
    "\n",
    "\n",
    "dfa[cat_features] = dfa[cat_features].astype('str')\n",
    "dfa[num_features] = dfa[num_features].astype('int64')\n",
    "dfa"
   ]
  },
  {
   "cell_type": "code",
   "execution_count": 39,
   "metadata": {},
   "outputs": [],
   "source": [
    "dfa = pd.DataFrame(dfa, columns= ['Accident_Severity','Number_of_Vehicles',\n",
    " 'Number_of_Casualties',\n",
    " 'Police_Force',\n",
    " 'Day_of_Week',\n",
    " '1st_Road_Class',\n",
    " 'Road_Type',\n",
    " 'Speed_limit',\n",
    " 'Light_Conditions',\n",
    " 'Weather_Conditions',\n",
    " 'Road_Surface_Conditions',\n",
    " 'Carriageway_Hazards',\n",
    " 'Hour'])"
   ]
  },
  {
   "cell_type": "code",
   "execution_count": 40,
   "metadata": {},
   "outputs": [],
   "source": [
    "def evaluate(X_test, ys_test, ys_hat):\n",
    "    #plt.scatter(X_test, ys_test)\n",
    "    #plt.scatter(X_test, ys_hat)\n",
    "\n",
    "    mse = mean_squared_error(ys_test, ys_hat)\n",
    "    mae = mean_absolute_error(ys_test, ys_hat)\n",
    "    mape = np.mean(np.abs(ys_test - ys_hat) / ys_test)\n",
    "    ev = explained_variance_score(ys_test, ys_hat)\n",
    "    f1s = f1_score(y_test,ys_hat)\n",
    "\n",
    "    return mse, mae, mape, ev, f1s"
   ]
  },
  {
   "cell_type": "code",
   "execution_count": 57,
   "metadata": {},
   "outputs": [
    {
     "name": "stderr",
     "output_type": "stream",
     "text": [
      "C:\\Users\\hexen\\anaconda3\\envs\\tfm\\lib\\site-packages\\sklearn\\utils\\validation.py:63: DataConversionWarning: A column-vector y was passed when a 1d array was expected. Please change the shape of y to (n_samples, ), for example using ravel().\n",
      "  return f(*args, **kwargs)\n"
     ]
    },
    {
     "name": "stdout",
     "output_type": "stream",
     "text": [
      "Accuracy: 73.94\n",
      "Recall: 0.7393910601254768\n",
      "f1 score: 0.6654697641302875\n",
      "Precision: 0.6847067597059202\n"
     ]
    }
   ],
   "source": [
    "\n",
    "#Creating matrix of dependent and independent variable\n",
    "\n",
    "# independent variables representing with X\n",
    "\n",
    "X=dfa.iloc[:,1:].values\n",
    "\n",
    "Y=dfa.iloc[:,0:1]\n",
    "\n",
    "#########################################################\n",
    "\n",
    "#Taking of missing data with help of SimpleImputer class\n",
    "\n",
    "#from sklearn.impute import SimpleImputer as si\n",
    "\n",
    "#imputer=si(missing_values=np.NaN, strategy=\"mean\")\n",
    "\n",
    "#imputer=imputer.fit(X[:,1:3])\n",
    "\n",
    "#X[:,1:3]=imputer.transform(X[:,1:3])\n",
    "\n",
    "############################################ \n",
    "\n",
    "#Encoding the Categorical data from dataset\n",
    "\n",
    "from sklearn.preprocessing import LabelEncoder, OneHotEncoder\n",
    "\n",
    "labelencoder_X=LabelEncoder()\n",
    "\n",
    "\n",
    "X[:,3]=labelencoder_X.fit_transform(X[:,3])\n",
    "\n",
    "onehotencoder=OneHotEncoder(categories='auto')\n",
    "\n",
    "X=onehotencoder.fit_transform(X).toarray()\n",
    "\n",
    " \n",
    "\n",
    "labelencoder_Y=LabelEncoder()\n",
    "\n",
    "Y=labelencoder_Y.fit_transform(Y)\n",
    "\n",
    "######################################################\n",
    "\n",
    "#Splitting the dataset into training set and test set\n",
    "\n",
    "from sklearn.model_selection import train_test_split\n",
    "\n",
    "X_train, X_test, y_train, y_test = train_test_split(X,Y)\n",
    "#, test_size=0.2, random_state=0\n",
    "##################################\n",
    "\n",
    "#Feature scaling\n",
    "\n",
    "from sklearn.preprocessing import StandardScaler\n",
    "\n",
    "scale_X=StandardScaler()\n",
    "\n",
    "X_train=scale_X.fit_transform(X_train)\n",
    "\n",
    "X_test=scale_X.transform(X_test)\n",
    "\n",
    "\n",
    "##################################\n",
    "model = LogisticRegression()\n",
    "# fit on the training set\n",
    "model.fit(X_train, y_train)\n",
    "# predict on test set\n",
    "yhat = model.predict(X_test)\n",
    "yhat = yhat.reshape(71567 ,1)\n",
    "# evaluate predictions\n",
    "accuracy = accuracy_score(y_test, yhat)\n",
    "recall = recall_score(y_test, yhat,average='weighted')\n",
    "f1score =  f1_score(y_test, yhat,average='weighted')\n",
    "precision = precision_score(y_test, yhat,average='weighted')\n",
    "\n",
    "print('Accuracy: %.2f' % (accuracy*100))\n",
    "print('Recall:',recall)\n",
    "print('f1 score:',f1score)\n",
    "print('Precision:',precision)\n",
    "\n",
    "#evaluate(X_test,y_test,yhat)"
   ]
  },
  {
   "cell_type": "code",
   "execution_count": 52,
   "metadata": {},
   "outputs": [
    {
     "name": "stdout",
     "output_type": "stream",
     "text": [
      "[[ 1.18711330e-01 -1.16144447e-01 -5.51554987e-03  6.08806380e-03\n",
      "   7.96080775e-03  2.90970037e-03  2.52527775e-03 -7.25337497e-04\n",
      "  -3.47993455e-02  2.63706402e-03 -3.00701793e-03  1.05759955e-02\n",
      "  -1.84943474e-02 -1.78530384e-02 -2.15596615e-03 -5.68888022e-03\n",
      "  -5.13378845e-03 -2.29581350e-03 -1.06445613e-03 -1.23205241e-01\n",
      "   4.45559494e-02  8.27357938e-02  6.86827573e-02  7.93519183e-02\n",
      "   5.13795661e-02  4.14492369e-02  1.89115626e-02  2.20766780e-02\n",
      "   6.84059974e-03  1.28213456e-02  6.28924321e-03  9.39505813e-03\n",
      "  -1.64633864e-02 -7.93285586e-03 -1.21002535e-02  1.94622419e-02\n",
      "   0.00000000e+00 -1.06445613e-03 -4.13241053e-03  1.59016048e-02\n",
      "   0.00000000e+00  1.75942552e-02  0.00000000e+00 -4.73263331e-03\n",
      "   1.32324151e-02 -3.98300464e-03  0.00000000e+00 -2.75625798e-03\n",
      "  -1.77083273e-03 -1.80762052e-03 -3.22980112e-03  0.00000000e+00\n",
      "   1.66618779e-02 -4.49932920e-03 -5.12429301e-02  1.07364315e-03\n",
      "   3.24306821e-02  2.10495578e-02  6.36109419e-03  2.26782090e-02\n",
      "   1.60643788e-02  1.63572533e-03  4.66624516e-03  3.23112932e-02\n",
      "   1.56457900e-02  1.00001647e-02  3.02007790e-02  2.11576951e-02\n",
      "  -7.13765267e-03 -7.40476170e-03  7.95069450e-03  6.69839216e-03\n",
      "   8.93361945e-03  2.61283529e-03  4.26018416e-03  6.43904737e-03\n",
      "   1.04026457e-02  1.02274924e-02  9.71329802e-06 -8.52260853e-03\n",
      "  -1.68001720e-02 -1.16088623e-02  9.87435378e-04 -1.74234791e-02\n",
      "  -1.24194849e-02 -1.08783656e-02  5.50637111e-03 -1.44065276e-02\n",
      "  -2.02012067e-02  5.57405290e-03 -2.29982527e-02 -2.18374940e-03\n",
      "  -3.42022203e-02  5.65244131e-03  3.92813515e-04  3.29803178e-04\n",
      "  -8.44885355e-03  1.00523100e-02  1.08516192e-02  2.69513715e-03\n",
      "  -1.42568373e-03 -8.02837335e-03  2.47690698e-02  2.86222790e-02\n",
      "   1.92430397e-02 -4.89787120e-02  1.13879269e-02  7.59400454e-03\n",
      "   1.37635729e-02  2.21641622e-02  2.77964275e-03 -1.31065050e-02\n",
      "  -2.08398216e-02 -4.82257919e-03  7.26105680e-02  8.90021714e-03\n",
      "  -1.51795632e-02 -7.26201722e-02 -9.80514145e-02  3.42337723e-02\n",
      "   1.32297940e-02  2.19475304e-03 -6.81614204e-03 -5.04568325e-02\n",
      "   8.26078894e-03 -4.92299260e-02 -5.42861195e-03 -1.15700264e-01\n",
      "  -2.43362929e-03 -1.19988809e-02 -1.24442545e-02 -2.39914457e-03\n",
      "  -4.25162055e-03 -2.48332225e-03  1.20686980e-02  8.65962443e-03\n",
      "   7.92569565e-02 -2.37761092e-03  8.53571064e-02 -6.75279189e-02\n",
      "   6.73291786e-02  2.12463928e-02  7.36850228e-03 -1.67299404e-02\n",
      "   2.83748877e-02 -2.71392771e-02 -2.21155460e-03  1.02523274e-02\n",
      "  -1.51285711e-02 -1.17946939e-02  3.44541149e-03 -7.07316392e-03\n",
      "  -2.40026740e-03  2.24170883e-02  3.15599441e-02 -6.16906191e-02\n",
      "  -8.05376462e-02 -1.42433210e-02  1.10942058e-02  2.61546776e-03\n",
      "  -1.53040649e-02  8.05567285e-03  1.00035919e-02 -4.74518408e-03\n",
      "  -6.27112009e-03 -1.55215821e-04  9.68057991e-03  1.87846473e-02\n",
      "   2.09602465e-02  1.06144415e-02 -6.65115511e-02  6.98515004e-03\n",
      "   1.97198866e-02  1.57577904e-04  4.12555403e-03 -3.74627223e-03\n",
      "   2.28985559e-02  2.08580695e-02 -1.83683834e-03 -3.45774639e-02\n",
      "   5.70373573e-03  7.10349207e-03 -1.50794539e-02 -1.80311705e-02\n",
      "   2.30143182e-02  1.40956763e-02]\n",
      " [ 2.46762517e-04  1.70046646e-02 -2.33319069e-02 -2.12864219e-02\n",
      "  -1.59050740e-02 -3.42663449e-03 -3.82118882e-04  1.34096525e-03\n",
      "   1.86028953e-02 -1.63366901e-03 -7.51699552e-03 -1.85836456e-02\n",
      "   8.10872401e-03  7.85199679e-03 -8.43228109e-03 -8.86964051e-03\n",
      "  -9.89187667e-03 -8.14229985e-03  7.17208746e-03 -1.63256737e-02\n",
      "   1.07471475e-03  1.10595457e-02  1.99785949e-02  7.97488629e-03\n",
      "   9.01111596e-03  5.09716935e-03  7.73608515e-03  3.93755047e-03\n",
      "   2.60299540e-03 -3.19440747e-03  4.05064286e-03 -5.96613341e-03\n",
      "   1.06979753e-02  2.95101677e-02  7.36931956e-03  8.45440070e-03\n",
      "   0.00000000e+00  7.17208746e-03  1.35288305e-02 -8.09685552e-03\n",
      "   0.00000000e+00 -7.90657086e-03  0.00000000e+00  1.36441459e-02\n",
      "   7.24255321e-03  1.43532247e-02  0.00000000e+00 -8.21465830e-03\n",
      "  -8.79860919e-03  1.25326998e-02  1.34899147e-02  0.00000000e+00\n",
      "  -7.47458193e-03  1.34957340e-02 -9.47059005e-02  4.93067731e-03\n",
      "  -2.03331122e-02 -3.17539965e-02 -3.70810629e-02 -2.16232163e-02\n",
      "  -8.07793094e-03 -6.01845611e-03  3.80190637e-02 -2.50720394e-02\n",
      "  -9.09855006e-03 -9.76579388e-03 -2.89316373e-02  5.34533161e-03\n",
      "  -4.47316115e-03  2.38608707e-02  2.55201459e-02  9.15568092e-03\n",
      "   9.41885266e-03  6.32239107e-03  5.84197527e-03  4.13073689e-02\n",
      "   7.50376068e-03  1.94250395e-02  2.41182153e-02 -2.70617737e-03\n",
      "   1.67212782e-02  1.94369828e-02  3.14829029e-02  4.50950619e-02\n",
      "   8.71044335e-03  2.95144977e-02 -5.09431883e-03  2.98174194e-04\n",
      "   3.81927292e-02  2.18227173e-02  4.62614499e-02  5.62839904e-03\n",
      "   3.01003873e-02 -4.09253104e-03  4.96660829e-03  6.97470681e-03\n",
      "   3.48186767e-02  1.35468347e-02 -3.58365244e-03  2.68782771e-02\n",
      "   9.07173525e-03  2.61148702e-02  2.58841916e-03  1.52363590e-02\n",
      "  -2.24886278e-02  3.16714640e-02 -6.51104328e-03 -1.03662109e-02\n",
      "  -1.05973379e-02 -1.11821093e-02  9.06323019e-04  8.54442539e-03\n",
      "  -4.61279201e-03  8.02452269e-04 -3.90781766e-02 -9.40318562e-04\n",
      "   1.25390061e-02  3.76539632e-02  7.52827285e-03 -2.07610539e-02\n",
      "   1.01362210e-02  1.82310031e-04  4.16844316e-04  2.08392301e-02\n",
      "  -1.34799893e-02  2.07250995e-02 -1.58509575e-02  1.69894463e-02\n",
      "  -7.44384569e-03  6.63254962e-03  6.37060318e-03  1.27416522e-02\n",
      "  -1.39102683e-02 -8.83035273e-03 -1.90657020e-04 -4.03375605e-03\n",
      "  -1.74189000e-02 -8.59725290e-03 -7.84552708e-03  9.19095815e-03\n",
      "  -6.85670115e-03 -4.62030505e-03 -4.77190236e-03  1.78355902e-03\n",
      "  -4.53555874e-03  6.11982371e-03 -3.24982461e-03  1.50010795e-03\n",
      "   7.15214004e-03  7.41766738e-03 -1.73957843e-03 -5.85034598e-05\n",
      "  -1.45627447e-02  7.41498060e-05 -1.08520547e-02  1.11272310e-02\n",
      "   1.65116587e-02  3.74230914e-03 -3.46965878e-03 -1.41592783e-03\n",
      "   3.02096779e-03  3.44104202e-03  2.04244300e-03  6.82315720e-03\n",
      "   7.04400149e-03  2.01489980e-03 -6.75129947e-03 -2.26760719e-03\n",
      "  -3.39652918e-03  3.43231874e-03  2.07873591e-02 -1.45153240e-02\n",
      "  -2.08944417e-02 -1.54497618e-02 -1.52190356e-02 -2.28612060e-03\n",
      "  -1.81215458e-02 -1.37505436e-02 -1.00709182e-05  1.94569186e-02\n",
      "   8.58426579e-03 -1.13446248e-03  1.07951130e-02  1.52517511e-02\n",
      "   2.63408791e-03  8.57655582e-03]\n",
      " [-1.18958093e-01  9.91397829e-02  2.88474568e-02  1.51983581e-02\n",
      "   7.94426626e-03  5.16934119e-04 -2.14315887e-03 -6.15627758e-04\n",
      "   1.61964502e-02 -1.00339501e-03  1.05240134e-02  8.00765011e-03\n",
      "   1.03856234e-02  1.00010416e-02  1.05882472e-02  1.45585207e-02\n",
      "   1.50256651e-02  1.04381133e-02 -6.10763134e-03  1.39530914e-01\n",
      "  -4.56306642e-02 -9.37953395e-02 -8.86613522e-02 -8.73268046e-02\n",
      "  -6.03906821e-02 -4.65464062e-02 -2.66476477e-02 -2.60142284e-02\n",
      "  -9.44359514e-03 -9.62693815e-03 -1.03398861e-02 -3.42892472e-03\n",
      "   5.76541114e-03 -2.15773119e-02  4.73093398e-03 -2.79166426e-02\n",
      "   0.00000000e+00 -6.10763134e-03 -9.39641996e-03 -7.80474931e-03\n",
      "   0.00000000e+00 -9.68768435e-03  0.00000000e+00 -8.91151257e-03\n",
      "  -2.04749683e-02 -1.03702201e-02  0.00000000e+00  1.09709163e-02\n",
      "   1.05694419e-02 -1.07250793e-02 -1.02601135e-02  0.00000000e+00\n",
      "  -9.18729596e-03 -8.99640480e-03  1.45948831e-01 -6.00432047e-03\n",
      "  -1.20975699e-02  1.07044387e-02  3.07199687e-02 -1.05499271e-03\n",
      "  -7.98644787e-03  4.38273078e-03 -4.26853089e-02 -7.23925377e-03\n",
      "  -6.54723996e-03 -2.34370812e-04 -1.26914173e-03 -2.65030267e-02\n",
      "   1.16108138e-02 -1.64561090e-02 -3.34708404e-02 -1.58540731e-02\n",
      "  -1.83524721e-02 -8.93522636e-03 -1.01021594e-02 -4.77464163e-02\n",
      "  -1.79064064e-02 -2.96525320e-02 -2.41279286e-02  1.12287859e-02\n",
      "   7.88937355e-05 -7.82812044e-03 -3.24703383e-02 -2.76715828e-02\n",
      "   3.70904157e-03 -1.86361321e-02 -4.12052285e-04  1.41083534e-02\n",
      "  -1.79915225e-02 -2.73967702e-02 -2.32631972e-02 -3.44464963e-03\n",
      "   4.10183296e-03 -1.55991026e-03 -5.35942180e-03 -7.30450999e-03\n",
      "  -2.63698231e-02 -2.35991447e-02 -7.26796674e-03 -2.95734142e-02\n",
      "  -7.64605152e-03 -1.80864968e-02 -2.73574890e-02 -4.38586380e-02\n",
      "   3.24558812e-03  1.73072479e-02 -4.87688364e-03  2.77220634e-03\n",
      "  -3.16623506e-03 -1.09820529e-02 -3.68596577e-03  4.56207960e-03\n",
      "   2.54526136e-02  4.02012692e-03 -3.35323914e-02 -7.95989857e-03\n",
      "   2.64055712e-03  3.49662091e-02  9.05231417e-02 -1.34727184e-02\n",
      "  -2.33660149e-02 -2.37706307e-03  6.39929772e-03  2.96176024e-02\n",
      "   5.21920035e-03  2.85048265e-02  2.12795694e-02  9.87108176e-02\n",
      "   9.87747497e-03  5.36633127e-03  6.07365130e-03 -1.03425076e-02\n",
      "   1.81618888e-02  1.13136750e-02 -1.18780409e-02 -4.62586838e-03\n",
      "  -6.18380565e-02  1.09748638e-02 -7.75115793e-02  5.83369607e-02\n",
      "  -6.04724774e-02 -1.66260878e-02 -2.59659992e-03  1.49463814e-02\n",
      "  -2.38393290e-02  2.10194534e-02  5.46137921e-03 -1.17524354e-02\n",
      "   7.97643105e-03  4.37702656e-03 -1.70583306e-03  7.13166738e-03\n",
      "   1.69630121e-02 -2.24912382e-02 -2.07078894e-02  5.05633881e-02\n",
      "   6.40259875e-02  1.05010119e-02 -7.62454703e-03 -1.19953993e-03\n",
      "   1.22830972e-02 -1.14967149e-02 -1.20460349e-02 -2.07797312e-03\n",
      "  -7.72881402e-04 -1.85968398e-03 -2.92928044e-03 -1.65170402e-02\n",
      "  -1.75637173e-02 -1.40467603e-02  4.57241919e-02  7.53017398e-03\n",
      "   1.17455511e-03  1.52921839e-02  1.10934815e-02  6.03239283e-03\n",
      "  -4.77701013e-03 -7.10752593e-03  1.84690926e-03  1.51205453e-02\n",
      "  -1.42880015e-02 -5.96902959e-03  4.28434084e-03  2.77941933e-03\n",
      "  -2.56484061e-02 -2.26722321e-02]]\n"
     ]
    }
   ],
   "source": [
    "print(model.coef_)"
   ]
  },
  {
   "cell_type": "code",
   "execution_count": 159,
   "metadata": {},
   "outputs": [],
   "source": [
    "X_train, X_test, y_train, y_test = train_test_split(features, target)"
   ]
  },
  {
   "cell_type": "code",
   "execution_count": null,
   "metadata": {},
   "outputs": [],
   "source": []
  },
  {
   "cell_type": "code",
   "execution_count": 95,
   "metadata": {},
   "outputs": [
    {
     "ename": "KeyError",
     "evalue": "\"['Accident_Severity'] not in index\"",
     "output_type": "error",
     "traceback": [
      "\u001b[1;31m---------------------------------------------------------------------------\u001b[0m",
      "\u001b[1;31mKeyError\u001b[0m                                  Traceback (most recent call last)",
      "\u001b[1;32m<ipython-input-95-2ee95b43d9c3>\u001b[0m in \u001b[0;36m<module>\u001b[1;34m\u001b[0m\n\u001b[0;32m      9\u001b[0m \u001b[1;31m# Scale and Encode Separate Columns\u001b[0m\u001b[1;33m\u001b[0m\u001b[1;33m\u001b[0m\u001b[1;33m\u001b[0m\u001b[0m\n\u001b[0;32m     10\u001b[0m \u001b[0mscaled_columns\u001b[0m  \u001b[1;33m=\u001b[0m \u001b[0mscaler\u001b[0m\u001b[1;33m.\u001b[0m\u001b[0mfit_transform\u001b[0m\u001b[1;33m(\u001b[0m\u001b[0mfeatures\u001b[0m\u001b[1;33m[\u001b[0m\u001b[0mcolumns_to_scale\u001b[0m\u001b[1;33m]\u001b[0m\u001b[1;33m)\u001b[0m\u001b[1;33m\u001b[0m\u001b[1;33m\u001b[0m\u001b[0m\n\u001b[1;32m---> 11\u001b[1;33m \u001b[0mencoded_columns\u001b[0m \u001b[1;33m=\u001b[0m    \u001b[0mohe\u001b[0m\u001b[1;33m.\u001b[0m\u001b[0mfit_transform\u001b[0m\u001b[1;33m(\u001b[0m\u001b[0mfeatures\u001b[0m\u001b[1;33m[\u001b[0m\u001b[0mcolumns_to_encode\u001b[0m\u001b[1;33m]\u001b[0m\u001b[1;33m)\u001b[0m\u001b[1;33m.\u001b[0m\u001b[0mreshape\u001b[0m\u001b[1;33m(\u001b[0m\u001b[1;33m-\u001b[0m\u001b[1;36m1\u001b[0m\u001b[1;33m,\u001b[0m\u001b[1;36m1\u001b[0m\u001b[1;33m)\u001b[0m\u001b[1;33m\u001b[0m\u001b[1;33m\u001b[0m\u001b[0m\n\u001b[0m\u001b[0;32m     12\u001b[0m \u001b[0mencoded_target\u001b[0m \u001b[1;33m=\u001b[0m \u001b[0mohe\u001b[0m\u001b[1;33m.\u001b[0m\u001b[0mfit_transform\u001b[0m\u001b[1;33m(\u001b[0m\u001b[0mtarget\u001b[0m\u001b[1;33m)\u001b[0m\u001b[1;33m.\u001b[0m\u001b[0mreshape\u001b[0m\u001b[1;33m(\u001b[0m\u001b[1;33m-\u001b[0m\u001b[1;36m1\u001b[0m\u001b[1;33m,\u001b[0m\u001b[1;36m1\u001b[0m\u001b[1;33m)\u001b[0m\u001b[1;33m\u001b[0m\u001b[1;33m\u001b[0m\u001b[0m\n\u001b[0;32m     13\u001b[0m \u001b[1;33m\u001b[0m\u001b[0m\n",
      "\u001b[1;32m~\\anaconda3\\envs\\tfm\\lib\\site-packages\\pandas\\core\\frame.py\u001b[0m in \u001b[0;36m__getitem__\u001b[1;34m(self, key)\u001b[0m\n\u001b[0;32m   3028\u001b[0m             \u001b[1;32mif\u001b[0m \u001b[0mis_iterator\u001b[0m\u001b[1;33m(\u001b[0m\u001b[0mkey\u001b[0m\u001b[1;33m)\u001b[0m\u001b[1;33m:\u001b[0m\u001b[1;33m\u001b[0m\u001b[1;33m\u001b[0m\u001b[0m\n\u001b[0;32m   3029\u001b[0m                 \u001b[0mkey\u001b[0m \u001b[1;33m=\u001b[0m \u001b[0mlist\u001b[0m\u001b[1;33m(\u001b[0m\u001b[0mkey\u001b[0m\u001b[1;33m)\u001b[0m\u001b[1;33m\u001b[0m\u001b[1;33m\u001b[0m\u001b[0m\n\u001b[1;32m-> 3030\u001b[1;33m             \u001b[0mindexer\u001b[0m \u001b[1;33m=\u001b[0m \u001b[0mself\u001b[0m\u001b[1;33m.\u001b[0m\u001b[0mloc\u001b[0m\u001b[1;33m.\u001b[0m\u001b[0m_get_listlike_indexer\u001b[0m\u001b[1;33m(\u001b[0m\u001b[0mkey\u001b[0m\u001b[1;33m,\u001b[0m \u001b[0maxis\u001b[0m\u001b[1;33m=\u001b[0m\u001b[1;36m1\u001b[0m\u001b[1;33m,\u001b[0m \u001b[0mraise_missing\u001b[0m\u001b[1;33m=\u001b[0m\u001b[1;32mTrue\u001b[0m\u001b[1;33m)\u001b[0m\u001b[1;33m[\u001b[0m\u001b[1;36m1\u001b[0m\u001b[1;33m]\u001b[0m\u001b[1;33m\u001b[0m\u001b[1;33m\u001b[0m\u001b[0m\n\u001b[0m\u001b[0;32m   3031\u001b[0m \u001b[1;33m\u001b[0m\u001b[0m\n\u001b[0;32m   3032\u001b[0m         \u001b[1;31m# take() does not accept boolean indexers\u001b[0m\u001b[1;33m\u001b[0m\u001b[1;33m\u001b[0m\u001b[1;33m\u001b[0m\u001b[0m\n",
      "\u001b[1;32m~\\anaconda3\\envs\\tfm\\lib\\site-packages\\pandas\\core\\indexing.py\u001b[0m in \u001b[0;36m_get_listlike_indexer\u001b[1;34m(self, key, axis, raise_missing)\u001b[0m\n\u001b[0;32m   1264\u001b[0m             \u001b[0mkeyarr\u001b[0m\u001b[1;33m,\u001b[0m \u001b[0mindexer\u001b[0m\u001b[1;33m,\u001b[0m \u001b[0mnew_indexer\u001b[0m \u001b[1;33m=\u001b[0m \u001b[0max\u001b[0m\u001b[1;33m.\u001b[0m\u001b[0m_reindex_non_unique\u001b[0m\u001b[1;33m(\u001b[0m\u001b[0mkeyarr\u001b[0m\u001b[1;33m)\u001b[0m\u001b[1;33m\u001b[0m\u001b[1;33m\u001b[0m\u001b[0m\n\u001b[0;32m   1265\u001b[0m \u001b[1;33m\u001b[0m\u001b[0m\n\u001b[1;32m-> 1266\u001b[1;33m         \u001b[0mself\u001b[0m\u001b[1;33m.\u001b[0m\u001b[0m_validate_read_indexer\u001b[0m\u001b[1;33m(\u001b[0m\u001b[0mkeyarr\u001b[0m\u001b[1;33m,\u001b[0m \u001b[0mindexer\u001b[0m\u001b[1;33m,\u001b[0m \u001b[0maxis\u001b[0m\u001b[1;33m,\u001b[0m \u001b[0mraise_missing\u001b[0m\u001b[1;33m=\u001b[0m\u001b[0mraise_missing\u001b[0m\u001b[1;33m)\u001b[0m\u001b[1;33m\u001b[0m\u001b[1;33m\u001b[0m\u001b[0m\n\u001b[0m\u001b[0;32m   1267\u001b[0m         \u001b[1;32mreturn\u001b[0m \u001b[0mkeyarr\u001b[0m\u001b[1;33m,\u001b[0m \u001b[0mindexer\u001b[0m\u001b[1;33m\u001b[0m\u001b[1;33m\u001b[0m\u001b[0m\n\u001b[0;32m   1268\u001b[0m \u001b[1;33m\u001b[0m\u001b[0m\n",
      "\u001b[1;32m~\\anaconda3\\envs\\tfm\\lib\\site-packages\\pandas\\core\\indexing.py\u001b[0m in \u001b[0;36m_validate_read_indexer\u001b[1;34m(self, key, indexer, axis, raise_missing)\u001b[0m\n\u001b[0;32m   1314\u001b[0m             \u001b[1;32mif\u001b[0m \u001b[0mraise_missing\u001b[0m\u001b[1;33m:\u001b[0m\u001b[1;33m\u001b[0m\u001b[1;33m\u001b[0m\u001b[0m\n\u001b[0;32m   1315\u001b[0m                 \u001b[0mnot_found\u001b[0m \u001b[1;33m=\u001b[0m \u001b[0mlist\u001b[0m\u001b[1;33m(\u001b[0m\u001b[0mset\u001b[0m\u001b[1;33m(\u001b[0m\u001b[0mkey\u001b[0m\u001b[1;33m)\u001b[0m \u001b[1;33m-\u001b[0m \u001b[0mset\u001b[0m\u001b[1;33m(\u001b[0m\u001b[0max\u001b[0m\u001b[1;33m)\u001b[0m\u001b[1;33m)\u001b[0m\u001b[1;33m\u001b[0m\u001b[1;33m\u001b[0m\u001b[0m\n\u001b[1;32m-> 1316\u001b[1;33m                 \u001b[1;32mraise\u001b[0m \u001b[0mKeyError\u001b[0m\u001b[1;33m(\u001b[0m\u001b[1;34mf\"{not_found} not in index\"\u001b[0m\u001b[1;33m)\u001b[0m\u001b[1;33m\u001b[0m\u001b[1;33m\u001b[0m\u001b[0m\n\u001b[0m\u001b[0;32m   1317\u001b[0m \u001b[1;33m\u001b[0m\u001b[0m\n\u001b[0;32m   1318\u001b[0m             \u001b[0mnot_found\u001b[0m \u001b[1;33m=\u001b[0m \u001b[0mkey\u001b[0m\u001b[1;33m[\u001b[0m\u001b[0mmissing_mask\u001b[0m\u001b[1;33m]\u001b[0m\u001b[1;33m\u001b[0m\u001b[1;33m\u001b[0m\u001b[0m\n",
      "\u001b[1;31mKeyError\u001b[0m: \"['Accident_Severity'] not in index\""
     ]
    }
   ],
   "source": [
    "# Define which columns should be encoded vs scaled\n",
    "columns_to_encode = cat_features\n",
    "columns_to_scale  = num_features\n",
    "\n",
    "# Instantiate encoder/scaler\n",
    "scaler = StandardScaler()\n",
    "ohe    = OneHotEncoder(sparse=False)\n",
    "\n",
    "# Scale and Encode Separate Columns\n",
    "scaled_columns  = scaler.fit_transform(features[columns_to_scale]) \n",
    "encoded_columns =    ohe.fit_transform(features[columns_to_encode]).reshape(-1,1)\n",
    "encoded_target = ohe.fit_transform(target).reshape(-1,1)\n",
    "\n",
    "# Concatenate (Column-Bind) Processed Columns Back Together\n",
    "categorical_data = np.concatenate([encoded_columns,scaled_columns], axis=1)"
   ]
  },
  {
   "cell_type": "code",
   "execution_count": null,
   "metadata": {},
   "outputs": [],
   "source": []
  },
  {
   "cell_type": "code",
   "execution_count": 267,
   "metadata": {},
   "outputs": [
    {
     "name": "stderr",
     "output_type": "stream",
     "text": [
      "C:\\Users\\hexen\\anaconda3\\envs\\tfm\\lib\\site-packages\\sklearn\\utils\\validation.py:63: DataConversionWarning: A column-vector y was passed when a 1d array was expected. Please change the shape of y to (n_samples, ), for example using ravel().\n",
      "  return f(*args, **kwargs)\n",
      "C:\\Users\\hexen\\anaconda3\\envs\\tfm\\lib\\site-packages\\sklearn\\linear_model\\_logistic.py:763: ConvergenceWarning: lbfgs failed to converge (status=1):\n",
      "STOP: TOTAL NO. of ITERATIONS REACHED LIMIT.\n",
      "\n",
      "Increase the number of iterations (max_iter) or scale the data as shown in:\n",
      "    https://scikit-learn.org/stable/modules/preprocessing.html\n",
      "Please also refer to the documentation for alternative solver options:\n",
      "    https://scikit-learn.org/stable/modules/linear_model.html#logistic-regression\n",
      "  n_iter_i = _check_optimize_result(\n"
     ]
    },
    {
     "name": "stdout",
     "output_type": "stream",
     "text": [
      "Accuracy: 78.80\n"
     ]
    },
    {
     "ename": "NameError",
     "evalue": "name 'evaluate' is not defined",
     "output_type": "error",
     "traceback": [
      "\u001b[1;31m---------------------------------------------------------------------------\u001b[0m",
      "\u001b[1;31mNameError\u001b[0m                                 Traceback (most recent call last)",
      "\u001b[1;32m<ipython-input-267-4ba0acc84ab8>\u001b[0m in \u001b[0;36m<module>\u001b[1;34m\u001b[0m\n\u001b[0;32m     38\u001b[0m \u001b[0mprint\u001b[0m\u001b[1;33m(\u001b[0m\u001b[1;34m'Accuracy: %.2f'\u001b[0m \u001b[1;33m%\u001b[0m \u001b[1;33m(\u001b[0m\u001b[0maccuracy\u001b[0m\u001b[1;33m*\u001b[0m\u001b[1;36m100\u001b[0m\u001b[1;33m)\u001b[0m\u001b[1;33m)\u001b[0m\u001b[1;33m\u001b[0m\u001b[1;33m\u001b[0m\u001b[0m\n\u001b[0;32m     39\u001b[0m \u001b[1;33m\u001b[0m\u001b[0m\n\u001b[1;32m---> 40\u001b[1;33m \u001b[0mevaluate\u001b[0m\u001b[1;33m(\u001b[0m\u001b[0mX_test\u001b[0m\u001b[1;33m,\u001b[0m\u001b[0my_test\u001b[0m\u001b[1;33m,\u001b[0m\u001b[0myhat\u001b[0m\u001b[1;33m)\u001b[0m\u001b[1;33m\u001b[0m\u001b[1;33m\u001b[0m\u001b[0m\n\u001b[0m",
      "\u001b[1;31mNameError\u001b[0m: name 'evaluate' is not defined"
     ]
    }
   ],
   "source": [
    "from numpy import mean\n",
    "from numpy import std\n",
    "from pandas import read_csv\n",
    "from sklearn.model_selection import train_test_split\n",
    "from sklearn.linear_model import LogisticRegression\n",
    "from sklearn.preprocessing import LabelEncoder\n",
    "from sklearn.preprocessing import OneHotEncoder\n",
    "from sklearn.metrics import accuracy_score,recall_score,f1_score,\\\n",
    "precision_score,roc_auc_score,roc_curve,mean_absolute_percentage_error\n",
    "# define the location of the dataset\n",
    "# load the dataset\n",
    "\n",
    "# retrieve the array of data\n",
    "data = dfa.values\n",
    "# separate into input and output columns\n",
    "X = data[:,1:].astype(str)\n",
    "y = data[:,0:1].astype(str)\n",
    "# split the dataset into train and test sets\n",
    "X_train, X_test, y_train, y_test = train_test_split(X, y)\n",
    "#one-hot encode input variables\n",
    "onehot_encoder = OneHotEncoder(handle_unknown = \"ignore\")\n",
    "onehot_encoder.fit(X_train)\n",
    "X_train = onehot_encoder.transform(X_train)\n",
    "X_test = onehot_encoder.transform(X_test)\n",
    "#ordinal encode target variable\n",
    "'''label_encoder = LabelEncoder()\n",
    "label_encoder.fit(y_train)\n",
    "y_train = label_encoder.transform(y_train)\n",
    "y_test = label_encoder.transform(y_test)'''\n",
    "# define the model\n",
    "model = LogisticRegression()\n",
    "# fit on the training set\n",
    "model.fit(X_train, y_train)\n",
    "# predict on test set\n",
    "yhat = model.predict(X_test)\n",
    "# evaluate predictions\n",
    "accuracy = accuracy_score(y_test, yhat)\n",
    "print('Accuracy: %.2f' % (accuracy*100))\n",
    "\n",
    "evaluate(X_test,y_test,yhat)"
   ]
  },
  {
   "cell_type": "code",
   "execution_count": null,
   "metadata": {},
   "outputs": [],
   "source": []
  },
  {
   "cell_type": "code",
   "execution_count": null,
   "metadata": {},
   "outputs": [],
   "source": []
  },
  {
   "cell_type": "code",
   "execution_count": null,
   "metadata": {},
   "outputs": [],
   "source": []
  },
  {
   "cell_type": "code",
   "execution_count": null,
   "metadata": {},
   "outputs": [],
   "source": []
  },
  {
   "cell_type": "code",
   "execution_count": null,
   "metadata": {},
   "outputs": [],
   "source": []
  },
  {
   "cell_type": "code",
   "execution_count": null,
   "metadata": {},
   "outputs": [],
   "source": []
  },
  {
   "cell_type": "code",
   "execution_count": null,
   "metadata": {},
   "outputs": [],
   "source": []
  },
  {
   "cell_type": "code",
   "execution_count": null,
   "metadata": {},
   "outputs": [],
   "source": []
  },
  {
   "cell_type": "code",
   "execution_count": null,
   "metadata": {},
   "outputs": [],
   "source": []
  },
  {
   "cell_type": "code",
   "execution_count": null,
   "metadata": {},
   "outputs": [],
   "source": []
  },
  {
   "cell_type": "code",
   "execution_count": null,
   "metadata": {},
   "outputs": [],
   "source": []
  },
  {
   "cell_type": "code",
   "execution_count": null,
   "metadata": {},
   "outputs": [],
   "source": []
  },
  {
   "cell_type": "code",
   "execution_count": null,
   "metadata": {},
   "outputs": [],
   "source": []
  },
  {
   "cell_type": "code",
   "execution_count": null,
   "metadata": {},
   "outputs": [],
   "source": []
  },
  {
   "cell_type": "code",
   "execution_count": null,
   "metadata": {},
   "outputs": [],
   "source": [
    "'''categorical_cols = ['Local_Authority_(Highway)'] \n",
    "\n",
    "# instantiate labelencoder object\n",
    "le = LabelEncoder()\n",
    "\n",
    "# apply le on categorical feature columns\n",
    "acc_clean[categorical_cols] = acc_clean[categorical_cols].apply(lambda col: le.fit_transform(col))    \n",
    "from sklearn.preprocessing import OneHotEncoder\n",
    "ohe = OneHotEncoder()\n",
    "\n",
    "#One-hot-encode the categorical columns.\n",
    "#Unfortunately outputs an array instead of dataframe.\n",
    "array_hot_encoded = ohe.fit_transform(data[categorical_cols])\n",
    "\n",
    "#Convert it to df\n",
    "data_hot_encoded = pd.DataFrame(array_hot_encoded, index=data.index)\n",
    "\n",
    "#Extract only the columns that didnt need to be encoded\n",
    "data_other_cols = data.drop(columns=categorical_cols)\n",
    "\n",
    "#Concatenate the two dataframes : \n",
    "data_out = pd.concat([data_hot_encoded, data_other_cols], axis=1'''"
   ]
  },
  {
   "cell_type": "code",
   "execution_count": null,
   "metadata": {},
   "outputs": [],
   "source": [
    "'''# Define which columns should be encoded vs scaled\n",
    " \n",
    "columns_to_encode = ['Police_Force', 'Accident_Severity', 'Number_of_Vehicles',\n",
    "       'Number_of_Casualties', 'Day_of_Week', 'Local_Authority_(District)', \n",
    "        '1st_Road_Class', '1st_Road_Number',\n",
    "       'Road_Type', 'Speed_limit', 'Junction_Detail', '2nd_Road_Number',\n",
    "       'Pedestrian_Crossing-Human_Control',\n",
    "       'Pedestrian_Crossing-Physical_Facilities', 'Light_Conditions',\n",
    "       'Weather_Conditions', 'Road_Surface_Conditions',\n",
    "       'Special_Conditions_at_Site', 'Carriageway_Hazards', 'Hour']\n",
    "\n",
    "columns_to_scale  = ['Police_Force', 'Accident_Severity', 'Number_of_Vehicles',\n",
    "       'Number_of_Casualties', 'Day_of_Week', 'Local_Authority_(District)', \n",
    "        '1st_Road_Class', '1st_Road_Number',\n",
    "       'Road_Type', 'Speed_limit', 'Junction_Detail', '2nd_Road_Number',\n",
    "       'Pedestrian_Crossing-Human_Control',\n",
    "       'Pedestrian_Crossing-Physical_Facilities', 'Light_Conditions',\n",
    "       'Weather_Conditions', 'Road_Surface_Conditions',\n",
    "       'Special_Conditions_at_Site', 'Carriageway_Hazards', 'Hour']\n",
    "\n",
    "# Instantiate encoder/scaler\n",
    "scaler = StandardScaler()\n",
    "ohe    = OneHotEncoder(sparse=False)\n",
    "label_encoder = LabelEncoder()\n",
    "\n",
    "x = acc_clean['Local_Authority_(Highway)']\n",
    "y = label_encoder.fit_transform(x)\n",
    "print(y)\n",
    "\n",
    "encoder = OneHotEncoder(handle_unknown=\"ignore\", sparse=False)\n",
    "encoder.fit(data)\n",
    "encoder.transform(new_data)\n",
    "\n",
    "\n",
    "#Scale and Encode Separate Columns\n",
    "scaled_columns  = scaler.fit_transform(acc_clean.columns) \n",
    "encoded_columns =    ohe.fit_transform(acc_clean.columns)\n",
    "\n",
    "# Concatenate (Column-Bind) Processed Columns Back Together\n",
    "#processed_data = np.concatenate([scaled_columns, encoded_columns], axis=1)'''"
   ]
  },
  {
   "cell_type": "code",
   "execution_count": null,
   "metadata": {},
   "outputs": [],
   "source": []
  },
  {
   "cell_type": "code",
   "execution_count": null,
   "metadata": {},
   "outputs": [],
   "source": []
  },
  {
   "cell_type": "code",
   "execution_count": null,
   "metadata": {},
   "outputs": [],
   "source": []
  },
  {
   "cell_type": "code",
   "execution_count": null,
   "metadata": {},
   "outputs": [],
   "source": []
  },
  {
   "cell_type": "code",
   "execution_count": null,
   "metadata": {},
   "outputs": [],
   "source": []
  },
  {
   "cell_type": "code",
   "execution_count": null,
   "metadata": {},
   "outputs": [],
   "source": []
  },
  {
   "cell_type": "code",
   "execution_count": null,
   "metadata": {},
   "outputs": [],
   "source": []
  },
  {
   "cell_type": "code",
   "execution_count": null,
   "metadata": {},
   "outputs": [],
   "source": []
  },
  {
   "cell_type": "code",
   "execution_count": null,
   "metadata": {},
   "outputs": [],
   "source": []
  },
  {
   "cell_type": "code",
   "execution_count": null,
   "metadata": {},
   "outputs": [],
   "source": []
  },
  {
   "cell_type": "code",
   "execution_count": null,
   "metadata": {},
   "outputs": [],
   "source": []
  },
  {
   "cell_type": "code",
   "execution_count": null,
   "metadata": {},
   "outputs": [],
   "source": []
  },
  {
   "cell_type": "code",
   "execution_count": null,
   "metadata": {},
   "outputs": [],
   "source": []
  },
  {
   "cell_type": "code",
   "execution_count": null,
   "metadata": {},
   "outputs": [],
   "source": []
  },
  {
   "cell_type": "code",
   "execution_count": null,
   "metadata": {},
   "outputs": [],
   "source": []
  },
  {
   "cell_type": "code",
   "execution_count": null,
   "metadata": {},
   "outputs": [],
   "source": []
  },
  {
   "cell_type": "code",
   "execution_count": null,
   "metadata": {},
   "outputs": [],
   "source": []
  },
  {
   "cell_type": "code",
   "execution_count": null,
   "metadata": {},
   "outputs": [],
   "source": []
  },
  {
   "cell_type": "code",
   "execution_count": null,
   "metadata": {},
   "outputs": [],
   "source": []
  },
  {
   "cell_type": "code",
   "execution_count": null,
   "metadata": {},
   "outputs": [],
   "source": []
  },
  {
   "cell_type": "code",
   "execution_count": null,
   "metadata": {},
   "outputs": [],
   "source": []
  },
  {
   "cell_type": "code",
   "execution_count": null,
   "metadata": {},
   "outputs": [],
   "source": []
  },
  {
   "cell_type": "code",
   "execution_count": null,
   "metadata": {},
   "outputs": [],
   "source": []
  },
  {
   "cell_type": "code",
   "execution_count": null,
   "metadata": {},
   "outputs": [],
   "source": []
  },
  {
   "cell_type": "code",
   "execution_count": null,
   "metadata": {},
   "outputs": [],
   "source": [
    "#Front END"
   ]
  },
  {
   "cell_type": "code",
   "execution_count": null,
   "metadata": {},
   "outputs": [],
   "source": [
    "import dash\n",
    "import dash_core_components as dcc\n",
    "import dash_html_components as html\n",
    "from dash.dependencies import Input, Output\n",
    "import plotly.graph_objects as go\n",
    "\n",
    "app = dash.Dash(__name__)\n",
    "\n",
    "app.layout = html.Div([\n",
    "    html.P(\"Color:\"),\n",
    "    dcc.Dropdown(\n",
    "        id=\"dropdown\",\n",
    "        options=[\n",
    "            {'label': x, 'value': x}\n",
    "            for x in ['Gold', 'MediumTurquoise', 'LightGreen']\n",
    "        ],\n",
    "        value='Gold',\n",
    "        clearable=False,\n",
    "    ),\n",
    "    dcc.Graph(id=\"graph\"),\n",
    "])\n",
    "\n",
    "@app.callback(\n",
    "    Output(\"graph\", \"figure\"), \n",
    "    [Input(\"dropdown\", \"value\")])\n",
    "def display_color(color):\n",
    "    fig = go.Figure(\n",
    "        data=go.Bar(y=[2, 3, 1], marker_color=color))\n",
    "    return fig\n",
    "app.run_server(host= '127.0.0.1',debug=False)"
   ]
  },
  {
   "cell_type": "code",
   "execution_count": null,
   "metadata": {},
   "outputs": [],
   "source": [
    "app.layout = html.Div(\n",
    "\n",
    "    children=[\n",
    "\n",
    "        html.H1(children=\"Avocado Analytics\",),\n",
    "\n",
    "        html.P(\n",
    "\n",
    "            children=\"Analyze the behavior of avocado prices\"\n",
    "\n",
    "            \" and the number of avocados sold in the US\"\n",
    "\n",
    "            \" between 2015 and 2018\",\n",
    "\n",
    "        ),\n",
    "\n",
    "        dcc.Graph(\n",
    "\n",
    "            figure={\n",
    "\n",
    "                \"data\": [\n",
    "\n",
    "                    {\n",
    "\n",
    "                        \"x\": data[\"Date\"],\n",
    "\n",
    "                        \"y\": data[\"AveragePrice\"],\n",
    "\n",
    "                        \"type\": \"lines\",\n",
    "\n",
    "                    },\n",
    "\n",
    "                ],\n",
    "\n",
    "                \"layout\": {\"title\": \"Average Price of Avocados\"},\n",
    "\n",
    "            },\n",
    "\n",
    "        ),\n",
    "\n",
    "        dcc.Graph(\n",
    "\n",
    "            figure={\n",
    "\n",
    "                \"data\": [\n",
    "\n",
    "                    {\n",
    "\n",
    "                        \"x\": data[\"Date\"],\n",
    "\n",
    "                        \"y\": data[\"Total Volume\"],\n",
    "\n",
    "                        \"type\": \"lines\",\n",
    "\n",
    "                    },\n",
    "\n",
    "                ],\n",
    "\n",
    "                \"layout\": {\"title\": \"Avocados Sold\"},\n",
    "\n",
    "            },\n",
    "\n",
    "        ),\n",
    "\n",
    "    ]\n",
    "\n",
    ")"
   ]
  },
  {
   "cell_type": "code",
   "execution_count": null,
   "metadata": {},
   "outputs": [],
   "source": []
  },
  {
   "cell_type": "code",
   "execution_count": null,
   "metadata": {},
   "outputs": [],
   "source": []
  },
  {
   "cell_type": "code",
   "execution_count": null,
   "metadata": {},
   "outputs": [],
   "source": []
  },
  {
   "cell_type": "code",
   "execution_count": null,
   "metadata": {},
   "outputs": [],
   "source": []
  },
  {
   "cell_type": "code",
   "execution_count": null,
   "metadata": {},
   "outputs": [],
   "source": []
  },
  {
   "cell_type": "code",
   "execution_count": null,
   "metadata": {},
   "outputs": [],
   "source": []
  },
  {
   "cell_type": "code",
   "execution_count": null,
   "metadata": {},
   "outputs": [],
   "source": []
  },
  {
   "cell_type": "code",
   "execution_count": null,
   "metadata": {},
   "outputs": [],
   "source": []
  },
  {
   "cell_type": "code",
   "execution_count": null,
   "metadata": {},
   "outputs": [],
   "source": []
  },
  {
   "cell_type": "code",
   "execution_count": null,
   "metadata": {},
   "outputs": [],
   "source": []
  },
  {
   "cell_type": "code",
   "execution_count": null,
   "metadata": {},
   "outputs": [],
   "source": []
  },
  {
   "cell_type": "code",
   "execution_count": null,
   "metadata": {},
   "outputs": [],
   "source": []
  },
  {
   "cell_type": "code",
   "execution_count": null,
   "metadata": {},
   "outputs": [],
   "source": []
  },
  {
   "cell_type": "code",
   "execution_count": null,
   "metadata": {},
   "outputs": [],
   "source": []
  },
  {
   "cell_type": "code",
   "execution_count": null,
   "metadata": {},
   "outputs": [],
   "source": []
  },
  {
   "cell_type": "code",
   "execution_count": null,
   "metadata": {},
   "outputs": [],
   "source": []
  },
  {
   "cell_type": "code",
   "execution_count": null,
   "metadata": {},
   "outputs": [],
   "source": []
  },
  {
   "cell_type": "code",
   "execution_count": null,
   "metadata": {},
   "outputs": [],
   "source": []
  },
  {
   "cell_type": "code",
   "execution_count": null,
   "metadata": {},
   "outputs": [],
   "source": []
  },
  {
   "cell_type": "code",
   "execution_count": null,
   "metadata": {},
   "outputs": [],
   "source": []
  },
  {
   "cell_type": "code",
   "execution_count": null,
   "metadata": {},
   "outputs": [],
   "source": []
  },
  {
   "cell_type": "code",
   "execution_count": null,
   "metadata": {},
   "outputs": [],
   "source": []
  },
  {
   "cell_type": "code",
   "execution_count": null,
   "metadata": {},
   "outputs": [],
   "source": []
  },
  {
   "cell_type": "code",
   "execution_count": null,
   "metadata": {},
   "outputs": [],
   "source": []
  },
  {
   "cell_type": "code",
   "execution_count": null,
   "metadata": {},
   "outputs": [],
   "source": []
  },
  {
   "cell_type": "code",
   "execution_count": null,
   "metadata": {},
   "outputs": [],
   "source": []
  },
  {
   "cell_type": "code",
   "execution_count": null,
   "metadata": {},
   "outputs": [],
   "source": []
  },
  {
   "cell_type": "code",
   "execution_count": null,
   "metadata": {},
   "outputs": [],
   "source": []
  },
  {
   "cell_type": "code",
   "execution_count": null,
   "metadata": {},
   "outputs": [],
   "source": []
  },
  {
   "cell_type": "code",
   "execution_count": null,
   "metadata": {},
   "outputs": [],
   "source": []
  },
  {
   "cell_type": "code",
   "execution_count": null,
   "metadata": {},
   "outputs": [],
   "source": []
  },
  {
   "cell_type": "code",
   "execution_count": null,
   "metadata": {},
   "outputs": [],
   "source": []
  },
  {
   "cell_type": "code",
   "execution_count": null,
   "metadata": {},
   "outputs": [],
   "source": []
  },
  {
   "cell_type": "code",
   "execution_count": null,
   "metadata": {},
   "outputs": [],
   "source": []
  },
  {
   "cell_type": "code",
   "execution_count": null,
   "metadata": {},
   "outputs": [],
   "source": []
  },
  {
   "cell_type": "code",
   "execution_count": null,
   "metadata": {},
   "outputs": [],
   "source": []
  },
  {
   "cell_type": "code",
   "execution_count": null,
   "metadata": {},
   "outputs": [],
   "source": []
  }
 ],
 "metadata": {
  "kernelspec": {
   "display_name": "Python 3",
   "language": "python",
   "name": "python3"
  },
  "language_info": {
   "codemirror_mode": {
    "name": "ipython",
    "version": 3
   },
   "file_extension": ".py",
   "mimetype": "text/x-python",
   "name": "python",
   "nbconvert_exporter": "python",
   "pygments_lexer": "ipython3",
   "version": "3.9.2"
  }
 },
 "nbformat": 4,
 "nbformat_minor": 4
}
