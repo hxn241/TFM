{
 "cells": [
  {
   "cell_type": "markdown",
   "id": "persistent-prevention",
   "metadata": {},
   "source": [
    "# Análisis y predicciones de la seguridad vial en Reino Unido\n",
    "***Cristian Escudero***"
   ]
  },
  {
   "cell_type": "markdown",
   "id": "flying-cologne",
   "metadata": {},
   "source": [
    "El proyecto pone de manifiesto una serie de datos que hacen referencia a accidentes de tráfico ocurridos en Reino Unido durante el período de 1979 - 2004.\n",
    "\n",
    "Los datos han sido proporcionados en por el gobierno de Reino Unido. [(Datos)](https://academictorrents.com/details/c7d2d7a91ae3fd0256dd2ba2d7344960cb3c4dbb)\n",
    "\n",
    "Se analizarán 3 datasets de datos, sobre accidentes, víctimas y vehículos implicados en el cual se descatarán las características principales encontradas.\n",
    "\n",
    "A continuación se realizará un modelo predictivo para poder predecir la gravedad \"Fatal\" de accidente y poder así encontrar los puntos críticos donde se acumulan.\n",
    "\n",
    "Para ello el proyecto será divido en las 5 tareas siguientes:\n",
    "\n",
    "- Limpieza y transformación de los datos\n",
    "- Visualización\n",
    "- Feature Engineering\n",
    "- Machine learning\n",
    "- Front End\n",
    "\n"
   ]
  },
  {
   "cell_type": "code",
   "execution_count": 55,
   "id": "norwegian-triple",
   "metadata": {},
   "outputs": [],
   "source": [
    "import os\n",
    "chdir = os.getcwd()"
   ]
  },
  {
   "cell_type": "markdown",
   "id": "expanded-ministry",
   "metadata": {},
   "source": [
    "#### *Guardamos el path de los datos y del repositorio en un txt para usarlo sucesivamente en notebooks posteriores.*"
   ]
  },
  {
   "cell_type": "code",
   "execution_count": 56,
   "id": "angry-characterization",
   "metadata": {},
   "outputs": [
    {
     "name": "stdin",
     "output_type": "stream",
     "text": [
      "Introduce datasets path D:\\Descargas\\Stats19-Data1979-2004\n"
     ]
    }
   ],
   "source": [
    "datapath = input(\"Introduce datasets path\")\n",
    "with open(\"path.txt\",mode=\"w\") as f:\n",
    "    f.write(datapath)\n",
    "    f.write(\"\\n\")\n",
    "    f.write(chdir)\n",
    "datapath = datapath +'/'"
   ]
  },
  {
   "cell_type": "code",
   "execution_count": 57,
   "id": "numerous-marina",
   "metadata": {},
   "outputs": [
    {
     "data": {
      "text/plain": [
       "'D:\\\\Descargas\\\\Stats19-Data1979-2004/'"
      ]
     },
     "execution_count": 57,
     "metadata": {},
     "output_type": "execute_result"
    }
   ],
   "source": [
    "datapath"
   ]
  },
  {
   "cell_type": "markdown",
   "id": "military-honor",
   "metadata": {},
   "source": [
    "**Importamos librerías**"
   ]
  },
  {
   "cell_type": "code",
   "execution_count": 58,
   "id": "latest-washington",
   "metadata": {},
   "outputs": [
    {
     "data": {
      "text/html": [
       "        <script type=\"text/javascript\">\n",
       "        window.PlotlyConfig = {MathJaxConfig: 'local'};\n",
       "        if (window.MathJax) {MathJax.Hub.Config({SVG: {font: \"STIX-Web\"}});}\n",
       "        if (typeof require !== 'undefined') {\n",
       "        require.undef(\"plotly\");\n",
       "        requirejs.config({\n",
       "            paths: {\n",
       "                'plotly': ['https://cdn.plot.ly/plotly-latest.min']\n",
       "            }\n",
       "        });\n",
       "        require(['plotly'], function(Plotly) {\n",
       "            window._Plotly = Plotly;\n",
       "        });\n",
       "        }\n",
       "        </script>\n",
       "        "
      ]
     },
     "metadata": {},
     "output_type": "display_data"
    },
    {
     "data": {
      "text/html": [
       "        <script type=\"text/javascript\">\n",
       "        window.PlotlyConfig = {MathJaxConfig: 'local'};\n",
       "        if (window.MathJax) {MathJax.Hub.Config({SVG: {font: \"STIX-Web\"}});}\n",
       "        if (typeof require !== 'undefined') {\n",
       "        require.undef(\"plotly\");\n",
       "        requirejs.config({\n",
       "            paths: {\n",
       "                'plotly': ['https://cdn.plot.ly/plotly-latest.min']\n",
       "            }\n",
       "        });\n",
       "        require(['plotly'], function(Plotly) {\n",
       "            window._Plotly = Plotly;\n",
       "        });\n",
       "        }\n",
       "        </script>\n",
       "        "
      ]
     },
     "metadata": {},
     "output_type": "display_data"
    }
   ],
   "source": [
    "import plotly.tools as tls\n",
    "import plotly as py\n",
    "import plotly.graph_objs as go\n",
    "\n",
    "from matplotlib import *\n",
    "import pandas as pd\n",
    "import numpy as np\n",
    "import matplotlib.pyplot as plt\n",
    "from matplotlib import cm\n",
    "cmap = cm.get_cmap\n",
    "import seaborn as sns\n",
    "import modules\n",
    "\n",
    "%matplotlib inline\n",
    "import io\n",
    "pd.set_option('display.max_columns', None)\n",
    "from plotly.subplots import make_subplots\n",
    "import plotly.graph_objects as go\n",
    "import streamlit as st\n",
    "import cufflinks as cf\n",
    "cf.go_offline()\n",
    "cf.set_config_file(theme='pearl',sharing='public',offline=True)"
   ]
  },
  {
   "cell_type": "markdown",
   "id": "orange-plasma",
   "metadata": {},
   "source": [
    "**Comprobando la codificación del archivo**"
   ]
  },
  {
   "cell_type": "code",
   "execution_count": 59,
   "id": "digital-trail",
   "metadata": {},
   "outputs": [
    {
     "name": "stdout",
     "output_type": "stream",
     "text": [
      "{'encoding': 'UTF-8-SIG', 'confidence': 1.0, 'language': ''}\n",
      "{'encoding': 'UTF-8-SIG', 'confidence': 1.0, 'language': ''}\n",
      "{'encoding': 'UTF-8-SIG', 'confidence': 1.0, 'language': ''}\n"
     ]
    }
   ],
   "source": [
    "import chardet\n",
    "data1 = datapath+\"Accidents7904.csv\"\n",
    "data2 = datapath+\"Vehicles7904.csv\"\n",
    "data3 = datapath+\"Casualty7904.csv\"\n",
    "files = [data1,data2,data3]\n",
    "for i in files:\n",
    "    with open(i, 'rb') as rawdata:\n",
    "        result = chardet.detect(rawdata.read(10000))\n",
    "    print(result)"
   ]
  },
  {
   "cell_type": "markdown",
   "id": "downtown-depth",
   "metadata": {},
   "source": [
    "### ***Accidents dataset (1974-2004)***"
   ]
  },
  {
   "cell_type": "markdown",
   "id": "reported-interstate",
   "metadata": {},
   "source": [
    "#### 1. Importación y exploración de los datos"
   ]
  },
  {
   "cell_type": "code",
   "execution_count": 60,
   "id": "suffering-interpretation",
   "metadata": {},
   "outputs": [],
   "source": [
    "accidents=pd.read_csv(data1,delimiter=',',encoding='UTF-8-SIG',low_memory=False)"
   ]
  },
  {
   "cell_type": "code",
   "execution_count": 8,
   "id": "micro-hygiene",
   "metadata": {},
   "outputs": [
    {
     "data": {
      "text/plain": [
       "(6224198, 32)"
      ]
     },
     "execution_count": 8,
     "metadata": {},
     "output_type": "execute_result"
    }
   ],
   "source": [
    "accidents.shape"
   ]
  },
  {
   "cell_type": "code",
   "execution_count": 9,
   "id": "reasonable-token",
   "metadata": {},
   "outputs": [
    {
     "data": {
      "text/html": [
       "<div>\n",
       "<style scoped>\n",
       "    .dataframe tbody tr th:only-of-type {\n",
       "        vertical-align: middle;\n",
       "    }\n",
       "\n",
       "    .dataframe tbody tr th {\n",
       "        vertical-align: top;\n",
       "    }\n",
       "\n",
       "    .dataframe thead th {\n",
       "        text-align: right;\n",
       "    }\n",
       "</style>\n",
       "<table border=\"1\" class=\"dataframe\">\n",
       "  <thead>\n",
       "    <tr style=\"text-align: right;\">\n",
       "      <th></th>\n",
       "      <th>Accident_Index</th>\n",
       "      <th>Location_Easting_OSGR</th>\n",
       "      <th>Location_Northing_OSGR</th>\n",
       "      <th>Longitude</th>\n",
       "      <th>Latitude</th>\n",
       "      <th>Police_Force</th>\n",
       "      <th>Accident_Severity</th>\n",
       "      <th>Number_of_Vehicles</th>\n",
       "      <th>Number_of_Casualties</th>\n",
       "      <th>Date</th>\n",
       "      <th>Day_of_Week</th>\n",
       "      <th>Time</th>\n",
       "      <th>Local_Authority_(District)</th>\n",
       "      <th>Local_Authority_(Highway)</th>\n",
       "      <th>1st_Road_Class</th>\n",
       "      <th>1st_Road_Number</th>\n",
       "      <th>Road_Type</th>\n",
       "      <th>Speed_limit</th>\n",
       "      <th>Junction_Detail</th>\n",
       "      <th>Junction_Control</th>\n",
       "      <th>2nd_Road_Class</th>\n",
       "      <th>2nd_Road_Number</th>\n",
       "      <th>Pedestrian_Crossing-Human_Control</th>\n",
       "      <th>Pedestrian_Crossing-Physical_Facilities</th>\n",
       "      <th>Light_Conditions</th>\n",
       "      <th>Weather_Conditions</th>\n",
       "      <th>Road_Surface_Conditions</th>\n",
       "      <th>Special_Conditions_at_Site</th>\n",
       "      <th>Carriageway_Hazards</th>\n",
       "      <th>Urban_or_Rural_Area</th>\n",
       "      <th>Did_Police_Officer_Attend_Scene_of_Accident</th>\n",
       "      <th>LSOA_of_Accident_Location</th>\n",
       "    </tr>\n",
       "  </thead>\n",
       "  <tbody>\n",
       "    <tr>\n",
       "      <th>0</th>\n",
       "      <td>197901A11AD14</td>\n",
       "      <td>NaN</td>\n",
       "      <td>NaN</td>\n",
       "      <td>NaN</td>\n",
       "      <td>NaN</td>\n",
       "      <td>1</td>\n",
       "      <td>3</td>\n",
       "      <td>2</td>\n",
       "      <td>1</td>\n",
       "      <td>18/01/1979</td>\n",
       "      <td>5</td>\n",
       "      <td>08:00</td>\n",
       "      <td>11</td>\n",
       "      <td>9999</td>\n",
       "      <td>3</td>\n",
       "      <td>4</td>\n",
       "      <td>1</td>\n",
       "      <td>30</td>\n",
       "      <td>1</td>\n",
       "      <td>4</td>\n",
       "      <td>-1</td>\n",
       "      <td>-1</td>\n",
       "      <td>-1</td>\n",
       "      <td>-1</td>\n",
       "      <td>1</td>\n",
       "      <td>8</td>\n",
       "      <td>1</td>\n",
       "      <td>-1</td>\n",
       "      <td>0</td>\n",
       "      <td>-1</td>\n",
       "      <td>-1</td>\n",
       "      <td>NaN</td>\n",
       "    </tr>\n",
       "    <tr>\n",
       "      <th>1</th>\n",
       "      <td>197901A1BAW34</td>\n",
       "      <td>198460.0</td>\n",
       "      <td>894000.0</td>\n",
       "      <td>NaN</td>\n",
       "      <td>NaN</td>\n",
       "      <td>1</td>\n",
       "      <td>3</td>\n",
       "      <td>1</td>\n",
       "      <td>1</td>\n",
       "      <td>01/01/1979</td>\n",
       "      <td>2</td>\n",
       "      <td>01:00</td>\n",
       "      <td>23</td>\n",
       "      <td>9999</td>\n",
       "      <td>6</td>\n",
       "      <td>0</td>\n",
       "      <td>9</td>\n",
       "      <td>30</td>\n",
       "      <td>3</td>\n",
       "      <td>4</td>\n",
       "      <td>-1</td>\n",
       "      <td>-1</td>\n",
       "      <td>-1</td>\n",
       "      <td>-1</td>\n",
       "      <td>4</td>\n",
       "      <td>8</td>\n",
       "      <td>3</td>\n",
       "      <td>-1</td>\n",
       "      <td>0</td>\n",
       "      <td>-1</td>\n",
       "      <td>-1</td>\n",
       "      <td>NaN</td>\n",
       "    </tr>\n",
       "    <tr>\n",
       "      <th>2</th>\n",
       "      <td>197901A1BFD77</td>\n",
       "      <td>406380.0</td>\n",
       "      <td>307000.0</td>\n",
       "      <td>NaN</td>\n",
       "      <td>NaN</td>\n",
       "      <td>1</td>\n",
       "      <td>3</td>\n",
       "      <td>2</td>\n",
       "      <td>3</td>\n",
       "      <td>01/01/1979</td>\n",
       "      <td>2</td>\n",
       "      <td>01:25</td>\n",
       "      <td>17</td>\n",
       "      <td>9999</td>\n",
       "      <td>3</td>\n",
       "      <td>112</td>\n",
       "      <td>9</td>\n",
       "      <td>30</td>\n",
       "      <td>6</td>\n",
       "      <td>4</td>\n",
       "      <td>-1</td>\n",
       "      <td>-1</td>\n",
       "      <td>-1</td>\n",
       "      <td>-1</td>\n",
       "      <td>4</td>\n",
       "      <td>8</td>\n",
       "      <td>3</td>\n",
       "      <td>-1</td>\n",
       "      <td>0</td>\n",
       "      <td>-1</td>\n",
       "      <td>-1</td>\n",
       "      <td>NaN</td>\n",
       "    </tr>\n",
       "    <tr>\n",
       "      <th>3</th>\n",
       "      <td>197901A1BGC20</td>\n",
       "      <td>281680.0</td>\n",
       "      <td>440000.0</td>\n",
       "      <td>NaN</td>\n",
       "      <td>NaN</td>\n",
       "      <td>1</td>\n",
       "      <td>3</td>\n",
       "      <td>2</td>\n",
       "      <td>2</td>\n",
       "      <td>01/01/1979</td>\n",
       "      <td>2</td>\n",
       "      <td>01:30</td>\n",
       "      <td>2</td>\n",
       "      <td>9999</td>\n",
       "      <td>3</td>\n",
       "      <td>502</td>\n",
       "      <td>-1</td>\n",
       "      <td>30</td>\n",
       "      <td>3</td>\n",
       "      <td>2</td>\n",
       "      <td>-1</td>\n",
       "      <td>-1</td>\n",
       "      <td>-1</td>\n",
       "      <td>-1</td>\n",
       "      <td>4</td>\n",
       "      <td>8</td>\n",
       "      <td>3</td>\n",
       "      <td>-1</td>\n",
       "      <td>0</td>\n",
       "      <td>-1</td>\n",
       "      <td>-1</td>\n",
       "      <td>NaN</td>\n",
       "    </tr>\n",
       "    <tr>\n",
       "      <th>4</th>\n",
       "      <td>197901A1BGF95</td>\n",
       "      <td>153960.0</td>\n",
       "      <td>795000.0</td>\n",
       "      <td>NaN</td>\n",
       "      <td>NaN</td>\n",
       "      <td>1</td>\n",
       "      <td>2</td>\n",
       "      <td>2</td>\n",
       "      <td>1</td>\n",
       "      <td>01/01/1979</td>\n",
       "      <td>2</td>\n",
       "      <td>01:30</td>\n",
       "      <td>510</td>\n",
       "      <td>9999</td>\n",
       "      <td>3</td>\n",
       "      <td>309</td>\n",
       "      <td>6</td>\n",
       "      <td>30</td>\n",
       "      <td>0</td>\n",
       "      <td>-1</td>\n",
       "      <td>-1</td>\n",
       "      <td>0</td>\n",
       "      <td>-1</td>\n",
       "      <td>-1</td>\n",
       "      <td>4</td>\n",
       "      <td>3</td>\n",
       "      <td>3</td>\n",
       "      <td>-1</td>\n",
       "      <td>0</td>\n",
       "      <td>-1</td>\n",
       "      <td>-1</td>\n",
       "      <td>NaN</td>\n",
       "    </tr>\n",
       "  </tbody>\n",
       "</table>\n",
       "</div>"
      ],
      "text/plain": [
       "  Accident_Index  Location_Easting_OSGR  Location_Northing_OSGR  Longitude  \\\n",
       "0  197901A11AD14                    NaN                     NaN        NaN   \n",
       "1  197901A1BAW34               198460.0                894000.0        NaN   \n",
       "2  197901A1BFD77               406380.0                307000.0        NaN   \n",
       "3  197901A1BGC20               281680.0                440000.0        NaN   \n",
       "4  197901A1BGF95               153960.0                795000.0        NaN   \n",
       "\n",
       "   Latitude  Police_Force  Accident_Severity  Number_of_Vehicles  \\\n",
       "0       NaN             1                  3                   2   \n",
       "1       NaN             1                  3                   1   \n",
       "2       NaN             1                  3                   2   \n",
       "3       NaN             1                  3                   2   \n",
       "4       NaN             1                  2                   2   \n",
       "\n",
       "   Number_of_Casualties        Date  Day_of_Week   Time  \\\n",
       "0                     1  18/01/1979            5  08:00   \n",
       "1                     1  01/01/1979            2  01:00   \n",
       "2                     3  01/01/1979            2  01:25   \n",
       "3                     2  01/01/1979            2  01:30   \n",
       "4                     1  01/01/1979            2  01:30   \n",
       "\n",
       "   Local_Authority_(District) Local_Authority_(Highway)  1st_Road_Class  \\\n",
       "0                          11                      9999               3   \n",
       "1                          23                      9999               6   \n",
       "2                          17                      9999               3   \n",
       "3                           2                      9999               3   \n",
       "4                         510                      9999               3   \n",
       "\n",
       "   1st_Road_Number  Road_Type  Speed_limit  Junction_Detail  Junction_Control  \\\n",
       "0                4          1           30                1                 4   \n",
       "1                0          9           30                3                 4   \n",
       "2              112          9           30                6                 4   \n",
       "3              502         -1           30                3                 2   \n",
       "4              309          6           30                0                -1   \n",
       "\n",
       "   2nd_Road_Class  2nd_Road_Number  Pedestrian_Crossing-Human_Control  \\\n",
       "0              -1               -1                                 -1   \n",
       "1              -1               -1                                 -1   \n",
       "2              -1               -1                                 -1   \n",
       "3              -1               -1                                 -1   \n",
       "4              -1                0                                 -1   \n",
       "\n",
       "   Pedestrian_Crossing-Physical_Facilities  Light_Conditions  \\\n",
       "0                                       -1                 1   \n",
       "1                                       -1                 4   \n",
       "2                                       -1                 4   \n",
       "3                                       -1                 4   \n",
       "4                                       -1                 4   \n",
       "\n",
       "   Weather_Conditions  Road_Surface_Conditions  Special_Conditions_at_Site  \\\n",
       "0                   8                        1                          -1   \n",
       "1                   8                        3                          -1   \n",
       "2                   8                        3                          -1   \n",
       "3                   8                        3                          -1   \n",
       "4                   3                        3                          -1   \n",
       "\n",
       "   Carriageway_Hazards  Urban_or_Rural_Area  \\\n",
       "0                    0                   -1   \n",
       "1                    0                   -1   \n",
       "2                    0                   -1   \n",
       "3                    0                   -1   \n",
       "4                    0                   -1   \n",
       "\n",
       "   Did_Police_Officer_Attend_Scene_of_Accident LSOA_of_Accident_Location  \n",
       "0                                           -1                       NaN  \n",
       "1                                           -1                       NaN  \n",
       "2                                           -1                       NaN  \n",
       "3                                           -1                       NaN  \n",
       "4                                           -1                       NaN  "
      ]
     },
     "execution_count": 9,
     "metadata": {},
     "output_type": "execute_result"
    }
   ],
   "source": [
    "accidents.head()"
   ]
  },
  {
   "cell_type": "code",
   "execution_count": 10,
   "id": "swiss-breakdown",
   "metadata": {},
   "outputs": [
    {
     "name": "stdout",
     "output_type": "stream",
     "text": [
      "<class 'pandas.core.frame.DataFrame'>\n",
      "RangeIndex: 6224198 entries, 0 to 6224197\n",
      "Data columns (total 32 columns):\n",
      " #   Column                                       Dtype  \n",
      "---  ------                                       -----  \n",
      " 0   Accident_Index                               object \n",
      " 1   Location_Easting_OSGR                        float64\n",
      " 2   Location_Northing_OSGR                       float64\n",
      " 3   Longitude                                    float64\n",
      " 4   Latitude                                     float64\n",
      " 5   Police_Force                                 int64  \n",
      " 6   Accident_Severity                            int64  \n",
      " 7   Number_of_Vehicles                           int64  \n",
      " 8   Number_of_Casualties                         int64  \n",
      " 9   Date                                         object \n",
      " 10  Day_of_Week                                  int64  \n",
      " 11  Time                                         object \n",
      " 12  Local_Authority_(District)                   int64  \n",
      " 13  Local_Authority_(Highway)                    object \n",
      " 14  1st_Road_Class                               int64  \n",
      " 15  1st_Road_Number                              int64  \n",
      " 16  Road_Type                                    int64  \n",
      " 17  Speed_limit                                  int64  \n",
      " 18  Junction_Detail                              int64  \n",
      " 19  Junction_Control                             int64  \n",
      " 20  2nd_Road_Class                               int64  \n",
      " 21  2nd_Road_Number                              int64  \n",
      " 22  Pedestrian_Crossing-Human_Control            int64  \n",
      " 23  Pedestrian_Crossing-Physical_Facilities      int64  \n",
      " 24  Light_Conditions                             int64  \n",
      " 25  Weather_Conditions                           int64  \n",
      " 26  Road_Surface_Conditions                      int64  \n",
      " 27  Special_Conditions_at_Site                   int64  \n",
      " 28  Carriageway_Hazards                          int64  \n",
      " 29  Urban_or_Rural_Area                          int64  \n",
      " 30  Did_Police_Officer_Attend_Scene_of_Accident  int64  \n",
      " 31  LSOA_of_Accident_Location                    object \n",
      "dtypes: float64(4), int64(23), object(5)\n",
      "memory usage: 1.5+ GB\n"
     ]
    }
   ],
   "source": [
    "accidents.info()"
   ]
  },
  {
   "cell_type": "code",
   "execution_count": 11,
   "id": "bulgarian-suite",
   "metadata": {},
   "outputs": [
    {
     "data": {
      "text/html": [
       "<div>\n",
       "<style scoped>\n",
       "    .dataframe tbody tr th:only-of-type {\n",
       "        vertical-align: middle;\n",
       "    }\n",
       "\n",
       "    .dataframe tbody tr th {\n",
       "        vertical-align: top;\n",
       "    }\n",
       "\n",
       "    .dataframe thead th {\n",
       "        text-align: right;\n",
       "    }\n",
       "</style>\n",
       "<table border=\"1\" class=\"dataframe\">\n",
       "  <thead>\n",
       "    <tr style=\"text-align: right;\">\n",
       "      <th></th>\n",
       "      <th>count</th>\n",
       "      <th>mean</th>\n",
       "      <th>std</th>\n",
       "      <th>min</th>\n",
       "      <th>25%</th>\n",
       "      <th>50%</th>\n",
       "      <th>75%</th>\n",
       "      <th>max</th>\n",
       "    </tr>\n",
       "  </thead>\n",
       "  <tbody>\n",
       "    <tr>\n",
       "      <th>Location_Easting_OSGR</th>\n",
       "      <td>6214182.0</td>\n",
       "      <td>429996.434789</td>\n",
       "      <td>109864.543100</td>\n",
       "      <td>0.000000</td>\n",
       "      <td>366900.000000</td>\n",
       "      <td>435470.000000</td>\n",
       "      <td>520130.000000</td>\n",
       "      <td>9.999800e+05</td>\n",
       "    </tr>\n",
       "    <tr>\n",
       "      <th>Location_Northing_OSGR</th>\n",
       "      <td>6214182.0</td>\n",
       "      <td>303085.137312</td>\n",
       "      <td>171718.034237</td>\n",
       "      <td>0.000000</td>\n",
       "      <td>177860.000000</td>\n",
       "      <td>266570.000000</td>\n",
       "      <td>399170.000000</td>\n",
       "      <td>1.213700e+06</td>\n",
       "    </tr>\n",
       "    <tr>\n",
       "      <th>Longitude</th>\n",
       "      <td>1337067.0</td>\n",
       "      <td>-1.451627</td>\n",
       "      <td>1.388414</td>\n",
       "      <td>-7.536169</td>\n",
       "      <td>-2.365944</td>\n",
       "      <td>-1.434708</td>\n",
       "      <td>-0.227007</td>\n",
       "      <td>1.760591e+00</td>\n",
       "    </tr>\n",
       "    <tr>\n",
       "      <th>Latitude</th>\n",
       "      <td>1337067.0</td>\n",
       "      <td>52.586105</td>\n",
       "      <td>1.428390</td>\n",
       "      <td>49.912761</td>\n",
       "      <td>51.498603</td>\n",
       "      <td>52.332713</td>\n",
       "      <td>53.470917</td>\n",
       "      <td>6.080166e+01</td>\n",
       "    </tr>\n",
       "    <tr>\n",
       "      <th>Police_Force</th>\n",
       "      <td>6224198.0</td>\n",
       "      <td>29.948737</td>\n",
       "      <td>26.616900</td>\n",
       "      <td>1.000000</td>\n",
       "      <td>6.000000</td>\n",
       "      <td>23.000000</td>\n",
       "      <td>45.000000</td>\n",
       "      <td>9.800000e+01</td>\n",
       "    </tr>\n",
       "    <tr>\n",
       "      <th>Accident_Severity</th>\n",
       "      <td>6224198.0</td>\n",
       "      <td>2.771100</td>\n",
       "      <td>0.459411</td>\n",
       "      <td>1.000000</td>\n",
       "      <td>3.000000</td>\n",
       "      <td>3.000000</td>\n",
       "      <td>3.000000</td>\n",
       "      <td>3.000000e+00</td>\n",
       "    </tr>\n",
       "    <tr>\n",
       "      <th>Number_of_Vehicles</th>\n",
       "      <td>6224198.0</td>\n",
       "      <td>1.764399</td>\n",
       "      <td>0.732189</td>\n",
       "      <td>1.000000</td>\n",
       "      <td>1.000000</td>\n",
       "      <td>2.000000</td>\n",
       "      <td>2.000000</td>\n",
       "      <td>1.920000e+02</td>\n",
       "    </tr>\n",
       "    <tr>\n",
       "      <th>Number_of_Casualties</th>\n",
       "      <td>6224198.0</td>\n",
       "      <td>1.327832</td>\n",
       "      <td>0.826645</td>\n",
       "      <td>1.000000</td>\n",
       "      <td>1.000000</td>\n",
       "      <td>1.000000</td>\n",
       "      <td>1.000000</td>\n",
       "      <td>9.000000e+01</td>\n",
       "    </tr>\n",
       "    <tr>\n",
       "      <th>Day_of_Week</th>\n",
       "      <td>6224198.0</td>\n",
       "      <td>4.166296</td>\n",
       "      <td>1.950466</td>\n",
       "      <td>1.000000</td>\n",
       "      <td>2.000000</td>\n",
       "      <td>4.000000</td>\n",
       "      <td>6.000000</td>\n",
       "      <td>7.000000e+00</td>\n",
       "    </tr>\n",
       "    <tr>\n",
       "      <th>Local_Authority_(District)</th>\n",
       "      <td>6224198.0</td>\n",
       "      <td>340.067290</td>\n",
       "      <td>255.696460</td>\n",
       "      <td>1.000000</td>\n",
       "      <td>102.000000</td>\n",
       "      <td>307.000000</td>\n",
       "      <td>518.000000</td>\n",
       "      <td>9.410000e+02</td>\n",
       "    </tr>\n",
       "    <tr>\n",
       "      <th>1st_Road_Class</th>\n",
       "      <td>6224198.0</td>\n",
       "      <td>4.114353</td>\n",
       "      <td>1.395852</td>\n",
       "      <td>-1.000000</td>\n",
       "      <td>3.000000</td>\n",
       "      <td>4.000000</td>\n",
       "      <td>6.000000</td>\n",
       "      <td>6.000000e+00</td>\n",
       "    </tr>\n",
       "    <tr>\n",
       "      <th>1st_Road_Number</th>\n",
       "      <td>6224198.0</td>\n",
       "      <td>979.600309</td>\n",
       "      <td>1790.564933</td>\n",
       "      <td>-1.000000</td>\n",
       "      <td>0.000000</td>\n",
       "      <td>121.000000</td>\n",
       "      <td>688.000000</td>\n",
       "      <td>9.999000e+03</td>\n",
       "    </tr>\n",
       "    <tr>\n",
       "      <th>Road_Type</th>\n",
       "      <td>6224198.0</td>\n",
       "      <td>5.217134</td>\n",
       "      <td>1.844351</td>\n",
       "      <td>-1.000000</td>\n",
       "      <td>6.000000</td>\n",
       "      <td>6.000000</td>\n",
       "      <td>6.000000</td>\n",
       "      <td>9.000000e+00</td>\n",
       "    </tr>\n",
       "    <tr>\n",
       "      <th>Speed_limit</th>\n",
       "      <td>6224198.0</td>\n",
       "      <td>38.866755</td>\n",
       "      <td>13.984929</td>\n",
       "      <td>0.000000</td>\n",
       "      <td>30.000000</td>\n",
       "      <td>30.000000</td>\n",
       "      <td>50.000000</td>\n",
       "      <td>6.600000e+02</td>\n",
       "    </tr>\n",
       "    <tr>\n",
       "      <th>Junction_Detail</th>\n",
       "      <td>6224198.0</td>\n",
       "      <td>2.458768</td>\n",
       "      <td>2.577744</td>\n",
       "      <td>-1.000000</td>\n",
       "      <td>0.000000</td>\n",
       "      <td>3.000000</td>\n",
       "      <td>3.000000</td>\n",
       "      <td>9.000000e+00</td>\n",
       "    </tr>\n",
       "    <tr>\n",
       "      <th>Junction_Control</th>\n",
       "      <td>6224198.0</td>\n",
       "      <td>1.833459</td>\n",
       "      <td>2.363325</td>\n",
       "      <td>-1.000000</td>\n",
       "      <td>-1.000000</td>\n",
       "      <td>4.000000</td>\n",
       "      <td>4.000000</td>\n",
       "      <td>4.000000e+00</td>\n",
       "    </tr>\n",
       "    <tr>\n",
       "      <th>2nd_Road_Class</th>\n",
       "      <td>6224198.0</td>\n",
       "      <td>2.700517</td>\n",
       "      <td>3.257725</td>\n",
       "      <td>-1.000000</td>\n",
       "      <td>-1.000000</td>\n",
       "      <td>3.000000</td>\n",
       "      <td>6.000000</td>\n",
       "      <td>6.000000e+00</td>\n",
       "    </tr>\n",
       "    <tr>\n",
       "      <th>2nd_Road_Number</th>\n",
       "      <td>6224198.0</td>\n",
       "      <td>358.180951</td>\n",
       "      <td>1242.526032</td>\n",
       "      <td>-1.000000</td>\n",
       "      <td>0.000000</td>\n",
       "      <td>0.000000</td>\n",
       "      <td>0.000000</td>\n",
       "      <td>9.999000e+03</td>\n",
       "    </tr>\n",
       "    <tr>\n",
       "      <th>Pedestrian_Crossing-Human_Control</th>\n",
       "      <td>6224198.0</td>\n",
       "      <td>-0.019556</td>\n",
       "      <td>0.176346</td>\n",
       "      <td>-1.000000</td>\n",
       "      <td>0.000000</td>\n",
       "      <td>0.000000</td>\n",
       "      <td>0.000000</td>\n",
       "      <td>2.000000e+00</td>\n",
       "    </tr>\n",
       "    <tr>\n",
       "      <th>Pedestrian_Crossing-Physical_Facilities</th>\n",
       "      <td>6224198.0</td>\n",
       "      <td>0.507336</td>\n",
       "      <td>1.571204</td>\n",
       "      <td>-1.000000</td>\n",
       "      <td>0.000000</td>\n",
       "      <td>0.000000</td>\n",
       "      <td>0.000000</td>\n",
       "      <td>8.000000e+00</td>\n",
       "    </tr>\n",
       "    <tr>\n",
       "      <th>Light_Conditions</th>\n",
       "      <td>6224198.0</td>\n",
       "      <td>2.010223</td>\n",
       "      <td>1.662074</td>\n",
       "      <td>-1.000000</td>\n",
       "      <td>1.000000</td>\n",
       "      <td>1.000000</td>\n",
       "      <td>4.000000</td>\n",
       "      <td>7.000000e+00</td>\n",
       "    </tr>\n",
       "    <tr>\n",
       "      <th>Weather_Conditions</th>\n",
       "      <td>6224198.0</td>\n",
       "      <td>1.682374</td>\n",
       "      <td>1.739689</td>\n",
       "      <td>-1.000000</td>\n",
       "      <td>1.000000</td>\n",
       "      <td>1.000000</td>\n",
       "      <td>1.000000</td>\n",
       "      <td>9.000000e+00</td>\n",
       "    </tr>\n",
       "    <tr>\n",
       "      <th>Road_Surface_Conditions</th>\n",
       "      <td>6224198.0</td>\n",
       "      <td>1.404955</td>\n",
       "      <td>0.636284</td>\n",
       "      <td>-1.000000</td>\n",
       "      <td>1.000000</td>\n",
       "      <td>1.000000</td>\n",
       "      <td>2.000000</td>\n",
       "      <td>5.000000e+00</td>\n",
       "    </tr>\n",
       "    <tr>\n",
       "      <th>Special_Conditions_at_Site</th>\n",
       "      <td>6224198.0</td>\n",
       "      <td>0.060214</td>\n",
       "      <td>0.618190</td>\n",
       "      <td>-1.000000</td>\n",
       "      <td>0.000000</td>\n",
       "      <td>0.000000</td>\n",
       "      <td>0.000000</td>\n",
       "      <td>5.000000e+00</td>\n",
       "    </tr>\n",
       "    <tr>\n",
       "      <th>Carriageway_Hazards</th>\n",
       "      <td>6224198.0</td>\n",
       "      <td>0.027606</td>\n",
       "      <td>0.303338</td>\n",
       "      <td>-1.000000</td>\n",
       "      <td>0.000000</td>\n",
       "      <td>0.000000</td>\n",
       "      <td>0.000000</td>\n",
       "      <td>3.000000e+00</td>\n",
       "    </tr>\n",
       "    <tr>\n",
       "      <th>Urban_or_Rural_Area</th>\n",
       "      <td>6224198.0</td>\n",
       "      <td>-0.049046</td>\n",
       "      <td>1.192679</td>\n",
       "      <td>-1.000000</td>\n",
       "      <td>-1.000000</td>\n",
       "      <td>-1.000000</td>\n",
       "      <td>1.000000</td>\n",
       "      <td>3.000000e+00</td>\n",
       "    </tr>\n",
       "    <tr>\n",
       "      <th>Did_Police_Officer_Attend_Scene_of_Accident</th>\n",
       "      <td>6224198.0</td>\n",
       "      <td>-0.549439</td>\n",
       "      <td>0.920361</td>\n",
       "      <td>-1.000000</td>\n",
       "      <td>-1.000000</td>\n",
       "      <td>-1.000000</td>\n",
       "      <td>-1.000000</td>\n",
       "      <td>3.000000e+00</td>\n",
       "    </tr>\n",
       "  </tbody>\n",
       "</table>\n",
       "</div>"
      ],
      "text/plain": [
       "                                                 count           mean  \\\n",
       "Location_Easting_OSGR                        6214182.0  429996.434789   \n",
       "Location_Northing_OSGR                       6214182.0  303085.137312   \n",
       "Longitude                                    1337067.0      -1.451627   \n",
       "Latitude                                     1337067.0      52.586105   \n",
       "Police_Force                                 6224198.0      29.948737   \n",
       "Accident_Severity                            6224198.0       2.771100   \n",
       "Number_of_Vehicles                           6224198.0       1.764399   \n",
       "Number_of_Casualties                         6224198.0       1.327832   \n",
       "Day_of_Week                                  6224198.0       4.166296   \n",
       "Local_Authority_(District)                   6224198.0     340.067290   \n",
       "1st_Road_Class                               6224198.0       4.114353   \n",
       "1st_Road_Number                              6224198.0     979.600309   \n",
       "Road_Type                                    6224198.0       5.217134   \n",
       "Speed_limit                                  6224198.0      38.866755   \n",
       "Junction_Detail                              6224198.0       2.458768   \n",
       "Junction_Control                             6224198.0       1.833459   \n",
       "2nd_Road_Class                               6224198.0       2.700517   \n",
       "2nd_Road_Number                              6224198.0     358.180951   \n",
       "Pedestrian_Crossing-Human_Control            6224198.0      -0.019556   \n",
       "Pedestrian_Crossing-Physical_Facilities      6224198.0       0.507336   \n",
       "Light_Conditions                             6224198.0       2.010223   \n",
       "Weather_Conditions                           6224198.0       1.682374   \n",
       "Road_Surface_Conditions                      6224198.0       1.404955   \n",
       "Special_Conditions_at_Site                   6224198.0       0.060214   \n",
       "Carriageway_Hazards                          6224198.0       0.027606   \n",
       "Urban_or_Rural_Area                          6224198.0      -0.049046   \n",
       "Did_Police_Officer_Attend_Scene_of_Accident  6224198.0      -0.549439   \n",
       "\n",
       "                                                       std        min  \\\n",
       "Location_Easting_OSGR                        109864.543100   0.000000   \n",
       "Location_Northing_OSGR                       171718.034237   0.000000   \n",
       "Longitude                                         1.388414  -7.536169   \n",
       "Latitude                                          1.428390  49.912761   \n",
       "Police_Force                                     26.616900   1.000000   \n",
       "Accident_Severity                                 0.459411   1.000000   \n",
       "Number_of_Vehicles                                0.732189   1.000000   \n",
       "Number_of_Casualties                              0.826645   1.000000   \n",
       "Day_of_Week                                       1.950466   1.000000   \n",
       "Local_Authority_(District)                      255.696460   1.000000   \n",
       "1st_Road_Class                                    1.395852  -1.000000   \n",
       "1st_Road_Number                                1790.564933  -1.000000   \n",
       "Road_Type                                         1.844351  -1.000000   \n",
       "Speed_limit                                      13.984929   0.000000   \n",
       "Junction_Detail                                   2.577744  -1.000000   \n",
       "Junction_Control                                  2.363325  -1.000000   \n",
       "2nd_Road_Class                                    3.257725  -1.000000   \n",
       "2nd_Road_Number                                1242.526032  -1.000000   \n",
       "Pedestrian_Crossing-Human_Control                 0.176346  -1.000000   \n",
       "Pedestrian_Crossing-Physical_Facilities           1.571204  -1.000000   \n",
       "Light_Conditions                                  1.662074  -1.000000   \n",
       "Weather_Conditions                                1.739689  -1.000000   \n",
       "Road_Surface_Conditions                           0.636284  -1.000000   \n",
       "Special_Conditions_at_Site                        0.618190  -1.000000   \n",
       "Carriageway_Hazards                               0.303338  -1.000000   \n",
       "Urban_or_Rural_Area                               1.192679  -1.000000   \n",
       "Did_Police_Officer_Attend_Scene_of_Accident       0.920361  -1.000000   \n",
       "\n",
       "                                                       25%            50%  \\\n",
       "Location_Easting_OSGR                        366900.000000  435470.000000   \n",
       "Location_Northing_OSGR                       177860.000000  266570.000000   \n",
       "Longitude                                        -2.365944      -1.434708   \n",
       "Latitude                                         51.498603      52.332713   \n",
       "Police_Force                                      6.000000      23.000000   \n",
       "Accident_Severity                                 3.000000       3.000000   \n",
       "Number_of_Vehicles                                1.000000       2.000000   \n",
       "Number_of_Casualties                              1.000000       1.000000   \n",
       "Day_of_Week                                       2.000000       4.000000   \n",
       "Local_Authority_(District)                      102.000000     307.000000   \n",
       "1st_Road_Class                                    3.000000       4.000000   \n",
       "1st_Road_Number                                   0.000000     121.000000   \n",
       "Road_Type                                         6.000000       6.000000   \n",
       "Speed_limit                                      30.000000      30.000000   \n",
       "Junction_Detail                                   0.000000       3.000000   \n",
       "Junction_Control                                 -1.000000       4.000000   \n",
       "2nd_Road_Class                                   -1.000000       3.000000   \n",
       "2nd_Road_Number                                   0.000000       0.000000   \n",
       "Pedestrian_Crossing-Human_Control                 0.000000       0.000000   \n",
       "Pedestrian_Crossing-Physical_Facilities           0.000000       0.000000   \n",
       "Light_Conditions                                  1.000000       1.000000   \n",
       "Weather_Conditions                                1.000000       1.000000   \n",
       "Road_Surface_Conditions                           1.000000       1.000000   \n",
       "Special_Conditions_at_Site                        0.000000       0.000000   \n",
       "Carriageway_Hazards                               0.000000       0.000000   \n",
       "Urban_or_Rural_Area                              -1.000000      -1.000000   \n",
       "Did_Police_Officer_Attend_Scene_of_Accident      -1.000000      -1.000000   \n",
       "\n",
       "                                                       75%           max  \n",
       "Location_Easting_OSGR                        520130.000000  9.999800e+05  \n",
       "Location_Northing_OSGR                       399170.000000  1.213700e+06  \n",
       "Longitude                                        -0.227007  1.760591e+00  \n",
       "Latitude                                         53.470917  6.080166e+01  \n",
       "Police_Force                                     45.000000  9.800000e+01  \n",
       "Accident_Severity                                 3.000000  3.000000e+00  \n",
       "Number_of_Vehicles                                2.000000  1.920000e+02  \n",
       "Number_of_Casualties                              1.000000  9.000000e+01  \n",
       "Day_of_Week                                       6.000000  7.000000e+00  \n",
       "Local_Authority_(District)                      518.000000  9.410000e+02  \n",
       "1st_Road_Class                                    6.000000  6.000000e+00  \n",
       "1st_Road_Number                                 688.000000  9.999000e+03  \n",
       "Road_Type                                         6.000000  9.000000e+00  \n",
       "Speed_limit                                      50.000000  6.600000e+02  \n",
       "Junction_Detail                                   3.000000  9.000000e+00  \n",
       "Junction_Control                                  4.000000  4.000000e+00  \n",
       "2nd_Road_Class                                    6.000000  6.000000e+00  \n",
       "2nd_Road_Number                                   0.000000  9.999000e+03  \n",
       "Pedestrian_Crossing-Human_Control                 0.000000  2.000000e+00  \n",
       "Pedestrian_Crossing-Physical_Facilities           0.000000  8.000000e+00  \n",
       "Light_Conditions                                  4.000000  7.000000e+00  \n",
       "Weather_Conditions                                1.000000  9.000000e+00  \n",
       "Road_Surface_Conditions                           2.000000  5.000000e+00  \n",
       "Special_Conditions_at_Site                        0.000000  5.000000e+00  \n",
       "Carriageway_Hazards                               0.000000  3.000000e+00  \n",
       "Urban_or_Rural_Area                               1.000000  3.000000e+00  \n",
       "Did_Police_Officer_Attend_Scene_of_Accident      -1.000000  3.000000e+00  "
      ]
     },
     "execution_count": 11,
     "metadata": {},
     "output_type": "execute_result"
    }
   ],
   "source": [
    "accidents.describe().T"
   ]
  },
  {
   "cell_type": "markdown",
   "id": "right-amateur",
   "metadata": {},
   "source": [
    "En general podemos ver que muchas de las variables en el dataset Accidents tienen una subcategoría en su variable que acumula más porcentaje,por lo tanto podemos asegurar que es un dataset desbalanceado, como por ejemplo las columnas Accident_Severity, Road_type, Junction_Control, Light_Conditions ,Weather_Conditions..., entre otras."
   ]
  },
  {
   "cell_type": "markdown",
   "id": "least-texture",
   "metadata": {},
   "source": [
    "####  2. Limpieza de los datos"
   ]
  },
  {
   "cell_type": "markdown",
   "id": "sporting-utilization",
   "metadata": {},
   "source": [
    "**Comprobamos porcentaje de NaN o elementos nulos**"
   ]
  },
  {
   "cell_type": "code",
   "execution_count": 12,
   "id": "dated-subsection",
   "metadata": {},
   "outputs": [
    {
     "name": "stdout",
     "output_type": "stream",
     "text": [
      "NaN data: \n",
      " \n",
      "  \n",
      "  Accident_Index                                 0.000000\n",
      "Location_Easting_OSGR                          0.001609\n",
      "Location_Northing_OSGR                         0.001609\n",
      "Longitude                                      0.785182\n",
      "Latitude                                       0.785182\n",
      "Police_Force                                   0.000000\n",
      "Accident_Severity                              0.000000\n",
      "Number_of_Vehicles                             0.000000\n",
      "Number_of_Casualties                           0.000000\n",
      "Date                                           0.000001\n",
      "Day_of_Week                                    0.000000\n",
      "Time                                           0.000111\n",
      "Local_Authority_(District)                     0.000000\n",
      "Local_Authority_(Highway)                      0.000000\n",
      "1st_Road_Class                                 0.000000\n",
      "1st_Road_Number                                0.000000\n",
      "Road_Type                                      0.000000\n",
      "Speed_limit                                    0.000000\n",
      "Junction_Detail                                0.000000\n",
      "Junction_Control                               0.000000\n",
      "2nd_Road_Class                                 0.000000\n",
      "2nd_Road_Number                                0.000000\n",
      "Pedestrian_Crossing-Human_Control              0.000000\n",
      "Pedestrian_Crossing-Physical_Facilities        0.000000\n",
      "Light_Conditions                               0.000000\n",
      "Weather_Conditions                             0.000000\n",
      "Road_Surface_Conditions                        0.000000\n",
      "Special_Conditions_at_Site                     0.000000\n",
      "Carriageway_Hazards                            0.000000\n",
      "Urban_or_Rural_Area                            0.000000\n",
      "Did_Police_Officer_Attend_Scene_of_Accident    0.000000\n",
      "LSOA_of_Accident_Location                      0.808709\n",
      "dtype: float64 %\n",
      "\n",
      " Missing or out of range data:\n",
      " Accident_Index                                      0.0\n",
      "Location_Easting_OSGR                               0.0\n",
      "Location_Northing_OSGR                              0.0\n",
      "Longitude                                           0.0\n",
      "Latitude                                            0.0\n",
      "Police_Force                                        0.0\n",
      "Accident_Severity                                   0.0\n",
      "Number_of_Vehicles                                  0.0\n",
      "Number_of_Casualties                                0.0\n",
      "Date                                                0.0\n",
      "Day_of_Week                                         0.0\n",
      "Time                                                0.0\n",
      "Local_Authority_(District)                          0.0\n",
      "Local_Authority_(Highway)                           0.0\n",
      "1st_Road_Class                                 0.000003\n",
      "1st_Road_Number                                0.000078\n",
      "Road_Type                                      0.030341\n",
      "Speed_limit                                         0.0\n",
      "Junction_Detail                                 0.00015\n",
      "Junction_Control                               0.396873\n",
      "2nd_Road_Class                                 0.418299\n",
      "2nd_Road_Number                                 0.02284\n",
      "Pedestrian_Crossing-Human_Control              0.024623\n",
      "Pedestrian_Crossing-Physical_Facilities        0.024615\n",
      "Light_Conditions                               0.000264\n",
      "Weather_Conditions                             0.000308\n",
      "Road_Surface_Conditions                        0.001844\n",
      "Special_Conditions_at_Site                     0.026643\n",
      "Carriageway_Hazards                            0.010954\n",
      "Urban_or_Rural_Area                            0.594938\n",
      "Did_Police_Officer_Attend_Scene_of_Accident    0.799544\n",
      "LSOA_of_Accident_Location                           0.0\n",
      "dtype: object %\n"
     ]
    }
   ],
   "source": [
    "print(\"NaN data: \\n \\n\",\" \\n \",accidents.isna()\\\n",
    "                                          .sum()/len(accidents),\"%\")\n",
    "print(\"\\n Missing or out of range data:\\n\",np.abs(accidents[accidents==-1]\\\n",
    "                                            .sum())/len(accidents),\"%\")\n",
    "#accidents.isna().sum().sum()/len(accidents)"
   ]
  },
  {
   "cell_type": "markdown",
   "id": "moral-sweet",
   "metadata": {},
   "source": [
    "**Decartamos las columnas que no nos interesan, con alto porcentaje de NaN o valores -1 (missing values)**"
   ]
  },
  {
   "cell_type": "code",
   "execution_count": 13,
   "id": "generous-trademark",
   "metadata": {},
   "outputs": [],
   "source": [
    "columns_to_drop = ['Location_Easting_OSGR', \n",
    "                   'Location_Northing_OSGR',\n",
    "                    'Police_Force',\n",
    "                   'Local_Authority_(District)',\n",
    "                   'Local_Authority_(Highway)',\n",
    "                   '1st_Road_Number',\n",
    "                   '2nd_Road_Number',\n",
    "                   'Pedestrian_Crossing-Human_Control', \n",
    "                    'Pedestrian_Crossing-Physical_Facilities',\n",
    "                    'Did_Police_Officer_Attend_Scene_of_Accident',\n",
    "                    'LSOA_of_Accident_Location','Longitude','Latitude',\n",
    "                    'Urban_or_Rural_Area',\n",
    "                   'Junction_Control','2nd_Road_Class',\n",
    "                    'Special_Conditions_at_Site',\n",
    "                    'Carriageway_Hazards',\n",
    "                    'Junction_Detail']"
   ]
  },
  {
   "cell_type": "code",
   "execution_count": 14,
   "id": "social-donor",
   "metadata": {},
   "outputs": [],
   "source": [
    "accidents.drop(labels=columns_to_drop,inplace=True,axis=1)"
   ]
  },
  {
   "cell_type": "markdown",
   "id": "hazardous-treasure",
   "metadata": {},
   "source": [
    "**Descartamos filas con NaN**"
   ]
  },
  {
   "cell_type": "code",
   "execution_count": 15,
   "id": "discrete-cooperative",
   "metadata": {},
   "outputs": [],
   "source": [
    "accidents.dropna(inplace=True)"
   ]
  },
  {
   "cell_type": "markdown",
   "id": "demographic-basis",
   "metadata": {},
   "source": [
    "The values = -1 are refered to missing values or incorrect data."
   ]
  },
  {
   "cell_type": "markdown",
   "id": "crude-cheese",
   "metadata": {},
   "source": [
    "**Eliminamos filas con valores -1**"
   ]
  },
  {
   "cell_type": "code",
   "execution_count": 16,
   "id": "different-texture",
   "metadata": {},
   "outputs": [],
   "source": [
    "for i,k in enumerate(accidents):\n",
    "    accidents.drop(index=accidents[accidents[k] == -1]\\\n",
    "            .index, inplace=True)"
   ]
  },
  {
   "cell_type": "code",
   "execution_count": 17,
   "id": "interesting-discovery",
   "metadata": {},
   "outputs": [
    {
     "data": {
      "text/plain": [
       "(6023053, 13)"
      ]
     },
     "execution_count": 17,
     "metadata": {},
     "output_type": "execute_result"
    }
   ],
   "source": [
    "accidents.shape"
   ]
  },
  {
   "cell_type": "markdown",
   "id": "professional-karen",
   "metadata": {},
   "source": [
    "#### 3. Procesamiento de los datos"
   ]
  },
  {
   "cell_type": "markdown",
   "id": "hydraulic-trace",
   "metadata": {},
   "source": [
    "Los datos han sido procesados con el fin de obtener un mejor desempeño en el análisis y evitar los datos sesgados.\n",
    " Eso implica reemplazar la categoría numérica por etiquetas originales, generar nuevas columnas y eliminar las columnas que no necesitamos y crear funciones que nos ayuden en este proceso."
   ]
  },
  {
   "cell_type": "markdown",
   "id": "rural-advocate",
   "metadata": {},
   "source": [
    "*Reemplazo de valores con las etiquetas correctas para las columnas siguientes*:\n",
    "- Date, Month, Year, Hour,Time\n",
    "- Daytime\n",
    "- Light_Conditions\n",
    "- Road_Surface_Conditions\n",
    "- Weather_Conditions\n",
    "- Speed\n",
    "- Accident_Severity\n",
    "- Day_of_Week\n",
    "- 1st_road_class\n",
    "- Road_Type"
   ]
  },
  {
   "cell_type": "markdown",
   "id": "favorite-schedule",
   "metadata": {},
   "source": [
    "\n",
    "**Date, Month, Year, Hour**"
   ]
  },
  {
   "cell_type": "markdown",
   "id": "protected-prairie",
   "metadata": {},
   "source": [
    "Creamos las columnas Month, Year y Hour."
   ]
  },
  {
   "cell_type": "code",
   "execution_count": 18,
   "id": "closed-helena",
   "metadata": {},
   "outputs": [],
   "source": [
    "accidents['Date']=pd.to_datetime(accidents['Date'])\n",
    "accidents['Month']=accidents['Date'].dt.month\n",
    "accidents['Year']=accidents['Date'].dt.year\n",
    "accidents['Hour'] = pd.to_datetime(accidents['Time'], format='%H:%M').dt.hour\n",
    "\n",
    "#Replace int by Months\n",
    "accidents['Month'] = accidents['Month'].replace([1,2,3,4,5,6,7,8,9,10,11,12],['January', 'February', \n",
    "                                                 'March','April', 'May','June',\n",
    "                                                 'July', 'August', 'September',\n",
    "                                                'October','November','December'\n",
    "])\n",
    "#conver to integer values\n",
    "accidents['Year'] = accidents['Year'].astype(int)"
   ]
  },
  {
   "cell_type": "markdown",
   "id": "bronze-intranet",
   "metadata": {},
   "source": [
    "Descartamos la columna Time"
   ]
  },
  {
   "cell_type": "code",
   "execution_count": 19,
   "id": "tested-brake",
   "metadata": {},
   "outputs": [],
   "source": [
    "accidents.drop(['Time'],axis=1,inplace=True)"
   ]
  },
  {
   "cell_type": "markdown",
   "id": "special-complex",
   "metadata": {},
   "source": [
    "##### *Creamos la columna Daytime con los siguientes valores*\n",
    "- Morning\n",
    "- Afternoon\n",
    "- Rush_Hour\n",
    "- Evening\n",
    "- Night\n",
    "\n"
   ]
  },
  {
   "cell_type": "markdown",
   "id": "touched-diamond",
   "metadata": {},
   "source": [
    "Definimos la función para devolver las horas en grupos o momentos del día."
   ]
  },
  {
   "cell_type": "code",
   "execution_count": 20,
   "id": "executed-association",
   "metadata": {},
   "outputs": [],
   "source": [
    "\n",
    "def daytime(hour):\n",
    "    if hour >= 5 and hour < 10:\n",
    "        return \"Commuting to work\"\n",
    "    elif hour >= 10 and hour < 15:\n",
    "        return \"Office hours\"\n",
    "    elif hour >= 15 and hour < 19:\n",
    "        return \"Commuting to home\"\n",
    "    elif hour >= 19 and hour < 23:\n",
    "        return \"Evening\"\n",
    "    else:\n",
    "        return \"Night\"\n",
    "    \n",
    "accidents['Daytime'] = accidents['Hour'].apply(daytime)"
   ]
  },
  {
   "cell_type": "code",
   "execution_count": 21,
   "id": "uniform-ambassador",
   "metadata": {},
   "outputs": [
    {
     "data": {
      "text/plain": [
       "Commuting to home    0.310379\n",
       "Office hours         0.270649\n",
       "Commuting to work    0.168578\n",
       "Evening              0.163817\n",
       "Night                0.086577\n",
       "Name: Daytime, dtype: float64"
      ]
     },
     "execution_count": 21,
     "metadata": {},
     "output_type": "execute_result"
    }
   ],
   "source": [
    "accidents['Daytime'].value_counts(normalize=True)"
   ]
  },
  {
   "cell_type": "code",
   "execution_count": 22,
   "id": "experimental-privilege",
   "metadata": {},
   "outputs": [
    {
     "name": "stdout",
     "output_type": "stream",
     "text": [
      "\n",
      " 1    0.711002\n",
      "4    0.215766\n",
      "6    0.058741\n",
      "7    0.008428\n",
      "5    0.006063\n",
      "Name: Light_Conditions, dtype: float64\n",
      "\n",
      " 1    0.640202\n",
      "2    0.330403\n",
      "4    0.020760\n",
      "3    0.007223\n",
      "5    0.001411\n",
      "Name: Road_Surface_Conditions, dtype: float64\n",
      "\n",
      " 1    0.759659\n",
      "2    0.142537\n",
      "8    0.041053\n",
      "4    0.016735\n",
      "5    0.015102\n",
      "7    0.008495\n",
      "9    0.008376\n",
      "3    0.006232\n",
      "6    0.001811\n",
      "Name: Weather_Conditions, dtype: float64\n"
     ]
    }
   ],
   "source": [
    "print(\"\\n\",accidents['Light_Conditions'].value_counts(normalize=True))\n",
    "print(\"\\n\",accidents['Road_Surface_Conditions'].value_counts(normalize=True))\n",
    "print(\"\\n\",accidents['Weather_Conditions'].value_counts(normalize=True))"
   ]
  },
  {
   "cell_type": "markdown",
   "id": "advanced-renewal",
   "metadata": {},
   "source": [
    "Como podemos ver el problema aquí es que muchas de las subcategorías apenas tienen datos e información que nos puedan aportar algo.\n",
    "Por ello se crean nuevas columnas intentando cambiar un poco la estrategia y acumulando más porcentaje para cada categoría nueva creada."
   ]
  },
  {
   "cell_type": "markdown",
   "id": "waiting-circle",
   "metadata": {},
   "source": [
    "**Conditions**"
   ]
  },
  {
   "cell_type": "code",
   "execution_count": 23,
   "id": "treated-annual",
   "metadata": {},
   "outputs": [],
   "source": [
    "#Replacing integer values by labels\n",
    "accidents.Light_Conditions = accidents.Light_Conditions.replace([1,4,5,6,7], \n",
    "                                                      ['Daylight', \n",
    "                                                       'Darkness - lights lit', \n",
    "                                                       'Darkness - lights unlit', \n",
    "                                                       'Darkness - no lighting', \n",
    "                                                       'Darkness - lighting unknown'])\n",
    "\n",
    "\n",
    "accidents.Weather_Conditions = accidents.Weather_Conditions.replace([1,2,3,4,5,6,7,8,9], \n",
    "                                                                ['Fine no high winds', \n",
    "                                                                 'Raining no high winds', \n",
    "                                                                 'Snowing no high winds', \n",
    "                                                                 'Fine + high winds', \n",
    "                                                                 'Raining + high winds', \n",
    "                                                                 'Snowing + high winds', \n",
    "                                                                 'Fog or mist', 'Other', 'Unknown', \n",
    "                                                                 ])\n",
    "\n",
    "accidents.Road_Surface_Conditions = accidents.Road_Surface_Conditions.replace([1,2,3,4,5,6,7], \n",
    "                                                                                    ['Dry', \n",
    "                                                                                     'Wet or damp', \n",
    "                                                                                     'Snow', \n",
    "                                                                                     'Frost or ice', \n",
    "                                                                                     'Flood over 3cm. deep',\n",
    "                                                                                     'Oil or diesel',\n",
    "                                                                                     'Mud'])\n",
    "#define functions to groupby smaller groups\n",
    "def road_conditions(cond):\n",
    "    if cond != \"Dry\":\n",
    "        return 'Bad'\n",
    "    elif cond == 'Dry':\n",
    "        return 'Good'\n",
    "accidents['Road_Surface_Conditions_2'] = accidents['Road_Surface_Conditions'].apply(road_conditions)\n",
    "\n",
    "def weather_conditions(value1):\n",
    "    if value1 == 'Fine no high winds':\n",
    "        return 'Good'\n",
    "    else:\n",
    "        return 'Bad'\n",
    "accidents['Weather_Conditions_2'] =  accidents.Weather_Conditions.apply(weather_conditions)\n",
    "\n",
    "\n",
    "def light_conditions(value2):\n",
    "    if value2 == 'Daylight':\n",
    "        return 'Good'\n",
    "    else:\n",
    "        return 'Bad'\n",
    "accidents['Light_Conditions_2'] = accidents['Light_Conditions'].apply(light_conditions)"
   ]
  },
  {
   "cell_type": "code",
   "execution_count": 24,
   "id": "empty-ecuador",
   "metadata": {},
   "outputs": [
    {
     "name": "stdout",
     "output_type": "stream",
     "text": [
      "Good    0.711002\n",
      "Bad     0.288998\n",
      "Name: Light_Conditions_2, dtype: float64\n",
      "Good    0.640202\n",
      "Bad     0.359798\n",
      "Name: Road_Surface_Conditions_2, dtype: float64\n",
      "Good    0.759659\n",
      "Bad     0.240341\n",
      "Name: Weather_Conditions_2, dtype: float64\n"
     ]
    }
   ],
   "source": [
    "print(accidents['Light_Conditions_2'].value_counts(normalize=True))\n",
    "print(accidents['Road_Surface_Conditions_2'].value_counts(normalize=True))\n",
    "print(accidents['Weather_Conditions_2'].value_counts(normalize=True))"
   ]
  },
  {
   "cell_type": "markdown",
   "id": "curious-collapse",
   "metadata": {},
   "source": [
    "Hemos mejorado un poco los porcentajes y reducido las subcategorías, pero aún hay  que muestran un porcentaje mucho más alto, esto podría suponer un problema a la hora de entrenar nuestro modelo."
   ]
  },
  {
   "cell_type": "markdown",
   "id": "bored-directory",
   "metadata": {},
   "source": [
    "Eliminamos las columnas originales"
   ]
  },
  {
   "cell_type": "code",
   "execution_count": 25,
   "id": "bibliographic-wound",
   "metadata": {},
   "outputs": [],
   "source": [
    "accidents.drop(['Light_Conditions',\n",
    "                'Weather_Conditions',\n",
    "                'Road_Surface_Conditions'],\n",
    "               inplace=True,axis=1)"
   ]
  },
  {
   "cell_type": "markdown",
   "id": "foreign-utilization",
   "metadata": {},
   "source": [
    "**Speed**"
   ]
  },
  {
   "cell_type": "markdown",
   "id": "national-basement",
   "metadata": {},
   "source": [
    "Para la variable Speed hacemos lo mismo, la agrupamos en grupos de velocidades."
   ]
  },
  {
   "cell_type": "code",
   "execution_count": 26,
   "id": "pending-future",
   "metadata": {},
   "outputs": [
    {
     "data": {
      "text/plain": [
       "30-40    3985128\n",
       "60-70    1103101\n",
       "40-50     465445\n",
       "70-80     379634\n",
       "50-60      82872\n",
       "20-30       4916\n",
       "10-20       1486\n",
       "0-10         465\n",
       "80-90          5\n",
       "Name: Speed_limit_2, dtype: int64"
      ]
     },
     "execution_count": 26,
     "metadata": {},
     "output_type": "execute_result"
    }
   ],
   "source": [
    "def speed_groups(speed):\n",
    "    if speed < 10:\n",
    "        return \"0-10\"\n",
    "    elif speed >=10 and speed < 20:\n",
    "        return \"10-20\"\n",
    "    elif speed >=20 and speed < 30:\n",
    "        return \"20-30\"\n",
    "    elif speed >=30 and speed < 40:\n",
    "        return \"30-40\"\n",
    "    elif speed >=40 and speed < 50:\n",
    "        return \"40-50\"\n",
    "    elif speed >=50 and speed < 60:\n",
    "        return \"50-60\"\n",
    "    elif speed >=60 and speed < 70:\n",
    "        return \"60-70\"\n",
    "    elif speed >=70 and speed < 80:\n",
    "        return \"70-80\"\n",
    "    elif speed >=80 and speed < 90:\n",
    "        return \"80-90\"\n",
    "    \n",
    "accidents['Speed_limit_2'] =  accidents['Speed_limit'].apply(speed_groups)\n",
    "accidents['Speed_limit_2'].value_counts()"
   ]
  },
  {
   "cell_type": "markdown",
   "id": "double-diploma",
   "metadata": {},
   "source": [
    "**Accident_Severity**"
   ]
  },
  {
   "cell_type": "code",
   "execution_count": 27,
   "id": "stone-average",
   "metadata": {},
   "outputs": [
    {
     "data": {
      "text/plain": [
       "Slight     0.786649\n",
       "Serious    0.195782\n",
       "Fatal      0.017568\n",
       "Name: Accident_Severity, dtype: float64"
      ]
     },
     "execution_count": 27,
     "metadata": {},
     "output_type": "execute_result"
    }
   ],
   "source": [
    "accidents['Accident_Severity'].replace([1,2,3],\n",
    "                                       ['Fatal',\n",
    "                                        'Serious',\n",
    "                                        'Slight']\n",
    "                                       ,inplace=True)\n",
    "\n",
    "\n",
    "accidents['Accident_Severity'].value_counts(normalize=True)"
   ]
  },
  {
   "cell_type": "markdown",
   "id": "fourth-beach",
   "metadata": {},
   "source": [
    "**Day_of_Week**"
   ]
  },
  {
   "cell_type": "code",
   "execution_count": 28,
   "id": "familiar-fleet",
   "metadata": {},
   "outputs": [
    {
     "data": {
      "text/plain": [
       "Sunday       0.112166\n",
       "Monday       0.140341\n",
       "Tuesday      0.140834\n",
       "Wednesday    0.143082\n",
       "Saturday     0.143674\n",
       "Thursday     0.150016\n",
       "Friday       0.169888\n",
       "Name: Day_of_Week, dtype: float64"
      ]
     },
     "execution_count": 28,
     "metadata": {},
     "output_type": "execute_result"
    }
   ],
   "source": [
    "days = ['Sunday',\n",
    "        'Monday',\n",
    "        'Tuesday',\n",
    "        'Wednesday',\n",
    "        'Thursday',\n",
    "        'Friday',\n",
    "        'Saturday']\n",
    "\n",
    "accidents['Day_of_Week'].replace([1,2,3,4,5,6,7],days, inplace=True)\n",
    "\n",
    "accidents.Day_of_Week.value_counts(normalize=True)\\\n",
    "                     .sort_values(ascending=True)\n"
   ]
  },
  {
   "cell_type": "markdown",
   "id": "auburn-causing",
   "metadata": {},
   "source": [
    "**1st_Road_Class**"
   ]
  },
  {
   "cell_type": "code",
   "execution_count": 29,
   "id": "vulnerable-miniature",
   "metadata": {},
   "outputs": [
    {
     "data": {
      "text/plain": [
       "A               0.470594\n",
       "Unclassified    0.289344\n",
       "B               0.126654\n",
       "C               0.085809\n",
       "Motorway        0.027599\n",
       "Name: 1st_Road_Class, dtype: float64"
      ]
     },
     "execution_count": 29,
     "metadata": {},
     "output_type": "execute_result"
    }
   ],
   "source": [
    "#Put Motorway and A(M) in the same category\n",
    "accidents['1st_Road_Class'].replace([1,2,3,4,5,6],\n",
    "                                    ['Motorway',\n",
    "                                     'A(M)',\n",
    "                                     'A',\n",
    "                                     'B',\n",
    "                                     'C',\n",
    "                                     'Unclassified'],inplace=True)\n",
    "\n",
    "accidents['1st_Road_Class'] = accidents['1st_Road_Class'].replace('A(M)', 'Motorway')\n",
    "accidents['1st_Road_Class'].value_counts(normalize=True)"
   ]
  },
  {
   "cell_type": "markdown",
   "id": "dental-morocco",
   "metadata": {},
   "source": [
    "**Road_Type**"
   ]
  },
  {
   "cell_type": "code",
   "execution_count": 30,
   "id": "rocky-description",
   "metadata": {},
   "outputs": [
    {
     "data": {
      "text/plain": [
       "Single carriageway    0.797725\n",
       "Dual carriageway      0.133733\n",
       "Roundabout            0.049082\n",
       "Unknown               0.019461\n",
       "Name: Road_Type, dtype: float64"
      ]
     },
     "execution_count": 30,
     "metadata": {},
     "output_type": "execute_result"
    }
   ],
   "source": [
    "accidents['Road_Type'].replace([1,2,3,6,7,9,12],\n",
    "                               ['Roundabout',\n",
    "                                 'One way street',\n",
    "                                 'Dual carriageway',\n",
    "                                 'Single carriageway',\n",
    "                                 'Slip road','Unknown',\n",
    "                                 'One way street/Slip road'],\n",
    "                               inplace=True)\n",
    "accidents.Road_Type.value_counts(normalize=True)"
   ]
  },
  {
   "cell_type": "markdown",
   "id": "returning-kitty",
   "metadata": {},
   "source": [
    "**Guardamos en csv**"
   ]
  },
  {
   "cell_type": "code",
   "execution_count": 31,
   "id": "lonely-vienna",
   "metadata": {},
   "outputs": [
    {
     "data": {
      "text/html": [
       "<div>\n",
       "<style scoped>\n",
       "    .dataframe tbody tr th:only-of-type {\n",
       "        vertical-align: middle;\n",
       "    }\n",
       "\n",
       "    .dataframe tbody tr th {\n",
       "        vertical-align: top;\n",
       "    }\n",
       "\n",
       "    .dataframe thead th {\n",
       "        text-align: right;\n",
       "    }\n",
       "</style>\n",
       "<table border=\"1\" class=\"dataframe\">\n",
       "  <thead>\n",
       "    <tr style=\"text-align: right;\">\n",
       "      <th></th>\n",
       "      <th>Accident_Index</th>\n",
       "      <th>Accident_Severity</th>\n",
       "      <th>Number_of_Vehicles</th>\n",
       "      <th>Number_of_Casualties</th>\n",
       "      <th>Date</th>\n",
       "      <th>Day_of_Week</th>\n",
       "      <th>1st_Road_Class</th>\n",
       "      <th>Road_Type</th>\n",
       "      <th>Speed_limit</th>\n",
       "      <th>Month</th>\n",
       "      <th>Year</th>\n",
       "      <th>Hour</th>\n",
       "      <th>Daytime</th>\n",
       "      <th>Road_Surface_Conditions_2</th>\n",
       "      <th>Weather_Conditions_2</th>\n",
       "      <th>Light_Conditions_2</th>\n",
       "      <th>Speed_limit_2</th>\n",
       "    </tr>\n",
       "  </thead>\n",
       "  <tbody>\n",
       "    <tr>\n",
       "      <th>0</th>\n",
       "      <td>197901A11AD14</td>\n",
       "      <td>Slight</td>\n",
       "      <td>2</td>\n",
       "      <td>1</td>\n",
       "      <td>1979-01-18</td>\n",
       "      <td>Thursday</td>\n",
       "      <td>A</td>\n",
       "      <td>Roundabout</td>\n",
       "      <td>30</td>\n",
       "      <td>January</td>\n",
       "      <td>1979</td>\n",
       "      <td>8</td>\n",
       "      <td>Commuting to work</td>\n",
       "      <td>Good</td>\n",
       "      <td>Bad</td>\n",
       "      <td>Good</td>\n",
       "      <td>30-40</td>\n",
       "    </tr>\n",
       "    <tr>\n",
       "      <th>1</th>\n",
       "      <td>197901A1BAW34</td>\n",
       "      <td>Slight</td>\n",
       "      <td>1</td>\n",
       "      <td>1</td>\n",
       "      <td>1979-01-01</td>\n",
       "      <td>Monday</td>\n",
       "      <td>Unclassified</td>\n",
       "      <td>Unknown</td>\n",
       "      <td>30</td>\n",
       "      <td>January</td>\n",
       "      <td>1979</td>\n",
       "      <td>1</td>\n",
       "      <td>Night</td>\n",
       "      <td>Bad</td>\n",
       "      <td>Bad</td>\n",
       "      <td>Bad</td>\n",
       "      <td>30-40</td>\n",
       "    </tr>\n",
       "    <tr>\n",
       "      <th>2</th>\n",
       "      <td>197901A1BFD77</td>\n",
       "      <td>Slight</td>\n",
       "      <td>2</td>\n",
       "      <td>3</td>\n",
       "      <td>1979-01-01</td>\n",
       "      <td>Monday</td>\n",
       "      <td>A</td>\n",
       "      <td>Unknown</td>\n",
       "      <td>30</td>\n",
       "      <td>January</td>\n",
       "      <td>1979</td>\n",
       "      <td>1</td>\n",
       "      <td>Night</td>\n",
       "      <td>Bad</td>\n",
       "      <td>Bad</td>\n",
       "      <td>Bad</td>\n",
       "      <td>30-40</td>\n",
       "    </tr>\n",
       "    <tr>\n",
       "      <th>4</th>\n",
       "      <td>197901A1BGF95</td>\n",
       "      <td>Serious</td>\n",
       "      <td>2</td>\n",
       "      <td>1</td>\n",
       "      <td>1979-01-01</td>\n",
       "      <td>Monday</td>\n",
       "      <td>A</td>\n",
       "      <td>Single carriageway</td>\n",
       "      <td>30</td>\n",
       "      <td>January</td>\n",
       "      <td>1979</td>\n",
       "      <td>1</td>\n",
       "      <td>Night</td>\n",
       "      <td>Bad</td>\n",
       "      <td>Bad</td>\n",
       "      <td>Bad</td>\n",
       "      <td>30-40</td>\n",
       "    </tr>\n",
       "    <tr>\n",
       "      <th>5</th>\n",
       "      <td>197901A1CBC96</td>\n",
       "      <td>Slight</td>\n",
       "      <td>1</td>\n",
       "      <td>1</td>\n",
       "      <td>1979-01-01</td>\n",
       "      <td>Monday</td>\n",
       "      <td>A</td>\n",
       "      <td>Single carriageway</td>\n",
       "      <td>30</td>\n",
       "      <td>January</td>\n",
       "      <td>1979</td>\n",
       "      <td>2</td>\n",
       "      <td>Night</td>\n",
       "      <td>Bad</td>\n",
       "      <td>Bad</td>\n",
       "      <td>Bad</td>\n",
       "      <td>30-40</td>\n",
       "    </tr>\n",
       "  </tbody>\n",
       "</table>\n",
       "</div>"
      ],
      "text/plain": [
       "  Accident_Index Accident_Severity  Number_of_Vehicles  Number_of_Casualties  \\\n",
       "0  197901A11AD14            Slight                   2                     1   \n",
       "1  197901A1BAW34            Slight                   1                     1   \n",
       "2  197901A1BFD77            Slight                   2                     3   \n",
       "4  197901A1BGF95           Serious                   2                     1   \n",
       "5  197901A1CBC96            Slight                   1                     1   \n",
       "\n",
       "        Date Day_of_Week 1st_Road_Class           Road_Type  Speed_limit  \\\n",
       "0 1979-01-18    Thursday              A          Roundabout           30   \n",
       "1 1979-01-01      Monday   Unclassified             Unknown           30   \n",
       "2 1979-01-01      Monday              A             Unknown           30   \n",
       "4 1979-01-01      Monday              A  Single carriageway           30   \n",
       "5 1979-01-01      Monday              A  Single carriageway           30   \n",
       "\n",
       "     Month  Year  Hour            Daytime Road_Surface_Conditions_2  \\\n",
       "0  January  1979     8  Commuting to work                      Good   \n",
       "1  January  1979     1              Night                       Bad   \n",
       "2  January  1979     1              Night                       Bad   \n",
       "4  January  1979     1              Night                       Bad   \n",
       "5  January  1979     2              Night                       Bad   \n",
       "\n",
       "  Weather_Conditions_2 Light_Conditions_2 Speed_limit_2  \n",
       "0                  Bad               Good         30-40  \n",
       "1                  Bad                Bad         30-40  \n",
       "2                  Bad                Bad         30-40  \n",
       "4                  Bad                Bad         30-40  \n",
       "5                  Bad                Bad         30-40  "
      ]
     },
     "execution_count": 31,
     "metadata": {},
     "output_type": "execute_result"
    }
   ],
   "source": [
    "accidents.head()"
   ]
  },
  {
   "cell_type": "code",
   "execution_count": 32,
   "id": "weird-gross",
   "metadata": {},
   "outputs": [],
   "source": [
    "accidents.to_csv(datapath+'accidents_labeled.csv',sep=',',index = True)"
   ]
  },
  {
   "cell_type": "markdown",
   "id": "hourly-hierarchy",
   "metadata": {},
   "source": [
    "### ***Vehicles and Casualty datasets (1974 - 2004)***"
   ]
  },
  {
   "cell_type": "markdown",
   "id": "stainless-bundle",
   "metadata": {},
   "source": [
    "#### 1. Importamos y exploramos los datos"
   ]
  },
  {
   "cell_type": "code",
   "execution_count": 61,
   "id": "immediate-exclusive",
   "metadata": {},
   "outputs": [],
   "source": [
    "veh = pd.read_csv(data2,\n",
    "                  delimiter=',',\n",
    "                  encoding='UTF-8-SIG',\n",
    "                  usecols=[\n",
    "                      'Acc_Index','Vehicle_Type',\n",
    "                      'Sex_of_Driver',\n",
    "                      'Age_Band_of_Driver',\n",
    "                      'Engine_Capacity_(CC)',\n",
    "                      'Age_of_Vehicle'\n",
    "])"
   ]
  },
  {
   "cell_type": "code",
   "execution_count": 34,
   "id": "discrete-nation",
   "metadata": {},
   "outputs": [],
   "source": [
    "cas = pd.read_csv(data3\n",
    "                  ,delimiter=',',\n",
    "                  encoding='UTF-8-SIG',\n",
    "                  usecols=['Acc_Index',\n",
    "                           'Sex_of_Casualty',\n",
    "                           'Age_Band_of_Casualty',\n",
    "                           'Casualty_Type'])"
   ]
  },
  {
   "cell_type": "markdown",
   "id": "cloudy-booth",
   "metadata": {},
   "source": [
    "**Juntamos ambos datasets**"
   ]
  },
  {
   "cell_type": "code",
   "execution_count": 35,
   "id": "former-hamburg",
   "metadata": {},
   "outputs": [],
   "source": [
    "dfmerged = pd.merge(cas,veh,how='inner',on='Acc_Index')"
   ]
  },
  {
   "cell_type": "code",
   "execution_count": 36,
   "id": "fuzzy-stack",
   "metadata": {},
   "outputs": [
    {
     "data": {
      "text/html": [
       "<div>\n",
       "<style scoped>\n",
       "    .dataframe tbody tr th:only-of-type {\n",
       "        vertical-align: middle;\n",
       "    }\n",
       "\n",
       "    .dataframe tbody tr th {\n",
       "        vertical-align: top;\n",
       "    }\n",
       "\n",
       "    .dataframe thead th {\n",
       "        text-align: right;\n",
       "    }\n",
       "</style>\n",
       "<table border=\"1\" class=\"dataframe\">\n",
       "  <thead>\n",
       "    <tr style=\"text-align: right;\">\n",
       "      <th></th>\n",
       "      <th>Acc_Index</th>\n",
       "      <th>Sex_of_Casualty</th>\n",
       "      <th>Age_Band_of_Casualty</th>\n",
       "      <th>Casualty_Type</th>\n",
       "      <th>Vehicle_Type</th>\n",
       "      <th>Sex_of_Driver</th>\n",
       "      <th>Age_Band_of_Driver</th>\n",
       "      <th>Engine_Capacity_(CC)</th>\n",
       "      <th>Age_of_Vehicle</th>\n",
       "    </tr>\n",
       "  </thead>\n",
       "  <tbody>\n",
       "    <tr>\n",
       "      <th>0</th>\n",
       "      <td>197901A11AD14</td>\n",
       "      <td>1</td>\n",
       "      <td>-1</td>\n",
       "      <td>104</td>\n",
       "      <td>109</td>\n",
       "      <td>1</td>\n",
       "      <td>7</td>\n",
       "      <td>-1</td>\n",
       "      <td>-1</td>\n",
       "    </tr>\n",
       "    <tr>\n",
       "      <th>1</th>\n",
       "      <td>197901A11AD14</td>\n",
       "      <td>1</td>\n",
       "      <td>-1</td>\n",
       "      <td>104</td>\n",
       "      <td>104</td>\n",
       "      <td>1</td>\n",
       "      <td>-1</td>\n",
       "      <td>-1</td>\n",
       "      <td>-1</td>\n",
       "    </tr>\n",
       "    <tr>\n",
       "      <th>2</th>\n",
       "      <td>197901A1BAW34</td>\n",
       "      <td>2</td>\n",
       "      <td>6</td>\n",
       "      <td>0</td>\n",
       "      <td>109</td>\n",
       "      <td>1</td>\n",
       "      <td>-1</td>\n",
       "      <td>-1</td>\n",
       "      <td>-1</td>\n",
       "    </tr>\n",
       "    <tr>\n",
       "      <th>3</th>\n",
       "      <td>197901A1BFD77</td>\n",
       "      <td>1</td>\n",
       "      <td>5</td>\n",
       "      <td>109</td>\n",
       "      <td>109</td>\n",
       "      <td>1</td>\n",
       "      <td>5</td>\n",
       "      <td>-1</td>\n",
       "      <td>-1</td>\n",
       "    </tr>\n",
       "    <tr>\n",
       "      <th>4</th>\n",
       "      <td>197901A1BFD77</td>\n",
       "      <td>1</td>\n",
       "      <td>5</td>\n",
       "      <td>109</td>\n",
       "      <td>109</td>\n",
       "      <td>1</td>\n",
       "      <td>7</td>\n",
       "      <td>-1</td>\n",
       "      <td>-1</td>\n",
       "    </tr>\n",
       "  </tbody>\n",
       "</table>\n",
       "</div>"
      ],
      "text/plain": [
       "       Acc_Index  Sex_of_Casualty  Age_Band_of_Casualty  Casualty_Type  \\\n",
       "0  197901A11AD14                1                    -1            104   \n",
       "1  197901A11AD14                1                    -1            104   \n",
       "2  197901A1BAW34                2                     6              0   \n",
       "3  197901A1BFD77                1                     5            109   \n",
       "4  197901A1BFD77                1                     5            109   \n",
       "\n",
       "   Vehicle_Type  Sex_of_Driver  Age_Band_of_Driver  Engine_Capacity_(CC)  \\\n",
       "0           109              1                   7                    -1   \n",
       "1           104              1                  -1                    -1   \n",
       "2           109              1                  -1                    -1   \n",
       "3           109              1                   5                    -1   \n",
       "4           109              1                   7                    -1   \n",
       "\n",
       "   Age_of_Vehicle  \n",
       "0              -1  \n",
       "1              -1  \n",
       "2              -1  \n",
       "3              -1  \n",
       "4              -1  "
      ]
     },
     "execution_count": 36,
     "metadata": {},
     "output_type": "execute_result"
    }
   ],
   "source": [
    "del cas,veh\n",
    "dfmerged.head()"
   ]
  },
  {
   "cell_type": "code",
   "execution_count": 37,
   "id": "pursuant-wealth",
   "metadata": {},
   "outputs": [
    {
     "name": "stdout",
     "output_type": "stream",
     "text": [
      "<class 'pandas.core.frame.DataFrame'>\n",
      "Int64Index: 15322399 entries, 0 to 15322398\n",
      "Data columns (total 9 columns):\n",
      " #   Column                Dtype \n",
      "---  ------                ----- \n",
      " 0   Acc_Index             object\n",
      " 1   Sex_of_Casualty       int64 \n",
      " 2   Age_Band_of_Casualty  int64 \n",
      " 3   Casualty_Type         int64 \n",
      " 4   Vehicle_Type          int64 \n",
      " 5   Sex_of_Driver         int64 \n",
      " 6   Age_Band_of_Driver    int64 \n",
      " 7   Engine_Capacity_(CC)  int64 \n",
      " 8   Age_of_Vehicle        int64 \n",
      "dtypes: int64(8), object(1)\n",
      "memory usage: 1.1+ GB\n"
     ]
    }
   ],
   "source": [
    "dfmerged.info()"
   ]
  },
  {
   "cell_type": "code",
   "execution_count": 38,
   "id": "verbal-butter",
   "metadata": {},
   "outputs": [
    {
     "data": {
      "text/html": [
       "<div>\n",
       "<style scoped>\n",
       "    .dataframe tbody tr th:only-of-type {\n",
       "        vertical-align: middle;\n",
       "    }\n",
       "\n",
       "    .dataframe tbody tr th {\n",
       "        vertical-align: top;\n",
       "    }\n",
       "\n",
       "    .dataframe thead th {\n",
       "        text-align: right;\n",
       "    }\n",
       "</style>\n",
       "<table border=\"1\" class=\"dataframe\">\n",
       "  <thead>\n",
       "    <tr style=\"text-align: right;\">\n",
       "      <th></th>\n",
       "      <th>count</th>\n",
       "      <th>mean</th>\n",
       "      <th>std</th>\n",
       "      <th>min</th>\n",
       "      <th>25%</th>\n",
       "      <th>50%</th>\n",
       "      <th>75%</th>\n",
       "      <th>max</th>\n",
       "    </tr>\n",
       "  </thead>\n",
       "  <tbody>\n",
       "    <tr>\n",
       "      <th>Sex_of_Casualty</th>\n",
       "      <td>15322399.0</td>\n",
       "      <td>1.404371</td>\n",
       "      <td>0.493483</td>\n",
       "      <td>-1.0</td>\n",
       "      <td>1.0</td>\n",
       "      <td>1.0</td>\n",
       "      <td>2.0</td>\n",
       "      <td>2.0</td>\n",
       "    </tr>\n",
       "    <tr>\n",
       "      <th>Age_Band_of_Casualty</th>\n",
       "      <td>15322399.0</td>\n",
       "      <td>5.699095</td>\n",
       "      <td>2.362212</td>\n",
       "      <td>-1.0</td>\n",
       "      <td>4.0</td>\n",
       "      <td>6.0</td>\n",
       "      <td>7.0</td>\n",
       "      <td>11.0</td>\n",
       "    </tr>\n",
       "    <tr>\n",
       "      <th>Casualty_Type</th>\n",
       "      <td>15322399.0</td>\n",
       "      <td>81.030320</td>\n",
       "      <td>45.985843</td>\n",
       "      <td>-1.0</td>\n",
       "      <td>19.0</td>\n",
       "      <td>109.0</td>\n",
       "      <td>109.0</td>\n",
       "      <td>113.0</td>\n",
       "    </tr>\n",
       "    <tr>\n",
       "      <th>Vehicle_Type</th>\n",
       "      <td>15322399.0</td>\n",
       "      <td>93.964820</td>\n",
       "      <td>35.180849</td>\n",
       "      <td>-1.0</td>\n",
       "      <td>109.0</td>\n",
       "      <td>109.0</td>\n",
       "      <td>109.0</td>\n",
       "      <td>113.0</td>\n",
       "    </tr>\n",
       "    <tr>\n",
       "      <th>Sex_of_Driver</th>\n",
       "      <td>15322399.0</td>\n",
       "      <td>1.304607</td>\n",
       "      <td>0.547208</td>\n",
       "      <td>-1.0</td>\n",
       "      <td>1.0</td>\n",
       "      <td>1.0</td>\n",
       "      <td>2.0</td>\n",
       "      <td>3.0</td>\n",
       "    </tr>\n",
       "    <tr>\n",
       "      <th>Age_Band_of_Driver</th>\n",
       "      <td>15322399.0</td>\n",
       "      <td>5.821711</td>\n",
       "      <td>2.466610</td>\n",
       "      <td>-1.0</td>\n",
       "      <td>5.0</td>\n",
       "      <td>6.0</td>\n",
       "      <td>7.0</td>\n",
       "      <td>11.0</td>\n",
       "    </tr>\n",
       "    <tr>\n",
       "      <th>Engine_Capacity_(CC)</th>\n",
       "      <td>15322399.0</td>\n",
       "      <td>809.169439</td>\n",
       "      <td>1382.064137</td>\n",
       "      <td>-1.0</td>\n",
       "      <td>-1.0</td>\n",
       "      <td>-1.0</td>\n",
       "      <td>1580.0</td>\n",
       "      <td>99999.0</td>\n",
       "    </tr>\n",
       "    <tr>\n",
       "      <th>Age_of_Vehicle</th>\n",
       "      <td>15322399.0</td>\n",
       "      <td>2.360552</td>\n",
       "      <td>4.765303</td>\n",
       "      <td>-1.0</td>\n",
       "      <td>-1.0</td>\n",
       "      <td>-1.0</td>\n",
       "      <td>5.0</td>\n",
       "      <td>99.0</td>\n",
       "    </tr>\n",
       "  </tbody>\n",
       "</table>\n",
       "</div>"
      ],
      "text/plain": [
       "                           count        mean          std  min    25%    50%  \\\n",
       "Sex_of_Casualty       15322399.0    1.404371     0.493483 -1.0    1.0    1.0   \n",
       "Age_Band_of_Casualty  15322399.0    5.699095     2.362212 -1.0    4.0    6.0   \n",
       "Casualty_Type         15322399.0   81.030320    45.985843 -1.0   19.0  109.0   \n",
       "Vehicle_Type          15322399.0   93.964820    35.180849 -1.0  109.0  109.0   \n",
       "Sex_of_Driver         15322399.0    1.304607     0.547208 -1.0    1.0    1.0   \n",
       "Age_Band_of_Driver    15322399.0    5.821711     2.466610 -1.0    5.0    6.0   \n",
       "Engine_Capacity_(CC)  15322399.0  809.169439  1382.064137 -1.0   -1.0   -1.0   \n",
       "Age_of_Vehicle        15322399.0    2.360552     4.765303 -1.0   -1.0   -1.0   \n",
       "\n",
       "                         75%      max  \n",
       "Sex_of_Casualty          2.0      2.0  \n",
       "Age_Band_of_Casualty     7.0     11.0  \n",
       "Casualty_Type          109.0    113.0  \n",
       "Vehicle_Type           109.0    113.0  \n",
       "Sex_of_Driver            2.0      3.0  \n",
       "Age_Band_of_Driver       7.0     11.0  \n",
       "Engine_Capacity_(CC)  1580.0  99999.0  \n",
       "Age_of_Vehicle           5.0     99.0  "
      ]
     },
     "execution_count": 38,
     "metadata": {},
     "output_type": "execute_result"
    }
   ],
   "source": [
    "dfmerged.describe().T"
   ]
  },
  {
   "cell_type": "code",
   "execution_count": 39,
   "id": "traditional-space",
   "metadata": {},
   "outputs": [
    {
     "data": {
      "text/plain": [
       "(15322399, 9)"
      ]
     },
     "execution_count": 39,
     "metadata": {},
     "output_type": "execute_result"
    }
   ],
   "source": [
    "dfmerged.shape"
   ]
  },
  {
   "cell_type": "markdown",
   "id": "ranging-acquisition",
   "metadata": {},
   "source": [
    "#### 2. Limpieza de datos"
   ]
  },
  {
   "cell_type": "markdown",
   "id": "strong-religion",
   "metadata": {},
   "source": [
    "**Comprobamos valores nulos y faltantes**"
   ]
  },
  {
   "cell_type": "code",
   "execution_count": 40,
   "id": "aging-volleyball",
   "metadata": {},
   "outputs": [
    {
     "name": "stdout",
     "output_type": "stream",
     "text": [
      "NaN data: \n",
      " \n",
      "  \n",
      "  Acc_Index               0.0\n",
      "Sex_of_Casualty         0.0\n",
      "Age_Band_of_Casualty    0.0\n",
      "Casualty_Type           0.0\n",
      "Vehicle_Type            0.0\n",
      "Sex_of_Driver           0.0\n",
      "Age_Band_of_Driver      0.0\n",
      "Engine_Capacity_(CC)    0.0\n",
      "Age_of_Vehicle          0.0\n",
      "dtype: float64 %\n",
      "\n",
      " Missing or out of range data:\n",
      " Acc_Index                    0.0\n",
      "Sex_of_Casualty         0.000445\n",
      "Age_Band_of_Casualty    0.016806\n",
      "Casualty_Type           0.000003\n",
      "Vehicle_Type            0.000351\n",
      "Sex_of_Driver           0.001803\n",
      "Age_Band_of_Driver      0.066144\n",
      "Engine_Capacity_(CC)    0.540198\n",
      "Age_of_Vehicle            0.5676\n",
      "dtype: object %\n"
     ]
    }
   ],
   "source": [
    "print(\"NaN data: \\n \\n\",\" \\n \",dfmerged.isna()\\\n",
    "                                       .sum()/len(dfmerged),\"%\")\n",
    "\n",
    "print(\"\\n Missing or out of range data:\\n\",np.abs(dfmerged[dfmerged==-1]\\\n",
    "                                             .sum())/len(dfmerged),\"%\")"
   ]
  },
  {
   "cell_type": "markdown",
   "id": "hidden-australian",
   "metadata": {},
   "source": [
    "**Descartamos las filas con valores nulos**"
   ]
  },
  {
   "cell_type": "code",
   "execution_count": 41,
   "id": "imperial-fiction",
   "metadata": {},
   "outputs": [],
   "source": [
    "for i,k in enumerate(dfmerged):\n",
    "    dfmerged.drop(index=dfmerged[dfmerged[k] == -1].index, inplace=True,axis=1)\n",
    "    \n",
    "#Drop unknown values of Sex_of_Driver\n",
    "dfmerged.drop(index=dfmerged[dfmerged['Sex_of_Driver'] == 3].index, inplace=True,axis=1)"
   ]
  },
  {
   "cell_type": "markdown",
   "id": "liquid-knitting",
   "metadata": {},
   "source": [
    "#### 3. Procesamiento de datos"
   ]
  },
  {
   "cell_type": "markdown",
   "id": "human-coral",
   "metadata": {},
   "source": [
    "*Reemplazo de valores con las etiquetas correctas las las siguientes columnas:*\n",
    "- Sex_of_Casualty\n",
    "- Age_Band_of_Casualty\n",
    "- Casualty_Type\n",
    "- Vehicle_Type\n",
    "- Sex_of_Driver\n",
    "- Age_Band_of_Driver\n",
    "- Engine Capacity"
   ]
  },
  {
   "cell_type": "markdown",
   "id": "heavy-label",
   "metadata": {},
   "source": [
    "**Sex_of_Casualty**"
   ]
  },
  {
   "cell_type": "code",
   "execution_count": 42,
   "id": "massive-spirituality",
   "metadata": {},
   "outputs": [],
   "source": [
    "dfmerged.Sex_of_Casualty = dfmerged.Sex_of_Casualty\\\n",
    "                                    .replace([1,2],['Male','Female'])"
   ]
  },
  {
   "cell_type": "markdown",
   "id": "suspended-arena",
   "metadata": {},
   "source": [
    "**Age Band of Casualty**"
   ]
  },
  {
   "cell_type": "code",
   "execution_count": 43,
   "id": "sweet-chuck",
   "metadata": {},
   "outputs": [],
   "source": [
    "dfmerged.Age_Band_of_Casualty = dfmerged.Age_Band_of_Casualty\\\n",
    "                                        .replace([1,2,3,4,5,6,7,8,9,10,11],['0 - 5',\n",
    "                                                                            '6 - 10',\n",
    "                                                                            '11 - 15',\n",
    "                                                                            '16 - 20',\n",
    "                                                                            '21 - 25',\n",
    "                                                                            '26 - 35',\n",
    "                                                                            '36 - 45',\n",
    "                                                                            '46 - 55',\n",
    "                                                                            '56 - 65',\n",
    "                                                                            '66 - 75',\n",
    "                                                                            'Over 75' ])"
   ]
  },
  {
   "cell_type": "markdown",
   "id": "historic-necklace",
   "metadata": {},
   "source": [
    "**Casualty type**"
   ]
  },
  {
   "cell_type": "code",
   "execution_count": 44,
   "id": "solar-replication",
   "metadata": {},
   "outputs": [],
   "source": [
    "values1=['Pedestrian',\n",
    "'Cyclist',\n",
    "'Motorcycle 50cc and under rider or passenger',\n",
    "'Motorcycle 125cc and under rider or passenger',\n",
    "'Motorcycle over 125cc and up to 500cc rider or  passenger',\n",
    "'Motorcycle over 500cc rider or passenger',\n",
    "'Taxi/Private hire car occupant',\n",
    "'Car occupant',\n",
    "'Minibus (8 - 16 passenger seats) occupant',\n",
    "'Bus or coach occupant (17 or more pass seats)',\n",
    "'Horse rider',\n",
    "'Agricultural vehicle occupant',\n",
    "'Tram occupant',\n",
    "'Van / Goods vehicle (3.5 tonnes mgw or under) occupant',\n",
    "'Goods vehicle (over 3.5t. and under 7.5t.) occupant',\n",
    "'Goods vehicle (7.5 tonnes mgw and over) occupant',\n",
    "'Mobility scooter rider',\n",
    "'Electric motorcycle rider or passenger',\n",
    "'Other vehicle occupant',\n",
    "'Motorcycle - unknown cc rider or passenger',\n",
    "'Goods vehicle (unknown weight) occupant',\n",
    "'Motorcycle - Scooter rider or passenger',\n",
    "'Motorcycle rider or passenger',\n",
    "'Motorcycle - Combination rider or passenger',\n",
    "'Motorcycle over 125cc rider or passenger',\n",
    "'Taxi (excluding private hire cars) occupant',\n",
    "'Car occupant (including private hire cars)',\n",
    "'Minibus/Motor caravan occupant',\n",
    "'Goods vehicle (over 3.5 tonnes) occupant']\n",
    "\n",
    "values2 = [0,1,2,3,4,5,8,9,\n",
    "           10,11,16,17,18,19,\n",
    "           20,21,22,23,90,97\n",
    "           ,98,103,104,105,106\n",
    "           ,108,109,110,113]\n",
    "\n",
    "dfmerged.Casualty_Type = dfmerged.Casualty_Type.replace(values2,values1)"
   ]
  },
  {
   "cell_type": "markdown",
   "id": "placed-project",
   "metadata": {},
   "source": [
    "**Vehicle type**"
   ]
  },
  {
   "cell_type": "code",
   "execution_count": 45,
   "id": "prerequisite-background",
   "metadata": {},
   "outputs": [],
   "source": [
    "values3 = [1,2,3,10,11,17,19,\n",
    "           20,21,90,103,104,\n",
    "           105,106,108,109,\n",
    "           110,113]\n",
    "\n",
    "values4 = ['Pedal cycle',\n",
    "'Motorcycle 50cc and under',\n",
    "'Motorcycle 125cc and under',\n",
    "'Minibus (8 - 16 passenger seats)',\n",
    "'Bus or coach (17 or more pass seats)',\n",
    "'Agricultural vehicle',\n",
    "'Van / Goods 3.5 tonnes mgw or under',\n",
    "'Goods over 3.5t. and under 7.5t',\n",
    "'Goods 7.5 tonnes mgw and over',\n",
    "'Other vehicle',\n",
    "'Motorcycle - Scooter',\n",
    "'Motorcycle',\n",
    "'Motorcycle - Combination',\n",
    "'Motorcycle over 125cc',\n",
    "'Taxi (excluding private hire cars)',\n",
    "'Car (including private hire cars)',\n",
    "'Minibus/Motor caravan',\n",
    "'Goods vehicle over 3.5 tonnes']\n",
    "\n",
    "\n",
    "\n",
    "\n",
    "\n",
    "\n",
    "dfmerged.Vehicle_Type = dfmerged.Vehicle_Type.replace(values3,values4)"
   ]
  },
  {
   "cell_type": "markdown",
   "id": "collectible-surrey",
   "metadata": {},
   "source": [
    "**Engine Capacity**"
   ]
  },
  {
   "cell_type": "markdown",
   "id": "solved-explosion",
   "metadata": {},
   "source": [
    "En esta columna hemos detectado que tenemos valores erróneos para la subcategoría Cars y Motorcycle, donde hemos encontrado cilindradas de más de 9000cm3 para coches y 2300cm3 para motocicletas.\n",
    "\n",
    "Se eliminan ya que nos generarán outliers más adelante."
   ]
  },
  {
   "cell_type": "code",
   "execution_count": 46,
   "id": "solar-patrick",
   "metadata": {},
   "outputs": [],
   "source": [
    "#Cleaning to a common sense engine capacity / vehicle type\n",
    "mask1 = dfmerged[(dfmerged[\"Vehicle_Type\"].str.contains(\"Car\"))\\\n",
    "                 & (dfmerged[\"Engine_Capacity_(CC)\"] > 9000)].index\n",
    "dfmerged.drop(mask1,inplace=True)\n",
    "\n",
    "mask2 = dfmerged[(dfmerged[\"Vehicle_Type\"].str.contains(\"Motorcycle\"))\\\n",
    "                 & (dfmerged[\"Engine_Capacity_(CC)\"] > 2300)].index\n",
    "dfmerged.drop(mask2,inplace=True)\n",
    "\n",
    "mask3 = dfmerged[(dfmerged[\"Vehicle_Type\"].str.contains(\"Taxi\"))\\\n",
    "                 & (dfmerged[\"Engine_Capacity_(CC)\"] > 2400)].index\n",
    "dfmerged.drop(mask3,inplace=True)\n",
    "\n",
    "mask4 = dfmerged[dfmerged['Vehicle_Type']==\"Other vehicle\"].index\n",
    "dfmerged.drop(mask4,inplace=True)"
   ]
  },
  {
   "cell_type": "markdown",
   "id": "clean-chicken",
   "metadata": {},
   "source": [
    "**Sex_of_Driver**"
   ]
  },
  {
   "cell_type": "code",
   "execution_count": 47,
   "id": "funded-signal",
   "metadata": {},
   "outputs": [],
   "source": [
    "dfmerged.Sex_of_Driver = dfmerged.Sex_of_Driver.replace([1,2],['Male','Female'])"
   ]
  },
  {
   "cell_type": "markdown",
   "id": "provincial-prescription",
   "metadata": {},
   "source": [
    "**Age_Band_of_Driver**"
   ]
  },
  {
   "cell_type": "code",
   "execution_count": 48,
   "id": "searching-bunch",
   "metadata": {},
   "outputs": [],
   "source": [
    "dfmerged.Age_Band_of_Driver = dfmerged.Age_Band_of_Driver\\\n",
    "                                      .replace([1,2,3,4,5,6,7,8,9,10,11],['0 - 5','6 - 10','11 - 15',\n",
    "                                                                        '16 - 20','21 - 25','26 - 35',\n",
    "                                                                        '36 - 45','46 - 55','56 - 65',\n",
    "                                                                        '66 - 75','Over 75'\n",
    "                                                                        ])"
   ]
  },
  {
   "cell_type": "markdown",
   "id": "psychological-feedback",
   "metadata": {},
   "source": [
    "**Comprobamos el dataframe procesado**"
   ]
  },
  {
   "cell_type": "code",
   "execution_count": 49,
   "id": "magnetic-student",
   "metadata": {},
   "outputs": [
    {
     "data": {
      "text/html": [
       "<div>\n",
       "<style scoped>\n",
       "    .dataframe tbody tr th:only-of-type {\n",
       "        vertical-align: middle;\n",
       "    }\n",
       "\n",
       "    .dataframe tbody tr th {\n",
       "        vertical-align: top;\n",
       "    }\n",
       "\n",
       "    .dataframe thead th {\n",
       "        text-align: right;\n",
       "    }\n",
       "</style>\n",
       "<table border=\"1\" class=\"dataframe\">\n",
       "  <thead>\n",
       "    <tr style=\"text-align: right;\">\n",
       "      <th></th>\n",
       "      <th>Acc_Index</th>\n",
       "      <th>Sex_of_Casualty</th>\n",
       "      <th>Age_Band_of_Casualty</th>\n",
       "      <th>Casualty_Type</th>\n",
       "      <th>Vehicle_Type</th>\n",
       "      <th>Sex_of_Driver</th>\n",
       "      <th>Age_Band_of_Driver</th>\n",
       "      <th>Engine_Capacity_(CC)</th>\n",
       "      <th>Age_of_Vehicle</th>\n",
       "    </tr>\n",
       "  </thead>\n",
       "  <tbody>\n",
       "    <tr>\n",
       "      <th>5697010</th>\n",
       "      <td>198901AD00021</td>\n",
       "      <td>Male</td>\n",
       "      <td>26 - 35</td>\n",
       "      <td>Motorcycle rider or passenger</td>\n",
       "      <td>Motorcycle</td>\n",
       "      <td>Male</td>\n",
       "      <td>26 - 35</td>\n",
       "      <td>99</td>\n",
       "      <td>9</td>\n",
       "    </tr>\n",
       "    <tr>\n",
       "      <th>5697012</th>\n",
       "      <td>198901AD00022</td>\n",
       "      <td>Male</td>\n",
       "      <td>26 - 35</td>\n",
       "      <td>Motorcycle rider or passenger</td>\n",
       "      <td>Motorcycle</td>\n",
       "      <td>Male</td>\n",
       "      <td>26 - 35</td>\n",
       "      <td>249</td>\n",
       "      <td>7</td>\n",
       "    </tr>\n",
       "    <tr>\n",
       "      <th>5697013</th>\n",
       "      <td>198901AD00022</td>\n",
       "      <td>Male</td>\n",
       "      <td>26 - 35</td>\n",
       "      <td>Motorcycle rider or passenger</td>\n",
       "      <td>Goods vehicle over 3.5 tonnes</td>\n",
       "      <td>Male</td>\n",
       "      <td>46 - 55</td>\n",
       "      <td>3858</td>\n",
       "      <td>8</td>\n",
       "    </tr>\n",
       "    <tr>\n",
       "      <th>5697018</th>\n",
       "      <td>198901AD00026</td>\n",
       "      <td>Male</td>\n",
       "      <td>26 - 35</td>\n",
       "      <td>Motorcycle rider or passenger</td>\n",
       "      <td>Motorcycle</td>\n",
       "      <td>Male</td>\n",
       "      <td>26 - 35</td>\n",
       "      <td>392</td>\n",
       "      <td>10</td>\n",
       "    </tr>\n",
       "    <tr>\n",
       "      <th>5697020</th>\n",
       "      <td>198901AD00028</td>\n",
       "      <td>Female</td>\n",
       "      <td>36 - 45</td>\n",
       "      <td>Car occupant (including private hire cars)</td>\n",
       "      <td>Car (including private hire cars)</td>\n",
       "      <td>Female</td>\n",
       "      <td>36 - 45</td>\n",
       "      <td>1397</td>\n",
       "      <td>3</td>\n",
       "    </tr>\n",
       "  </tbody>\n",
       "</table>\n",
       "</div>"
      ],
      "text/plain": [
       "             Acc_Index Sex_of_Casualty Age_Band_of_Casualty  \\\n",
       "5697010  198901AD00021            Male              26 - 35   \n",
       "5697012  198901AD00022            Male              26 - 35   \n",
       "5697013  198901AD00022            Male              26 - 35   \n",
       "5697018  198901AD00026            Male              26 - 35   \n",
       "5697020  198901AD00028          Female              36 - 45   \n",
       "\n",
       "                                      Casualty_Type  \\\n",
       "5697010               Motorcycle rider or passenger   \n",
       "5697012               Motorcycle rider or passenger   \n",
       "5697013               Motorcycle rider or passenger   \n",
       "5697018               Motorcycle rider or passenger   \n",
       "5697020  Car occupant (including private hire cars)   \n",
       "\n",
       "                              Vehicle_Type Sex_of_Driver Age_Band_of_Driver  \\\n",
       "5697010                         Motorcycle          Male            26 - 35   \n",
       "5697012                         Motorcycle          Male            26 - 35   \n",
       "5697013      Goods vehicle over 3.5 tonnes          Male            46 - 55   \n",
       "5697018                         Motorcycle          Male            26 - 35   \n",
       "5697020  Car (including private hire cars)        Female            36 - 45   \n",
       "\n",
       "         Engine_Capacity_(CC)  Age_of_Vehicle  \n",
       "5697010                    99               9  \n",
       "5697012                   249               7  \n",
       "5697013                  3858               8  \n",
       "5697018                   392              10  \n",
       "5697020                  1397               3  "
      ]
     },
     "execution_count": 49,
     "metadata": {},
     "output_type": "execute_result"
    }
   ],
   "source": [
    "dfmerged.head()"
   ]
  },
  {
   "cell_type": "markdown",
   "id": "departmental-scope",
   "metadata": {},
   "source": [
    "**Juntamos los dos últimos datasets y lo guardamos como csv**"
   ]
  },
  {
   "cell_type": "code",
   "execution_count": 50,
   "id": "chronic-corpus",
   "metadata": {},
   "outputs": [],
   "source": [
    "#Rename the column before merge.\n",
    "accidents.rename(columns = {'Accident_Index':'Acc_Index'}, inplace = True)"
   ]
  },
  {
   "cell_type": "code",
   "execution_count": 51,
   "id": "advisory-friendly",
   "metadata": {},
   "outputs": [],
   "source": [
    "dfmerged.to_csv(datapath+'veh_cas_labeled.csv',sep=',',index = True)"
   ]
  },
  {
   "cell_type": "code",
   "execution_count": 52,
   "id": "natural-geometry",
   "metadata": {},
   "outputs": [],
   "source": [
    "#Merge the Accidents, casualties and vehicles dataframes cleaned from the last notebook.\n",
    "pd.merge(dfmerged,accidents,how='inner',on = 'Acc_Index').to_csv(datapath+'alldfjoined.csv',sep=',',index = True)"
   ]
  },
  {
   "cell_type": "code",
   "execution_count": 54,
   "id": "sublime-prize",
   "metadata": {},
   "outputs": [],
   "source": [
    "reset -f"
   ]
  }
 ],
 "metadata": {
  "kernelspec": {
   "display_name": "Python 3",
   "language": "python",
   "name": "python3"
  },
  "language_info": {
   "codemirror_mode": {
    "name": "ipython",
    "version": 3
   },
   "file_extension": ".py",
   "mimetype": "text/x-python",
   "name": "python",
   "nbconvert_exporter": "python",
   "pygments_lexer": "ipython3",
   "version": "3.9.2"
  }
 },
 "nbformat": 4,
 "nbformat_minor": 5
}
